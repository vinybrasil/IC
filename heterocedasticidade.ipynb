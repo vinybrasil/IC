{
 "cells": [
  {
   "cell_type": "code",
   "execution_count": 1,
   "metadata": {},
   "outputs": [],
   "source": [
    "#tutorial de https://rpubs.com/cyobero/187387"
   ]
  },
  {
   "cell_type": "markdown",
   "metadata": {},
   "source": [
    "<h3>homocedasticidade: $var(y_{i}) = var(e_{i}) = \\delta^{2}$</h3>\n",
    "<h3>Heterocedasticidade é quando isso nao acontece </h3>"
   ]
  },
  {
   "cell_type": "code",
   "execution_count": 7,
   "metadata": {},
   "outputs": [
    {
     "ename": "ERROR",
     "evalue": "Error in read.xlsx(\"C:\\\\Users\\\\vinic\\\\Desktop\\\\R\\\\notebooks\\\\data\\\\food.xlsx\"): não foi possível encontrar a função \"read.xlsx\"\n",
     "output_type": "error",
     "traceback": [
      "Error in read.xlsx(\"C:\\\\Users\\\\vinic\\\\Desktop\\\\R\\\\notebooks\\\\data\\\\food.xlsx\"): não foi possível encontrar a função \"read.xlsx\"\nTraceback:\n"
     ]
    }
   ],
   "source": [
    "food <- read.xlsx(\"C:\\\\Users\\\\vinic\\\\Desktop\\\\R\\\\notebooks\\\\data\\\\food.xlsx\")"
   ]
  },
  {
   "cell_type": "code",
   "execution_count": 8,
   "metadata": {},
   "outputs": [
    {
     "ename": "ERROR",
     "evalue": "Error in parse(text = x, srcfile = src): <text>:1:8: unexpected symbol\n1: !conda install\n           ^\n",
     "output_type": "error",
     "traceback": [
      "Error in parse(text = x, srcfile = src): <text>:1:8: unexpected symbol\n1: !conda install\n           ^\nTraceback:\n"
     ]
    }
   ],
   "source": [
    "\n"
   ]
  },
  {
   "cell_type": "code",
   "execution_count": null,
   "metadata": {},
   "outputs": [],
   "source": []
  }
 ],
 "metadata": {
  "kernelspec": {
   "display_name": "R",
   "language": "R",
   "name": "ir"
  },
  "language_info": {
   "codemirror_mode": "r",
   "file_extension": ".r",
   "mimetype": "text/x-r-source",
   "name": "R",
   "pygments_lexer": "r",
   "version": "3.6.1"
  }
 },
 "nbformat": 4,
 "nbformat_minor": 4
}
