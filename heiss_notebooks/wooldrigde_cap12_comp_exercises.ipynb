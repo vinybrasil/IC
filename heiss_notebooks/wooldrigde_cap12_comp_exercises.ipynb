{
 "cells": [
  {
   "cell_type": "markdown",
   "metadata": {},
   "source": [
    "<h1>Resolução dos computer exercises do capítulo 12 do Wooldrigde</h1>"
   ]
  },
  {
   "cell_type": "code",
   "execution_count": 1,
   "metadata": {},
   "outputs": [
    {
     "name": "stderr",
     "output_type": "stream",
     "text": [
      "Warning message:\n",
      "\"package 'dynlm' was built under R version 3.6.3\"\n",
      "Loading required package: zoo\n",
      "\n",
      "Warning message:\n",
      "\"package 'zoo' was built under R version 3.6.3\"\n",
      "\n",
      "Attaching package: 'zoo'\n",
      "\n",
      "\n",
      "The following objects are masked from 'package:base':\n",
      "\n",
      "    as.Date, as.Date.numeric\n",
      "\n",
      "\n",
      "Warning message:\n",
      "\"package 'lmtest' was built under R version 3.6.3\"\n",
      "Warning message:\n",
      "\"package 'car' was built under R version 3.6.3\"\n",
      "Loading required package: carData\n",
      "\n",
      "Warning message:\n",
      "\"package 'carData' was built under R version 3.6.3\"\n",
      "Warning message:\n",
      "\"package 'orcutt' was built under R version 3.6.3\"\n",
      "Warning message:\n",
      "\"package 'prais' was built under R version 3.6.3\"\n",
      "Warning message:\n",
      "\"package 'sandwich' was built under R version 3.6.3\"\n"
     ]
    }
   ],
   "source": [
    "library(foreign);library(dynlm);library(lmtest);library(car);library(orcutt);library(prais);library(sandwich)"
   ]
  },
  {
   "cell_type": "code",
   "execution_count": 2,
   "metadata": {},
   "outputs": [
    {
     "name": "stderr",
     "output_type": "stream",
     "text": [
      "Warning message in read.dta(\"C:\\\\Users\\\\vinic\\\\Desktop\\\\R\\\\heiss\\\\data_wooldridge\\\\FERTIL3.dta\"):\n",
      "\"cannot read factor labels from Stata 5 files\"\n"
     ]
    },
    {
     "data": {
      "text/html": [
       "<table>\n",
       "<caption>A data.frame: 6 × 24</caption>\n",
       "<thead>\n",
       "\t<tr><th></th><th scope=col>gfr</th><th scope=col>pe</th><th scope=col>year</th><th scope=col>t</th><th scope=col>tsq</th><th scope=col>pe_1</th><th scope=col>pe_2</th><th scope=col>pe_3</th><th scope=col>pe_4</th><th scope=col>pill</th><th scope=col>...</th><th scope=col>cpe_1</th><th scope=col>cpe_2</th><th scope=col>cpe_3</th><th scope=col>cpe_4</th><th scope=col>gfr_1</th><th scope=col>cgfr_1</th><th scope=col>cgfr_2</th><th scope=col>cgfr_3</th><th scope=col>cgfr_4</th><th scope=col>gfr_2</th></tr>\n",
       "\t<tr><th></th><th scope=col>&lt;dbl&gt;</th><th scope=col>&lt;dbl&gt;</th><th scope=col>&lt;int&gt;</th><th scope=col>&lt;int&gt;</th><th scope=col>&lt;int&gt;</th><th scope=col>&lt;dbl&gt;</th><th scope=col>&lt;dbl&gt;</th><th scope=col>&lt;dbl&gt;</th><th scope=col>&lt;dbl&gt;</th><th scope=col>&lt;int&gt;</th><th scope=col>...</th><th scope=col>&lt;dbl&gt;</th><th scope=col>&lt;dbl&gt;</th><th scope=col>&lt;dbl&gt;</th><th scope=col>&lt;dbl&gt;</th><th scope=col>&lt;dbl&gt;</th><th scope=col>&lt;dbl&gt;</th><th scope=col>&lt;dbl&gt;</th><th scope=col>&lt;dbl&gt;</th><th scope=col>&lt;dbl&gt;</th><th scope=col>&lt;dbl&gt;</th></tr>\n",
       "</thead>\n",
       "<tbody>\n",
       "\t<tr><th scope=row>1</th><td>124.7</td><td> 0.00</td><td>1913</td><td>1</td><td> 1</td><td>   NA</td><td>NA</td><td>NA</td><td>NA</td><td>0</td><td>...</td><td>   NA</td><td>NA</td><td>NA</td><td>NA</td><td>   NA</td><td>       NA</td><td>       NA</td><td>       NA</td><td>      NA</td><td>   NA</td></tr>\n",
       "\t<tr><th scope=row>2</th><td>126.6</td><td> 0.00</td><td>1914</td><td>2</td><td> 4</td><td> 0.00</td><td>NA</td><td>NA</td><td>NA</td><td>0</td><td>...</td><td>   NA</td><td>NA</td><td>NA</td><td>NA</td><td>124.7</td><td>       NA</td><td>       NA</td><td>       NA</td><td>      NA</td><td>   NA</td></tr>\n",
       "\t<tr><th scope=row>3</th><td>125.0</td><td> 0.00</td><td>1915</td><td>3</td><td> 9</td><td> 0.00</td><td> 0</td><td>NA</td><td>NA</td><td>0</td><td>...</td><td> 0.00</td><td>NA</td><td>NA</td><td>NA</td><td>126.6</td><td> 1.900002</td><td>       NA</td><td>       NA</td><td>      NA</td><td>124.7</td></tr>\n",
       "\t<tr><th scope=row>4</th><td>123.4</td><td> 0.00</td><td>1916</td><td>4</td><td>16</td><td> 0.00</td><td> 0</td><td> 0</td><td>NA</td><td>0</td><td>...</td><td> 0.00</td><td> 0</td><td>NA</td><td>NA</td><td>125.0</td><td>-1.599998</td><td> 1.900002</td><td>       NA</td><td>      NA</td><td>126.6</td></tr>\n",
       "\t<tr><th scope=row>5</th><td>121.0</td><td>19.27</td><td>1917</td><td>5</td><td>25</td><td> 0.00</td><td> 0</td><td> 0</td><td> 0</td><td>0</td><td>...</td><td> 0.00</td><td> 0</td><td> 0</td><td>NA</td><td>123.4</td><td>-1.599998</td><td>-1.599998</td><td> 1.900002</td><td>      NA</td><td>125.0</td></tr>\n",
       "\t<tr><th scope=row>6</th><td>119.8</td><td>23.94</td><td>1918</td><td>6</td><td>36</td><td>19.27</td><td> 0</td><td> 0</td><td> 0</td><td>0</td><td>...</td><td>19.27</td><td> 0</td><td> 0</td><td> 0</td><td>121.0</td><td>-2.400002</td><td>-1.599998</td><td>-1.599998</td><td>1.900002</td><td>123.4</td></tr>\n",
       "</tbody>\n",
       "</table>\n"
      ],
      "text/latex": [
       "A data.frame: 6 × 24\n",
       "\\begin{tabular}{r|lllllllllllllllllllll}\n",
       "  & gfr & pe & year & t & tsq & pe\\_1 & pe\\_2 & pe\\_3 & pe\\_4 & pill & ... & cpe\\_1 & cpe\\_2 & cpe\\_3 & cpe\\_4 & gfr\\_1 & cgfr\\_1 & cgfr\\_2 & cgfr\\_3 & cgfr\\_4 & gfr\\_2\\\\\n",
       "  & <dbl> & <dbl> & <int> & <int> & <int> & <dbl> & <dbl> & <dbl> & <dbl> & <int> & ... & <dbl> & <dbl> & <dbl> & <dbl> & <dbl> & <dbl> & <dbl> & <dbl> & <dbl> & <dbl>\\\\\n",
       "\\hline\n",
       "\t1 & 124.7 &  0.00 & 1913 & 1 &  1 &    NA & NA & NA & NA & 0 & ... &    NA & NA & NA & NA &    NA &        NA &        NA &        NA &       NA &    NA\\\\\n",
       "\t2 & 126.6 &  0.00 & 1914 & 2 &  4 &  0.00 & NA & NA & NA & 0 & ... &    NA & NA & NA & NA & 124.7 &        NA &        NA &        NA &       NA &    NA\\\\\n",
       "\t3 & 125.0 &  0.00 & 1915 & 3 &  9 &  0.00 &  0 & NA & NA & 0 & ... &  0.00 & NA & NA & NA & 126.6 &  1.900002 &        NA &        NA &       NA & 124.7\\\\\n",
       "\t4 & 123.4 &  0.00 & 1916 & 4 & 16 &  0.00 &  0 &  0 & NA & 0 & ... &  0.00 &  0 & NA & NA & 125.0 & -1.599998 &  1.900002 &        NA &       NA & 126.6\\\\\n",
       "\t5 & 121.0 & 19.27 & 1917 & 5 & 25 &  0.00 &  0 &  0 &  0 & 0 & ... &  0.00 &  0 &  0 & NA & 123.4 & -1.599998 & -1.599998 &  1.900002 &       NA & 125.0\\\\\n",
       "\t6 & 119.8 & 23.94 & 1918 & 6 & 36 & 19.27 &  0 &  0 &  0 & 0 & ... & 19.27 &  0 &  0 &  0 & 121.0 & -2.400002 & -1.599998 & -1.599998 & 1.900002 & 123.4\\\\\n",
       "\\end{tabular}\n"
      ],
      "text/markdown": [
       "\n",
       "A data.frame: 6 × 24\n",
       "\n",
       "| <!--/--> | gfr &lt;dbl&gt; | pe &lt;dbl&gt; | year &lt;int&gt; | t &lt;int&gt; | tsq &lt;int&gt; | pe_1 &lt;dbl&gt; | pe_2 &lt;dbl&gt; | pe_3 &lt;dbl&gt; | pe_4 &lt;dbl&gt; | pill &lt;int&gt; | ... ... | cpe_1 &lt;dbl&gt; | cpe_2 &lt;dbl&gt; | cpe_3 &lt;dbl&gt; | cpe_4 &lt;dbl&gt; | gfr_1 &lt;dbl&gt; | cgfr_1 &lt;dbl&gt; | cgfr_2 &lt;dbl&gt; | cgfr_3 &lt;dbl&gt; | cgfr_4 &lt;dbl&gt; | gfr_2 &lt;dbl&gt; |\n",
       "|---|---|---|---|---|---|---|---|---|---|---|---|---|---|---|---|---|---|---|---|---|---|\n",
       "| 1 | 124.7 |  0.00 | 1913 | 1 |  1 |    NA | NA | NA | NA | 0 | ... |    NA | NA | NA | NA |    NA |        NA |        NA |        NA |       NA |    NA |\n",
       "| 2 | 126.6 |  0.00 | 1914 | 2 |  4 |  0.00 | NA | NA | NA | 0 | ... |    NA | NA | NA | NA | 124.7 |        NA |        NA |        NA |       NA |    NA |\n",
       "| 3 | 125.0 |  0.00 | 1915 | 3 |  9 |  0.00 |  0 | NA | NA | 0 | ... |  0.00 | NA | NA | NA | 126.6 |  1.900002 |        NA |        NA |       NA | 124.7 |\n",
       "| 4 | 123.4 |  0.00 | 1916 | 4 | 16 |  0.00 |  0 |  0 | NA | 0 | ... |  0.00 |  0 | NA | NA | 125.0 | -1.599998 |  1.900002 |        NA |       NA | 126.6 |\n",
       "| 5 | 121.0 | 19.27 | 1917 | 5 | 25 |  0.00 |  0 |  0 |  0 | 0 | ... |  0.00 |  0 |  0 | NA | 123.4 | -1.599998 | -1.599998 |  1.900002 |       NA | 125.0 |\n",
       "| 6 | 119.8 | 23.94 | 1918 | 6 | 36 | 19.27 |  0 |  0 |  0 | 0 | ... | 19.27 |  0 |  0 |  0 | 121.0 | -2.400002 | -1.599998 | -1.599998 | 1.900002 | 123.4 |\n",
       "\n"
      ],
      "text/plain": [
       "  gfr   pe    year t tsq pe_1  pe_2 pe_3 pe_4 pill ... cpe_1 cpe_2 cpe_3 cpe_4\n",
       "1 124.7  0.00 1913 1  1     NA NA   NA   NA   0    ...    NA NA    NA    NA   \n",
       "2 126.6  0.00 1914 2  4   0.00 NA   NA   NA   0    ...    NA NA    NA    NA   \n",
       "3 125.0  0.00 1915 3  9   0.00  0   NA   NA   0    ...  0.00 NA    NA    NA   \n",
       "4 123.4  0.00 1916 4 16   0.00  0    0   NA   0    ...  0.00  0    NA    NA   \n",
       "5 121.0 19.27 1917 5 25   0.00  0    0    0   0    ...  0.00  0     0    NA   \n",
       "6 119.8 23.94 1918 6 36  19.27  0    0    0   0    ... 19.27  0     0     0   \n",
       "  gfr_1 cgfr_1    cgfr_2    cgfr_3    cgfr_4   gfr_2\n",
       "1    NA        NA        NA        NA       NA    NA\n",
       "2 124.7        NA        NA        NA       NA    NA\n",
       "3 126.6  1.900002        NA        NA       NA 124.7\n",
       "4 125.0 -1.599998  1.900002        NA       NA 126.6\n",
       "5 123.4 -1.599998 -1.599998  1.900002       NA 125.0\n",
       "6 121.0 -2.400002 -1.599998 -1.599998 1.900002 123.4"
      ]
     },
     "metadata": {},
     "output_type": "display_data"
    }
   ],
   "source": [
    "#c1:teste para ver se ter AR(1) nos erros\n",
    "\n",
    "data_fertil = read.dta(\"C:\\\\Users\\\\vinic\\\\Desktop\\\\R\\\\heiss\\\\data_wooldridge\\\\FERTIL3.dta\")\n",
    "\n",
    "head(data_fertil)"
   ]
  },
  {
   "cell_type": "code",
   "execution_count": 3,
   "metadata": {},
   "outputs": [
    {
     "data": {
      "text/plain": [
       "\n",
       "t test of coefficients:\n",
       "\n",
       "            Estimate Std. Error t value Pr(>|t|)  \n",
       "(Intercept) 0.018021   0.444252  0.0406  0.96777  \n",
       "L(residuos) 0.291809   0.117982  2.4733  0.01597 *\n",
       "---\n",
       "Signif. codes:  0 '***' 0.001 '**' 0.01 '*' 0.05 '.' 0.1 ' ' 1\n"
      ]
     },
     "metadata": {},
     "output_type": "display_data"
    }
   ],
   "source": [
    "tsdata = ts(data_fertil)\n",
    "\n",
    "residuos = resid(dynlm(cgfr ~cpe + L(cpe) + L(cpe,2), data=tsdata  ))\n",
    "\n",
    "coeftest(dynlm(residuos ~ L(residuos))) #extremamente significativo"
   ]
  },
  {
   "cell_type": "code",
   "execution_count": 4,
   "metadata": {},
   "outputs": [
    {
     "name": "stderr",
     "output_type": "stream",
     "text": [
      "Warning message in read.dta(\"C:\\\\Users\\\\vinic\\\\Desktop\\\\R\\\\heiss\\\\data_wooldridge\\\\WAGEPRC.dta\"):\n",
      "\"cannot read factor labels from Stata 5 files\"\n"
     ]
    },
    {
     "data": {
      "text/html": [
       "<table>\n",
       "<caption>A data.frame: 6 × 20</caption>\n",
       "<thead>\n",
       "\t<tr><th></th><th scope=col>price</th><th scope=col>wage</th><th scope=col>t</th><th scope=col>lprice</th><th scope=col>lwage</th><th scope=col>gprice</th><th scope=col>gwage</th><th scope=col>gwage_1</th><th scope=col>gwage_2</th><th scope=col>gwage_3</th><th scope=col>gwage_4</th><th scope=col>gwage_5</th><th scope=col>gwage_6</th><th scope=col>gwage_7</th><th scope=col>gwage_8</th><th scope=col>gwage_9</th><th scope=col>gwage_10</th><th scope=col>gwage_11</th><th scope=col>gwage_12</th><th scope=col>gprice_1</th></tr>\n",
       "\t<tr><th></th><th scope=col>&lt;dbl&gt;</th><th scope=col>&lt;dbl&gt;</th><th scope=col>&lt;int&gt;</th><th scope=col>&lt;dbl&gt;</th><th scope=col>&lt;dbl&gt;</th><th scope=col>&lt;dbl&gt;</th><th scope=col>&lt;dbl&gt;</th><th scope=col>&lt;dbl&gt;</th><th scope=col>&lt;dbl&gt;</th><th scope=col>&lt;dbl&gt;</th><th scope=col>&lt;dbl&gt;</th><th scope=col>&lt;dbl&gt;</th><th scope=col>&lt;dbl&gt;</th><th scope=col>&lt;dbl&gt;</th><th scope=col>&lt;dbl&gt;</th><th scope=col>&lt;dbl&gt;</th><th scope=col>&lt;dbl&gt;</th><th scope=col>&lt;dbl&gt;</th><th scope=col>&lt;dbl&gt;</th><th scope=col>&lt;dbl&gt;</th></tr>\n",
       "</thead>\n",
       "<tbody>\n",
       "\t<tr><th scope=row>1</th><td>92.6</td><td>2.32</td><td>1</td><td>4.528289</td><td>0.8415672</td><td>          NA</td><td>         NA</td><td>         NA</td><td>         NA</td><td>NA</td><td>NA</td><td>NA</td><td>NA</td><td>NA</td><td>NA</td><td>NA</td><td>NA</td><td>NA</td><td>NA</td><td>          NA</td></tr>\n",
       "\t<tr><th scope=row>2</th><td>92.5</td><td>2.32</td><td>2</td><td>4.527209</td><td>0.8415672</td><td>-0.001080513</td><td>0.000000000</td><td>         NA</td><td>         NA</td><td>NA</td><td>NA</td><td>NA</td><td>NA</td><td>NA</td><td>NA</td><td>NA</td><td>NA</td><td>NA</td><td>NA</td><td>          NA</td></tr>\n",
       "\t<tr><th scope=row>3</th><td>92.6</td><td>2.32</td><td>3</td><td>4.528289</td><td>0.8415672</td><td> 0.001080513</td><td>0.000000000</td><td>0.000000000</td><td>         NA</td><td>NA</td><td>NA</td><td>NA</td><td>NA</td><td>NA</td><td>NA</td><td>NA</td><td>NA</td><td>NA</td><td>NA</td><td>-0.001080513</td></tr>\n",
       "\t<tr><th scope=row>4</th><td>92.7</td><td>2.34</td><td>4</td><td>4.529368</td><td>0.8501509</td><td> 0.001079082</td><td>0.008583724</td><td>0.000000000</td><td>0.000000000</td><td>NA</td><td>NA</td><td>NA</td><td>NA</td><td>NA</td><td>NA</td><td>NA</td><td>NA</td><td>NA</td><td>NA</td><td> 0.001080513</td></tr>\n",
       "\t<tr><th scope=row>5</th><td>92.7</td><td>2.35</td><td>5</td><td>4.529368</td><td>0.8544153</td><td> 0.000000000</td><td>0.004264414</td><td>0.008583724</td><td>0.000000000</td><td> 0</td><td>NA</td><td>NA</td><td>NA</td><td>NA</td><td>NA</td><td>NA</td><td>NA</td><td>NA</td><td>NA</td><td> 0.001079082</td></tr>\n",
       "\t<tr><th scope=row>6</th><td>92.9</td><td>2.36</td><td>6</td><td>4.531524</td><td>0.8586616</td><td> 0.002155304</td><td>0.004246294</td><td>0.004264414</td><td>0.008583724</td><td> 0</td><td> 0</td><td>NA</td><td>NA</td><td>NA</td><td>NA</td><td>NA</td><td>NA</td><td>NA</td><td>NA</td><td> 0.000000000</td></tr>\n",
       "</tbody>\n",
       "</table>\n"
      ],
      "text/latex": [
       "A data.frame: 6 × 20\n",
       "\\begin{tabular}{r|llllllllllllllllllll}\n",
       "  & price & wage & t & lprice & lwage & gprice & gwage & gwage\\_1 & gwage\\_2 & gwage\\_3 & gwage\\_4 & gwage\\_5 & gwage\\_6 & gwage\\_7 & gwage\\_8 & gwage\\_9 & gwage\\_10 & gwage\\_11 & gwage\\_12 & gprice\\_1\\\\\n",
       "  & <dbl> & <dbl> & <int> & <dbl> & <dbl> & <dbl> & <dbl> & <dbl> & <dbl> & <dbl> & <dbl> & <dbl> & <dbl> & <dbl> & <dbl> & <dbl> & <dbl> & <dbl> & <dbl> & <dbl>\\\\\n",
       "\\hline\n",
       "\t1 & 92.6 & 2.32 & 1 & 4.528289 & 0.8415672 &           NA &          NA &          NA &          NA & NA & NA & NA & NA & NA & NA & NA & NA & NA & NA &           NA\\\\\n",
       "\t2 & 92.5 & 2.32 & 2 & 4.527209 & 0.8415672 & -0.001080513 & 0.000000000 &          NA &          NA & NA & NA & NA & NA & NA & NA & NA & NA & NA & NA &           NA\\\\\n",
       "\t3 & 92.6 & 2.32 & 3 & 4.528289 & 0.8415672 &  0.001080513 & 0.000000000 & 0.000000000 &          NA & NA & NA & NA & NA & NA & NA & NA & NA & NA & NA & -0.001080513\\\\\n",
       "\t4 & 92.7 & 2.34 & 4 & 4.529368 & 0.8501509 &  0.001079082 & 0.008583724 & 0.000000000 & 0.000000000 & NA & NA & NA & NA & NA & NA & NA & NA & NA & NA &  0.001080513\\\\\n",
       "\t5 & 92.7 & 2.35 & 5 & 4.529368 & 0.8544153 &  0.000000000 & 0.004264414 & 0.008583724 & 0.000000000 &  0 & NA & NA & NA & NA & NA & NA & NA & NA & NA &  0.001079082\\\\\n",
       "\t6 & 92.9 & 2.36 & 6 & 4.531524 & 0.8586616 &  0.002155304 & 0.004246294 & 0.004264414 & 0.008583724 &  0 &  0 & NA & NA & NA & NA & NA & NA & NA & NA &  0.000000000\\\\\n",
       "\\end{tabular}\n"
      ],
      "text/markdown": [
       "\n",
       "A data.frame: 6 × 20\n",
       "\n",
       "| <!--/--> | price &lt;dbl&gt; | wage &lt;dbl&gt; | t &lt;int&gt; | lprice &lt;dbl&gt; | lwage &lt;dbl&gt; | gprice &lt;dbl&gt; | gwage &lt;dbl&gt; | gwage_1 &lt;dbl&gt; | gwage_2 &lt;dbl&gt; | gwage_3 &lt;dbl&gt; | gwage_4 &lt;dbl&gt; | gwage_5 &lt;dbl&gt; | gwage_6 &lt;dbl&gt; | gwage_7 &lt;dbl&gt; | gwage_8 &lt;dbl&gt; | gwage_9 &lt;dbl&gt; | gwage_10 &lt;dbl&gt; | gwage_11 &lt;dbl&gt; | gwage_12 &lt;dbl&gt; | gprice_1 &lt;dbl&gt; |\n",
       "|---|---|---|---|---|---|---|---|---|---|---|---|---|---|---|---|---|---|---|---|---|\n",
       "| 1 | 92.6 | 2.32 | 1 | 4.528289 | 0.8415672 |           NA |          NA |          NA |          NA | NA | NA | NA | NA | NA | NA | NA | NA | NA | NA |           NA |\n",
       "| 2 | 92.5 | 2.32 | 2 | 4.527209 | 0.8415672 | -0.001080513 | 0.000000000 |          NA |          NA | NA | NA | NA | NA | NA | NA | NA | NA | NA | NA |           NA |\n",
       "| 3 | 92.6 | 2.32 | 3 | 4.528289 | 0.8415672 |  0.001080513 | 0.000000000 | 0.000000000 |          NA | NA | NA | NA | NA | NA | NA | NA | NA | NA | NA | -0.001080513 |\n",
       "| 4 | 92.7 | 2.34 | 4 | 4.529368 | 0.8501509 |  0.001079082 | 0.008583724 | 0.000000000 | 0.000000000 | NA | NA | NA | NA | NA | NA | NA | NA | NA | NA |  0.001080513 |\n",
       "| 5 | 92.7 | 2.35 | 5 | 4.529368 | 0.8544153 |  0.000000000 | 0.004264414 | 0.008583724 | 0.000000000 |  0 | NA | NA | NA | NA | NA | NA | NA | NA | NA |  0.001079082 |\n",
       "| 6 | 92.9 | 2.36 | 6 | 4.531524 | 0.8586616 |  0.002155304 | 0.004246294 | 0.004264414 | 0.008583724 |  0 |  0 | NA | NA | NA | NA | NA | NA | NA | NA |  0.000000000 |\n",
       "\n"
      ],
      "text/plain": [
       "  price wage t lprice   lwage     gprice       gwage       gwage_1    \n",
       "1 92.6  2.32 1 4.528289 0.8415672           NA          NA          NA\n",
       "2 92.5  2.32 2 4.527209 0.8415672 -0.001080513 0.000000000          NA\n",
       "3 92.6  2.32 3 4.528289 0.8415672  0.001080513 0.000000000 0.000000000\n",
       "4 92.7  2.34 4 4.529368 0.8501509  0.001079082 0.008583724 0.000000000\n",
       "5 92.7  2.35 5 4.529368 0.8544153  0.000000000 0.004264414 0.008583724\n",
       "6 92.9  2.36 6 4.531524 0.8586616  0.002155304 0.004246294 0.004264414\n",
       "  gwage_2     gwage_3 gwage_4 gwage_5 gwage_6 gwage_7 gwage_8 gwage_9 gwage_10\n",
       "1          NA NA      NA      NA      NA      NA      NA      NA      NA      \n",
       "2          NA NA      NA      NA      NA      NA      NA      NA      NA      \n",
       "3          NA NA      NA      NA      NA      NA      NA      NA      NA      \n",
       "4 0.000000000 NA      NA      NA      NA      NA      NA      NA      NA      \n",
       "5 0.000000000  0      NA      NA      NA      NA      NA      NA      NA      \n",
       "6 0.008583724  0       0      NA      NA      NA      NA      NA      NA      \n",
       "  gwage_11 gwage_12 gprice_1    \n",
       "1 NA       NA                 NA\n",
       "2 NA       NA                 NA\n",
       "3 NA       NA       -0.001080513\n",
       "4 NA       NA        0.001080513\n",
       "5 NA       NA        0.001079082\n",
       "6 NA       NA        0.000000000"
      ]
     },
     "metadata": {},
     "output_type": "display_data"
    }
   ],
   "source": [
    "#c2\n",
    "\n",
    "#i) \n",
    "\n",
    "data_wage = read.dta(\"C:\\\\Users\\\\vinic\\\\Desktop\\\\R\\\\heiss\\\\data_wooldridge\\\\WAGEPRC.dta\")\n",
    "head(data_wage)"
   ]
  },
  {
   "cell_type": "code",
   "execution_count": 5,
   "metadata": {},
   "outputs": [
    {
     "data": {
      "text/plain": [
       "\n",
       "t test of coefficients:\n",
       "\n",
       "              Estimate Std. Error t value Pr(>|t|)    \n",
       "(Intercept) 1.4333e-05 1.4603e-04  0.0982   0.9219    \n",
       "L(residuos) 5.0268e-01 5.2386e-02  9.5957   <2e-16 ***\n",
       "---\n",
       "Signif. codes:  0 '***' 0.001 '**' 0.01 '*' 0.05 '.' 0.1 ' ' 1\n"
      ]
     },
     "metadata": {},
     "output_type": "display_data"
    }
   ],
   "source": [
    "tsdata = ts(data_wage)\n",
    "residuos = resid(dynlm(gprice ~ gwage + L(gwage) + L(gwage,2) + L(gwage,3) + L(gwage,4) + L(gwage,5) + L(gwage,6) + L(gwage,7) +\n",
    "\t\t\t\t\t\t\t   L(gwage,8) + L(gwage,9) + L(gwage,10) + L(gwage,11) + L(gwage,12), data=tsdata ))\n",
    "\n",
    "\n",
    "coeftest(dynlm(residuos ~ L(residuos)))  #extremamente significativo\n"
   ]
  },
  {
   "cell_type": "code",
   "execution_count": 6,
   "metadata": {},
   "outputs": [
    {
     "data": {
      "text/plain": [
       "Cochrane-orcutt estimation for first order autocorrelation \n",
       " \n",
       "Call:\n",
       "lm(formula = gprice ~ gwage + gwage_1 + gwage_2 + gwage_3 + gwage_4 + \n",
       "    gwage_5 + gwage_6 + gwage_7 + gwage_8 + gwage_9 + gwage_10 + \n",
       "    gwage_11 + gwage_12, data = data_wage)\n",
       "\n",
       " number of interaction: 5\n",
       " rho 0.508646\n",
       "\n",
       "Durbin-Watson statistic \n",
       "(original):    0.98822 , p-value: 1.286e-16\n",
       "(transformed): 2.21133 , p-value: 9.594e-01\n",
       " \n",
       " coefficients: \n",
       "(Intercept)       gwage     gwage_1     gwage_2     gwage_3     gwage_4 \n",
       "  -0.000598    0.079194    0.072613    0.023901    0.033418    0.080096 \n",
       "    gwage_5     gwage_6     gwage_7     gwage_8     gwage_9    gwage_10 \n",
       "   0.113212    0.097159    0.101077    0.106341    0.160949    0.112100 \n",
       "   gwage_11    gwage_12 \n",
       "   0.099541    0.030177 "
      ]
     },
     "metadata": {},
     "output_type": "display_data"
    }
   ],
   "source": [
    "#ii) \n",
    "\n",
    "#modelo = dynlm(gprice ~ gwage + L(gwage) + L(gwage,2) + L(gwage,3) + L(gwage,4) + L(gwage,5) + L(gwage,6) + L(gwage,7) +\n",
    "#\t\t\t\t\t\t\t   L(gwage,8) + L(gwage,9) + L(gwage,10) + L(gwage,11) + L(gwage,12), data=data_wage)\n",
    "\n",
    "modelo = lm(gprice ~ gwage + gwage_1 + gwage_2 + gwage_3 + gwage_4 + gwage_5 + gwage_6 + gwage_7 + gwage_8 + gwage_9 + gwage_10 + gwage_11 + gwage_12, data=data_wage)\n",
    "\n",
    "cochrane.orcutt(modelo)\n",
    "\n",
    "#1.109778 é LRP"
   ]
  },
  {
   "cell_type": "code",
   "execution_count": 7,
   "metadata": {},
   "outputs": [
    {
     "data": {
      "text/plain": [
       "\n",
       "Call:\n",
       "lm(formula = gprice ~ gwage + gwage_1_1 + gwage_2_1 + gwage_3_1 + \n",
       "    gwage_4_1 + gwage_5_1 + gwage_6_1 + gwage_7_1 + gwage_8_1 + \n",
       "    gwage_9_1 + gwage_10_1 + gwage_11_1 + gwage_12_1, data = data_wage)\n",
       "\n",
       "Residuals:\n",
       "       Min         1Q     Median         3Q        Max \n",
       "-0.0073835 -0.0018947 -0.0001845  0.0017291  0.0132816 \n",
       "\n",
       "Coefficients:\n",
       "              Estimate Std. Error t value Pr(>|t|)    \n",
       "(Intercept) -0.0009296  0.0005662  -1.642  0.10183    \n",
       "gwage        1.1719194  0.1107317  10.583  < 2e-16 ***\n",
       "gwage_1_1   -0.0972174  0.0390409  -2.490  0.01340 *  \n",
       "gwage_2_1   -0.0399518  0.0390717  -1.023  0.30749    \n",
       "gwage_3_1   -0.0382652  0.0391513  -0.977  0.32930    \n",
       "gwage_4_1   -0.0813362  0.0393483  -2.067  0.03972 *  \n",
       "gwage_5_1   -0.1068520  0.0391937  -2.726  0.00684 ** \n",
       "gwage_6_1   -0.0949731  0.0392186  -2.422  0.01614 *  \n",
       "gwage_7_1   -0.1037922  0.0393788  -2.636  0.00890 ** \n",
       "gwage_8_1   -0.1025629  0.0394884  -2.597  0.00993 ** \n",
       "gwage_9_1   -0.1585079  0.0393341  -4.030 7.34e-05 ***\n",
       "gwage_10_1  -0.1104412  0.0392229  -2.816  0.00524 ** \n",
       "gwage_11_1  -0.1033206  0.0394388  -2.620  0.00932 ** \n",
       "gwage_12_1  -0.0156575  0.0518343  -0.302  0.76284    \n",
       "---\n",
       "Signif. codes:  0 '***' 0.001 '**' 0.01 '*' 0.05 '.' 0.1 ' ' 1\n",
       "\n",
       "Residual standard error: 0.002857 on 259 degrees of freedom\n",
       "  (13 observations deleted due to missingness)\n",
       "Multiple R-squared:  0.3171,\tAdjusted R-squared:  0.2828 \n",
       "F-statistic: 9.251 on 13 and 259 DF,  p-value: 1.158e-15\n"
      ]
     },
     "metadata": {},
     "output_type": "display_data"
    }
   ],
   "source": [
    "#iii)\n",
    "\n",
    "data_wage$gwage_1_1 = data_wage$gwage - data_wage$gwage_1\n",
    "data_wage$gwage_2_1 = data_wage$gwage - data_wage$gwage_2\n",
    "data_wage$gwage_3_1 = data_wage$gwage - data_wage$gwage_3\n",
    "data_wage$gwage_4_1 = data_wage$gwage - data_wage$gwage_4\n",
    "data_wage$gwage_5_1 = data_wage$gwage - data_wage$gwage_5\n",
    "data_wage$gwage_6_1 = data_wage$gwage - data_wage$gwage_6\n",
    "data_wage$gwage_7_1 = data_wage$gwage - data_wage$gwage_7\n",
    "data_wage$gwage_8_1 = data_wage$gwage - data_wage$gwage_8\n",
    "data_wage$gwage_9_1 = data_wage$gwage - data_wage$gwage_9\n",
    "data_wage$gwage_10_1 = data_wage$gwage - data_wage$gwage_10\n",
    "data_wage$gwage_11_1 = data_wage$gwage - data_wage$gwage_11\n",
    "data_wage$gwage_12_1 = data_wage$gwage - data_wage$gwage_12\n",
    "\n",
    "\n",
    "\n",
    "modelo = lm(gprice ~  gwage + gwage_1_1 + gwage_2_1 + gwage_3_1 + gwage_4_1 + gwage_5_1 + gwage_6_1 + gwage_7_1 + gwage_8_1 + gwage_9_1 + gwage_10_1 + gwage_11_1 + gwage_12_1, data=data_wage)\n",
    "summary(modelo)\n",
    "\n",
    "#se da LRP = 0.1107317"
   ]
  },
  {
   "cell_type": "code",
   "execution_count": 8,
   "metadata": {},
   "outputs": [
    {
     "name": "stderr",
     "output_type": "stream",
     "text": [
      "Warning message in read.dta(\"C:\\\\Users\\\\vinic\\\\Desktop\\\\R\\\\heiss\\\\data_wooldridge\\\\INVEN.dta\"):\n",
      "\"cannot read factor labels from Stata 5 files\"\n"
     ]
    },
    {
     "data": {
      "text/plain": [
       "\n",
       "Call:\n",
       "lm(formula = cinven ~ cgdp, data = tsdata)\n",
       "\n",
       "Residuals:\n",
       "    Min      1Q  Median      3Q     Max \n",
       "-36.906  -5.524   0.541   5.653  23.461 \n",
       "\n",
       "Coefficients:\n",
       "            Estimate Std. Error t value Pr(>|t|)    \n",
       "(Intercept)  2.58880    3.64080   0.711    0.482    \n",
       "cgdp         0.15245    0.02348   6.493 1.99e-07 ***\n",
       "---\n",
       "Signif. codes:  0 '***' 0.001 '**' 0.01 '*' 0.05 '.' 0.1 ' ' 1\n",
       "\n",
       "Residual standard error: 12.76 on 34 degrees of freedom\n",
       "  (1 observation deleted due to missingness)\n",
       "Multiple R-squared:  0.5536,\tAdjusted R-squared:  0.5404 \n",
       "F-statistic: 42.16 on 1 and 34 DF,  p-value: 1.987e-07\n"
      ]
     },
     "metadata": {},
     "output_type": "display_data"
    }
   ],
   "source": [
    "#c3: \n",
    "\n",
    "data_inven = read.dta(\"C:\\\\Users\\\\vinic\\\\Desktop\\\\R\\\\heiss\\\\data_wooldridge\\\\INVEN.dta\")\n",
    "tsdata =ts(data_inven)\n",
    "summary(lm(cinven ~ cgdp, data=tsdata)) #gdp é significativo"
   ]
  },
  {
   "cell_type": "code",
   "execution_count": 9,
   "metadata": {},
   "outputs": [
    {
     "name": "stderr",
     "output_type": "stream",
     "text": [
      "Warning message in read.dta(\"C:\\\\Users\\\\vinic\\\\Desktop\\\\R\\\\heiss\\\\data_wooldridge\\\\INVEN.dta\"):\n",
      "\"cannot read factor labels from Stata 5 files\"\n"
     ]
    },
    {
     "data": {
      "text/plain": [
       "\n",
       "Call:\n",
       "lm(formula = cinven ~ cgdp, data = tsdata)\n",
       "\n",
       "Residuals:\n",
       "    Min      1Q  Median      3Q     Max \n",
       "-36.906  -5.524   0.541   5.653  23.461 \n",
       "\n",
       "Coefficients:\n",
       "            Estimate Std. Error t value Pr(>|t|)    \n",
       "(Intercept)  2.58880    3.64080   0.711    0.482    \n",
       "cgdp         0.15245    0.02348   6.493 1.99e-07 ***\n",
       "---\n",
       "Signif. codes:  0 '***' 0.001 '**' 0.01 '*' 0.05 '.' 0.1 ' ' 1\n",
       "\n",
       "Residual standard error: 12.76 on 34 degrees of freedom\n",
       "  (1 observation deleted due to missingness)\n",
       "Multiple R-squared:  0.5536,\tAdjusted R-squared:  0.5404 \n",
       "F-statistic: 42.16 on 1 and 34 DF,  p-value: 1.987e-07\n"
      ]
     },
     "metadata": {},
     "output_type": "display_data"
    }
   ],
   "source": [
    "#c3: \n",
    "\n",
    "data_inven = read.dta(\"C:\\\\Users\\\\vinic\\\\Desktop\\\\R\\\\heiss\\\\data_wooldridge\\\\INVEN.dta\")\n",
    "tsdata =ts(data_inven)\n",
    "summary(lm(cinven ~ cgdp, data=tsdata)) #gdp é significativo"
   ]
  },
  {
   "cell_type": "code",
   "execution_count": 10,
   "metadata": {},
   "outputs": [
    {
     "name": "stderr",
     "output_type": "stream",
     "text": [
      "Warning message in summary.lm(object, ...):\n",
      "\"essentially perfect fit: summary may be unreliable\"\n"
     ]
    },
    {
     "data": {
      "text/plain": [
       "\n",
       "t test of coefficients:\n",
       "\n",
       "               Estimate  Std. Error    t value Pr(>|t|)    \n",
       "(Intercept) -1.3148e-31  8.2305e-16 0.0000e+00        1    \n",
       "L(residuos)  1.0000e+00  6.6366e-17 1.5068e+16   <2e-16 ***\n",
       "---\n",
       "Signif. codes:  0 '***' 0.001 '**' 0.01 '*' 0.05 '.' 0.1 ' ' 1\n"
      ]
     },
     "metadata": {},
     "output_type": "display_data"
    }
   ],
   "source": [
    "residuos = resid(lm(cinven ~ cgdp, data=data_inven))\n",
    "\n",
    "coeftest(dynlm(residuos ~ L(residuos)))"
   ]
  },
  {
   "cell_type": "code",
   "execution_count": 11,
   "metadata": {},
   "outputs": [
    {
     "data": {
      "text/plain": [
       "Cochrane-orcutt estimation for first order autocorrelation \n",
       " \n",
       "Call:\n",
       "lm(formula = cinven ~ cgdp, data = data_inven)\n",
       "\n",
       " number of interaction: 3\n",
       " rho -0.109955\n",
       "\n",
       "Durbin-Watson statistic \n",
       "(original):    2.19698 , p-value: 7.12e-01\n",
       "(transformed): 2.01922 , p-value: 5.045e-01\n",
       " \n",
       " coefficients: \n",
       "(Intercept)        cgdp \n",
       "   2.556473    0.152384 "
      ]
     },
     "metadata": {},
     "output_type": "display_data"
    }
   ],
   "source": [
    "cochrane.orcutt(lm(cinven ~ cgdp, data=data_inven)) #intercepto: 2.556473    beta: 0.152384 "
   ]
  },
  {
   "cell_type": "code",
   "execution_count": 12,
   "metadata": {},
   "outputs": [
    {
     "name": "stderr",
     "output_type": "stream",
     "text": [
      "Warning message in read.dta(\"C:\\\\Users\\\\vinic\\\\Desktop\\\\R\\\\heiss\\\\data_wooldridge\\\\NYSE.dta\"):\n",
      "\"cannot read factor labels from Stata 5 files\"\n"
     ]
    },
    {
     "data": {
      "text/html": [
       "<table>\n",
       "<caption>A data.frame: 6 × 8</caption>\n",
       "<thead>\n",
       "\t<tr><th></th><th scope=col>price</th><th scope=col>return</th><th scope=col>return_1</th><th scope=col>t</th><th scope=col>price_1</th><th scope=col>price_2</th><th scope=col>cprice</th><th scope=col>cprice_1</th></tr>\n",
       "\t<tr><th></th><th scope=col>&lt;dbl&gt;</th><th scope=col>&lt;dbl&gt;</th><th scope=col>&lt;dbl&gt;</th><th scope=col>&lt;int&gt;</th><th scope=col>&lt;dbl&gt;</th><th scope=col>&lt;dbl&gt;</th><th scope=col>&lt;dbl&gt;</th><th scope=col>&lt;dbl&gt;</th></tr>\n",
       "</thead>\n",
       "<tbody>\n",
       "\t<tr><th scope=row>1</th><td>49.75</td><td>        NA</td><td>       NA</td><td>1</td><td>   NA</td><td>   NA</td><td>        NA</td><td>       NA</td></tr>\n",
       "\t<tr><th scope=row>2</th><td>51.44</td><td> 3.3969822</td><td>       NA</td><td>2</td><td>49.75</td><td>   NA</td><td> 1.6899986</td><td>       NA</td></tr>\n",
       "\t<tr><th scope=row>3</th><td>52.05</td><td> 1.1858488</td><td>3.3969822</td><td>3</td><td>51.44</td><td>49.75</td><td> 0.6100006</td><td>1.6899986</td></tr>\n",
       "\t<tr><th scope=row>4</th><td>52.28</td><td> 0.4418819</td><td>1.1858488</td><td>4</td><td>52.05</td><td>51.44</td><td> 0.2299995</td><td>0.6100006</td></tr>\n",
       "\t<tr><th scope=row>5</th><td>54.24</td><td> 3.7490492</td><td>0.4418819</td><td>5</td><td>52.28</td><td>52.05</td><td> 1.9600029</td><td>0.2299995</td></tr>\n",
       "\t<tr><th scope=row>6</th><td>53.76</td><td>-0.8849619</td><td>3.7490492</td><td>6</td><td>54.24</td><td>52.28</td><td>-0.4800034</td><td>1.9600029</td></tr>\n",
       "</tbody>\n",
       "</table>\n"
      ],
      "text/latex": [
       "A data.frame: 6 × 8\n",
       "\\begin{tabular}{r|llllllll}\n",
       "  & price & return & return\\_1 & t & price\\_1 & price\\_2 & cprice & cprice\\_1\\\\\n",
       "  & <dbl> & <dbl> & <dbl> & <int> & <dbl> & <dbl> & <dbl> & <dbl>\\\\\n",
       "\\hline\n",
       "\t1 & 49.75 &         NA &        NA & 1 &    NA &    NA &         NA &        NA\\\\\n",
       "\t2 & 51.44 &  3.3969822 &        NA & 2 & 49.75 &    NA &  1.6899986 &        NA\\\\\n",
       "\t3 & 52.05 &  1.1858488 & 3.3969822 & 3 & 51.44 & 49.75 &  0.6100006 & 1.6899986\\\\\n",
       "\t4 & 52.28 &  0.4418819 & 1.1858488 & 4 & 52.05 & 51.44 &  0.2299995 & 0.6100006\\\\\n",
       "\t5 & 54.24 &  3.7490492 & 0.4418819 & 5 & 52.28 & 52.05 &  1.9600029 & 0.2299995\\\\\n",
       "\t6 & 53.76 & -0.8849619 & 3.7490492 & 6 & 54.24 & 52.28 & -0.4800034 & 1.9600029\\\\\n",
       "\\end{tabular}\n"
      ],
      "text/markdown": [
       "\n",
       "A data.frame: 6 × 8\n",
       "\n",
       "| <!--/--> | price &lt;dbl&gt; | return &lt;dbl&gt; | return_1 &lt;dbl&gt; | t &lt;int&gt; | price_1 &lt;dbl&gt; | price_2 &lt;dbl&gt; | cprice &lt;dbl&gt; | cprice_1 &lt;dbl&gt; |\n",
       "|---|---|---|---|---|---|---|---|---|\n",
       "| 1 | 49.75 |         NA |        NA | 1 |    NA |    NA |         NA |        NA |\n",
       "| 2 | 51.44 |  3.3969822 |        NA | 2 | 49.75 |    NA |  1.6899986 |        NA |\n",
       "| 3 | 52.05 |  1.1858488 | 3.3969822 | 3 | 51.44 | 49.75 |  0.6100006 | 1.6899986 |\n",
       "| 4 | 52.28 |  0.4418819 | 1.1858488 | 4 | 52.05 | 51.44 |  0.2299995 | 0.6100006 |\n",
       "| 5 | 54.24 |  3.7490492 | 0.4418819 | 5 | 52.28 | 52.05 |  1.9600029 | 0.2299995 |\n",
       "| 6 | 53.76 | -0.8849619 | 3.7490492 | 6 | 54.24 | 52.28 | -0.4800034 | 1.9600029 |\n",
       "\n"
      ],
      "text/plain": [
       "  price return     return_1  t price_1 price_2 cprice     cprice_1 \n",
       "1 49.75         NA        NA 1    NA      NA           NA        NA\n",
       "2 51.44  3.3969822        NA 2 49.75      NA    1.6899986        NA\n",
       "3 52.05  1.1858488 3.3969822 3 51.44   49.75    0.6100006 1.6899986\n",
       "4 52.28  0.4418819 1.1858488 4 52.05   51.44    0.2299995 0.6100006\n",
       "5 54.24  3.7490492 0.4418819 5 52.28   52.05    1.9600029 0.2299995\n",
       "6 53.76 -0.8849619 3.7490492 6 54.24   52.28   -0.4800034 1.9600029"
      ]
     },
     "metadata": {},
     "output_type": "display_data"
    }
   ],
   "source": [
    "#c4: não tá dando certo regredir os residuos, nao sei o pq\n",
    "\n",
    "data_nyse = read.dta(\"C:\\\\Users\\\\vinic\\\\Desktop\\\\R\\\\heiss\\\\data_wooldridge\\\\NYSE.dta\")\n",
    "head(data_nyse)"
   ]
  },
  {
   "cell_type": "code",
   "execution_count": 13,
   "metadata": {},
   "outputs": [],
   "source": [
    "#residuos = resid(lm(return ~ return_1, data=data_nyse))\n",
    "#length(residuos)\n",
    "#length(data_nyse$return)\n",
    "#data_nyse$residuos_quad = 0\n",
    "\n",
    "#summary(lm( residuos_quad ~ return_1))"
   ]
  },
  {
   "cell_type": "code",
   "execution_count": 14,
   "metadata": {},
   "outputs": [
    {
     "data": {
      "text/html": [
       "<style>\n",
       ".list-inline {list-style: none; margin:0; padding: 0}\n",
       ".list-inline>li {display: inline-block}\n",
       ".list-inline>li:not(:last-child)::after {content: \"\\00b7\"; padding: 0 .5ex}\n",
       "</style>\n",
       "<ol class=list-inline><li>'year'</li><li>'i3'</li><li>'inf'</li><li>'rdisp'</li><li>'rnondc'</li><li>'rserv'</li><li>'pop'</li><li>'y'</li><li>'rcons'</li><li>'c'</li><li>'r3'</li><li>'lc'</li><li>'ly'</li><li>'gc'</li><li>'gy'</li><li>'gc_1'</li><li>'gy_1'</li><li>'r3_1'</li><li>'lc_ly'</li><li>'lc_ly_1'</li><li>'gc_2'</li><li>'gy_2'</li><li>'r3_2'</li><li>'lc_ly_2'</li></ol>\n"
      ],
      "text/latex": [
       "\\begin{enumerate*}\n",
       "\\item 'year'\n",
       "\\item 'i3'\n",
       "\\item 'inf'\n",
       "\\item 'rdisp'\n",
       "\\item 'rnondc'\n",
       "\\item 'rserv'\n",
       "\\item 'pop'\n",
       "\\item 'y'\n",
       "\\item 'rcons'\n",
       "\\item 'c'\n",
       "\\item 'r3'\n",
       "\\item 'lc'\n",
       "\\item 'ly'\n",
       "\\item 'gc'\n",
       "\\item 'gy'\n",
       "\\item 'gc\\_1'\n",
       "\\item 'gy\\_1'\n",
       "\\item 'r3\\_1'\n",
       "\\item 'lc\\_ly'\n",
       "\\item 'lc\\_ly\\_1'\n",
       "\\item 'gc\\_2'\n",
       "\\item 'gy\\_2'\n",
       "\\item 'r3\\_2'\n",
       "\\item 'lc\\_ly\\_2'\n",
       "\\end{enumerate*}\n"
      ],
      "text/markdown": [
       "1. 'year'\n",
       "2. 'i3'\n",
       "3. 'inf'\n",
       "4. 'rdisp'\n",
       "5. 'rnondc'\n",
       "6. 'rserv'\n",
       "7. 'pop'\n",
       "8. 'y'\n",
       "9. 'rcons'\n",
       "10. 'c'\n",
       "11. 'r3'\n",
       "12. 'lc'\n",
       "13. 'ly'\n",
       "14. 'gc'\n",
       "15. 'gy'\n",
       "16. 'gc_1'\n",
       "17. 'gy_1'\n",
       "18. 'r3_1'\n",
       "19. 'lc_ly'\n",
       "20. 'lc_ly_1'\n",
       "21. 'gc_2'\n",
       "22. 'gy_2'\n",
       "23. 'r3_2'\n",
       "24. 'lc_ly_2'\n",
       "\n",
       "\n"
      ],
      "text/plain": [
       " [1] \"year\"    \"i3\"      \"inf\"     \"rdisp\"   \"rnondc\"  \"rserv\"   \"pop\"    \n",
       " [8] \"y\"       \"rcons\"   \"c\"       \"r3\"      \"lc\"      \"ly\"      \"gc\"     \n",
       "[15] \"gy\"      \"gc_1\"    \"gy_1\"    \"r3_1\"    \"lc_ly\"   \"lc_ly_1\" \"gc_2\"   \n",
       "[22] \"gy_2\"    \"r3_2\"    \"lc_ly_2\""
      ]
     },
     "metadata": {},
     "output_type": "display_data"
    },
    {
     "data": {
      "text/html": [
       "<table>\n",
       "<caption>A data.frame: 6 × 24</caption>\n",
       "<thead>\n",
       "\t<tr><th></th><th scope=col>year</th><th scope=col>i3</th><th scope=col>inf</th><th scope=col>rdisp</th><th scope=col>rnondc</th><th scope=col>rserv</th><th scope=col>pop</th><th scope=col>y</th><th scope=col>rcons</th><th scope=col>c</th><th scope=col>...</th><th scope=col>gy</th><th scope=col>gc_1</th><th scope=col>gy_1</th><th scope=col>r3_1</th><th scope=col>lc_ly</th><th scope=col>lc_ly_1</th><th scope=col>gc_2</th><th scope=col>gy_2</th><th scope=col>r3_2</th><th scope=col>lc_ly_2</th></tr>\n",
       "\t<tr><th></th><th scope=col>&lt;int&gt;</th><th scope=col>&lt;dbl&gt;</th><th scope=col>&lt;dbl&gt;</th><th scope=col>&lt;dbl&gt;</th><th scope=col>&lt;dbl&gt;</th><th scope=col>&lt;dbl&gt;</th><th scope=col>&lt;dbl&gt;</th><th scope=col>&lt;dbl&gt;</th><th scope=col>&lt;dbl&gt;</th><th scope=col>&lt;dbl&gt;</th><th scope=col>...</th><th scope=col>&lt;dbl&gt;</th><th scope=col>&lt;dbl&gt;</th><th scope=col>&lt;dbl&gt;</th><th scope=col>&lt;dbl&gt;</th><th scope=col>&lt;dbl&gt;</th><th scope=col>&lt;dbl&gt;</th><th scope=col>&lt;dbl&gt;</th><th scope=col>&lt;dbl&gt;</th><th scope=col>&lt;dbl&gt;</th><th scope=col>&lt;dbl&gt;</th></tr>\n",
       "</thead>\n",
       "<tbody>\n",
       "\t<tr><th scope=row>1</th><td>1959</td><td>3.41</td><td>0.7</td><td>1530.1</td><td>606.3</td><td>687.4</td><td>177830</td><td>8604.285</td><td>1293.7</td><td>7274.925</td><td>...</td><td>         NA</td><td>        NA</td><td>         NA</td><td>  NA</td><td>-0.1678267</td><td>        NA</td><td>        NA</td><td>         NA</td><td>  NA</td><td>        NA</td></tr>\n",
       "\t<tr><th scope=row>2</th><td>1960</td><td>2.93</td><td>1.7</td><td>1565.4</td><td>615.4</td><td>717.4</td><td>180671</td><td>8664.368</td><td>1332.8</td><td>7376.945</td><td>...</td><td>0.006958961</td><td>        NA</td><td>         NA</td><td>2.71</td><td>-0.1608601</td><td>-0.1678267</td><td>        NA</td><td>         NA</td><td>  NA</td><td>        NA</td></tr>\n",
       "\t<tr><th scope=row>3</th><td>1961</td><td>2.38</td><td>1.0</td><td>1615.8</td><td>626.7</td><td>746.5</td><td>183691</td><td>8796.294</td><td>1373.2</td><td>7475.597</td><td>...</td><td>0.015110970</td><td>0.01392555</td><td>0.006958961</td><td>1.23</td><td>-0.1626863</td><td>-0.1608601</td><td>        NA</td><td>         NA</td><td>2.71</td><td>-0.1678267</td></tr>\n",
       "\t<tr><th scope=row>4</th><td>1962</td><td>2.78</td><td>1.0</td><td>1693.7</td><td>646.5</td><td>783.4</td><td>186538</td><td>9079.651</td><td>1429.9</td><td>7665.462</td><td>...</td><td>0.031705856</td><td>0.01328468</td><td>0.015110970</td><td>1.38</td><td>-0.1693115</td><td>-0.1626863</td><td>0.01392555</td><td>0.006958961</td><td>1.23</td><td>-0.1608601</td></tr>\n",
       "\t<tr><th scope=row>5</th><td>1963</td><td>3.16</td><td>1.3</td><td>1755.5</td><td>660.0</td><td>818.7</td><td>189242</td><td>9276.482</td><td>1478.7</td><td>7813.804</td><td>...</td><td>0.021446228</td><td>0.02508068</td><td>0.031705856</td><td>1.78</td><td>-0.1715908</td><td>-0.1693115</td><td>0.01328468</td><td>0.015110970</td><td>1.38</td><td>-0.1626863</td></tr>\n",
       "\t<tr><th scope=row>6</th><td>1964</td><td>3.55</td><td>1.3</td><td>1881.9</td><td>692.5</td><td>868.4</td><td>191889</td><td>9807.232</td><td>1560.9</td><td>8134.390</td><td>...</td><td>0.055637360</td><td>0.01916695</td><td>0.021446228</td><td>1.86</td><td>-0.1870193</td><td>-0.1715908</td><td>0.02508068</td><td>0.031705856</td><td>1.78</td><td>-0.1693115</td></tr>\n",
       "</tbody>\n",
       "</table>\n"
      ],
      "text/latex": [
       "A data.frame: 6 × 24\n",
       "\\begin{tabular}{r|lllllllllllllllllllll}\n",
       "  & year & i3 & inf & rdisp & rnondc & rserv & pop & y & rcons & c & ... & gy & gc\\_1 & gy\\_1 & r3\\_1 & lc\\_ly & lc\\_ly\\_1 & gc\\_2 & gy\\_2 & r3\\_2 & lc\\_ly\\_2\\\\\n",
       "  & <int> & <dbl> & <dbl> & <dbl> & <dbl> & <dbl> & <dbl> & <dbl> & <dbl> & <dbl> & ... & <dbl> & <dbl> & <dbl> & <dbl> & <dbl> & <dbl> & <dbl> & <dbl> & <dbl> & <dbl>\\\\\n",
       "\\hline\n",
       "\t1 & 1959 & 3.41 & 0.7 & 1530.1 & 606.3 & 687.4 & 177830 & 8604.285 & 1293.7 & 7274.925 & ... &          NA &         NA &          NA &   NA & -0.1678267 &         NA &         NA &          NA &   NA &         NA\\\\\n",
       "\t2 & 1960 & 2.93 & 1.7 & 1565.4 & 615.4 & 717.4 & 180671 & 8664.368 & 1332.8 & 7376.945 & ... & 0.006958961 &         NA &          NA & 2.71 & -0.1608601 & -0.1678267 &         NA &          NA &   NA &         NA\\\\\n",
       "\t3 & 1961 & 2.38 & 1.0 & 1615.8 & 626.7 & 746.5 & 183691 & 8796.294 & 1373.2 & 7475.597 & ... & 0.015110970 & 0.01392555 & 0.006958961 & 1.23 & -0.1626863 & -0.1608601 &         NA &          NA & 2.71 & -0.1678267\\\\\n",
       "\t4 & 1962 & 2.78 & 1.0 & 1693.7 & 646.5 & 783.4 & 186538 & 9079.651 & 1429.9 & 7665.462 & ... & 0.031705856 & 0.01328468 & 0.015110970 & 1.38 & -0.1693115 & -0.1626863 & 0.01392555 & 0.006958961 & 1.23 & -0.1608601\\\\\n",
       "\t5 & 1963 & 3.16 & 1.3 & 1755.5 & 660.0 & 818.7 & 189242 & 9276.482 & 1478.7 & 7813.804 & ... & 0.021446228 & 0.02508068 & 0.031705856 & 1.78 & -0.1715908 & -0.1693115 & 0.01328468 & 0.015110970 & 1.38 & -0.1626863\\\\\n",
       "\t6 & 1964 & 3.55 & 1.3 & 1881.9 & 692.5 & 868.4 & 191889 & 9807.232 & 1560.9 & 8134.390 & ... & 0.055637360 & 0.01916695 & 0.021446228 & 1.86 & -0.1870193 & -0.1715908 & 0.02508068 & 0.031705856 & 1.78 & -0.1693115\\\\\n",
       "\\end{tabular}\n"
      ],
      "text/markdown": [
       "\n",
       "A data.frame: 6 × 24\n",
       "\n",
       "| <!--/--> | year &lt;int&gt; | i3 &lt;dbl&gt; | inf &lt;dbl&gt; | rdisp &lt;dbl&gt; | rnondc &lt;dbl&gt; | rserv &lt;dbl&gt; | pop &lt;dbl&gt; | y &lt;dbl&gt; | rcons &lt;dbl&gt; | c &lt;dbl&gt; | ... ... | gy &lt;dbl&gt; | gc_1 &lt;dbl&gt; | gy_1 &lt;dbl&gt; | r3_1 &lt;dbl&gt; | lc_ly &lt;dbl&gt; | lc_ly_1 &lt;dbl&gt; | gc_2 &lt;dbl&gt; | gy_2 &lt;dbl&gt; | r3_2 &lt;dbl&gt; | lc_ly_2 &lt;dbl&gt; |\n",
       "|---|---|---|---|---|---|---|---|---|---|---|---|---|---|---|---|---|---|---|---|---|---|\n",
       "| 1 | 1959 | 3.41 | 0.7 | 1530.1 | 606.3 | 687.4 | 177830 | 8604.285 | 1293.7 | 7274.925 | ... |          NA |         NA |          NA |   NA | -0.1678267 |         NA |         NA |          NA |   NA |         NA |\n",
       "| 2 | 1960 | 2.93 | 1.7 | 1565.4 | 615.4 | 717.4 | 180671 | 8664.368 | 1332.8 | 7376.945 | ... | 0.006958961 |         NA |          NA | 2.71 | -0.1608601 | -0.1678267 |         NA |          NA |   NA |         NA |\n",
       "| 3 | 1961 | 2.38 | 1.0 | 1615.8 | 626.7 | 746.5 | 183691 | 8796.294 | 1373.2 | 7475.597 | ... | 0.015110970 | 0.01392555 | 0.006958961 | 1.23 | -0.1626863 | -0.1608601 |         NA |          NA | 2.71 | -0.1678267 |\n",
       "| 4 | 1962 | 2.78 | 1.0 | 1693.7 | 646.5 | 783.4 | 186538 | 9079.651 | 1429.9 | 7665.462 | ... | 0.031705856 | 0.01328468 | 0.015110970 | 1.38 | -0.1693115 | -0.1626863 | 0.01392555 | 0.006958961 | 1.23 | -0.1608601 |\n",
       "| 5 | 1963 | 3.16 | 1.3 | 1755.5 | 660.0 | 818.7 | 189242 | 9276.482 | 1478.7 | 7813.804 | ... | 0.021446228 | 0.02508068 | 0.031705856 | 1.78 | -0.1715908 | -0.1693115 | 0.01328468 | 0.015110970 | 1.38 | -0.1626863 |\n",
       "| 6 | 1964 | 3.55 | 1.3 | 1881.9 | 692.5 | 868.4 | 191889 | 9807.232 | 1560.9 | 8134.390 | ... | 0.055637360 | 0.01916695 | 0.021446228 | 1.86 | -0.1870193 | -0.1715908 | 0.02508068 | 0.031705856 | 1.78 | -0.1693115 |\n",
       "\n"
      ],
      "text/plain": [
       "  year i3   inf rdisp  rnondc rserv pop    y        rcons  c        ...\n",
       "1 1959 3.41 0.7 1530.1 606.3  687.4 177830 8604.285 1293.7 7274.925 ...\n",
       "2 1960 2.93 1.7 1565.4 615.4  717.4 180671 8664.368 1332.8 7376.945 ...\n",
       "3 1961 2.38 1.0 1615.8 626.7  746.5 183691 8796.294 1373.2 7475.597 ...\n",
       "4 1962 2.78 1.0 1693.7 646.5  783.4 186538 9079.651 1429.9 7665.462 ...\n",
       "5 1963 3.16 1.3 1755.5 660.0  818.7 189242 9276.482 1478.7 7813.804 ...\n",
       "6 1964 3.55 1.3 1881.9 692.5  868.4 191889 9807.232 1560.9 8134.390 ...\n",
       "  gy          gc_1       gy_1        r3_1 lc_ly      lc_ly_1    gc_2      \n",
       "1          NA         NA          NA   NA -0.1678267         NA         NA\n",
       "2 0.006958961         NA          NA 2.71 -0.1608601 -0.1678267         NA\n",
       "3 0.015110970 0.01392555 0.006958961 1.23 -0.1626863 -0.1608601         NA\n",
       "4 0.031705856 0.01328468 0.015110970 1.38 -0.1693115 -0.1626863 0.01392555\n",
       "5 0.021446228 0.02508068 0.031705856 1.78 -0.1715908 -0.1693115 0.01328468\n",
       "6 0.055637360 0.01916695 0.021446228 1.86 -0.1870193 -0.1715908 0.02508068\n",
       "  gy_2        r3_2 lc_ly_2   \n",
       "1          NA   NA         NA\n",
       "2          NA   NA         NA\n",
       "3          NA 2.71 -0.1678267\n",
       "4 0.006958961 1.23 -0.1608601\n",
       "5 0.015110970 1.38 -0.1626863\n",
       "6 0.031705856 1.78 -0.1693115"
      ]
     },
     "metadata": {},
     "output_type": "display_data"
    }
   ],
   "source": [
    "#c5: \n",
    "\n",
    "consumption = read.dta(\"C:\\\\Users\\\\vinic\\\\Desktop\\\\R\\\\heiss\\\\data_wooldridge\\\\CONSUMP.dta\")\n",
    "names(consumption)\n",
    "head(consumption)"
   ]
  },
  {
   "cell_type": "code",
   "execution_count": 15,
   "metadata": {},
   "outputs": [
    {
     "data": {
      "text/plain": [
       "\n",
       "Call:\n",
       "lm(formula = gc ~ gy, data = consumption)\n",
       "\n",
       "Residuals:\n",
       "       Min         1Q     Median         3Q        Max \n",
       "-0.0140496 -0.0035407 -0.0005813  0.0044080  0.0116890 \n",
       "\n",
       "Coefficients:\n",
       "            Estimate Std. Error t value Pr(>|t|)    \n",
       "(Intercept) 0.008079   0.001899   4.254 0.000155 ***\n",
       "gy          0.570781   0.067354   8.474 6.75e-10 ***\n",
       "---\n",
       "Signif. codes:  0 '***' 0.001 '**' 0.01 '*' 0.05 '.' 0.1 ' ' 1\n",
       "\n",
       "Residual standard error: 0.007268 on 34 degrees of freedom\n",
       "  (1 observation deleted due to missingness)\n",
       "Multiple R-squared:  0.6787,\tAdjusted R-squared:  0.6692 \n",
       "F-statistic: 71.81 on 1 and 34 DF,  p-value: 6.754e-10\n"
      ]
     },
     "metadata": {},
     "output_type": "display_data"
    },
    {
     "name": "stderr",
     "output_type": "stream",
     "text": [
      "Warning message in summary.lm(ar):\n",
      "\"essentially perfect fit: summary may be unreliable\"\n"
     ]
    },
    {
     "data": {
      "text/plain": [
       "\n",
       "Time series regression with \"numeric\" data:\n",
       "Start = 1, End = 36\n",
       "\n",
       "Call:\n",
       "dynlm(formula = residuos ~ L(residuos))\n",
       "\n",
       "Residuals:\n",
       "       Min         1Q     Median         3Q        Max \n",
       "-1.634e-18 -2.858e-20  1.730e-20  4.766e-20  9.196e-19 \n",
       "\n",
       "Coefficients:\n",
       "             Estimate Std. Error   t value Pr(>|t|)    \n",
       "(Intercept) 6.420e-35  5.544e-20 0.000e+00        1    \n",
       "L(residuos) 1.000e+00  7.848e-18 1.274e+17   <2e-16 ***\n",
       "---\n",
       "Signif. codes:  0 '***' 0.001 '**' 0.01 '*' 0.05 '.' 0.1 ' ' 1\n",
       "\n",
       "Residual standard error: 3.326e-19 on 34 degrees of freedom\n",
       "Multiple R-squared:      1,\tAdjusted R-squared:      1 \n",
       "F-statistic: 1.623e+34 on 1 and 34 DF,  p-value: < 2.2e-16\n"
      ]
     },
     "metadata": {},
     "output_type": "display_data"
    }
   ],
   "source": [
    "#i)\n",
    "summary(lm(gc ~ gy, data=consumption))\n",
    "residuos = resid(lm(gc ~ gy, data=consumption))\n",
    "ar = dynlm(residuos ~ L(residuos))\n",
    "summary(ar)"
   ]
  },
  {
   "cell_type": "code",
   "execution_count": 16,
   "metadata": {},
   "outputs": [
    {
     "ename": "ERROR",
     "evalue": "Error in model.frame.default(formula = residuos[2:length(residuos)] ~ : variable lengths differ (found for 'gc_1')\n",
     "output_type": "error",
     "traceback": [
      "Error in model.frame.default(formula = residuos[2:length(residuos)] ~ : variable lengths differ (found for 'gc_1')\nTraceback:\n",
      "1. lm(residuos[2:length(residuos)] ~ gc_1 + gc_1_2, data = consumption)",
      "2. eval(mf, parent.frame())",
      "3. eval(mf, parent.frame())",
      "4. stats::model.frame(formula = residuos[2:length(residuos)] ~ gc_1 + \n .     gc_1_2, data = consumption, drop.unused.levels = TRUE)",
      "5. model.frame.default(formula = residuos[2:length(residuos)] ~ \n .     gc_1 + gc_1_2, data = consumption, drop.unused.levels = TRUE)"
     ]
    }
   ],
   "source": [
    "#ii)\n",
    "residuos = resid(dynlm(gc ~L(gc), data=consumption))\n",
    "consumption$gc_1_2 = consumption$gc_1 ^ 2\n",
    "ar = lm(residuos[2:length(residuos)] ~ gc_1 + gc_1_2, data=consumption)\n",
    "summary(ar)"
   ]
  },
  {
   "cell_type": "code",
   "execution_count": 17,
   "metadata": {},
   "outputs": [
    {
     "name": "stderr",
     "output_type": "stream",
     "text": [
      "Warning message in read.dta(\"C:\\\\Users\\\\vinic\\\\Desktop\\\\R\\\\heiss\\\\data_wooldridge\\\\BARIUM.dta\"):\n",
      "\"cannot read factor labels from Stata 5 files\"\n"
     ]
    },
    {
     "data": {
      "text/html": [
       "<table>\n",
       "<caption>A data.frame: 6 × 31</caption>\n",
       "<thead>\n",
       "\t<tr><th></th><th scope=col>chnimp</th><th scope=col>bchlimp</th><th scope=col>befile6</th><th scope=col>affile6</th><th scope=col>afdec6</th><th scope=col>befile12</th><th scope=col>affile12</th><th scope=col>afdec12</th><th scope=col>chempi</th><th scope=col>gas</th><th scope=col>...</th><th scope=col>apr</th><th scope=col>may</th><th scope=col>jun</th><th scope=col>jul</th><th scope=col>aug</th><th scope=col>sep</th><th scope=col>oct</th><th scope=col>nov</th><th scope=col>dec</th><th scope=col>percchn</th></tr>\n",
       "\t<tr><th></th><th scope=col>&lt;dbl&gt;</th><th scope=col>&lt;dbl&gt;</th><th scope=col>&lt;int&gt;</th><th scope=col>&lt;int&gt;</th><th scope=col>&lt;int&gt;</th><th scope=col>&lt;int&gt;</th><th scope=col>&lt;int&gt;</th><th scope=col>&lt;int&gt;</th><th scope=col>&lt;dbl&gt;</th><th scope=col>&lt;dbl&gt;</th><th scope=col>...</th><th scope=col>&lt;int&gt;</th><th scope=col>&lt;int&gt;</th><th scope=col>&lt;int&gt;</th><th scope=col>&lt;int&gt;</th><th scope=col>&lt;int&gt;</th><th scope=col>&lt;int&gt;</th><th scope=col>&lt;int&gt;</th><th scope=col>&lt;int&gt;</th><th scope=col>&lt;int&gt;</th><th scope=col>&lt;dbl&gt;</th></tr>\n",
       "</thead>\n",
       "<tbody>\n",
       "\t<tr><th scope=row>1</th><td>220.4620</td><td> 9578.376</td><td>0</td><td>0</td><td>0</td><td>0</td><td>0</td><td>0</td><td>100.1</td><td>7830000128</td><td>...</td><td>0</td><td>0</td><td>0</td><td>0</td><td>0</td><td>0</td><td>0</td><td>0</td><td>0</td><td>2.3016636</td></tr>\n",
       "\t<tr><th scope=row>2</th><td> 94.7980</td><td>11219.480</td><td>0</td><td>0</td><td>0</td><td>0</td><td>0</td><td>0</td><td>100.9</td><td>8819999744</td><td>...</td><td>0</td><td>0</td><td>0</td><td>0</td><td>0</td><td>0</td><td>0</td><td>0</td><td>0</td><td>0.8449411</td></tr>\n",
       "\t<tr><th scope=row>3</th><td>219.3575</td><td> 9719.900</td><td>0</td><td>0</td><td>0</td><td>0</td><td>0</td><td>0</td><td>101.1</td><td>8449999872</td><td>...</td><td>1</td><td>0</td><td>0</td><td>0</td><td>0</td><td>0</td><td>0</td><td>0</td><td>0</td><td>2.2567875</td></tr>\n",
       "\t<tr><th scope=row>4</th><td>317.4215</td><td>12920.950</td><td>0</td><td>0</td><td>0</td><td>0</td><td>0</td><td>0</td><td>102.5</td><td>9240000512</td><td>...</td><td>0</td><td>1</td><td>0</td><td>0</td><td>0</td><td>0</td><td>0</td><td>0</td><td>0</td><td>2.4566422</td></tr>\n",
       "\t<tr><th scope=row>5</th><td>114.6390</td><td> 9790.446</td><td>0</td><td>0</td><td>0</td><td>0</td><td>0</td><td>0</td><td>104.1</td><td>9150000128</td><td>...</td><td>0</td><td>0</td><td>1</td><td>0</td><td>0</td><td>0</td><td>0</td><td>0</td><td>0</td><td>1.1709272</td></tr>\n",
       "\t<tr><th scope=row>6</th><td>129.5240</td><td>11020.470</td><td>0</td><td>0</td><td>0</td><td>0</td><td>0</td><td>0</td><td>104.8</td><td>9520000000</td><td>...</td><td>0</td><td>0</td><td>0</td><td>1</td><td>0</td><td>0</td><td>0</td><td>0</td><td>0</td><td>1.1753038</td></tr>\n",
       "</tbody>\n",
       "</table>\n"
      ],
      "text/latex": [
       "A data.frame: 6 × 31\n",
       "\\begin{tabular}{r|lllllllllllllllllllll}\n",
       "  & chnimp & bchlimp & befile6 & affile6 & afdec6 & befile12 & affile12 & afdec12 & chempi & gas & ... & apr & may & jun & jul & aug & sep & oct & nov & dec & percchn\\\\\n",
       "  & <dbl> & <dbl> & <int> & <int> & <int> & <int> & <int> & <int> & <dbl> & <dbl> & ... & <int> & <int> & <int> & <int> & <int> & <int> & <int> & <int> & <int> & <dbl>\\\\\n",
       "\\hline\n",
       "\t1 & 220.4620 &  9578.376 & 0 & 0 & 0 & 0 & 0 & 0 & 100.1 & 7830000128 & ... & 0 & 0 & 0 & 0 & 0 & 0 & 0 & 0 & 0 & 2.3016636\\\\\n",
       "\t2 &  94.7980 & 11219.480 & 0 & 0 & 0 & 0 & 0 & 0 & 100.9 & 8819999744 & ... & 0 & 0 & 0 & 0 & 0 & 0 & 0 & 0 & 0 & 0.8449411\\\\\n",
       "\t3 & 219.3575 &  9719.900 & 0 & 0 & 0 & 0 & 0 & 0 & 101.1 & 8449999872 & ... & 1 & 0 & 0 & 0 & 0 & 0 & 0 & 0 & 0 & 2.2567875\\\\\n",
       "\t4 & 317.4215 & 12920.950 & 0 & 0 & 0 & 0 & 0 & 0 & 102.5 & 9240000512 & ... & 0 & 1 & 0 & 0 & 0 & 0 & 0 & 0 & 0 & 2.4566422\\\\\n",
       "\t5 & 114.6390 &  9790.446 & 0 & 0 & 0 & 0 & 0 & 0 & 104.1 & 9150000128 & ... & 0 & 0 & 1 & 0 & 0 & 0 & 0 & 0 & 0 & 1.1709272\\\\\n",
       "\t6 & 129.5240 & 11020.470 & 0 & 0 & 0 & 0 & 0 & 0 & 104.8 & 9520000000 & ... & 0 & 0 & 0 & 1 & 0 & 0 & 0 & 0 & 0 & 1.1753038\\\\\n",
       "\\end{tabular}\n"
      ],
      "text/markdown": [
       "\n",
       "A data.frame: 6 × 31\n",
       "\n",
       "| <!--/--> | chnimp &lt;dbl&gt; | bchlimp &lt;dbl&gt; | befile6 &lt;int&gt; | affile6 &lt;int&gt; | afdec6 &lt;int&gt; | befile12 &lt;int&gt; | affile12 &lt;int&gt; | afdec12 &lt;int&gt; | chempi &lt;dbl&gt; | gas &lt;dbl&gt; | ... ... | apr &lt;int&gt; | may &lt;int&gt; | jun &lt;int&gt; | jul &lt;int&gt; | aug &lt;int&gt; | sep &lt;int&gt; | oct &lt;int&gt; | nov &lt;int&gt; | dec &lt;int&gt; | percchn &lt;dbl&gt; |\n",
       "|---|---|---|---|---|---|---|---|---|---|---|---|---|---|---|---|---|---|---|---|---|---|\n",
       "| 1 | 220.4620 |  9578.376 | 0 | 0 | 0 | 0 | 0 | 0 | 100.1 | 7830000128 | ... | 0 | 0 | 0 | 0 | 0 | 0 | 0 | 0 | 0 | 2.3016636 |\n",
       "| 2 |  94.7980 | 11219.480 | 0 | 0 | 0 | 0 | 0 | 0 | 100.9 | 8819999744 | ... | 0 | 0 | 0 | 0 | 0 | 0 | 0 | 0 | 0 | 0.8449411 |\n",
       "| 3 | 219.3575 |  9719.900 | 0 | 0 | 0 | 0 | 0 | 0 | 101.1 | 8449999872 | ... | 1 | 0 | 0 | 0 | 0 | 0 | 0 | 0 | 0 | 2.2567875 |\n",
       "| 4 | 317.4215 | 12920.950 | 0 | 0 | 0 | 0 | 0 | 0 | 102.5 | 9240000512 | ... | 0 | 1 | 0 | 0 | 0 | 0 | 0 | 0 | 0 | 2.4566422 |\n",
       "| 5 | 114.6390 |  9790.446 | 0 | 0 | 0 | 0 | 0 | 0 | 104.1 | 9150000128 | ... | 0 | 0 | 1 | 0 | 0 | 0 | 0 | 0 | 0 | 1.1709272 |\n",
       "| 6 | 129.5240 | 11020.470 | 0 | 0 | 0 | 0 | 0 | 0 | 104.8 | 9520000000 | ... | 0 | 0 | 0 | 1 | 0 | 0 | 0 | 0 | 0 | 1.1753038 |\n",
       "\n"
      ],
      "text/plain": [
       "  chnimp   bchlimp   befile6 affile6 afdec6 befile12 affile12 afdec12 chempi\n",
       "1 220.4620  9578.376 0       0       0      0        0        0       100.1 \n",
       "2  94.7980 11219.480 0       0       0      0        0        0       100.9 \n",
       "3 219.3575  9719.900 0       0       0      0        0        0       101.1 \n",
       "4 317.4215 12920.950 0       0       0      0        0        0       102.5 \n",
       "5 114.6390  9790.446 0       0       0      0        0        0       104.1 \n",
       "6 129.5240 11020.470 0       0       0      0        0        0       104.8 \n",
       "  gas        ... apr may jun jul aug sep oct nov dec percchn  \n",
       "1 7830000128 ... 0   0   0   0   0   0   0   0   0   2.3016636\n",
       "2 8819999744 ... 0   0   0   0   0   0   0   0   0   0.8449411\n",
       "3 8449999872 ... 1   0   0   0   0   0   0   0   0   2.2567875\n",
       "4 9240000512 ... 0   1   0   0   0   0   0   0   0   2.4566422\n",
       "5 9150000128 ... 0   0   1   0   0   0   0   0   0   1.1709272\n",
       "6 9520000000 ... 0   0   0   1   0   0   0   0   0   1.1753038"
      ]
     },
     "metadata": {},
     "output_type": "display_data"
    }
   ],
   "source": [
    "#c7:\n",
    "\n",
    "data_bario = read.dta(\"C:\\\\Users\\\\vinic\\\\Desktop\\\\R\\\\heiss\\\\data_wooldridge\\\\BARIUM.dta\")\n",
    "head(data_bario)"
   ]
  },
  {
   "cell_type": "code",
   "execution_count": 18,
   "metadata": {},
   "outputs": [
    {
     "data": {
      "text/plain": [
       "Cochrane-orcutt estimation for first order autocorrelation \n",
       " \n",
       "Call:\n",
       "lm(formula = log(chnimp) ~ log(chempi) + log(gas) + log(rtwex) + \n",
       "    befile6 + affile6 + afdec6, data = data_bario)\n",
       "\n",
       " number of interaction: 8\n",
       " rho 0.293362\n",
       "\n",
       "Durbin-Watson statistic \n",
       "(original):    1.45841 , p-value: 1.688e-04\n",
       "(transformed): 2.06330 , p-value: 4.91e-01\n",
       " \n",
       " coefficients: \n",
       "(Intercept) log(chempi)    log(gas)  log(rtwex)     befile6     affile6 \n",
       " -37.322241    2.947434    1.054858    1.136918   -0.016372   -0.033082 \n",
       "     afdec6 \n",
       "  -0.577158 "
      ]
     },
     "metadata": {},
     "output_type": "display_data"
    }
   ],
   "source": [
    "#i)\n",
    "\n",
    "cochrane.orcutt(lm(log(chnimp) ~ log(chempi) + log(gas) + log(rtwex) + befile6 + affile6 + afdec6,data=data_bario))"
   ]
  },
  {
   "cell_type": "code",
   "execution_count": 19,
   "metadata": {},
   "outputs": [
    {
     "name": "stdout",
     "output_type": "stream",
     "text": [
      "Iteration 0: rho = 0\n",
      "Iteration 1: rho = 0.2708\n",
      "Iteration 2: rho = 0.291\n",
      "Iteration 3: rho = 0.293\n",
      "Iteration 4: rho = 0.2932\n",
      "Iteration 5: rho = 0.2932\n",
      "Iteration 6: rho = 0.2932\n",
      "Iteration 7: rho = 0.2932\n"
     ]
    },
    {
     "data": {
      "text/plain": [
       "\n",
       "Call:\n",
       "prais_winsten(formula = lm(log(chnimp) ~ log(chempi) + log(gas) + \n",
       "    log(rtwex) + befile6 + affile6 + afdec6, data = data_bario), \n",
       "    data = data_bario)\n",
       "\n",
       "Coefficients:\n",
       "(Intercept)  log(chempi)     log(gas)   log(rtwex)      befile6      affile6  \n",
       "  -37.07742      2.94095      1.04637      1.13279     -0.01648     -0.03316  \n",
       "     afdec6  \n",
       "   -0.57681  \n",
       "\n",
       "AR(1) coefficient rho: 0.2932\n"
      ]
     },
     "metadata": {},
     "output_type": "display_data"
    }
   ],
   "source": [
    "#ii)\n",
    "\n",
    "prais_winsten(lm(log(chnimp) ~ log(chempi) + log(gas) + log(rtwex) + befile6 + affile6 + afdec6,data=data_bario),data=data_bario)"
   ]
  },
  {
   "cell_type": "code",
   "execution_count": 20,
   "metadata": {},
   "outputs": [
    {
     "name": "stderr",
     "output_type": "stream",
     "text": [
      "Warning message in read.dta(\"C:\\\\Users\\\\vinic\\\\Desktop\\\\R\\\\heiss\\\\data_wooldridge\\\\TRAFFIC2.dta\"):\n",
      "\"cannot read factor labels from Stata 5 files\"\n"
     ]
    },
    {
     "data": {
      "text/html": [
       "<table>\n",
       "<caption>A data.frame: 6 × 48</caption>\n",
       "<thead>\n",
       "\t<tr><th></th><th scope=col>year</th><th scope=col>totacc</th><th scope=col>fatacc</th><th scope=col>injacc</th><th scope=col>pdoacc</th><th scope=col>ntotacc</th><th scope=col>nfatacc</th><th scope=col>ninjacc</th><th scope=col>npdoacc</th><th scope=col>rtotacc</th><th scope=col>...</th><th scope=col>lrfatacc</th><th scope=col>lntotacc</th><th scope=col>lnfatacc</th><th scope=col>prcnfat</th><th scope=col>lushigh</th><th scope=col>lcntyrds</th><th scope=col>lstrtes</th><th scope=col>spdt</th><th scope=col>beltt</th><th scope=col>prcfat_1</th></tr>\n",
       "\t<tr><th></th><th scope=col>&lt;int&gt;</th><th scope=col>&lt;dbl&gt;</th><th scope=col>&lt;int&gt;</th><th scope=col>&lt;int&gt;</th><th scope=col>&lt;int&gt;</th><th scope=col>&lt;dbl&gt;</th><th scope=col>&lt;int&gt;</th><th scope=col>&lt;int&gt;</th><th scope=col>&lt;int&gt;</th><th scope=col>&lt;int&gt;</th><th scope=col>...</th><th scope=col>&lt;dbl&gt;</th><th scope=col>&lt;dbl&gt;</th><th scope=col>&lt;dbl&gt;</th><th scope=col>&lt;dbl&gt;</th><th scope=col>&lt;dbl&gt;</th><th scope=col>&lt;dbl&gt;</th><th scope=col>&lt;dbl&gt;</th><th scope=col>&lt;int&gt;</th><th scope=col>&lt;int&gt;</th><th scope=col>&lt;dbl&gt;</th></tr>\n",
       "</thead>\n",
       "<tbody>\n",
       "\t<tr><th scope=row>1</th><td>1981</td><td>40511</td><td>365</td><td>15626</td><td>24520</td><td>38235</td><td>323</td><td>14743</td><td>23169</td><td>236</td><td>...</td><td>2.484907</td><td>10.55151</td><td>5.777652</td><td>0.8447757</td><td>6.963190</td><td>8.830251</td><td>8.153062</td><td>0</td><td>0</td><td>       NA</td></tr>\n",
       "\t<tr><th scope=row>2</th><td>1981</td><td>36034</td><td>329</td><td>14469</td><td>21236</td><td>33989</td><td>294</td><td>13620</td><td>20075</td><td>200</td><td>...</td><td>2.079442</td><td>10.43379</td><td>5.683580</td><td>0.8649857</td><td>6.839477</td><td>8.708970</td><td>8.046550</td><td>0</td><td>0</td><td>0.9009899</td></tr>\n",
       "\t<tr><th scope=row>3</th><td>1981</td><td>40328</td><td>369</td><td>16026</td><td>23933</td><td>37990</td><td>335</td><td>15105</td><td>22550</td><td>253</td><td>...</td><td>2.484907</td><td>10.54508</td><td>5.814130</td><td>0.8818110</td><td>7.041412</td><td>8.825119</td><td>8.148446</td><td>0</td><td>0</td><td>0.9130266</td></tr>\n",
       "\t<tr><th scope=row>4</th><td>1981</td><td>37699</td><td>369</td><td>15560</td><td>21770</td><td>35457</td><td>326</td><td>14654</td><td>20477</td><td>270</td><td>...</td><td>2.639057</td><td>10.47608</td><td>5.786897</td><td>0.9194235</td><td>6.916715</td><td>8.750525</td><td>8.071531</td><td>0</td><td>0</td><td>0.9149970</td></tr>\n",
       "\t<tr><th scope=row>5</th><td>1981</td><td>38816</td><td>355</td><td>16546</td><td>21915</td><td>36611</td><td>321</td><td>15569</td><td>20721</td><td>263</td><td>...</td><td>1.791759</td><td>10.50810</td><td>5.771441</td><td>0.8767856</td><td>6.986567</td><td>8.816705</td><td>8.111928</td><td>0</td><td>0</td><td>0.9788058</td></tr>\n",
       "\t<tr><th scope=row>6</th><td>1981</td><td>38900</td><td>422</td><td>16778</td><td>21700</td><td>36555</td><td>376</td><td>15747</td><td>20432</td><td>290</td><td>...</td><td>2.772589</td><td>10.50657</td><td>5.929589</td><td>1.0285871</td><td>6.931472</td><td>8.805076</td><td>8.171317</td><td>0</td><td>0</td><td>0.9145713</td></tr>\n",
       "</tbody>\n",
       "</table>\n"
      ],
      "text/latex": [
       "A data.frame: 6 × 48\n",
       "\\begin{tabular}{r|lllllllllllllllllllll}\n",
       "  & year & totacc & fatacc & injacc & pdoacc & ntotacc & nfatacc & ninjacc & npdoacc & rtotacc & ... & lrfatacc & lntotacc & lnfatacc & prcnfat & lushigh & lcntyrds & lstrtes & spdt & beltt & prcfat\\_1\\\\\n",
       "  & <int> & <dbl> & <int> & <int> & <int> & <dbl> & <int> & <int> & <int> & <int> & ... & <dbl> & <dbl> & <dbl> & <dbl> & <dbl> & <dbl> & <dbl> & <int> & <int> & <dbl>\\\\\n",
       "\\hline\n",
       "\t1 & 1981 & 40511 & 365 & 15626 & 24520 & 38235 & 323 & 14743 & 23169 & 236 & ... & 2.484907 & 10.55151 & 5.777652 & 0.8447757 & 6.963190 & 8.830251 & 8.153062 & 0 & 0 &        NA\\\\\n",
       "\t2 & 1981 & 36034 & 329 & 14469 & 21236 & 33989 & 294 & 13620 & 20075 & 200 & ... & 2.079442 & 10.43379 & 5.683580 & 0.8649857 & 6.839477 & 8.708970 & 8.046550 & 0 & 0 & 0.9009899\\\\\n",
       "\t3 & 1981 & 40328 & 369 & 16026 & 23933 & 37990 & 335 & 15105 & 22550 & 253 & ... & 2.484907 & 10.54508 & 5.814130 & 0.8818110 & 7.041412 & 8.825119 & 8.148446 & 0 & 0 & 0.9130266\\\\\n",
       "\t4 & 1981 & 37699 & 369 & 15560 & 21770 & 35457 & 326 & 14654 & 20477 & 270 & ... & 2.639057 & 10.47608 & 5.786897 & 0.9194235 & 6.916715 & 8.750525 & 8.071531 & 0 & 0 & 0.9149970\\\\\n",
       "\t5 & 1981 & 38816 & 355 & 16546 & 21915 & 36611 & 321 & 15569 & 20721 & 263 & ... & 1.791759 & 10.50810 & 5.771441 & 0.8767856 & 6.986567 & 8.816705 & 8.111928 & 0 & 0 & 0.9788058\\\\\n",
       "\t6 & 1981 & 38900 & 422 & 16778 & 21700 & 36555 & 376 & 15747 & 20432 & 290 & ... & 2.772589 & 10.50657 & 5.929589 & 1.0285871 & 6.931472 & 8.805076 & 8.171317 & 0 & 0 & 0.9145713\\\\\n",
       "\\end{tabular}\n"
      ],
      "text/markdown": [
       "\n",
       "A data.frame: 6 × 48\n",
       "\n",
       "| <!--/--> | year &lt;int&gt; | totacc &lt;dbl&gt; | fatacc &lt;int&gt; | injacc &lt;int&gt; | pdoacc &lt;int&gt; | ntotacc &lt;dbl&gt; | nfatacc &lt;int&gt; | ninjacc &lt;int&gt; | npdoacc &lt;int&gt; | rtotacc &lt;int&gt; | ... ... | lrfatacc &lt;dbl&gt; | lntotacc &lt;dbl&gt; | lnfatacc &lt;dbl&gt; | prcnfat &lt;dbl&gt; | lushigh &lt;dbl&gt; | lcntyrds &lt;dbl&gt; | lstrtes &lt;dbl&gt; | spdt &lt;int&gt; | beltt &lt;int&gt; | prcfat_1 &lt;dbl&gt; |\n",
       "|---|---|---|---|---|---|---|---|---|---|---|---|---|---|---|---|---|---|---|---|---|---|\n",
       "| 1 | 1981 | 40511 | 365 | 15626 | 24520 | 38235 | 323 | 14743 | 23169 | 236 | ... | 2.484907 | 10.55151 | 5.777652 | 0.8447757 | 6.963190 | 8.830251 | 8.153062 | 0 | 0 |        NA |\n",
       "| 2 | 1981 | 36034 | 329 | 14469 | 21236 | 33989 | 294 | 13620 | 20075 | 200 | ... | 2.079442 | 10.43379 | 5.683580 | 0.8649857 | 6.839477 | 8.708970 | 8.046550 | 0 | 0 | 0.9009899 |\n",
       "| 3 | 1981 | 40328 | 369 | 16026 | 23933 | 37990 | 335 | 15105 | 22550 | 253 | ... | 2.484907 | 10.54508 | 5.814130 | 0.8818110 | 7.041412 | 8.825119 | 8.148446 | 0 | 0 | 0.9130266 |\n",
       "| 4 | 1981 | 37699 | 369 | 15560 | 21770 | 35457 | 326 | 14654 | 20477 | 270 | ... | 2.639057 | 10.47608 | 5.786897 | 0.9194235 | 6.916715 | 8.750525 | 8.071531 | 0 | 0 | 0.9149970 |\n",
       "| 5 | 1981 | 38816 | 355 | 16546 | 21915 | 36611 | 321 | 15569 | 20721 | 263 | ... | 1.791759 | 10.50810 | 5.771441 | 0.8767856 | 6.986567 | 8.816705 | 8.111928 | 0 | 0 | 0.9788058 |\n",
       "| 6 | 1981 | 38900 | 422 | 16778 | 21700 | 36555 | 376 | 15747 | 20432 | 290 | ... | 2.772589 | 10.50657 | 5.929589 | 1.0285871 | 6.931472 | 8.805076 | 8.171317 | 0 | 0 | 0.9145713 |\n",
       "\n"
      ],
      "text/plain": [
       "  year totacc fatacc injacc pdoacc ntotacc nfatacc ninjacc npdoacc rtotacc ...\n",
       "1 1981 40511  365    15626  24520  38235   323     14743   23169   236     ...\n",
       "2 1981 36034  329    14469  21236  33989   294     13620   20075   200     ...\n",
       "3 1981 40328  369    16026  23933  37990   335     15105   22550   253     ...\n",
       "4 1981 37699  369    15560  21770  35457   326     14654   20477   270     ...\n",
       "5 1981 38816  355    16546  21915  36611   321     15569   20721   263     ...\n",
       "6 1981 38900  422    16778  21700  36555   376     15747   20432   290     ...\n",
       "  lrfatacc lntotacc lnfatacc prcnfat   lushigh  lcntyrds lstrtes  spdt beltt\n",
       "1 2.484907 10.55151 5.777652 0.8447757 6.963190 8.830251 8.153062 0    0    \n",
       "2 2.079442 10.43379 5.683580 0.8649857 6.839477 8.708970 8.046550 0    0    \n",
       "3 2.484907 10.54508 5.814130 0.8818110 7.041412 8.825119 8.148446 0    0    \n",
       "4 2.639057 10.47608 5.786897 0.9194235 6.916715 8.750525 8.071531 0    0    \n",
       "5 1.791759 10.50810 5.771441 0.8767856 6.986567 8.816705 8.111928 0    0    \n",
       "6 2.772589 10.50657 5.929589 1.0285871 6.931472 8.805076 8.171317 0    0    \n",
       "  prcfat_1 \n",
       "1        NA\n",
       "2 0.9009899\n",
       "3 0.9130266\n",
       "4 0.9149970\n",
       "5 0.9788058\n",
       "6 0.9145713"
      ]
     },
     "metadata": {},
     "output_type": "display_data"
    }
   ],
   "source": [
    "#c8: \n",
    "\n",
    "data_trafego = read.dta(\"C:\\\\Users\\\\vinic\\\\Desktop\\\\R\\\\heiss\\\\data_wooldridge\\\\TRAFFIC2.dta\")\n",
    "head(data_trafego)"
   ]
  },
  {
   "cell_type": "code",
   "execution_count": 21,
   "metadata": {},
   "outputs": [
    {
     "name": "stderr",
     "output_type": "stream",
     "text": [
      "Warning message in summary.lm(dynlm(residuos ~ L(residuos))):\n",
      "\"essentially perfect fit: summary may be unreliable\"\n"
     ]
    },
    {
     "data": {
      "text/plain": [
       "\n",
       "Time series regression with \"numeric\" data:\n",
       "Start = 1, End = 108\n",
       "\n",
       "Call:\n",
       "dynlm(formula = residuos ~ L(residuos))\n",
       "\n",
       "Residuals:\n",
       "       Min         1Q     Median         3Q        Max \n",
       "-1.201e-17 -2.408e-18 -1.217e-18 -1.210e-19  1.302e-16 \n",
       "\n",
       "Coefficients:\n",
       "             Estimate Std. Error   t value Pr(>|t|)    \n",
       "(Intercept) 7.413e-35  1.257e-18 0.000e+00        1    \n",
       "L(residuos) 1.000e+00  2.382e-17 4.199e+16   <2e-16 ***\n",
       "---\n",
       "Signif. codes:  0 '***' 0.001 '**' 0.01 '*' 0.05 '.' 0.1 ' ' 1\n",
       "\n",
       "Residual standard error: 1.307e-17 on 106 degrees of freedom\n",
       "Multiple R-squared:      1,\tAdjusted R-squared:      1 \n",
       "F-statistic: 1.763e+33 on 1 and 106 DF,  p-value: < 2.2e-16\n"
      ]
     },
     "metadata": {},
     "output_type": "display_data"
    }
   ],
   "source": [
    "#i)\n",
    "\n",
    "residuos = resid(lm(prcfat ~ t + feb + mar + apr + may + jun + jul + aug + sep + oct + nov + dec + wkends + unem + spdlaw + beltlaw,data=data_trafego))\n",
    "\n",
    "summary(dynlm(residuos ~ L(residuos)))"
   ]
  },
  {
   "cell_type": "code",
   "execution_count": 22,
   "metadata": {},
   "outputs": [
    {
     "data": {
      "text/plain": [
       "\n",
       "Call:\n",
       "lm(formula = prcfat ~ t + feb + mar + apr + may + jun + jul + \n",
       "    aug + sep + oct + nov + dec + wkends + unem + spdlaw + beltlaw, \n",
       "    data = data_trafego)\n",
       "\n",
       "Residuals:\n",
       "      Min        1Q    Median        3Q       Max \n",
       "-0.132085 -0.032573  0.000621  0.038226  0.132080 \n",
       "\n",
       "Coefficients:\n",
       "              Estimate Std. Error t value Pr(>|t|)    \n",
       "(Intercept)  1.030e+00  1.030e-01  10.003 2.52e-16 ***\n",
       "t           -2.235e-03  4.208e-04  -5.312 7.66e-07 ***\n",
       "feb          8.607e-04  2.900e-02   0.030 0.976384    \n",
       "mar          9.226e-05  2.741e-02   0.003 0.997321    \n",
       "apr          5.822e-02  2.782e-02   2.093 0.039152 *  \n",
       "may          7.164e-02  2.764e-02   2.592 0.011129 *  \n",
       "jun          1.013e-01  2.809e-02   3.604 0.000510 ***\n",
       "jul          1.766e-01  2.726e-02   6.479 4.64e-09 ***\n",
       "aug          1.926e-01  2.744e-02   7.018 3.91e-10 ***\n",
       "sep          1.600e-01  2.820e-02   5.674 1.64e-07 ***\n",
       "oct          1.010e-01  2.767e-02   3.651 0.000435 ***\n",
       "nov          1.395e-02  2.814e-02   0.496 0.621345    \n",
       "dec          9.200e-03  2.786e-02   0.330 0.741960    \n",
       "wkends       6.259e-04  6.162e-03   0.102 0.919328    \n",
       "unem        -1.543e-02  5.544e-03  -2.782 0.006563 ** \n",
       "spdlaw       6.709e-02  2.057e-02   3.262 0.001560 ** \n",
       "beltlaw     -2.951e-02  2.323e-02  -1.270 0.207288    \n",
       "---\n",
       "Signif. codes:  0 '***' 0.001 '**' 0.01 '*' 0.05 '.' 0.1 ' ' 1\n",
       "\n",
       "Residual standard error: 0.05751 on 91 degrees of freedom\n",
       "Multiple R-squared:  0.7174,\tAdjusted R-squared:  0.6677 \n",
       "F-statistic: 14.44 on 16 and 91 DF,  p-value: < 2.2e-16\n"
      ]
     },
     "metadata": {},
     "output_type": "display_data"
    }
   ],
   "source": [
    "#ii)\n",
    "\n",
    "model = lm(prcfat ~ t + feb + mar + apr + may + jun + jul + aug + sep + oct + nov + dec + wkends + unem + spdlaw + beltlaw,data=data_trafego)\n",
    "summary(model)"
   ]
  },
  {
   "cell_type": "code",
   "execution_count": 23,
   "metadata": {},
   "outputs": [
    {
     "data": {
      "text/html": [
       "<table>\n",
       "<caption>A matrix: 17 × 17 of type dbl</caption>\n",
       "<thead>\n",
       "\t<tr><th></th><th scope=col>(Intercept)</th><th scope=col>t</th><th scope=col>feb</th><th scope=col>mar</th><th scope=col>apr</th><th scope=col>may</th><th scope=col>jun</th><th scope=col>jul</th><th scope=col>aug</th><th scope=col>sep</th><th scope=col>oct</th><th scope=col>nov</th><th scope=col>dec</th><th scope=col>wkends</th><th scope=col>unem</th><th scope=col>spdlaw</th><th scope=col>beltlaw</th></tr>\n",
       "</thead>\n",
       "<tbody>\n",
       "\t<tr><th scope=row>(Intercept)</th><td> 7.618581e-03</td><td>-9.486110e-06</td><td>-3.804307e-04</td><td>-2.730902e-04</td><td>-3.992238e-04</td><td>-8.680069e-04</td><td>-1.748604e-04</td><td> 1.274232e-03</td><td> 4.796327e-04</td><td>-6.091314e-04</td><td>-7.843683e-04</td><td>-6.645355e-04</td><td>-3.483332e-04</td><td>-2.872856e-04</td><td>-3.796484e-04</td><td>-7.095563e-05</td><td>-6.202044e-04</td></tr>\n",
       "\t<tr><th scope=row>t</th><td>-9.486110e-06</td><td> 2.596016e-07</td><td> 1.025143e-06</td><td> 7.166591e-07</td><td>-3.470621e-07</td><td> 1.627545e-06</td><td>-3.446950e-06</td><td>-3.381166e-06</td><td>-2.929249e-07</td><td> 4.034940e-06</td><td>-1.655444e-06</td><td> 1.123858e-06</td><td>-1.183784e-06</td><td> 4.410732e-07</td><td>-2.874505e-07</td><td>-6.375705e-06</td><td>-1.200803e-05</td></tr>\n",
       "\t<tr><th scope=row>feb</th><td>-3.804307e-04</td><td> 1.025143e-06</td><td> 1.227768e-04</td><td> 1.423368e-04</td><td> 1.509896e-04</td><td> 1.817218e-04</td><td> 1.430154e-04</td><td> 7.388637e-05</td><td> 1.237920e-04</td><td> 1.751496e-04</td><td> 1.831894e-04</td><td> 2.046521e-04</td><td> 1.823979e-04</td><td> 9.105427e-06</td><td> 8.334751e-06</td><td>-3.509354e-05</td><td>-1.294916e-05</td></tr>\n",
       "\t<tr><th scope=row>mar</th><td>-2.730902e-04</td><td> 7.166591e-07</td><td> 1.423368e-04</td><td> 3.110561e-04</td><td> 2.699874e-04</td><td> 2.574901e-04</td><td> 2.580618e-04</td><td> 1.825035e-04</td><td> 2.266599e-04</td><td> 2.524544e-04</td><td> 2.670469e-04</td><td> 2.722267e-04</td><td> 2.538626e-04</td><td>-8.054156e-06</td><td> 1.315370e-05</td><td>-1.061247e-04</td><td> 5.585382e-05</td></tr>\n",
       "\t<tr><th scope=row>apr</th><td>-3.992238e-04</td><td>-3.470621e-07</td><td> 1.509896e-04</td><td> 2.699874e-04</td><td> 4.846993e-04</td><td> 3.692231e-04</td><td> 3.038435e-04</td><td> 2.213545e-04</td><td> 2.668859e-04</td><td> 3.036221e-04</td><td> 3.632462e-04</td><td> 3.452806e-04</td><td> 3.417446e-04</td><td>-1.436445e-05</td><td> 3.037247e-05</td><td>-2.011229e-04</td><td> 3.187039e-04</td></tr>\n",
       "\t<tr><th scope=row>may</th><td>-8.680069e-04</td><td> 1.627545e-06</td><td> 1.817218e-04</td><td> 2.574901e-04</td><td> 3.692231e-04</td><td> 6.853011e-04</td><td> 3.130934e-04</td><td> 2.135154e-04</td><td> 2.931340e-04</td><td> 4.092328e-04</td><td> 4.214663e-04</td><td> 4.140965e-04</td><td> 4.218980e-04</td><td> 6.371355e-06</td><td> 4.082642e-05</td><td>-7.628618e-05</td><td> 1.049738e-04</td></tr>\n",
       "\t<tr><th scope=row>jun</th><td>-1.748604e-04</td><td>-3.446950e-06</td><td> 1.430154e-04</td><td> 2.580618e-04</td><td> 3.038435e-04</td><td> 3.130934e-04</td><td> 7.765844e-04</td><td> 3.838722e-04</td><td> 2.900608e-04</td><td> 3.289040e-04</td><td> 3.944131e-04</td><td> 3.658300e-04</td><td> 3.772630e-04</td><td>-1.612319e-05</td><td> 1.542497e-05</td><td> 1.249576e-04</td><td> 1.732061e-04</td></tr>\n",
       "\t<tr><th scope=row>jul</th><td> 1.274232e-03</td><td>-3.381166e-06</td><td> 7.388637e-05</td><td> 1.825035e-04</td><td> 2.213545e-04</td><td> 2.135154e-04</td><td> 3.838722e-04</td><td> 9.312316e-04</td><td> 4.198346e-04</td><td> 3.162699e-04</td><td> 2.802221e-04</td><td> 2.739187e-04</td><td> 3.096278e-04</td><td>-6.866096e-05</td><td>-6.621832e-05</td><td>-4.195364e-06</td><td> 1.760377e-06</td></tr>\n",
       "\t<tr><th scope=row>aug</th><td> 4.796327e-04</td><td>-2.929249e-07</td><td> 1.237920e-04</td><td> 2.266599e-04</td><td> 2.668859e-04</td><td> 2.931340e-04</td><td> 2.900608e-04</td><td> 4.198346e-04</td><td> 4.819465e-04</td><td> 3.944649e-04</td><td> 3.324122e-04</td><td> 3.689409e-04</td><td> 3.599412e-04</td><td>-3.925041e-05</td><td>-3.150899e-05</td><td>-1.179780e-04</td><td>-3.187023e-05</td></tr>\n",
       "\t<tr><th scope=row>sep</th><td>-6.091314e-04</td><td> 4.034940e-06</td><td> 1.751496e-04</td><td> 2.524544e-04</td><td> 3.036221e-04</td><td> 4.092328e-04</td><td> 3.289040e-04</td><td> 3.162699e-04</td><td> 3.944649e-04</td><td> 6.936679e-04</td><td> 4.507322e-04</td><td> 4.507993e-04</td><td> 4.134115e-04</td><td> 1.667598e-06</td><td> 1.602787e-05</td><td>-1.497553e-04</td><td>-1.457692e-04</td></tr>\n",
       "\t<tr><th scope=row>oct</th><td>-7.843683e-04</td><td>-1.655444e-06</td><td> 1.831894e-04</td><td> 2.670469e-04</td><td> 3.632462e-04</td><td> 4.214663e-04</td><td> 3.944131e-04</td><td> 2.802221e-04</td><td> 3.324122e-04</td><td> 4.507322e-04</td><td> 7.675947e-04</td><td> 6.260046e-04</td><td> 5.406796e-04</td><td> 7.200701e-06</td><td> 3.725426e-05</td><td>-1.263827e-05</td><td> 2.524142e-04</td></tr>\n",
       "\t<tr><th scope=row>nov</th><td>-6.645355e-04</td><td> 1.123858e-06</td><td> 2.046521e-04</td><td> 2.722267e-04</td><td> 3.452806e-04</td><td> 4.140965e-04</td><td> 3.658300e-04</td><td> 2.739187e-04</td><td> 3.689409e-04</td><td> 4.507993e-04</td><td> 6.260046e-04</td><td> 7.053102e-04</td><td> 5.199608e-04</td><td> 1.386781e-05</td><td> 3.891635e-06</td><td>-1.408982e-04</td><td> 8.942215e-05</td></tr>\n",
       "\t<tr><th scope=row>dec</th><td>-3.483332e-04</td><td>-1.183784e-06</td><td> 1.823979e-04</td><td> 2.538626e-04</td><td> 3.417446e-04</td><td> 4.218980e-04</td><td> 3.772630e-04</td><td> 3.096278e-04</td><td> 3.599412e-04</td><td> 4.134115e-04</td><td> 5.406796e-04</td><td> 5.199608e-04</td><td> 5.959219e-04</td><td>-1.449005e-05</td><td> 1.519163e-05</td><td> 9.199641e-05</td><td> 1.201318e-04</td></tr>\n",
       "\t<tr><th scope=row>wkends</th><td>-2.872856e-04</td><td> 4.410732e-07</td><td> 9.105427e-06</td><td>-8.054156e-06</td><td>-1.436445e-05</td><td> 6.371355e-06</td><td>-1.612319e-05</td><td>-6.866096e-05</td><td>-3.925041e-05</td><td> 1.667598e-06</td><td> 7.200701e-06</td><td> 1.386781e-05</td><td>-1.449005e-05</td><td> 1.812642e-05</td><td> 5.628918e-06</td><td>-7.165969e-06</td><td>-6.013236e-06</td></tr>\n",
       "\t<tr><th scope=row>unem</th><td>-3.796484e-04</td><td>-2.874505e-07</td><td> 8.334751e-06</td><td> 1.315370e-05</td><td> 3.037247e-05</td><td> 4.082642e-05</td><td> 1.542497e-05</td><td>-6.621832e-05</td><td>-3.150899e-05</td><td> 1.602787e-05</td><td> 3.725426e-05</td><td> 3.891635e-06</td><td> 1.519163e-05</td><td> 5.628918e-06</td><td> 3.526588e-05</td><td> 4.141166e-05</td><td> 9.836570e-05</td></tr>\n",
       "\t<tr><th scope=row>spdlaw</th><td>-7.095563e-05</td><td>-6.375705e-06</td><td>-3.509354e-05</td><td>-1.061247e-04</td><td>-2.011229e-04</td><td>-7.628618e-05</td><td> 1.249576e-04</td><td>-4.195364e-06</td><td>-1.179780e-04</td><td>-1.497553e-04</td><td>-1.263827e-05</td><td>-1.408982e-04</td><td> 9.199641e-05</td><td>-7.165969e-06</td><td> 4.141166e-05</td><td> 6.486394e-04</td><td> 7.967979e-05</td></tr>\n",
       "\t<tr><th scope=row>beltlaw</th><td>-6.202044e-04</td><td>-1.200803e-05</td><td>-1.294916e-05</td><td> 5.585382e-05</td><td> 3.187039e-04</td><td> 1.049738e-04</td><td> 1.732061e-04</td><td> 1.760377e-06</td><td>-3.187023e-05</td><td>-1.457692e-04</td><td> 2.524142e-04</td><td> 8.942215e-05</td><td> 1.201318e-04</td><td>-6.013236e-06</td><td> 9.836570e-05</td><td> 7.967979e-05</td><td> 1.113047e-03</td></tr>\n",
       "</tbody>\n",
       "</table>\n"
      ],
      "text/latex": [
       "A matrix: 17 × 17 of type dbl\n",
       "\\begin{tabular}{r|lllllllllllllllll}\n",
       "  & (Intercept) & t & feb & mar & apr & may & jun & jul & aug & sep & oct & nov & dec & wkends & unem & spdlaw & beltlaw\\\\\n",
       "\\hline\n",
       "\t(Intercept) &  7.618581e-03 & -9.486110e-06 & -3.804307e-04 & -2.730902e-04 & -3.992238e-04 & -8.680069e-04 & -1.748604e-04 &  1.274232e-03 &  4.796327e-04 & -6.091314e-04 & -7.843683e-04 & -6.645355e-04 & -3.483332e-04 & -2.872856e-04 & -3.796484e-04 & -7.095563e-05 & -6.202044e-04\\\\\n",
       "\tt & -9.486110e-06 &  2.596016e-07 &  1.025143e-06 &  7.166591e-07 & -3.470621e-07 &  1.627545e-06 & -3.446950e-06 & -3.381166e-06 & -2.929249e-07 &  4.034940e-06 & -1.655444e-06 &  1.123858e-06 & -1.183784e-06 &  4.410732e-07 & -2.874505e-07 & -6.375705e-06 & -1.200803e-05\\\\\n",
       "\tfeb & -3.804307e-04 &  1.025143e-06 &  1.227768e-04 &  1.423368e-04 &  1.509896e-04 &  1.817218e-04 &  1.430154e-04 &  7.388637e-05 &  1.237920e-04 &  1.751496e-04 &  1.831894e-04 &  2.046521e-04 &  1.823979e-04 &  9.105427e-06 &  8.334751e-06 & -3.509354e-05 & -1.294916e-05\\\\\n",
       "\tmar & -2.730902e-04 &  7.166591e-07 &  1.423368e-04 &  3.110561e-04 &  2.699874e-04 &  2.574901e-04 &  2.580618e-04 &  1.825035e-04 &  2.266599e-04 &  2.524544e-04 &  2.670469e-04 &  2.722267e-04 &  2.538626e-04 & -8.054156e-06 &  1.315370e-05 & -1.061247e-04 &  5.585382e-05\\\\\n",
       "\tapr & -3.992238e-04 & -3.470621e-07 &  1.509896e-04 &  2.699874e-04 &  4.846993e-04 &  3.692231e-04 &  3.038435e-04 &  2.213545e-04 &  2.668859e-04 &  3.036221e-04 &  3.632462e-04 &  3.452806e-04 &  3.417446e-04 & -1.436445e-05 &  3.037247e-05 & -2.011229e-04 &  3.187039e-04\\\\\n",
       "\tmay & -8.680069e-04 &  1.627545e-06 &  1.817218e-04 &  2.574901e-04 &  3.692231e-04 &  6.853011e-04 &  3.130934e-04 &  2.135154e-04 &  2.931340e-04 &  4.092328e-04 &  4.214663e-04 &  4.140965e-04 &  4.218980e-04 &  6.371355e-06 &  4.082642e-05 & -7.628618e-05 &  1.049738e-04\\\\\n",
       "\tjun & -1.748604e-04 & -3.446950e-06 &  1.430154e-04 &  2.580618e-04 &  3.038435e-04 &  3.130934e-04 &  7.765844e-04 &  3.838722e-04 &  2.900608e-04 &  3.289040e-04 &  3.944131e-04 &  3.658300e-04 &  3.772630e-04 & -1.612319e-05 &  1.542497e-05 &  1.249576e-04 &  1.732061e-04\\\\\n",
       "\tjul &  1.274232e-03 & -3.381166e-06 &  7.388637e-05 &  1.825035e-04 &  2.213545e-04 &  2.135154e-04 &  3.838722e-04 &  9.312316e-04 &  4.198346e-04 &  3.162699e-04 &  2.802221e-04 &  2.739187e-04 &  3.096278e-04 & -6.866096e-05 & -6.621832e-05 & -4.195364e-06 &  1.760377e-06\\\\\n",
       "\taug &  4.796327e-04 & -2.929249e-07 &  1.237920e-04 &  2.266599e-04 &  2.668859e-04 &  2.931340e-04 &  2.900608e-04 &  4.198346e-04 &  4.819465e-04 &  3.944649e-04 &  3.324122e-04 &  3.689409e-04 &  3.599412e-04 & -3.925041e-05 & -3.150899e-05 & -1.179780e-04 & -3.187023e-05\\\\\n",
       "\tsep & -6.091314e-04 &  4.034940e-06 &  1.751496e-04 &  2.524544e-04 &  3.036221e-04 &  4.092328e-04 &  3.289040e-04 &  3.162699e-04 &  3.944649e-04 &  6.936679e-04 &  4.507322e-04 &  4.507993e-04 &  4.134115e-04 &  1.667598e-06 &  1.602787e-05 & -1.497553e-04 & -1.457692e-04\\\\\n",
       "\toct & -7.843683e-04 & -1.655444e-06 &  1.831894e-04 &  2.670469e-04 &  3.632462e-04 &  4.214663e-04 &  3.944131e-04 &  2.802221e-04 &  3.324122e-04 &  4.507322e-04 &  7.675947e-04 &  6.260046e-04 &  5.406796e-04 &  7.200701e-06 &  3.725426e-05 & -1.263827e-05 &  2.524142e-04\\\\\n",
       "\tnov & -6.645355e-04 &  1.123858e-06 &  2.046521e-04 &  2.722267e-04 &  3.452806e-04 &  4.140965e-04 &  3.658300e-04 &  2.739187e-04 &  3.689409e-04 &  4.507993e-04 &  6.260046e-04 &  7.053102e-04 &  5.199608e-04 &  1.386781e-05 &  3.891635e-06 & -1.408982e-04 &  8.942215e-05\\\\\n",
       "\tdec & -3.483332e-04 & -1.183784e-06 &  1.823979e-04 &  2.538626e-04 &  3.417446e-04 &  4.218980e-04 &  3.772630e-04 &  3.096278e-04 &  3.599412e-04 &  4.134115e-04 &  5.406796e-04 &  5.199608e-04 &  5.959219e-04 & -1.449005e-05 &  1.519163e-05 &  9.199641e-05 &  1.201318e-04\\\\\n",
       "\twkends & -2.872856e-04 &  4.410732e-07 &  9.105427e-06 & -8.054156e-06 & -1.436445e-05 &  6.371355e-06 & -1.612319e-05 & -6.866096e-05 & -3.925041e-05 &  1.667598e-06 &  7.200701e-06 &  1.386781e-05 & -1.449005e-05 &  1.812642e-05 &  5.628918e-06 & -7.165969e-06 & -6.013236e-06\\\\\n",
       "\tunem & -3.796484e-04 & -2.874505e-07 &  8.334751e-06 &  1.315370e-05 &  3.037247e-05 &  4.082642e-05 &  1.542497e-05 & -6.621832e-05 & -3.150899e-05 &  1.602787e-05 &  3.725426e-05 &  3.891635e-06 &  1.519163e-05 &  5.628918e-06 &  3.526588e-05 &  4.141166e-05 &  9.836570e-05\\\\\n",
       "\tspdlaw & -7.095563e-05 & -6.375705e-06 & -3.509354e-05 & -1.061247e-04 & -2.011229e-04 & -7.628618e-05 &  1.249576e-04 & -4.195364e-06 & -1.179780e-04 & -1.497553e-04 & -1.263827e-05 & -1.408982e-04 &  9.199641e-05 & -7.165969e-06 &  4.141166e-05 &  6.486394e-04 &  7.967979e-05\\\\\n",
       "\tbeltlaw & -6.202044e-04 & -1.200803e-05 & -1.294916e-05 &  5.585382e-05 &  3.187039e-04 &  1.049738e-04 &  1.732061e-04 &  1.760377e-06 & -3.187023e-05 & -1.457692e-04 &  2.524142e-04 &  8.942215e-05 &  1.201318e-04 & -6.013236e-06 &  9.836570e-05 &  7.967979e-05 &  1.113047e-03\\\\\n",
       "\\end{tabular}\n"
      ],
      "text/markdown": [
       "\n",
       "A matrix: 17 × 17 of type dbl\n",
       "\n",
       "| <!--/--> | (Intercept) | t | feb | mar | apr | may | jun | jul | aug | sep | oct | nov | dec | wkends | unem | spdlaw | beltlaw |\n",
       "|---|---|---|---|---|---|---|---|---|---|---|---|---|---|---|---|---|---|\n",
       "| (Intercept) |  7.618581e-03 | -9.486110e-06 | -3.804307e-04 | -2.730902e-04 | -3.992238e-04 | -8.680069e-04 | -1.748604e-04 |  1.274232e-03 |  4.796327e-04 | -6.091314e-04 | -7.843683e-04 | -6.645355e-04 | -3.483332e-04 | -2.872856e-04 | -3.796484e-04 | -7.095563e-05 | -6.202044e-04 |\n",
       "| t | -9.486110e-06 |  2.596016e-07 |  1.025143e-06 |  7.166591e-07 | -3.470621e-07 |  1.627545e-06 | -3.446950e-06 | -3.381166e-06 | -2.929249e-07 |  4.034940e-06 | -1.655444e-06 |  1.123858e-06 | -1.183784e-06 |  4.410732e-07 | -2.874505e-07 | -6.375705e-06 | -1.200803e-05 |\n",
       "| feb | -3.804307e-04 |  1.025143e-06 |  1.227768e-04 |  1.423368e-04 |  1.509896e-04 |  1.817218e-04 |  1.430154e-04 |  7.388637e-05 |  1.237920e-04 |  1.751496e-04 |  1.831894e-04 |  2.046521e-04 |  1.823979e-04 |  9.105427e-06 |  8.334751e-06 | -3.509354e-05 | -1.294916e-05 |\n",
       "| mar | -2.730902e-04 |  7.166591e-07 |  1.423368e-04 |  3.110561e-04 |  2.699874e-04 |  2.574901e-04 |  2.580618e-04 |  1.825035e-04 |  2.266599e-04 |  2.524544e-04 |  2.670469e-04 |  2.722267e-04 |  2.538626e-04 | -8.054156e-06 |  1.315370e-05 | -1.061247e-04 |  5.585382e-05 |\n",
       "| apr | -3.992238e-04 | -3.470621e-07 |  1.509896e-04 |  2.699874e-04 |  4.846993e-04 |  3.692231e-04 |  3.038435e-04 |  2.213545e-04 |  2.668859e-04 |  3.036221e-04 |  3.632462e-04 |  3.452806e-04 |  3.417446e-04 | -1.436445e-05 |  3.037247e-05 | -2.011229e-04 |  3.187039e-04 |\n",
       "| may | -8.680069e-04 |  1.627545e-06 |  1.817218e-04 |  2.574901e-04 |  3.692231e-04 |  6.853011e-04 |  3.130934e-04 |  2.135154e-04 |  2.931340e-04 |  4.092328e-04 |  4.214663e-04 |  4.140965e-04 |  4.218980e-04 |  6.371355e-06 |  4.082642e-05 | -7.628618e-05 |  1.049738e-04 |\n",
       "| jun | -1.748604e-04 | -3.446950e-06 |  1.430154e-04 |  2.580618e-04 |  3.038435e-04 |  3.130934e-04 |  7.765844e-04 |  3.838722e-04 |  2.900608e-04 |  3.289040e-04 |  3.944131e-04 |  3.658300e-04 |  3.772630e-04 | -1.612319e-05 |  1.542497e-05 |  1.249576e-04 |  1.732061e-04 |\n",
       "| jul |  1.274232e-03 | -3.381166e-06 |  7.388637e-05 |  1.825035e-04 |  2.213545e-04 |  2.135154e-04 |  3.838722e-04 |  9.312316e-04 |  4.198346e-04 |  3.162699e-04 |  2.802221e-04 |  2.739187e-04 |  3.096278e-04 | -6.866096e-05 | -6.621832e-05 | -4.195364e-06 |  1.760377e-06 |\n",
       "| aug |  4.796327e-04 | -2.929249e-07 |  1.237920e-04 |  2.266599e-04 |  2.668859e-04 |  2.931340e-04 |  2.900608e-04 |  4.198346e-04 |  4.819465e-04 |  3.944649e-04 |  3.324122e-04 |  3.689409e-04 |  3.599412e-04 | -3.925041e-05 | -3.150899e-05 | -1.179780e-04 | -3.187023e-05 |\n",
       "| sep | -6.091314e-04 |  4.034940e-06 |  1.751496e-04 |  2.524544e-04 |  3.036221e-04 |  4.092328e-04 |  3.289040e-04 |  3.162699e-04 |  3.944649e-04 |  6.936679e-04 |  4.507322e-04 |  4.507993e-04 |  4.134115e-04 |  1.667598e-06 |  1.602787e-05 | -1.497553e-04 | -1.457692e-04 |\n",
       "| oct | -7.843683e-04 | -1.655444e-06 |  1.831894e-04 |  2.670469e-04 |  3.632462e-04 |  4.214663e-04 |  3.944131e-04 |  2.802221e-04 |  3.324122e-04 |  4.507322e-04 |  7.675947e-04 |  6.260046e-04 |  5.406796e-04 |  7.200701e-06 |  3.725426e-05 | -1.263827e-05 |  2.524142e-04 |\n",
       "| nov | -6.645355e-04 |  1.123858e-06 |  2.046521e-04 |  2.722267e-04 |  3.452806e-04 |  4.140965e-04 |  3.658300e-04 |  2.739187e-04 |  3.689409e-04 |  4.507993e-04 |  6.260046e-04 |  7.053102e-04 |  5.199608e-04 |  1.386781e-05 |  3.891635e-06 | -1.408982e-04 |  8.942215e-05 |\n",
       "| dec | -3.483332e-04 | -1.183784e-06 |  1.823979e-04 |  2.538626e-04 |  3.417446e-04 |  4.218980e-04 |  3.772630e-04 |  3.096278e-04 |  3.599412e-04 |  4.134115e-04 |  5.406796e-04 |  5.199608e-04 |  5.959219e-04 | -1.449005e-05 |  1.519163e-05 |  9.199641e-05 |  1.201318e-04 |\n",
       "| wkends | -2.872856e-04 |  4.410732e-07 |  9.105427e-06 | -8.054156e-06 | -1.436445e-05 |  6.371355e-06 | -1.612319e-05 | -6.866096e-05 | -3.925041e-05 |  1.667598e-06 |  7.200701e-06 |  1.386781e-05 | -1.449005e-05 |  1.812642e-05 |  5.628918e-06 | -7.165969e-06 | -6.013236e-06 |\n",
       "| unem | -3.796484e-04 | -2.874505e-07 |  8.334751e-06 |  1.315370e-05 |  3.037247e-05 |  4.082642e-05 |  1.542497e-05 | -6.621832e-05 | -3.150899e-05 |  1.602787e-05 |  3.725426e-05 |  3.891635e-06 |  1.519163e-05 |  5.628918e-06 |  3.526588e-05 |  4.141166e-05 |  9.836570e-05 |\n",
       "| spdlaw | -7.095563e-05 | -6.375705e-06 | -3.509354e-05 | -1.061247e-04 | -2.011229e-04 | -7.628618e-05 |  1.249576e-04 | -4.195364e-06 | -1.179780e-04 | -1.497553e-04 | -1.263827e-05 | -1.408982e-04 |  9.199641e-05 | -7.165969e-06 |  4.141166e-05 |  6.486394e-04 |  7.967979e-05 |\n",
       "| beltlaw | -6.202044e-04 | -1.200803e-05 | -1.294916e-05 |  5.585382e-05 |  3.187039e-04 |  1.049738e-04 |  1.732061e-04 |  1.760377e-06 | -3.187023e-05 | -1.457692e-04 |  2.524142e-04 |  8.942215e-05 |  1.201318e-04 | -6.013236e-06 |  9.836570e-05 |  7.967979e-05 |  1.113047e-03 |\n",
       "\n"
      ],
      "text/plain": [
       "            (Intercept)   t             feb           mar          \n",
       "(Intercept)  7.618581e-03 -9.486110e-06 -3.804307e-04 -2.730902e-04\n",
       "t           -9.486110e-06  2.596016e-07  1.025143e-06  7.166591e-07\n",
       "feb         -3.804307e-04  1.025143e-06  1.227768e-04  1.423368e-04\n",
       "mar         -2.730902e-04  7.166591e-07  1.423368e-04  3.110561e-04\n",
       "apr         -3.992238e-04 -3.470621e-07  1.509896e-04  2.699874e-04\n",
       "may         -8.680069e-04  1.627545e-06  1.817218e-04  2.574901e-04\n",
       "jun         -1.748604e-04 -3.446950e-06  1.430154e-04  2.580618e-04\n",
       "jul          1.274232e-03 -3.381166e-06  7.388637e-05  1.825035e-04\n",
       "aug          4.796327e-04 -2.929249e-07  1.237920e-04  2.266599e-04\n",
       "sep         -6.091314e-04  4.034940e-06  1.751496e-04  2.524544e-04\n",
       "oct         -7.843683e-04 -1.655444e-06  1.831894e-04  2.670469e-04\n",
       "nov         -6.645355e-04  1.123858e-06  2.046521e-04  2.722267e-04\n",
       "dec         -3.483332e-04 -1.183784e-06  1.823979e-04  2.538626e-04\n",
       "wkends      -2.872856e-04  4.410732e-07  9.105427e-06 -8.054156e-06\n",
       "unem        -3.796484e-04 -2.874505e-07  8.334751e-06  1.315370e-05\n",
       "spdlaw      -7.095563e-05 -6.375705e-06 -3.509354e-05 -1.061247e-04\n",
       "beltlaw     -6.202044e-04 -1.200803e-05 -1.294916e-05  5.585382e-05\n",
       "            apr           may           jun           jul          \n",
       "(Intercept) -3.992238e-04 -8.680069e-04 -1.748604e-04  1.274232e-03\n",
       "t           -3.470621e-07  1.627545e-06 -3.446950e-06 -3.381166e-06\n",
       "feb          1.509896e-04  1.817218e-04  1.430154e-04  7.388637e-05\n",
       "mar          2.699874e-04  2.574901e-04  2.580618e-04  1.825035e-04\n",
       "apr          4.846993e-04  3.692231e-04  3.038435e-04  2.213545e-04\n",
       "may          3.692231e-04  6.853011e-04  3.130934e-04  2.135154e-04\n",
       "jun          3.038435e-04  3.130934e-04  7.765844e-04  3.838722e-04\n",
       "jul          2.213545e-04  2.135154e-04  3.838722e-04  9.312316e-04\n",
       "aug          2.668859e-04  2.931340e-04  2.900608e-04  4.198346e-04\n",
       "sep          3.036221e-04  4.092328e-04  3.289040e-04  3.162699e-04\n",
       "oct          3.632462e-04  4.214663e-04  3.944131e-04  2.802221e-04\n",
       "nov          3.452806e-04  4.140965e-04  3.658300e-04  2.739187e-04\n",
       "dec          3.417446e-04  4.218980e-04  3.772630e-04  3.096278e-04\n",
       "wkends      -1.436445e-05  6.371355e-06 -1.612319e-05 -6.866096e-05\n",
       "unem         3.037247e-05  4.082642e-05  1.542497e-05 -6.621832e-05\n",
       "spdlaw      -2.011229e-04 -7.628618e-05  1.249576e-04 -4.195364e-06\n",
       "beltlaw      3.187039e-04  1.049738e-04  1.732061e-04  1.760377e-06\n",
       "            aug           sep           oct           nov          \n",
       "(Intercept)  4.796327e-04 -6.091314e-04 -7.843683e-04 -6.645355e-04\n",
       "t           -2.929249e-07  4.034940e-06 -1.655444e-06  1.123858e-06\n",
       "feb          1.237920e-04  1.751496e-04  1.831894e-04  2.046521e-04\n",
       "mar          2.266599e-04  2.524544e-04  2.670469e-04  2.722267e-04\n",
       "apr          2.668859e-04  3.036221e-04  3.632462e-04  3.452806e-04\n",
       "may          2.931340e-04  4.092328e-04  4.214663e-04  4.140965e-04\n",
       "jun          2.900608e-04  3.289040e-04  3.944131e-04  3.658300e-04\n",
       "jul          4.198346e-04  3.162699e-04  2.802221e-04  2.739187e-04\n",
       "aug          4.819465e-04  3.944649e-04  3.324122e-04  3.689409e-04\n",
       "sep          3.944649e-04  6.936679e-04  4.507322e-04  4.507993e-04\n",
       "oct          3.324122e-04  4.507322e-04  7.675947e-04  6.260046e-04\n",
       "nov          3.689409e-04  4.507993e-04  6.260046e-04  7.053102e-04\n",
       "dec          3.599412e-04  4.134115e-04  5.406796e-04  5.199608e-04\n",
       "wkends      -3.925041e-05  1.667598e-06  7.200701e-06  1.386781e-05\n",
       "unem        -3.150899e-05  1.602787e-05  3.725426e-05  3.891635e-06\n",
       "spdlaw      -1.179780e-04 -1.497553e-04 -1.263827e-05 -1.408982e-04\n",
       "beltlaw     -3.187023e-05 -1.457692e-04  2.524142e-04  8.942215e-05\n",
       "            dec           wkends        unem          spdlaw       \n",
       "(Intercept) -3.483332e-04 -2.872856e-04 -3.796484e-04 -7.095563e-05\n",
       "t           -1.183784e-06  4.410732e-07 -2.874505e-07 -6.375705e-06\n",
       "feb          1.823979e-04  9.105427e-06  8.334751e-06 -3.509354e-05\n",
       "mar          2.538626e-04 -8.054156e-06  1.315370e-05 -1.061247e-04\n",
       "apr          3.417446e-04 -1.436445e-05  3.037247e-05 -2.011229e-04\n",
       "may          4.218980e-04  6.371355e-06  4.082642e-05 -7.628618e-05\n",
       "jun          3.772630e-04 -1.612319e-05  1.542497e-05  1.249576e-04\n",
       "jul          3.096278e-04 -6.866096e-05 -6.621832e-05 -4.195364e-06\n",
       "aug          3.599412e-04 -3.925041e-05 -3.150899e-05 -1.179780e-04\n",
       "sep          4.134115e-04  1.667598e-06  1.602787e-05 -1.497553e-04\n",
       "oct          5.406796e-04  7.200701e-06  3.725426e-05 -1.263827e-05\n",
       "nov          5.199608e-04  1.386781e-05  3.891635e-06 -1.408982e-04\n",
       "dec          5.959219e-04 -1.449005e-05  1.519163e-05  9.199641e-05\n",
       "wkends      -1.449005e-05  1.812642e-05  5.628918e-06 -7.165969e-06\n",
       "unem         1.519163e-05  5.628918e-06  3.526588e-05  4.141166e-05\n",
       "spdlaw       9.199641e-05 -7.165969e-06  4.141166e-05  6.486394e-04\n",
       "beltlaw      1.201318e-04 -6.013236e-06  9.836570e-05  7.967979e-05\n",
       "            beltlaw      \n",
       "(Intercept) -6.202044e-04\n",
       "t           -1.200803e-05\n",
       "feb         -1.294916e-05\n",
       "mar          5.585382e-05\n",
       "apr          3.187039e-04\n",
       "may          1.049738e-04\n",
       "jun          1.732061e-04\n",
       "jul          1.760377e-06\n",
       "aug         -3.187023e-05\n",
       "sep         -1.457692e-04\n",
       "oct          2.524142e-04\n",
       "nov          8.942215e-05\n",
       "dec          1.201318e-04\n",
       "wkends      -6.013236e-06\n",
       "unem         9.836570e-05\n",
       "spdlaw       7.967979e-05\n",
       "beltlaw      1.113047e-03"
      ]
     },
     "metadata": {},
     "output_type": "display_data"
    }
   ],
   "source": [
    "NeweyWest(model, lag = 4)"
   ]
  },
  {
   "cell_type": "code",
   "execution_count": 24,
   "metadata": {},
   "outputs": [
    {
     "data": {
      "text/plain": [
       "\n",
       "t test of coefficients:\n",
       "\n",
       "               Estimate  Std. Error t value  Pr(>|t|)    \n",
       "(Intercept)  1.0298e+00  1.0065e-01 10.2318 < 2.2e-16 ***\n",
       "t           -2.2352e-03  5.5458e-04 -4.0305 0.0001154 ***\n",
       "feb          8.6075e-04  1.6181e-02  0.0532 0.9576924    \n",
       "mar          9.2263e-05  2.3226e-02  0.0040 0.9968392    \n",
       "apr          5.8220e-02  2.6738e-02  2.1774 0.0320342 *  \n",
       "may          7.1639e-02  2.9237e-02  2.4503 0.0161872 *  \n",
       "jun          1.0126e-01  3.1119e-02  3.2540 0.0015980 ** \n",
       "jul          1.7661e-01  3.4951e-02  5.0531 2.230e-06 ***\n",
       "aug          1.9261e-01  2.4712e-02  7.7941 1.020e-11 ***\n",
       "sep          1.6002e-01  2.9083e-02  5.5021 3.424e-07 ***\n",
       "oct          1.0104e-01  3.0700e-02  3.2911 0.0014213 ** \n",
       "nov          1.3949e-02  3.0641e-02  0.4552 0.6500178    \n",
       "dec          9.2005e-03  2.8378e-02  0.3242 0.7465232    \n",
       "wkends       6.2587e-04  5.2035e-03  0.1203 0.9045274    \n",
       "unem        -1.5426e-02  7.0727e-03 -2.1811 0.0317566 *  \n",
       "spdlaw       6.7088e-02  2.5188e-02  2.6635 0.0091455 ** \n",
       "beltlaw     -2.9505e-02  3.2342e-02 -0.9123 0.3640203    \n",
       "---\n",
       "Signif. codes:  0 '***' 0.001 '**' 0.01 '*' 0.05 '.' 0.1 ' ' 1\n"
      ]
     },
     "metadata": {},
     "output_type": "display_data"
    }
   ],
   "source": [
    "coeftest(model, vcovHAC)"
   ]
  },
  {
   "cell_type": "code",
   "execution_count": 25,
   "metadata": {},
   "outputs": [
    {
     "name": "stdout",
     "output_type": "stream",
     "text": [
      "Iteration 0: rho = 0\n",
      "Iteration 1: rho = 0.2816\n",
      "Iteration 2: rho = 0.2884\n",
      "Iteration 3: rho = 0.2887\n",
      "Iteration 4: rho = 0.2887\n",
      "Iteration 5: rho = 0.2887\n"
     ]
    },
    {
     "data": {
      "text/plain": [
       "\n",
       "Call:\n",
       "prais_winsten(formula = lm(prcfat ~ t + feb + mar + apr + may + \n",
       "    jun + jul + aug + sep + oct + nov + dec + wkends + unem + \n",
       "    spdlaw + beltlaw, data = data_trafego), data = data_trafego)\n",
       "\n",
       "Coefficients:\n",
       "(Intercept)            t          feb          mar          apr          may  \n",
       "  1.0087197   -0.0021487   -0.0009093   -0.0011624    0.0575507    0.0718290  \n",
       "        jun          jul          aug          sep          oct          nov  \n",
       "  0.1007237    0.1747688    0.1919517    0.1599066    0.1007763    0.0133060  \n",
       "        dec       wkends         unem       spdlaw      beltlaw  \n",
       "  0.0085443    0.0006166   -0.0131807    0.0641361   -0.0248160  \n",
       "\n",
       "AR(1) coefficient rho: 0.2887\n"
      ]
     },
     "metadata": {},
     "output_type": "display_data"
    }
   ],
   "source": [
    "prais_winsten(lm(prcfat ~ t + feb + mar + apr + may + jun + jul + aug + sep + oct + nov + dec + wkends + unem + spdlaw + beltlaw,data=data_trafego),data=data_trafego)"
   ]
  },
  {
   "cell_type": "code",
   "execution_count": 26,
   "metadata": {},
   "outputs": [
    {
     "data": {
      "text/html": [
       "<table>\n",
       "<caption>A data.frame: 6 × 20</caption>\n",
       "<thead>\n",
       "\t<tr><th></th><th scope=col>prca</th><th scope=col>prcw</th><th scope=col>qtya</th><th scope=col>qtyw</th><th scope=col>mon</th><th scope=col>tues</th><th scope=col>wed</th><th scope=col>thurs</th><th scope=col>speed2</th><th scope=col>wave2</th><th scope=col>speed3</th><th scope=col>wave3</th><th scope=col>avgprc</th><th scope=col>totqty</th><th scope=col>lavgprc</th><th scope=col>ltotqty</th><th scope=col>t</th><th scope=col>lavgp_1</th><th scope=col>gavgprc</th><th scope=col>gavgp_1</th></tr>\n",
       "\t<tr><th></th><th scope=col>&lt;dbl&gt;</th><th scope=col>&lt;dbl&gt;</th><th scope=col>&lt;int&gt;</th><th scope=col>&lt;int&gt;</th><th scope=col>&lt;int&gt;</th><th scope=col>&lt;int&gt;</th><th scope=col>&lt;int&gt;</th><th scope=col>&lt;int&gt;</th><th scope=col>&lt;int&gt;</th><th scope=col>&lt;dbl&gt;</th><th scope=col>&lt;int&gt;</th><th scope=col>&lt;dbl&gt;</th><th scope=col>&lt;dbl&gt;</th><th scope=col>&lt;int&gt;</th><th scope=col>&lt;dbl&gt;</th><th scope=col>&lt;dbl&gt;</th><th scope=col>&lt;int&gt;</th><th scope=col>&lt;dbl&gt;</th><th scope=col>&lt;dbl&gt;</th><th scope=col>&lt;dbl&gt;</th></tr>\n",
       "</thead>\n",
       "<tbody>\n",
       "\t<tr><th scope=row>1</th><td>0.6222222</td><td>0.7666667</td><td>1875</td><td>2205</td><td>1</td><td>0</td><td>0</td><td>0</td><td>15</td><td>7.5</td><td>20</td><td>9.0</td><td>0.7002860</td><td>4080</td><td>-0.356266499</td><td>8.313852</td><td>1</td><td>          NA</td><td>         NA</td><td>        NA</td></tr>\n",
       "\t<tr><th scope=row>2</th><td>0.9722222</td><td>1.1750000</td><td>2900</td><td> 566</td><td>0</td><td>0</td><td>1</td><td>0</td><td>10</td><td>5.0</td><td>20</td><td>7.5</td><td>1.0053359</td><td>3466</td><td> 0.005321742</td><td>8.150757</td><td>2</td><td>-0.356266499</td><td> 0.36158824</td><td>        NA</td></tr>\n",
       "\t<tr><th scope=row>3</th><td>1.2333330</td><td>1.4750000</td><td> 770</td><td>1525</td><td>0</td><td>0</td><td>0</td><td>1</td><td>10</td><td>6.0</td><td>20</td><td>4.0</td><td>1.3939178</td><td>2295</td><td> 0.332118332</td><td>7.738488</td><td>3</td><td> 0.005321742</td><td> 0.32679659</td><td> 0.3615882</td></tr>\n",
       "\t<tr><th scope=row>4</th><td>1.9285710</td><td>1.6250000</td><td> 927</td><td> 943</td><td>0</td><td>0</td><td>0</td><td>0</td><td>15</td><td>6.0</td><td>20</td><td>5.0</td><td>1.7754868</td><td>1870</td><td> 0.574074626</td><td>7.533694</td><td>4</td><td> 0.332118332</td><td> 0.24195629</td><td> 0.3267966</td></tr>\n",
       "\t<tr><th scope=row>5</th><td>0.8031250</td><td>0.8642857</td><td>4220</td><td>2665</td><td>1</td><td>0</td><td>0</td><td>0</td><td>10</td><td>3.5</td><td>20</td><td>3.5</td><td>0.8267987</td><td>6885</td><td>-0.190194055</td><td>8.837100</td><td>5</td><td> 0.574074626</td><td>-0.76426870</td><td> 0.2419563</td></tr>\n",
       "\t<tr><th scope=row>6</th><td>0.8818182</td><td>0.9142857</td><td>4230</td><td>1375</td><td>0</td><td>1</td><td>0</td><td>0</td><td>15</td><td>4.5</td><td>15</td><td>3.5</td><td>0.8897830</td><td>5605</td><td>-0.116777636</td><td>8.631414</td><td>6</td><td>-0.190194055</td><td> 0.07341642</td><td>-0.7642687</td></tr>\n",
       "</tbody>\n",
       "</table>\n"
      ],
      "text/latex": [
       "A data.frame: 6 × 20\n",
       "\\begin{tabular}{r|llllllllllllllllllll}\n",
       "  & prca & prcw & qtya & qtyw & mon & tues & wed & thurs & speed2 & wave2 & speed3 & wave3 & avgprc & totqty & lavgprc & ltotqty & t & lavgp\\_1 & gavgprc & gavgp\\_1\\\\\n",
       "  & <dbl> & <dbl> & <int> & <int> & <int> & <int> & <int> & <int> & <int> & <dbl> & <int> & <dbl> & <dbl> & <int> & <dbl> & <dbl> & <int> & <dbl> & <dbl> & <dbl>\\\\\n",
       "\\hline\n",
       "\t1 & 0.6222222 & 0.7666667 & 1875 & 2205 & 1 & 0 & 0 & 0 & 15 & 7.5 & 20 & 9.0 & 0.7002860 & 4080 & -0.356266499 & 8.313852 & 1 &           NA &          NA &         NA\\\\\n",
       "\t2 & 0.9722222 & 1.1750000 & 2900 &  566 & 0 & 0 & 1 & 0 & 10 & 5.0 & 20 & 7.5 & 1.0053359 & 3466 &  0.005321742 & 8.150757 & 2 & -0.356266499 &  0.36158824 &         NA\\\\\n",
       "\t3 & 1.2333330 & 1.4750000 &  770 & 1525 & 0 & 0 & 0 & 1 & 10 & 6.0 & 20 & 4.0 & 1.3939178 & 2295 &  0.332118332 & 7.738488 & 3 &  0.005321742 &  0.32679659 &  0.3615882\\\\\n",
       "\t4 & 1.9285710 & 1.6250000 &  927 &  943 & 0 & 0 & 0 & 0 & 15 & 6.0 & 20 & 5.0 & 1.7754868 & 1870 &  0.574074626 & 7.533694 & 4 &  0.332118332 &  0.24195629 &  0.3267966\\\\\n",
       "\t5 & 0.8031250 & 0.8642857 & 4220 & 2665 & 1 & 0 & 0 & 0 & 10 & 3.5 & 20 & 3.5 & 0.8267987 & 6885 & -0.190194055 & 8.837100 & 5 &  0.574074626 & -0.76426870 &  0.2419563\\\\\n",
       "\t6 & 0.8818182 & 0.9142857 & 4230 & 1375 & 0 & 1 & 0 & 0 & 15 & 4.5 & 15 & 3.5 & 0.8897830 & 5605 & -0.116777636 & 8.631414 & 6 & -0.190194055 &  0.07341642 & -0.7642687\\\\\n",
       "\\end{tabular}\n"
      ],
      "text/markdown": [
       "\n",
       "A data.frame: 6 × 20\n",
       "\n",
       "| <!--/--> | prca &lt;dbl&gt; | prcw &lt;dbl&gt; | qtya &lt;int&gt; | qtyw &lt;int&gt; | mon &lt;int&gt; | tues &lt;int&gt; | wed &lt;int&gt; | thurs &lt;int&gt; | speed2 &lt;int&gt; | wave2 &lt;dbl&gt; | speed3 &lt;int&gt; | wave3 &lt;dbl&gt; | avgprc &lt;dbl&gt; | totqty &lt;int&gt; | lavgprc &lt;dbl&gt; | ltotqty &lt;dbl&gt; | t &lt;int&gt; | lavgp_1 &lt;dbl&gt; | gavgprc &lt;dbl&gt; | gavgp_1 &lt;dbl&gt; |\n",
       "|---|---|---|---|---|---|---|---|---|---|---|---|---|---|---|---|---|---|---|---|---|\n",
       "| 1 | 0.6222222 | 0.7666667 | 1875 | 2205 | 1 | 0 | 0 | 0 | 15 | 7.5 | 20 | 9.0 | 0.7002860 | 4080 | -0.356266499 | 8.313852 | 1 |           NA |          NA |         NA |\n",
       "| 2 | 0.9722222 | 1.1750000 | 2900 |  566 | 0 | 0 | 1 | 0 | 10 | 5.0 | 20 | 7.5 | 1.0053359 | 3466 |  0.005321742 | 8.150757 | 2 | -0.356266499 |  0.36158824 |         NA |\n",
       "| 3 | 1.2333330 | 1.4750000 |  770 | 1525 | 0 | 0 | 0 | 1 | 10 | 6.0 | 20 | 4.0 | 1.3939178 | 2295 |  0.332118332 | 7.738488 | 3 |  0.005321742 |  0.32679659 |  0.3615882 |\n",
       "| 4 | 1.9285710 | 1.6250000 |  927 |  943 | 0 | 0 | 0 | 0 | 15 | 6.0 | 20 | 5.0 | 1.7754868 | 1870 |  0.574074626 | 7.533694 | 4 |  0.332118332 |  0.24195629 |  0.3267966 |\n",
       "| 5 | 0.8031250 | 0.8642857 | 4220 | 2665 | 1 | 0 | 0 | 0 | 10 | 3.5 | 20 | 3.5 | 0.8267987 | 6885 | -0.190194055 | 8.837100 | 5 |  0.574074626 | -0.76426870 |  0.2419563 |\n",
       "| 6 | 0.8818182 | 0.9142857 | 4230 | 1375 | 0 | 1 | 0 | 0 | 15 | 4.5 | 15 | 3.5 | 0.8897830 | 5605 | -0.116777636 | 8.631414 | 6 | -0.190194055 |  0.07341642 | -0.7642687 |\n",
       "\n"
      ],
      "text/plain": [
       "  prca      prcw      qtya qtyw mon tues wed thurs speed2 wave2 speed3 wave3\n",
       "1 0.6222222 0.7666667 1875 2205 1   0    0   0     15     7.5   20     9.0  \n",
       "2 0.9722222 1.1750000 2900  566 0   0    1   0     10     5.0   20     7.5  \n",
       "3 1.2333330 1.4750000  770 1525 0   0    0   1     10     6.0   20     4.0  \n",
       "4 1.9285710 1.6250000  927  943 0   0    0   0     15     6.0   20     5.0  \n",
       "5 0.8031250 0.8642857 4220 2665 1   0    0   0     10     3.5   20     3.5  \n",
       "6 0.8818182 0.9142857 4230 1375 0   1    0   0     15     4.5   15     3.5  \n",
       "  avgprc    totqty lavgprc      ltotqty  t lavgp_1      gavgprc     gavgp_1   \n",
       "1 0.7002860 4080   -0.356266499 8.313852 1           NA          NA         NA\n",
       "2 1.0053359 3466    0.005321742 8.150757 2 -0.356266499  0.36158824         NA\n",
       "3 1.3939178 2295    0.332118332 7.738488 3  0.005321742  0.32679659  0.3615882\n",
       "4 1.7754868 1870    0.574074626 7.533694 4  0.332118332  0.24195629  0.3267966\n",
       "5 0.8267987 6885   -0.190194055 8.837100 5  0.574074626 -0.76426870  0.2419563\n",
       "6 0.8897830 5605   -0.116777636 8.631414 6 -0.190194055  0.07341642 -0.7642687"
      ]
     },
     "metadata": {},
     "output_type": "display_data"
    }
   ],
   "source": [
    "#c9:\n",
    "\n",
    "data_peixe = read.dta(\"C:\\\\Users\\\\vinic\\\\Desktop\\\\R\\\\heiss\\\\data_wooldridge\\\\FISH.dta\")\n",
    "head(data_peixe)"
   ]
  },
  {
   "cell_type": "code",
   "execution_count": 27,
   "metadata": {},
   "outputs": [
    {
     "data": {
      "text/plain": [
       "\n",
       "Call:\n",
       "lm(formula = lavgprc ~ mon + tues + wed + thurs, data = data_peixe)\n",
       "\n",
       "Residuals:\n",
       "     Min       1Q   Median       3Q      Max \n",
       "-1.00705 -0.26690 -0.02998  0.33936  0.84958 \n",
       "\n",
       "Coefficients:\n",
       "             Estimate Std. Error t value Pr(>|t|)   \n",
       "(Intercept) -0.275510   0.092005  -2.994  0.00353 **\n",
       "mon          0.011992   0.133681   0.090  0.92871   \n",
       "tues        -0.006659   0.131816  -0.051  0.95982   \n",
       "wed          0.045609   0.130115   0.351  0.72675   \n",
       "thurs        0.094550   0.130115   0.727  0.46928   \n",
       "---\n",
       "Signif. codes:  0 '***' 0.001 '**' 0.01 '*' 0.05 '.' 0.1 ' ' 1\n",
       "\n",
       "Residual standard error: 0.4115 on 92 degrees of freedom\n",
       "Multiple R-squared:  0.008755,\tAdjusted R-squared:  -0.03434 \n",
       "F-statistic: 0.2032 on 4 and 92 DF,  p-value: 0.936\n"
      ]
     },
     "metadata": {},
     "output_type": "display_data"
    }
   ],
   "source": [
    "#i)\n",
    "\n",
    "summary(lm(lavgprc ~ mon + tues + wed + thurs, data=data_peixe)) #nao"
   ]
  },
  {
   "cell_type": "code",
   "execution_count": 28,
   "metadata": {},
   "outputs": [
    {
     "data": {
      "text/plain": [
       "\n",
       "Call:\n",
       "lm(formula = lavgprc ~ mon + tues + wed + thurs + wave2 + wave3, \n",
       "    data = data_peixe)\n",
       "\n",
       "Residuals:\n",
       "     Min       1Q   Median       3Q      Max \n",
       "-1.11284 -0.19723  0.04479  0.21870  0.76716 \n",
       "\n",
       "Coefficients:\n",
       "             Estimate Std. Error t value Pr(>|t|)    \n",
       "(Intercept) -1.022801   0.144134  -7.096 2.84e-10 ***\n",
       "mon         -0.012080   0.113641  -0.106  0.91558    \n",
       "tues        -0.008976   0.111928  -0.080  0.93626    \n",
       "wed          0.050547   0.111548   0.453  0.65154    \n",
       "thurs        0.124191   0.110770   1.121  0.26520    \n",
       "wave2        0.094481   0.021285   4.439 2.56e-05 ***\n",
       "wave3        0.052566   0.019820   2.652  0.00945 ** \n",
       "---\n",
       "Signif. codes:  0 '***' 0.001 '**' 0.01 '*' 0.05 '.' 0.1 ' ' 1\n",
       "\n",
       "Residual standard error: 0.3486 on 90 degrees of freedom\n",
       "Multiple R-squared:  0.3041,\tAdjusted R-squared:  0.2577 \n",
       "F-statistic: 6.555 on 6 and 90 DF,  p-value: 9.06e-06\n"
      ]
     },
     "metadata": {},
     "output_type": "display_data"
    }
   ],
   "source": [
    "#ii) \n",
    "\n",
    "summary(lm(lavgprc ~ mon + tues + wed + thurs + wave2 + wave3 , data=data_peixe)) #wave 2 e wave3 sao significantes a 1%"
   ]
  },
  {
   "cell_type": "code",
   "execution_count": 29,
   "metadata": {},
   "outputs": [
    {
     "data": {
      "text/plain": [
       "\n",
       "Call:\n",
       "lm(formula = lavgprc ~ mon + tues + wed + thurs + wave2 + wave3 + \n",
       "    t, data = data_peixe)\n",
       "\n",
       "Residuals:\n",
       "     Min       1Q   Median       3Q      Max \n",
       "-1.10969 -0.20765  0.04828  0.24181  0.71674 \n",
       "\n",
       "Coefficients:\n",
       "             Estimate Std. Error t value Pr(>|t|)    \n",
       "(Intercept) -0.920254   0.189813  -4.848 5.25e-06 ***\n",
       "mon         -0.018158   0.114069  -0.159   0.8739    \n",
       "tues        -0.008533   0.112121  -0.076   0.9395    \n",
       "wed          0.050041   0.111741   0.448   0.6554    \n",
       "thurs        0.122546   0.110977   1.104   0.2725    \n",
       "wave2        0.090891   0.021754   4.178 6.85e-05 ***\n",
       "wave3        0.047375   0.020811   2.276   0.0252 *  \n",
       "t           -0.001157   0.001391  -0.832   0.4075    \n",
       "---\n",
       "Signif. codes:  0 '***' 0.001 '**' 0.01 '*' 0.05 '.' 0.1 ' ' 1\n",
       "\n",
       "Residual standard error: 0.3492 on 89 degrees of freedom\n",
       "Multiple R-squared:  0.3095,\tAdjusted R-squared:  0.2552 \n",
       "F-statistic: 5.699 on 7 and 89 DF,  p-value: 1.839e-05\n"
      ]
     },
     "metadata": {},
     "output_type": "display_data"
    }
   ],
   "source": [
    "#iii)\n",
    "\n",
    "summary(lm(lavgprc ~ mon + tues + wed + thurs + wave2 + wave3 + t, data=data_peixe)) #aumenta a significancia de wave2"
   ]
  },
  {
   "cell_type": "code",
   "execution_count": 30,
   "metadata": {},
   "outputs": [
    {
     "name": "stderr",
     "output_type": "stream",
     "text": [
      "Warning message in summary.lm(dynlm(residuos ~ L(residuos))):\n",
      "\"essentially perfect fit: summary may be unreliable\"\n"
     ]
    },
    {
     "data": {
      "text/plain": [
       "\n",
       "Time series regression with \"numeric\" data:\n",
       "Start = 1, End = 97\n",
       "\n",
       "Call:\n",
       "dynlm(formula = residuos ~ L(residuos))\n",
       "\n",
       "Residuals:\n",
       "       Min         1Q     Median         3Q        Max \n",
       "-6.344e-17 -1.413e-17 -5.960e-18 -9.500e-19  6.179e-16 \n",
       "\n",
       "Coefficients:\n",
       "             Estimate Std. Error   t value Pr(>|t|)    \n",
       "(Intercept) 2.503e-33  6.654e-18 0.000e+00        1    \n",
       "L(residuos) 1.000e+00  1.990e-17 5.026e+16   <2e-16 ***\n",
       "---\n",
       "Signif. codes:  0 '***' 0.001 '**' 0.01 '*' 0.05 '.' 0.1 ' ' 1\n",
       "\n",
       "Residual standard error: 6.553e-17 on 95 degrees of freedom\n",
       "Multiple R-squared:      1,\tAdjusted R-squared:      1 \n",
       "F-statistic: 2.526e+33 on 1 and 95 DF,  p-value: < 2.2e-16\n"
      ]
     },
     "metadata": {},
     "output_type": "display_data"
    }
   ],
   "source": [
    "#iv) pq o preço depende da demanda e da oferta, não do dia da semana\n",
    "\n",
    "#v)\n",
    "\n",
    "residuos = resid(lm(lavgprc ~ mon + tues + wed + thurs + wave2 + wave3 + t, data=data_peixe))\n",
    "summary(dynlm(residuos ~ L(residuos)))"
   ]
  },
  {
   "cell_type": "code",
   "execution_count": 31,
   "metadata": {},
   "outputs": [
    {
     "data": {
      "text/html": [
       "<table>\n",
       "<caption>A matrix: 8 × 8 of type dbl</caption>\n",
       "<thead>\n",
       "\t<tr><th></th><th scope=col>(Intercept)</th><th scope=col>mon</th><th scope=col>tues</th><th scope=col>wed</th><th scope=col>thurs</th><th scope=col>wave2</th><th scope=col>wave3</th><th scope=col>t</th></tr>\n",
       "</thead>\n",
       "<tbody>\n",
       "\t<tr><th scope=row>(Intercept)</th><td> 0.181583007</td><td>-3.323538e-03</td><td>-1.023621e-02</td><td>-9.218037e-03</td><td>-1.057992e-02</td><td>-1.269935e-02</td><td>-6.694782e-03</td><td>-1.280441e-03</td></tr>\n",
       "\t<tr><th scope=row>mon</th><td>-0.003323538</td><td> 6.792722e-03</td><td> 3.636598e-03</td><td> 2.028136e-03</td><td> 1.931431e-03</td><td>-9.122580e-04</td><td> 7.378274e-04</td><td>-1.416178e-05</td></tr>\n",
       "\t<tr><th scope=row>tues</th><td>-0.010236213</td><td> 3.636598e-03</td><td> 7.777861e-03</td><td> 4.651260e-03</td><td> 2.500496e-03</td><td> 8.153563e-04</td><td> 5.301130e-04</td><td>-9.161045e-06</td></tr>\n",
       "\t<tr><th scope=row>wed</th><td>-0.009218037</td><td> 2.028136e-03</td><td> 4.651260e-03</td><td> 5.937614e-03</td><td> 3.271610e-03</td><td> 5.845243e-04</td><td> 1.139245e-04</td><td> 5.007615e-05</td></tr>\n",
       "\t<tr><th scope=row>thurs</th><td>-0.010579923</td><td> 1.931431e-03</td><td> 2.500496e-03</td><td> 3.271610e-03</td><td> 3.100117e-03</td><td> 4.596319e-04</td><td> 3.837524e-04</td><td> 6.620424e-05</td></tr>\n",
       "\t<tr><th scope=row>wave2</th><td>-0.012699351</td><td>-9.122580e-04</td><td> 8.153563e-04</td><td> 5.845243e-04</td><td> 4.596319e-04</td><td> 1.403674e-03</td><td> 2.574076e-04</td><td> 8.668794e-05</td></tr>\n",
       "\t<tr><th scope=row>wave3</th><td>-0.006694782</td><td> 7.378274e-04</td><td> 5.301130e-04</td><td> 1.139245e-04</td><td> 3.837524e-04</td><td> 2.574076e-04</td><td> 4.320104e-04</td><td> 3.860808e-05</td></tr>\n",
       "\t<tr><th scope=row>t</th><td>-0.001280441</td><td>-1.416178e-05</td><td>-9.161045e-06</td><td> 5.007615e-05</td><td> 6.620424e-05</td><td> 8.668794e-05</td><td> 3.860808e-05</td><td> 1.128516e-05</td></tr>\n",
       "</tbody>\n",
       "</table>\n"
      ],
      "text/latex": [
       "A matrix: 8 × 8 of type dbl\n",
       "\\begin{tabular}{r|llllllll}\n",
       "  & (Intercept) & mon & tues & wed & thurs & wave2 & wave3 & t\\\\\n",
       "\\hline\n",
       "\t(Intercept) &  0.181583007 & -3.323538e-03 & -1.023621e-02 & -9.218037e-03 & -1.057992e-02 & -1.269935e-02 & -6.694782e-03 & -1.280441e-03\\\\\n",
       "\tmon & -0.003323538 &  6.792722e-03 &  3.636598e-03 &  2.028136e-03 &  1.931431e-03 & -9.122580e-04 &  7.378274e-04 & -1.416178e-05\\\\\n",
       "\ttues & -0.010236213 &  3.636598e-03 &  7.777861e-03 &  4.651260e-03 &  2.500496e-03 &  8.153563e-04 &  5.301130e-04 & -9.161045e-06\\\\\n",
       "\twed & -0.009218037 &  2.028136e-03 &  4.651260e-03 &  5.937614e-03 &  3.271610e-03 &  5.845243e-04 &  1.139245e-04 &  5.007615e-05\\\\\n",
       "\tthurs & -0.010579923 &  1.931431e-03 &  2.500496e-03 &  3.271610e-03 &  3.100117e-03 &  4.596319e-04 &  3.837524e-04 &  6.620424e-05\\\\\n",
       "\twave2 & -0.012699351 & -9.122580e-04 &  8.153563e-04 &  5.845243e-04 &  4.596319e-04 &  1.403674e-03 &  2.574076e-04 &  8.668794e-05\\\\\n",
       "\twave3 & -0.006694782 &  7.378274e-04 &  5.301130e-04 &  1.139245e-04 &  3.837524e-04 &  2.574076e-04 &  4.320104e-04 &  3.860808e-05\\\\\n",
       "\tt & -0.001280441 & -1.416178e-05 & -9.161045e-06 &  5.007615e-05 &  6.620424e-05 &  8.668794e-05 &  3.860808e-05 &  1.128516e-05\\\\\n",
       "\\end{tabular}\n"
      ],
      "text/markdown": [
       "\n",
       "A matrix: 8 × 8 of type dbl\n",
       "\n",
       "| <!--/--> | (Intercept) | mon | tues | wed | thurs | wave2 | wave3 | t |\n",
       "|---|---|---|---|---|---|---|---|---|\n",
       "| (Intercept) |  0.181583007 | -3.323538e-03 | -1.023621e-02 | -9.218037e-03 | -1.057992e-02 | -1.269935e-02 | -6.694782e-03 | -1.280441e-03 |\n",
       "| mon | -0.003323538 |  6.792722e-03 |  3.636598e-03 |  2.028136e-03 |  1.931431e-03 | -9.122580e-04 |  7.378274e-04 | -1.416178e-05 |\n",
       "| tues | -0.010236213 |  3.636598e-03 |  7.777861e-03 |  4.651260e-03 |  2.500496e-03 |  8.153563e-04 |  5.301130e-04 | -9.161045e-06 |\n",
       "| wed | -0.009218037 |  2.028136e-03 |  4.651260e-03 |  5.937614e-03 |  3.271610e-03 |  5.845243e-04 |  1.139245e-04 |  5.007615e-05 |\n",
       "| thurs | -0.010579923 |  1.931431e-03 |  2.500496e-03 |  3.271610e-03 |  3.100117e-03 |  4.596319e-04 |  3.837524e-04 |  6.620424e-05 |\n",
       "| wave2 | -0.012699351 | -9.122580e-04 |  8.153563e-04 |  5.845243e-04 |  4.596319e-04 |  1.403674e-03 |  2.574076e-04 |  8.668794e-05 |\n",
       "| wave3 | -0.006694782 |  7.378274e-04 |  5.301130e-04 |  1.139245e-04 |  3.837524e-04 |  2.574076e-04 |  4.320104e-04 |  3.860808e-05 |\n",
       "| t | -0.001280441 | -1.416178e-05 | -9.161045e-06 |  5.007615e-05 |  6.620424e-05 |  8.668794e-05 |  3.860808e-05 |  1.128516e-05 |\n",
       "\n"
      ],
      "text/plain": [
       "            (Intercept)  mon           tues          wed          \n",
       "(Intercept)  0.181583007 -3.323538e-03 -1.023621e-02 -9.218037e-03\n",
       "mon         -0.003323538  6.792722e-03  3.636598e-03  2.028136e-03\n",
       "tues        -0.010236213  3.636598e-03  7.777861e-03  4.651260e-03\n",
       "wed         -0.009218037  2.028136e-03  4.651260e-03  5.937614e-03\n",
       "thurs       -0.010579923  1.931431e-03  2.500496e-03  3.271610e-03\n",
       "wave2       -0.012699351 -9.122580e-04  8.153563e-04  5.845243e-04\n",
       "wave3       -0.006694782  7.378274e-04  5.301130e-04  1.139245e-04\n",
       "t           -0.001280441 -1.416178e-05 -9.161045e-06  5.007615e-05\n",
       "            thurs         wave2         wave3         t            \n",
       "(Intercept) -1.057992e-02 -1.269935e-02 -6.694782e-03 -1.280441e-03\n",
       "mon          1.931431e-03 -9.122580e-04  7.378274e-04 -1.416178e-05\n",
       "tues         2.500496e-03  8.153563e-04  5.301130e-04 -9.161045e-06\n",
       "wed          3.271610e-03  5.845243e-04  1.139245e-04  5.007615e-05\n",
       "thurs        3.100117e-03  4.596319e-04  3.837524e-04  6.620424e-05\n",
       "wave2        4.596319e-04  1.403674e-03  2.574076e-04  8.668794e-05\n",
       "wave3        3.837524e-04  2.574076e-04  4.320104e-04  3.860808e-05\n",
       "t            6.620424e-05  8.668794e-05  3.860808e-05  1.128516e-05"
      ]
     },
     "metadata": {},
     "output_type": "display_data"
    }
   ],
   "source": [
    "#vi)\n",
    "NeweyWest(lm(lavgprc ~ mon + tues + wed + thurs + wave2 + wave3 + t, data=data_peixe), lag = 4)"
   ]
  },
  {
   "cell_type": "code",
   "execution_count": 32,
   "metadata": {},
   "outputs": [
    {
     "name": "stdout",
     "output_type": "stream",
     "text": [
      "Iteration 0: rho = 0\n",
      "Iteration 1: rho = 0.6151\n",
      "Iteration 2: rho = 0.6841\n",
      "Iteration 3: rho = 0.692\n",
      "Iteration 4: rho = 0.6929\n",
      "Iteration 5: rho = 0.6929\n",
      "Iteration 6: rho = 0.693\n",
      "Iteration 7: rho = 0.693\n"
     ]
    },
    {
     "data": {
      "text/plain": [
       "\n",
       "Call:\n",
       "prais_winsten(formula = lm(lavgprc ~ mon + tues + wed + thurs + \n",
       "    wave2 + wave3, data = data_peixe), data = data_peixe)\n",
       "\n",
       "Coefficients:\n",
       "(Intercept)          mon         tues          wed        thurs        wave2  \n",
       "  -0.697545     0.010973     0.002876     0.062644     0.117609     0.049832  \n",
       "      wave3  \n",
       "   0.032879  \n",
       "\n",
       "AR(1) coefficient rho: 0.693\n"
      ]
     },
     "metadata": {},
     "output_type": "display_data"
    }
   ],
   "source": [
    "#vii)\n",
    "model = lm(lavgprc ~ mon + tues + wed + thurs + wave2 + wave3 , data=data_peixe)\n",
    "prais_winsten(lm(lavgprc ~ mon + tues + wed + thurs + wave2 + wave3 , data=data_peixe), data=data_peixe)"
   ]
  },
  {
   "cell_type": "code",
   "execution_count": 33,
   "metadata": {},
   "outputs": [
    {
     "data": {
      "text/html": [
       "<table>\n",
       "<caption>A anova: 2 × 6</caption>\n",
       "<thead>\n",
       "\t<tr><th></th><th scope=col>Res.Df</th><th scope=col>RSS</th><th scope=col>Df</th><th scope=col>Sum of Sq</th><th scope=col>F</th><th scope=col>Pr(&gt;F)</th></tr>\n",
       "\t<tr><th></th><th scope=col>&lt;dbl&gt;</th><th scope=col>&lt;dbl&gt;</th><th scope=col>&lt;dbl&gt;</th><th scope=col>&lt;dbl&gt;</th><th scope=col>&lt;dbl&gt;</th><th scope=col>&lt;dbl&gt;</th></tr>\n",
       "</thead>\n",
       "<tbody>\n",
       "\t<tr><th scope=row>1</th><td>92</td><td>15.57554</td><td>NA</td><td>     NA</td><td>      NA</td><td>          NA</td></tr>\n",
       "\t<tr><th scope=row>2</th><td>90</td><td>10.93449</td><td> 2</td><td>4.64104</td><td>19.09981</td><td>1.219013e-07</td></tr>\n",
       "</tbody>\n",
       "</table>\n"
      ],
      "text/latex": [
       "A anova: 2 × 6\n",
       "\\begin{tabular}{r|llllll}\n",
       "  & Res.Df & RSS & Df & Sum of Sq & F & Pr(>F)\\\\\n",
       "  & <dbl> & <dbl> & <dbl> & <dbl> & <dbl> & <dbl>\\\\\n",
       "\\hline\n",
       "\t1 & 92 & 15.57554 & NA &      NA &       NA &           NA\\\\\n",
       "\t2 & 90 & 10.93449 &  2 & 4.64104 & 19.09981 & 1.219013e-07\\\\\n",
       "\\end{tabular}\n"
      ],
      "text/markdown": [
       "\n",
       "A anova: 2 × 6\n",
       "\n",
       "| <!--/--> | Res.Df &lt;dbl&gt; | RSS &lt;dbl&gt; | Df &lt;dbl&gt; | Sum of Sq &lt;dbl&gt; | F &lt;dbl&gt; | Pr(&gt;F) &lt;dbl&gt; |\n",
       "|---|---|---|---|---|---|---|\n",
       "| 1 | 92 | 15.57554 | NA |      NA |       NA |           NA |\n",
       "| 2 | 90 | 10.93449 |  2 | 4.64104 | 19.09981 | 1.219013e-07 |\n",
       "\n"
      ],
      "text/plain": [
       "  Res.Df RSS      Df Sum of Sq F        Pr(>F)      \n",
       "1 92     15.57554 NA      NA         NA           NA\n",
       "2 90     10.93449  2 4.64104   19.09981 1.219013e-07"
      ]
     },
     "metadata": {},
     "output_type": "display_data"
    }
   ],
   "source": [
    "linearHypothesis(model, c(\"wave2=0\", \"wave3=0\"))"
   ]
  },
  {
   "cell_type": "code",
   "execution_count": 34,
   "metadata": {},
   "outputs": [
    {
     "name": "stderr",
     "output_type": "stream",
     "text": [
      "Warning message in read.dta(\"C:\\\\Users\\\\vinic\\\\Desktop\\\\R\\\\heiss\\\\data_wooldridge\\\\PHILLIPS.dta\"):\n",
      "\"cannot read factor labels from Stata 5 files\"\n"
     ]
    },
    {
     "data": {
      "text/html": [
       "<table>\n",
       "<caption>A data.frame: 6 × 11</caption>\n",
       "<thead>\n",
       "\t<tr><th></th><th scope=col>year</th><th scope=col>unem</th><th scope=col>inf</th><th scope=col>unem_1</th><th scope=col>inf_1</th><th scope=col>unem_2</th><th scope=col>inf_2</th><th scope=col>cunem</th><th scope=col>cinf</th><th scope=col>cunem_1</th><th scope=col>cinf_1</th></tr>\n",
       "\t<tr><th></th><th scope=col>&lt;int&gt;</th><th scope=col>&lt;dbl&gt;</th><th scope=col>&lt;dbl&gt;</th><th scope=col>&lt;dbl&gt;</th><th scope=col>&lt;dbl&gt;</th><th scope=col>&lt;dbl&gt;</th><th scope=col>&lt;dbl&gt;</th><th scope=col>&lt;dbl&gt;</th><th scope=col>&lt;dbl&gt;</th><th scope=col>&lt;dbl&gt;</th><th scope=col>&lt;dbl&gt;</th></tr>\n",
       "</thead>\n",
       "<tbody>\n",
       "\t<tr><th scope=row>1</th><td>1948</td><td>3.8</td><td> 8.1</td><td> NA</td><td>  NA</td><td> NA</td><td>  NA</td><td>        NA</td><td>  NA</td><td>        NA</td><td>  NA</td></tr>\n",
       "\t<tr><th scope=row>2</th><td>1949</td><td>5.9</td><td>-1.2</td><td>3.8</td><td> 8.1</td><td> NA</td><td>  NA</td><td> 2.1000001</td><td>-9.3</td><td>        NA</td><td>  NA</td></tr>\n",
       "\t<tr><th scope=row>3</th><td>1950</td><td>5.3</td><td> 1.3</td><td>5.9</td><td>-1.2</td><td>3.8</td><td> 8.1</td><td>-0.5999999</td><td> 2.5</td><td> 2.1000001</td><td>-9.3</td></tr>\n",
       "\t<tr><th scope=row>4</th><td>1951</td><td>3.3</td><td> 7.9</td><td>5.3</td><td> 1.3</td><td>5.9</td><td>-1.2</td><td>-2.0000002</td><td> 6.6</td><td>-0.5999999</td><td> 2.5</td></tr>\n",
       "\t<tr><th scope=row>5</th><td>1952</td><td>3.0</td><td> 1.9</td><td>3.3</td><td> 7.9</td><td>5.3</td><td> 1.3</td><td>-0.3000000</td><td>-6.0</td><td>-2.0000002</td><td> 6.6</td></tr>\n",
       "\t<tr><th scope=row>6</th><td>1953</td><td>2.9</td><td> 0.8</td><td>3.0</td><td> 1.9</td><td>3.3</td><td> 7.9</td><td>-0.0999999</td><td>-1.1</td><td>-0.3000000</td><td>-6.0</td></tr>\n",
       "</tbody>\n",
       "</table>\n"
      ],
      "text/latex": [
       "A data.frame: 6 × 11\n",
       "\\begin{tabular}{r|lllllllllll}\n",
       "  & year & unem & inf & unem\\_1 & inf\\_1 & unem\\_2 & inf\\_2 & cunem & cinf & cunem\\_1 & cinf\\_1\\\\\n",
       "  & <int> & <dbl> & <dbl> & <dbl> & <dbl> & <dbl> & <dbl> & <dbl> & <dbl> & <dbl> & <dbl>\\\\\n",
       "\\hline\n",
       "\t1 & 1948 & 3.8 &  8.1 &  NA &   NA &  NA &   NA &         NA &   NA &         NA &   NA\\\\\n",
       "\t2 & 1949 & 5.9 & -1.2 & 3.8 &  8.1 &  NA &   NA &  2.1000001 & -9.3 &         NA &   NA\\\\\n",
       "\t3 & 1950 & 5.3 &  1.3 & 5.9 & -1.2 & 3.8 &  8.1 & -0.5999999 &  2.5 &  2.1000001 & -9.3\\\\\n",
       "\t4 & 1951 & 3.3 &  7.9 & 5.3 &  1.3 & 5.9 & -1.2 & -2.0000002 &  6.6 & -0.5999999 &  2.5\\\\\n",
       "\t5 & 1952 & 3.0 &  1.9 & 3.3 &  7.9 & 5.3 &  1.3 & -0.3000000 & -6.0 & -2.0000002 &  6.6\\\\\n",
       "\t6 & 1953 & 2.9 &  0.8 & 3.0 &  1.9 & 3.3 &  7.9 & -0.0999999 & -1.1 & -0.3000000 & -6.0\\\\\n",
       "\\end{tabular}\n"
      ],
      "text/markdown": [
       "\n",
       "A data.frame: 6 × 11\n",
       "\n",
       "| <!--/--> | year &lt;int&gt; | unem &lt;dbl&gt; | inf &lt;dbl&gt; | unem_1 &lt;dbl&gt; | inf_1 &lt;dbl&gt; | unem_2 &lt;dbl&gt; | inf_2 &lt;dbl&gt; | cunem &lt;dbl&gt; | cinf &lt;dbl&gt; | cunem_1 &lt;dbl&gt; | cinf_1 &lt;dbl&gt; |\n",
       "|---|---|---|---|---|---|---|---|---|---|---|---|\n",
       "| 1 | 1948 | 3.8 |  8.1 |  NA |   NA |  NA |   NA |         NA |   NA |         NA |   NA |\n",
       "| 2 | 1949 | 5.9 | -1.2 | 3.8 |  8.1 |  NA |   NA |  2.1000001 | -9.3 |         NA |   NA |\n",
       "| 3 | 1950 | 5.3 |  1.3 | 5.9 | -1.2 | 3.8 |  8.1 | -0.5999999 |  2.5 |  2.1000001 | -9.3 |\n",
       "| 4 | 1951 | 3.3 |  7.9 | 5.3 |  1.3 | 5.9 | -1.2 | -2.0000002 |  6.6 | -0.5999999 |  2.5 |\n",
       "| 5 | 1952 | 3.0 |  1.9 | 3.3 |  7.9 | 5.3 |  1.3 | -0.3000000 | -6.0 | -2.0000002 |  6.6 |\n",
       "| 6 | 1953 | 2.9 |  0.8 | 3.0 |  1.9 | 3.3 |  7.9 | -0.0999999 | -1.1 | -0.3000000 | -6.0 |\n",
       "\n"
      ],
      "text/plain": [
       "  year unem inf  unem_1 inf_1 unem_2 inf_2 cunem      cinf cunem_1    cinf_1\n",
       "1 1948 3.8   8.1  NA      NA   NA      NA          NA   NA         NA   NA  \n",
       "2 1949 5.9  -1.2 3.8     8.1   NA      NA   2.1000001 -9.3         NA   NA  \n",
       "3 1950 5.3   1.3 5.9    -1.2  3.8     8.1  -0.5999999  2.5  2.1000001 -9.3  \n",
       "4 1951 3.3   7.9 5.3     1.3  5.9    -1.2  -2.0000002  6.6 -0.5999999  2.5  \n",
       "5 1952 3.0   1.9 3.3     7.9  5.3     1.3  -0.3000000 -6.0 -2.0000002  6.6  \n",
       "6 1953 2.9   0.8 3.0     1.9  3.3     7.9  -0.0999999 -1.1 -0.3000000 -6.0  "
      ]
     },
     "metadata": {},
     "output_type": "display_data"
    }
   ],
   "source": [
    "\n",
    "#C10:\n",
    "\n",
    "data_phillips = read.dta(\"C:\\\\Users\\\\vinic\\\\Desktop\\\\R\\\\heiss\\\\data_wooldridge\\\\PHILLIPS.dta\")\n",
    "head(data_phillips)"
   ]
  },
  {
   "cell_type": "code",
   "execution_count": 35,
   "metadata": {},
   "outputs": [
    {
     "data": {
      "text/plain": [
       "\n",
       "Call:\n",
       "lm(formula = inf ~ unem, data = data_phillips)\n",
       "\n",
       "Residuals:\n",
       "    Min      1Q  Median      3Q     Max \n",
       "-5.3826 -1.9797 -0.7229  1.3577  8.7562 \n",
       "\n",
       "Coefficients:\n",
       "            Estimate Std. Error t value Pr(>|t|)\n",
       "(Intercept)   1.4236     1.7190   0.828    0.412\n",
       "unem          0.4676     0.2891   1.617    0.112\n",
       "\n",
       "Residual standard error: 3.131 on 47 degrees of freedom\n",
       "Multiple R-squared:  0.05272,\tAdjusted R-squared:  0.03257 \n",
       "F-statistic: 2.616 on 1 and 47 DF,  p-value: 0.1125\n"
      ]
     },
     "metadata": {},
     "output_type": "display_data"
    }
   ],
   "source": [
    "#i)\n",
    "\n",
    "model = lm(inf ~ unem,data=data_phillips)\n",
    "summary(model)"
   ]
  },
  {
   "cell_type": "code",
   "execution_count": 36,
   "metadata": {},
   "outputs": [
    {
     "name": "stderr",
     "output_type": "stream",
     "text": [
      "Warning message in summary.lm(dynlm(residuos ~ L(residuos))):\n",
      "\"essentially perfect fit: summary may be unreliable\"\n"
     ]
    },
    {
     "data": {
      "text/plain": [
       "\n",
       "Time series regression with \"numeric\" data:\n",
       "Start = 1, End = 49\n",
       "\n",
       "Call:\n",
       "dynlm(formula = residuos ~ L(residuos))\n",
       "\n",
       "Residuals:\n",
       "       Min         1Q     Median         3Q        Max \n",
       "-4.914e-16 -1.718e-16 -8.660e-17 -3.740e-17  3.701e-15 \n",
       "\n",
       "Coefficients:\n",
       "              Estimate Std. Error   t value Pr(>|t|)    \n",
       "(Intercept) -1.127e-31  8.484e-17 0.000e+00        1    \n",
       "L(residuos)  1.000e+00  2.767e-17 3.614e+16   <2e-16 ***\n",
       "---\n",
       "Signif. codes:  0 '***' 0.001 '**' 0.01 '*' 0.05 '.' 0.1 ' ' 1\n",
       "\n",
       "Residual standard error: 5.939e-16 on 47 degrees of freedom\n",
       "Multiple R-squared:      1,\tAdjusted R-squared:      1 \n",
       "F-statistic: 1.306e+33 on 1 and 47 DF,  p-value: < 2.2e-16\n"
      ]
     },
     "metadata": {},
     "output_type": "display_data"
    }
   ],
   "source": [
    "#ii)\n",
    "\n",
    "residuos = resid(model)\n",
    "summary(dynlm(residuos ~L(residuos)))"
   ]
  },
  {
   "cell_type": "code",
   "execution_count": 37,
   "metadata": {},
   "outputs": [
    {
     "name": "stdout",
     "output_type": "stream",
     "text": [
      "Iteration 0: rho = 0\n",
      "Iteration 1: rho = 0.5727\n",
      "Iteration 2: rho = 0.7307\n",
      "Iteration 3: rho = 0.7719\n",
      "Iteration 4: rho = 0.7792\n",
      "Iteration 5: rho = 0.7803\n",
      "Iteration 6: rho = 0.7805\n",
      "Iteration 7: rho = 0.7805\n",
      "Iteration 8: rho = 0.7805\n",
      "Iteration 9: rho = 0.7805\n"
     ]
    },
    {
     "data": {
      "text/plain": [
       "\n",
       "Call:\n",
       "prais_winsten(formula = model, data = data_phillips)\n",
       "\n",
       "Coefficients:\n",
       "(Intercept)         unem  \n",
       "     8.2959      -0.7157  \n",
       "\n",
       "AR(1) coefficient rho: 0.7805\n"
      ]
     },
     "metadata": {},
     "output_type": "display_data"
    }
   ],
   "source": [
    "#iii)\n",
    "\n",
    "prais_winsten(model,data=data_phillips)"
   ]
  },
  {
   "cell_type": "code",
   "execution_count": 38,
   "metadata": {},
   "outputs": [
    {
     "data": {
      "text/plain": [
       "Cochrane-orcutt estimation for first order autocorrelation \n",
       " \n",
       "Call:\n",
       "lm(formula = inf ~ unem, data = data_phillips)\n",
       "\n",
       " number of interaction: 13\n",
       " rho 0.774051\n",
       "\n",
       "Durbin-Watson statistic \n",
       "(original):    0.80270 , p-value: 7.552e-07\n",
       "(transformed): 1.59363 , p-value: 7.447e-02\n",
       " \n",
       " coefficients: \n",
       "(Intercept)        unem \n",
       "   7.583459   -0.665336 "
      ]
     },
     "metadata": {},
     "output_type": "display_data"
    }
   ],
   "source": [
    "#iv)\n",
    "cochrane.orcutt(model)"
   ]
  },
  {
   "cell_type": "code",
   "execution_count": 39,
   "metadata": {},
   "outputs": [
    {
     "name": "stderr",
     "output_type": "stream",
     "text": [
      "Warning message in read.dta(\"C:\\\\Users\\\\vinic\\\\Desktop\\\\R\\\\heiss\\\\data_wooldridge\\\\nyse.dta\"):\n",
      "\"cannot read factor labels from Stata 5 files\"\n"
     ]
    }
   ],
   "source": [
    "#C11:\n",
    "\n",
    "nyse = read.dta(\"C:\\\\Users\\\\vinic\\\\Desktop\\\\R\\\\heiss\\\\data_wooldridge\\\\nyse.dta\")\n",
    "tsdata = ts(nyse)"
   ]
  },
  {
   "cell_type": "code",
   "execution_count": 40,
   "metadata": {},
   "outputs": [
    {
     "data": {
      "text/html": [
       "232.894632937832"
      ],
      "text/latex": [
       "232.894632937832"
      ],
      "text/markdown": [
       "232.894632937832"
      ],
      "text/plain": [
       "[1] 232.8946"
      ]
     },
     "metadata": {},
     "output_type": "display_data"
    },
    {
     "data": {
      "text/html": [
       "7.35464965253265e-06"
      ],
      "text/latex": [
       "7.35464965253265e-06"
      ],
      "text/markdown": [
       "7.35464965253265e-06"
      ],
      "text/plain": [
       "[1] 7.35465e-06"
      ]
     },
     "metadata": {},
     "output_type": "display_data"
    },
    {
     "data": {
      "text/html": [
       "4.44083913877418"
      ],
      "text/latex": [
       "4.44083913877418"
      ],
      "text/markdown": [
       "4.44083913877418"
      ],
      "text/plain": [
       "[1] 4.440839"
      ]
     },
     "metadata": {},
     "output_type": "display_data"
    }
   ],
   "source": [
    "#i)\n",
    "\n",
    "reg = dynlm(return ~ L(return), data=tsdata)\n",
    "residual.sq = resid(reg)^2\n",
    "max(residual.sq)\n",
    "min(residual.sq)\n",
    "mean(residual.sq)\n"
   ]
  },
  {
   "cell_type": "code",
   "execution_count": 41,
   "metadata": {},
   "outputs": [
    {
     "name": "stderr",
     "output_type": "stream",
     "text": [
      "Warning message in read.dta(\"C:\\\\Users\\\\vinic\\\\Desktop\\\\R\\\\heiss\\\\data_wooldridge\\\\INVEN.dta\"):\n",
      "\"cannot read factor labels from Stata 5 files\"\n"
     ]
    },
    {
     "data": {
      "text/html": [
       "<table>\n",
       "<caption>A data.frame: 6 × 13</caption>\n",
       "<thead>\n",
       "\t<tr><th></th><th scope=col>year</th><th scope=col>i3</th><th scope=col>inf</th><th scope=col>inven</th><th scope=col>gdp</th><th scope=col>r3</th><th scope=col>cinven</th><th scope=col>cgdp</th><th scope=col>cr3</th><th scope=col>ci3</th><th scope=col>cinf</th><th scope=col>ginven</th><th scope=col>ggdp</th></tr>\n",
       "\t<tr><th></th><th scope=col>&lt;int&gt;</th><th scope=col>&lt;dbl&gt;</th><th scope=col>&lt;dbl&gt;</th><th scope=col>&lt;dbl&gt;</th><th scope=col>&lt;dbl&gt;</th><th scope=col>&lt;dbl&gt;</th><th scope=col>&lt;dbl&gt;</th><th scope=col>&lt;dbl&gt;</th><th scope=col>&lt;dbl&gt;</th><th scope=col>&lt;dbl&gt;</th><th scope=col>&lt;dbl&gt;</th><th scope=col>&lt;dbl&gt;</th><th scope=col>&lt;dbl&gt;</th></tr>\n",
       "</thead>\n",
       "<tbody>\n",
       "\t<tr><th scope=row>1</th><td>1959</td><td>3.41</td><td>0.7</td><td>401.4</td><td>2212.3</td><td>2.71</td><td>       NA</td><td>      NA</td><td>         NA</td><td>        NA</td><td>  NA</td><td>        NA</td><td>        NA</td></tr>\n",
       "\t<tr><th scope=row>2</th><td>1960</td><td>2.93</td><td>1.7</td><td>412.0</td><td>2261.7</td><td>1.23</td><td>10.600006</td><td> 49.3999</td><td>-1.48000002</td><td>-0.4800000</td><td> 1.0</td><td>0.02606493</td><td>0.02208400</td></tr>\n",
       "\t<tr><th scope=row>3</th><td>1961</td><td>2.38</td><td>1.0</td><td>420.9</td><td>2309.8</td><td>1.38</td><td> 8.899994</td><td> 48.1001</td><td> 0.15000010</td><td>-0.5500000</td><td>-0.7</td><td>0.02137191</td><td>0.02104424</td></tr>\n",
       "\t<tr><th scope=row>4</th><td>1962</td><td>2.78</td><td>1.0</td><td>440.9</td><td>2449.1</td><td>1.78</td><td>20.000000</td><td>139.3000</td><td> 0.39999986</td><td> 0.3999999</td><td> 0.0</td><td>0.04642282</td><td>0.05855969</td></tr>\n",
       "\t<tr><th scope=row>5</th><td>1963</td><td>3.16</td><td>1.3</td><td>459.0</td><td>2554.0</td><td>1.86</td><td>18.100006</td><td>104.8999</td><td> 0.08000016</td><td> 0.3800001</td><td> 0.3</td><td>0.04023213</td><td>0.04194011</td></tr>\n",
       "\t<tr><th scope=row>6</th><td>1964</td><td>3.55</td><td>1.3</td><td>474.7</td><td>2702.9</td><td>2.25</td><td>15.700012</td><td>148.8999</td><td> 0.38999987</td><td> 0.3899999</td><td> 0.0</td><td>0.03363284</td><td>0.05666448</td></tr>\n",
       "</tbody>\n",
       "</table>\n"
      ],
      "text/latex": [
       "A data.frame: 6 × 13\n",
       "\\begin{tabular}{r|lllllllllllll}\n",
       "  & year & i3 & inf & inven & gdp & r3 & cinven & cgdp & cr3 & ci3 & cinf & ginven & ggdp\\\\\n",
       "  & <int> & <dbl> & <dbl> & <dbl> & <dbl> & <dbl> & <dbl> & <dbl> & <dbl> & <dbl> & <dbl> & <dbl> & <dbl>\\\\\n",
       "\\hline\n",
       "\t1 & 1959 & 3.41 & 0.7 & 401.4 & 2212.3 & 2.71 &        NA &       NA &          NA &         NA &   NA &         NA &         NA\\\\\n",
       "\t2 & 1960 & 2.93 & 1.7 & 412.0 & 2261.7 & 1.23 & 10.600006 &  49.3999 & -1.48000002 & -0.4800000 &  1.0 & 0.02606493 & 0.02208400\\\\\n",
       "\t3 & 1961 & 2.38 & 1.0 & 420.9 & 2309.8 & 1.38 &  8.899994 &  48.1001 &  0.15000010 & -0.5500000 & -0.7 & 0.02137191 & 0.02104424\\\\\n",
       "\t4 & 1962 & 2.78 & 1.0 & 440.9 & 2449.1 & 1.78 & 20.000000 & 139.3000 &  0.39999986 &  0.3999999 &  0.0 & 0.04642282 & 0.05855969\\\\\n",
       "\t5 & 1963 & 3.16 & 1.3 & 459.0 & 2554.0 & 1.86 & 18.100006 & 104.8999 &  0.08000016 &  0.3800001 &  0.3 & 0.04023213 & 0.04194011\\\\\n",
       "\t6 & 1964 & 3.55 & 1.3 & 474.7 & 2702.9 & 2.25 & 15.700012 & 148.8999 &  0.38999987 &  0.3899999 &  0.0 & 0.03363284 & 0.05666448\\\\\n",
       "\\end{tabular}\n"
      ],
      "text/markdown": [
       "\n",
       "A data.frame: 6 × 13\n",
       "\n",
       "| <!--/--> | year &lt;int&gt; | i3 &lt;dbl&gt; | inf &lt;dbl&gt; | inven &lt;dbl&gt; | gdp &lt;dbl&gt; | r3 &lt;dbl&gt; | cinven &lt;dbl&gt; | cgdp &lt;dbl&gt; | cr3 &lt;dbl&gt; | ci3 &lt;dbl&gt; | cinf &lt;dbl&gt; | ginven &lt;dbl&gt; | ggdp &lt;dbl&gt; |\n",
       "|---|---|---|---|---|---|---|---|---|---|---|---|---|---|\n",
       "| 1 | 1959 | 3.41 | 0.7 | 401.4 | 2212.3 | 2.71 |        NA |       NA |          NA |         NA |   NA |         NA |         NA |\n",
       "| 2 | 1960 | 2.93 | 1.7 | 412.0 | 2261.7 | 1.23 | 10.600006 |  49.3999 | -1.48000002 | -0.4800000 |  1.0 | 0.02606493 | 0.02208400 |\n",
       "| 3 | 1961 | 2.38 | 1.0 | 420.9 | 2309.8 | 1.38 |  8.899994 |  48.1001 |  0.15000010 | -0.5500000 | -0.7 | 0.02137191 | 0.02104424 |\n",
       "| 4 | 1962 | 2.78 | 1.0 | 440.9 | 2449.1 | 1.78 | 20.000000 | 139.3000 |  0.39999986 |  0.3999999 |  0.0 | 0.04642282 | 0.05855969 |\n",
       "| 5 | 1963 | 3.16 | 1.3 | 459.0 | 2554.0 | 1.86 | 18.100006 | 104.8999 |  0.08000016 |  0.3800001 |  0.3 | 0.04023213 | 0.04194011 |\n",
       "| 6 | 1964 | 3.55 | 1.3 | 474.7 | 2702.9 | 2.25 | 15.700012 | 148.8999 |  0.38999987 |  0.3899999 |  0.0 | 0.03363284 | 0.05666448 |\n",
       "\n"
      ],
      "text/plain": [
       "  year i3   inf inven gdp    r3   cinven    cgdp     cr3         ci3       \n",
       "1 1959 3.41 0.7 401.4 2212.3 2.71        NA       NA          NA         NA\n",
       "2 1960 2.93 1.7 412.0 2261.7 1.23 10.600006  49.3999 -1.48000002 -0.4800000\n",
       "3 1961 2.38 1.0 420.9 2309.8 1.38  8.899994  48.1001  0.15000010 -0.5500000\n",
       "4 1962 2.78 1.0 440.9 2449.1 1.78 20.000000 139.3000  0.39999986  0.3999999\n",
       "5 1963 3.16 1.3 459.0 2554.0 1.86 18.100006 104.8999  0.08000016  0.3800001\n",
       "6 1964 3.55 1.3 474.7 2702.9 2.25 15.700012 148.8999  0.38999987  0.3899999\n",
       "  cinf ginven     ggdp      \n",
       "1   NA         NA         NA\n",
       "2  1.0 0.02606493 0.02208400\n",
       "3 -0.7 0.02137191 0.02104424\n",
       "4  0.0 0.04642282 0.05855969\n",
       "5  0.3 0.04023213 0.04194011\n",
       "6  0.0 0.03363284 0.05666448"
      ]
     },
     "metadata": {},
     "output_type": "display_data"
    }
   ],
   "source": [
    "#ii)\n",
    "\n",
    "\n",
    "\n",
    "#C12)\n",
    "\n",
    "inven =  read.dta(\"C:\\\\Users\\\\vinic\\\\Desktop\\\\R\\\\heiss\\\\data_wooldridge\\\\INVEN.dta\")\n",
    "head(inven)"
   ]
  },
  {
   "cell_type": "code",
   "execution_count": 42,
   "metadata": {},
   "outputs": [
    {
     "name": "stderr",
     "output_type": "stream",
     "text": [
      "Warning message in summary.lm(dynlm(residuo ~ L(residuo))):\n",
      "\"essentially perfect fit: summary may be unreliable\"\n"
     ]
    },
    {
     "data": {
      "text/plain": [
       "\n",
       "Time series regression with \"numeric\" data:\n",
       "Start = 1, End = 36\n",
       "\n",
       "Call:\n",
       "dynlm(formula = residuo ~ L(residuo))\n",
       "\n",
       "Residuals:\n",
       "       Min         1Q     Median         3Q        Max \n",
       "-2.766e-14  5.210e-16  7.647e-16  9.886e-16  5.482e-15 \n",
       "\n",
       "Coefficients:\n",
       "              Estimate Std. Error   t value Pr(>|t|)    \n",
       "(Intercept) -1.315e-31  8.230e-16 0.000e+00        1    \n",
       "L(residuo)   1.000e+00  6.637e-17 1.507e+16   <2e-16 ***\n",
       "---\n",
       "Signif. codes:  0 '***' 0.001 '**' 0.01 '*' 0.05 '.' 0.1 ' ' 1\n",
       "\n",
       "Residual standard error: 4.938e-15 on 34 degrees of freedom\n",
       "Multiple R-squared:      1,\tAdjusted R-squared:      1 \n",
       "F-statistic: 2.27e+32 on 1 and 34 DF,  p-value: < 2.2e-16\n"
      ]
     },
     "metadata": {},
     "output_type": "display_data"
    }
   ],
   "source": [
    "tsdata = ts(inven)\n",
    "\n",
    "#i)\n",
    "model = lm(cinven ~cgdp, data=tsdata)\n",
    "residuo = resid(model)\n",
    "summary(dynlm(residuo ~L(residuo)))"
   ]
  },
  {
   "cell_type": "code",
   "execution_count": 43,
   "metadata": {},
   "outputs": [
    {
     "name": "stdout",
     "output_type": "stream",
     "text": [
      "Iteration 0: rho = 0\n",
      "Iteration 1: rho = -0.1099\n",
      "Iteration 2: rho = -0.1099\n",
      "Iteration 3: rho = -0.1099\n"
     ]
    },
    {
     "data": {
      "text/plain": [
       "\n",
       "Call:\n",
       "prais_winsten(formula = model, data = tsdata)\n",
       "\n",
       "Coefficients:\n",
       "(Intercept)         cgdp  \n",
       "     2.5839       0.1523  \n",
       "\n",
       "AR(1) coefficient rho: -0.1099\n"
      ]
     },
     "metadata": {},
     "output_type": "display_data"
    }
   ],
   "source": [
    "#ii)\n",
    "\n",
    "prais_winsten(model,data=tsdata)\n"
   ]
  },
  {
   "cell_type": "code",
   "execution_count": 44,
   "metadata": {},
   "outputs": [],
   "source": [
    "#C13) não tem o arquivo zzz\n",
    "\n",
    "#C14) não tem o arquivo zzz\n"
   ]
  },
  {
   "cell_type": "code",
   "execution_count": null,
   "metadata": {},
   "outputs": [],
   "source": []
  }
 ],
 "metadata": {
  "kernelspec": {
   "display_name": "R",
   "language": "R",
   "name": "ir"
  },
  "language_info": {
   "codemirror_mode": "r",
   "file_extension": ".r",
   "mimetype": "text/x-r-source",
   "name": "R",
   "pygments_lexer": "r",
   "version": "3.6.2"
  }
 },
 "nbformat": 4,
 "nbformat_minor": 4
}
