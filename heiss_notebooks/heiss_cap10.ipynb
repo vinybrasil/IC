{
 "cells": [
  {
   "cell_type": "markdown",
   "metadata": {},
   "source": [
    "<h1>Capítulo 10</h1>"
   ]
  },
  {
   "cell_type": "markdown",
   "metadata": {},
   "source": [
    "#data: https://www.cengage.com/aise/economics/wooldridge_3e_datasets/, em statafiles.zip"
   ]
  },
  {
   "cell_type": "code",
   "execution_count": 1,
   "metadata": {},
   "outputs": [
    {
     "name": "stderr",
     "output_type": "stream",
     "text": [
      "Warning message:\n",
      "\"package 'tidyverse' was built under R version 3.6.3\"\n"
     ]
    },
    {
     "ename": "ERROR",
     "evalue": "Error: package or namespace load failed for 'tidyverse' in loadNamespace(j <- i[[1L]], c(lib.loc, .libPaths()), versionCheck = vI[[j]]):\n there is no package called 'glue'\n",
     "output_type": "error",
     "traceback": [
      "Error: package or namespace load failed for 'tidyverse' in loadNamespace(j <- i[[1L]], c(lib.loc, .libPaths()), versionCheck = vI[[j]]):\n there is no package called 'glue'\nTraceback:\n",
      "1. library(tidyverse)",
      "2. tryCatch({\n .     attr(package, \"LibPath\") <- which.lib.loc\n .     ns <- loadNamespace(package, lib.loc)\n .     env <- attachNamespace(ns, pos = pos, deps, exclude, include.only)\n . }, error = function(e) {\n .     P <- if (!is.null(cc <- conditionCall(e))) \n .         paste(\" in\", deparse(cc)[1L])\n .     else \"\"\n .     msg <- gettextf(\"package or namespace load failed for %s%s:\\n %s\", \n .         sQuote(package), P, conditionMessage(e))\n .     if (logical.return) \n .         message(paste(\"Error:\", msg), domain = NA)\n .     else stop(msg, call. = FALSE, domain = NA)\n . })",
      "3. tryCatchList(expr, classes, parentenv, handlers)",
      "4. tryCatchOne(expr, names, parentenv, handlers[[1L]])",
      "5. value[[3L]](cond)",
      "6. stop(msg, call. = FALSE, domain = NA)"
     ]
    },
    {
     "name": "stderr",
     "output_type": "stream",
     "text": [
      "Warning message:\n",
      "\"package 'pdfetch' was built under R version 3.6.3\"\n",
      "Warning message:\n",
      "\"package 'dynlm' was built under R version 3.6.3\"\n",
      "Loading required package: zoo\n",
      "\n",
      "Warning message:\n",
      "\"package 'zoo' was built under R version 3.6.3\"\n",
      "\n",
      "Attaching package: 'zoo'\n",
      "\n",
      "\n",
      "The following objects are masked from 'package:base':\n",
      "\n",
      "    as.Date, as.Date.numeric\n",
      "\n",
      "\n",
      "Warning message:\n",
      "\"package 'lmtest' was built under R version 3.6.3\"\n",
      "Warning message:\n",
      "\"package 'car' was built under R version 3.6.3\"\n",
      "Loading required package: carData\n",
      "\n",
      "Warning message:\n",
      "\"package 'carData' was built under R version 3.6.3\"\n",
      "\n",
      "Please cite as: \n",
      "\n",
      "\n",
      " Hlavac, Marek (2018). stargazer: Well-Formatted Regression and Summary Statistics Tables.\n",
      "\n",
      " R package version 5.2.2. https://CRAN.R-project.org/package=stargazer \n",
      "\n",
      "\n"
     ]
    }
   ],
   "source": [
    "library(foreign);library(tidyverse);library(pdfetch);library(dynlm);library(lmtest);library(car);library(stargazer)"
   ]
  },
  {
   "cell_type": "code",
   "execution_count": 4,
   "metadata": {},
   "outputs": [
    {
     "data": {
      "text/html": [
       "<table>\n",
       "<caption>A data.frame: 6 × 13</caption>\n",
       "<thead>\n",
       "\t<tr><th></th><th scope=col>year</th><th scope=col>i3</th><th scope=col>inf</th><th scope=col>rec</th><th scope=col>out</th><th scope=col>def</th><th scope=col>i3_1</th><th scope=col>inf_1</th><th scope=col>def_1</th><th scope=col>ci3</th><th scope=col>cinf</th><th scope=col>cdef</th><th scope=col>y77</th></tr>\n",
       "\t<tr><th></th><th scope=col>&lt;int&gt;</th><th scope=col>&lt;dbl&gt;</th><th scope=col>&lt;dbl&gt;</th><th scope=col>&lt;dbl&gt;</th><th scope=col>&lt;dbl&gt;</th><th scope=col>&lt;dbl&gt;</th><th scope=col>&lt;dbl&gt;</th><th scope=col>&lt;dbl&gt;</th><th scope=col>&lt;dbl&gt;</th><th scope=col>&lt;dbl&gt;</th><th scope=col>&lt;dbl&gt;</th><th scope=col>&lt;dbl&gt;</th><th scope=col>&lt;int&gt;</th></tr>\n",
       "</thead>\n",
       "<tbody>\n",
       "\t<tr><th scope=row>1</th><td>1948</td><td>1.04</td><td> 8.1</td><td>16.2</td><td>11.6</td><td>-4.6000004</td><td>  NA</td><td>  NA</td><td>        NA</td><td>        NA</td><td>  NA</td><td>       NA</td><td>0</td></tr>\n",
       "\t<tr><th scope=row>2</th><td>1949</td><td>1.10</td><td>-1.2</td><td>14.5</td><td>14.3</td><td>-0.1999998</td><td>1.04</td><td> 8.1</td><td>-4.6000004</td><td>0.06000006</td><td>-9.3</td><td> 4.400001</td><td>0</td></tr>\n",
       "\t<tr><th scope=row>3</th><td>1950</td><td>1.22</td><td> 1.3</td><td>14.4</td><td>15.6</td><td> 1.2000008</td><td>1.10</td><td>-1.2</td><td>-0.1999998</td><td>0.12000000</td><td> 2.5</td><td> 1.400001</td><td>0</td></tr>\n",
       "\t<tr><th scope=row>4</th><td>1951</td><td>1.55</td><td> 7.9</td><td>16.1</td><td>14.2</td><td>-1.9000006</td><td>1.22</td><td> 1.3</td><td> 1.2000008</td><td>0.32999992</td><td> 6.6</td><td>-3.100001</td><td>0</td></tr>\n",
       "\t<tr><th scope=row>5</th><td>1952</td><td>1.77</td><td> 1.9</td><td>19.0</td><td>19.4</td><td> 0.3999996</td><td>1.55</td><td> 7.9</td><td>-1.9000006</td><td>0.22000003</td><td>-6.0</td><td> 2.300000</td><td>0</td></tr>\n",
       "\t<tr><th scope=row>6</th><td>1953</td><td>1.93</td><td> 0.8</td><td>18.7</td><td>20.4</td><td> 1.6999989</td><td>1.77</td><td> 1.9</td><td> 0.3999996</td><td>0.15999997</td><td>-1.1</td><td> 1.299999</td><td>0</td></tr>\n",
       "</tbody>\n",
       "</table>\n"
      ],
      "text/latex": [
       "A data.frame: 6 × 13\n",
       "\\begin{tabular}{r|lllllllllllll}\n",
       "  & year & i3 & inf & rec & out & def & i3\\_1 & inf\\_1 & def\\_1 & ci3 & cinf & cdef & y77\\\\\n",
       "  & <int> & <dbl> & <dbl> & <dbl> & <dbl> & <dbl> & <dbl> & <dbl> & <dbl> & <dbl> & <dbl> & <dbl> & <int>\\\\\n",
       "\\hline\n",
       "\t1 & 1948 & 1.04 &  8.1 & 16.2 & 11.6 & -4.6000004 &   NA &   NA &         NA &         NA &   NA &        NA & 0\\\\\n",
       "\t2 & 1949 & 1.10 & -1.2 & 14.5 & 14.3 & -0.1999998 & 1.04 &  8.1 & -4.6000004 & 0.06000006 & -9.3 &  4.400001 & 0\\\\\n",
       "\t3 & 1950 & 1.22 &  1.3 & 14.4 & 15.6 &  1.2000008 & 1.10 & -1.2 & -0.1999998 & 0.12000000 &  2.5 &  1.400001 & 0\\\\\n",
       "\t4 & 1951 & 1.55 &  7.9 & 16.1 & 14.2 & -1.9000006 & 1.22 &  1.3 &  1.2000008 & 0.32999992 &  6.6 & -3.100001 & 0\\\\\n",
       "\t5 & 1952 & 1.77 &  1.9 & 19.0 & 19.4 &  0.3999996 & 1.55 &  7.9 & -1.9000006 & 0.22000003 & -6.0 &  2.300000 & 0\\\\\n",
       "\t6 & 1953 & 1.93 &  0.8 & 18.7 & 20.4 &  1.6999989 & 1.77 &  1.9 &  0.3999996 & 0.15999997 & -1.1 &  1.299999 & 0\\\\\n",
       "\\end{tabular}\n"
      ],
      "text/markdown": [
       "\n",
       "A data.frame: 6 × 13\n",
       "\n",
       "| <!--/--> | year &lt;int&gt; | i3 &lt;dbl&gt; | inf &lt;dbl&gt; | rec &lt;dbl&gt; | out &lt;dbl&gt; | def &lt;dbl&gt; | i3_1 &lt;dbl&gt; | inf_1 &lt;dbl&gt; | def_1 &lt;dbl&gt; | ci3 &lt;dbl&gt; | cinf &lt;dbl&gt; | cdef &lt;dbl&gt; | y77 &lt;int&gt; |\n",
       "|---|---|---|---|---|---|---|---|---|---|---|---|---|---|\n",
       "| 1 | 1948 | 1.04 |  8.1 | 16.2 | 11.6 | -4.6000004 |   NA |   NA |         NA |         NA |   NA |        NA | 0 |\n",
       "| 2 | 1949 | 1.10 | -1.2 | 14.5 | 14.3 | -0.1999998 | 1.04 |  8.1 | -4.6000004 | 0.06000006 | -9.3 |  4.400001 | 0 |\n",
       "| 3 | 1950 | 1.22 |  1.3 | 14.4 | 15.6 |  1.2000008 | 1.10 | -1.2 | -0.1999998 | 0.12000000 |  2.5 |  1.400001 | 0 |\n",
       "| 4 | 1951 | 1.55 |  7.9 | 16.1 | 14.2 | -1.9000006 | 1.22 |  1.3 |  1.2000008 | 0.32999992 |  6.6 | -3.100001 | 0 |\n",
       "| 5 | 1952 | 1.77 |  1.9 | 19.0 | 19.4 |  0.3999996 | 1.55 |  7.9 | -1.9000006 | 0.22000003 | -6.0 |  2.300000 | 0 |\n",
       "| 6 | 1953 | 1.93 |  0.8 | 18.7 | 20.4 |  1.6999989 | 1.77 |  1.9 |  0.3999996 | 0.15999997 | -1.1 |  1.299999 | 0 |\n",
       "\n"
      ],
      "text/plain": [
       "  year i3   inf  rec  out  def        i3_1 inf_1 def_1      ci3        cinf\n",
       "1 1948 1.04  8.1 16.2 11.6 -4.6000004   NA   NA          NA         NA   NA\n",
       "2 1949 1.10 -1.2 14.5 14.3 -0.1999998 1.04  8.1  -4.6000004 0.06000006 -9.3\n",
       "3 1950 1.22  1.3 14.4 15.6  1.2000008 1.10 -1.2  -0.1999998 0.12000000  2.5\n",
       "4 1951 1.55  7.9 16.1 14.2 -1.9000006 1.22  1.3   1.2000008 0.32999992  6.6\n",
       "5 1952 1.77  1.9 19.0 19.4  0.3999996 1.55  7.9  -1.9000006 0.22000003 -6.0\n",
       "6 1953 1.93  0.8 18.7 20.4  1.6999989 1.77  1.9   0.3999996 0.15999997 -1.1\n",
       "  cdef      y77\n",
       "1        NA 0  \n",
       "2  4.400001 0  \n",
       "3  1.400001 0  \n",
       "4 -3.100001 0  \n",
       "5  2.300000 0  \n",
       "6  1.299999 0  "
      ]
     },
     "metadata": {},
     "output_type": "display_data"
    }
   ],
   "source": [
    "intdef <- read.dta(\"http://fmwww.bc.edu/ec-p/data/wooldridge/intdef.dta\")\n",
    "head(intdef)"
   ]
  },
  {
   "cell_type": "code",
   "execution_count": 5,
   "metadata": {},
   "outputs": [
    {
     "data": {
      "image/png": "[encoded data removed]",
      "text/plain": [
       "plot without title"
      ]
     },
     "metadata": {
      "image/png": {
       "height": 420,
       "width": 420
      }
     },
     "output_type": "display_data"
    }
   ],
   "source": [
    "df = data.frame(intdef)\n",
    "plot(intdef$year,intdef$inf)"
   ]
  },
  {
   "cell_type": "code",
   "execution_count": 6,
   "metadata": {},
   "outputs": [
    {
     "data": {
      "text/plain": [
       "\n",
       "Call:\n",
       "lm(formula = i3 ~ inf + def, data = intdef)\n",
       "\n",
       "Residuals:\n",
       "    Min      1Q  Median      3Q     Max \n",
       "-3.9948 -1.1694  0.1959  0.9602  4.7224 \n",
       "\n",
       "Coefficients:\n",
       "            Estimate Std. Error t value Pr(>|t|)    \n",
       "(Intercept)  1.73327    0.43197   4.012  0.00019 ***\n",
       "inf          0.60587    0.08213   7.376 1.12e-09 ***\n",
       "def          0.51306    0.11838   4.334 6.57e-05 ***\n",
       "---\n",
       "Signif. codes:  0 '***' 0.001 '**' 0.01 '*' 0.05 '.' 0.1 ' ' 1\n",
       "\n",
       "Residual standard error: 1.843 on 53 degrees of freedom\n",
       "Multiple R-squared:  0.6021,\tAdjusted R-squared:  0.5871 \n",
       "F-statistic: 40.09 on 2 and 53 DF,  p-value: 2.483e-11\n"
      ]
     },
     "metadata": {},
     "output_type": "display_data"
    }
   ],
   "source": [
    "summary(lm(i3~inf+def, data=intdef))"
   ]
  },
  {
   "cell_type": "code",
   "execution_count": 7,
   "metadata": {},
   "outputs": [
    {
     "data": {
      "image/png": "[encoded data removed]",
      "text/plain": [
       "plot without title"
      ]
     },
     "metadata": {
      "image/png": {
       "height": 420,
       "width": 420
      }
     },
     "output_type": "display_data"
    }
   ],
   "source": [
    "plot(intdef$def,intdef$i3)"
   ]
  },
  {
   "cell_type": "code",
   "execution_count": null,
   "metadata": {},
   "outputs": [],
   "source": [
    "#exemplo de serie equiespacada: barium"
   ]
  },
  {
   "cell_type": "code",
   "execution_count": 8,
   "metadata": {},
   "outputs": [
    {
     "name": "stderr",
     "output_type": "stream",
     "text": [
      "Warning message in read.dta(\"C:\\\\Users\\\\vinic\\\\Desktop\\\\R\\\\heiss\\\\data_wooldridge\\\\BARIUM.dta\"):\n",
      "\"cannot read factor labels from Stata 5 files\"\n"
     ]
    },
    {
     "data": {
      "text/html": [
       "<table>\n",
       "<caption>A data.frame: 6 × 31</caption>\n",
       "<thead>\n",
       "\t<tr><th></th><th scope=col>chnimp</th><th scope=col>bchlimp</th><th scope=col>befile6</th><th scope=col>affile6</th><th scope=col>afdec6</th><th scope=col>befile12</th><th scope=col>affile12</th><th scope=col>afdec12</th><th scope=col>chempi</th><th scope=col>gas</th><th scope=col>...</th><th scope=col>apr</th><th scope=col>may</th><th scope=col>jun</th><th scope=col>jul</th><th scope=col>aug</th><th scope=col>sep</th><th scope=col>oct</th><th scope=col>nov</th><th scope=col>dec</th><th scope=col>percchn</th></tr>\n",
       "\t<tr><th></th><th scope=col>&lt;dbl&gt;</th><th scope=col>&lt;dbl&gt;</th><th scope=col>&lt;int&gt;</th><th scope=col>&lt;int&gt;</th><th scope=col>&lt;int&gt;</th><th scope=col>&lt;int&gt;</th><th scope=col>&lt;int&gt;</th><th scope=col>&lt;int&gt;</th><th scope=col>&lt;dbl&gt;</th><th scope=col>&lt;dbl&gt;</th><th scope=col>...</th><th scope=col>&lt;int&gt;</th><th scope=col>&lt;int&gt;</th><th scope=col>&lt;int&gt;</th><th scope=col>&lt;int&gt;</th><th scope=col>&lt;int&gt;</th><th scope=col>&lt;int&gt;</th><th scope=col>&lt;int&gt;</th><th scope=col>&lt;int&gt;</th><th scope=col>&lt;int&gt;</th><th scope=col>&lt;dbl&gt;</th></tr>\n",
       "</thead>\n",
       "<tbody>\n",
       "\t<tr><th scope=row>1</th><td>220.4620</td><td> 9578.376</td><td>0</td><td>0</td><td>0</td><td>0</td><td>0</td><td>0</td><td>100.1</td><td>7830000128</td><td>...</td><td>0</td><td>0</td><td>0</td><td>0</td><td>0</td><td>0</td><td>0</td><td>0</td><td>0</td><td>2.3016636</td></tr>\n",
       "\t<tr><th scope=row>2</th><td> 94.7980</td><td>11219.480</td><td>0</td><td>0</td><td>0</td><td>0</td><td>0</td><td>0</td><td>100.9</td><td>8819999744</td><td>...</td><td>0</td><td>0</td><td>0</td><td>0</td><td>0</td><td>0</td><td>0</td><td>0</td><td>0</td><td>0.8449411</td></tr>\n",
       "\t<tr><th scope=row>3</th><td>219.3575</td><td> 9719.900</td><td>0</td><td>0</td><td>0</td><td>0</td><td>0</td><td>0</td><td>101.1</td><td>8449999872</td><td>...</td><td>1</td><td>0</td><td>0</td><td>0</td><td>0</td><td>0</td><td>0</td><td>0</td><td>0</td><td>2.2567875</td></tr>\n",
       "\t<tr><th scope=row>4</th><td>317.4215</td><td>12920.950</td><td>0</td><td>0</td><td>0</td><td>0</td><td>0</td><td>0</td><td>102.5</td><td>9240000512</td><td>...</td><td>0</td><td>1</td><td>0</td><td>0</td><td>0</td><td>0</td><td>0</td><td>0</td><td>0</td><td>2.4566422</td></tr>\n",
       "\t<tr><th scope=row>5</th><td>114.6390</td><td> 9790.446</td><td>0</td><td>0</td><td>0</td><td>0</td><td>0</td><td>0</td><td>104.1</td><td>9150000128</td><td>...</td><td>0</td><td>0</td><td>1</td><td>0</td><td>0</td><td>0</td><td>0</td><td>0</td><td>0</td><td>1.1709272</td></tr>\n",
       "\t<tr><th scope=row>6</th><td>129.5240</td><td>11020.470</td><td>0</td><td>0</td><td>0</td><td>0</td><td>0</td><td>0</td><td>104.8</td><td>9520000000</td><td>...</td><td>0</td><td>0</td><td>0</td><td>1</td><td>0</td><td>0</td><td>0</td><td>0</td><td>0</td><td>1.1753038</td></tr>\n",
       "</tbody>\n",
       "</table>\n"
      ],
      "text/latex": [
       "A data.frame: 6 × 31\n",
       "\\begin{tabular}{r|lllllllllllllllllllll}\n",
       "  & chnimp & bchlimp & befile6 & affile6 & afdec6 & befile12 & affile12 & afdec12 & chempi & gas & ... & apr & may & jun & jul & aug & sep & oct & nov & dec & percchn\\\\\n",
       "  & <dbl> & <dbl> & <int> & <int> & <int> & <int> & <int> & <int> & <dbl> & <dbl> & ... & <int> & <int> & <int> & <int> & <int> & <int> & <int> & <int> & <int> & <dbl>\\\\\n",
       "\\hline\n",
       "\t1 & 220.4620 &  9578.376 & 0 & 0 & 0 & 0 & 0 & 0 & 100.1 & 7830000128 & ... & 0 & 0 & 0 & 0 & 0 & 0 & 0 & 0 & 0 & 2.3016636\\\\\n",
       "\t2 &  94.7980 & 11219.480 & 0 & 0 & 0 & 0 & 0 & 0 & 100.9 & 8819999744 & ... & 0 & 0 & 0 & 0 & 0 & 0 & 0 & 0 & 0 & 0.8449411\\\\\n",
       "\t3 & 219.3575 &  9719.900 & 0 & 0 & 0 & 0 & 0 & 0 & 101.1 & 8449999872 & ... & 1 & 0 & 0 & 0 & 0 & 0 & 0 & 0 & 0 & 2.2567875\\\\\n",
       "\t4 & 317.4215 & 12920.950 & 0 & 0 & 0 & 0 & 0 & 0 & 102.5 & 9240000512 & ... & 0 & 1 & 0 & 0 & 0 & 0 & 0 & 0 & 0 & 2.4566422\\\\\n",
       "\t5 & 114.6390 &  9790.446 & 0 & 0 & 0 & 0 & 0 & 0 & 104.1 & 9150000128 & ... & 0 & 0 & 1 & 0 & 0 & 0 & 0 & 0 & 0 & 1.1709272\\\\\n",
       "\t6 & 129.5240 & 11020.470 & 0 & 0 & 0 & 0 & 0 & 0 & 104.8 & 9520000000 & ... & 0 & 0 & 0 & 1 & 0 & 0 & 0 & 0 & 0 & 1.1753038\\\\\n",
       "\\end{tabular}\n"
      ],
      "text/markdown": [
       "\n",
       "A data.frame: 6 × 31\n",
       "\n",
       "| <!--/--> | chnimp &lt;dbl&gt; | bchlimp &lt;dbl&gt; | befile6 &lt;int&gt; | affile6 &lt;int&gt; | afdec6 &lt;int&gt; | befile12 &lt;int&gt; | affile12 &lt;int&gt; | afdec12 &lt;int&gt; | chempi &lt;dbl&gt; | gas &lt;dbl&gt; | ... ... | apr &lt;int&gt; | may &lt;int&gt; | jun &lt;int&gt; | jul &lt;int&gt; | aug &lt;int&gt; | sep &lt;int&gt; | oct &lt;int&gt; | nov &lt;int&gt; | dec &lt;int&gt; | percchn &lt;dbl&gt; |\n",
       "|---|---|---|---|---|---|---|---|---|---|---|---|---|---|---|---|---|---|---|---|---|---|\n",
       "| 1 | 220.4620 |  9578.376 | 0 | 0 | 0 | 0 | 0 | 0 | 100.1 | 7830000128 | ... | 0 | 0 | 0 | 0 | 0 | 0 | 0 | 0 | 0 | 2.3016636 |\n",
       "| 2 |  94.7980 | 11219.480 | 0 | 0 | 0 | 0 | 0 | 0 | 100.9 | 8819999744 | ... | 0 | 0 | 0 | 0 | 0 | 0 | 0 | 0 | 0 | 0.8449411 |\n",
       "| 3 | 219.3575 |  9719.900 | 0 | 0 | 0 | 0 | 0 | 0 | 101.1 | 8449999872 | ... | 1 | 0 | 0 | 0 | 0 | 0 | 0 | 0 | 0 | 2.2567875 |\n",
       "| 4 | 317.4215 | 12920.950 | 0 | 0 | 0 | 0 | 0 | 0 | 102.5 | 9240000512 | ... | 0 | 1 | 0 | 0 | 0 | 0 | 0 | 0 | 0 | 2.4566422 |\n",
       "| 5 | 114.6390 |  9790.446 | 0 | 0 | 0 | 0 | 0 | 0 | 104.1 | 9150000128 | ... | 0 | 0 | 1 | 0 | 0 | 0 | 0 | 0 | 0 | 1.1709272 |\n",
       "| 6 | 129.5240 | 11020.470 | 0 | 0 | 0 | 0 | 0 | 0 | 104.8 | 9520000000 | ... | 0 | 0 | 0 | 1 | 0 | 0 | 0 | 0 | 0 | 1.1753038 |\n",
       "\n"
      ],
      "text/plain": [
       "  chnimp   bchlimp   befile6 affile6 afdec6 befile12 affile12 afdec12 chempi\n",
       "1 220.4620  9578.376 0       0       0      0        0        0       100.1 \n",
       "2  94.7980 11219.480 0       0       0      0        0        0       100.9 \n",
       "3 219.3575  9719.900 0       0       0      0        0        0       101.1 \n",
       "4 317.4215 12920.950 0       0       0      0        0        0       102.5 \n",
       "5 114.6390  9790.446 0       0       0      0        0        0       104.1 \n",
       "6 129.5240 11020.470 0       0       0      0        0        0       104.8 \n",
       "  gas        ... apr may jun jul aug sep oct nov dec percchn  \n",
       "1 7830000128 ... 0   0   0   0   0   0   0   0   0   2.3016636\n",
       "2 8819999744 ... 0   0   0   0   0   0   0   0   0   0.8449411\n",
       "3 8449999872 ... 1   0   0   0   0   0   0   0   0   2.2567875\n",
       "4 9240000512 ... 0   1   0   0   0   0   0   0   0   2.4566422\n",
       "5 9150000128 ... 0   0   1   0   0   0   0   0   0   1.1709272\n",
       "6 9520000000 ... 0   0   0   1   0   0   0   0   0   1.1753038"
      ]
     },
     "metadata": {},
     "output_type": "display_data"
    }
   ],
   "source": [
    "barium = read.dta(\"C:\\\\Users\\\\vinic\\\\Desktop\\\\R\\\\heiss\\\\data_wooldridge\\\\BARIUM.dta\")\n",
    "head(barium)"
   ]
  },
  {
   "cell_type": "code",
   "execution_count": 10,
   "metadata": {},
   "outputs": [
    {
     "data": {
      "image/png": "[encoded data removed]",
      "text/plain": [
       "plot without title"
      ]
     },
     "metadata": {
      "image/png": {
       "height": 420,
       "width": 420
      }
     },
     "output_type": "display_data"
    }
   ],
   "source": [
    "#colocando em ts (comeca no 2º mes de 1978)\n",
    "impts = ts(barium$chnimp, start=c(1978,2), frequency=12)\n",
    "plot(impts)\n",
    "\n",
    "#lidar com series temporais irregulares (nao equiespacadas) é com o zoo"
   ]
  },
  {
   "cell_type": "code",
   "execution_count": 11,
   "metadata": {},
   "outputs": [],
   "source": [
    "#pdfetch: base de dados com varios orgaos gov dos USA [NAO FUNCIONA]\n",
    "library(pdfetch)\n",
    "tickernames = c(\"^gspc\", \"^ixic\", \"AAPL\")\n",
    "yahoo = pdfetch_YAHOO(tickernames, fields=\"adjclose\", from=\"2000-01-01\")"
   ]
  },
  {
   "cell_type": "code",
   "execution_count": 12,
   "metadata": {},
   "outputs": [
    {
     "name": "stderr",
     "output_type": "stream",
     "text": [
      "Warning message in read.dta(\"C:\\\\Users\\\\vinic\\\\Desktop\\\\R\\\\heiss\\\\data_wooldridge\\\\FERTIL3.dta\"):\n",
      "\"cannot read factor labels from Stata 5 files\"\n"
     ]
    },
    {
     "data": {
      "text/html": [
       "<table>\n",
       "<caption>A data.frame: 6 × 24</caption>\n",
       "<thead>\n",
       "\t<tr><th></th><th scope=col>gfr</th><th scope=col>pe</th><th scope=col>year</th><th scope=col>t</th><th scope=col>tsq</th><th scope=col>pe_1</th><th scope=col>pe_2</th><th scope=col>pe_3</th><th scope=col>pe_4</th><th scope=col>pill</th><th scope=col>...</th><th scope=col>cpe_1</th><th scope=col>cpe_2</th><th scope=col>cpe_3</th><th scope=col>cpe_4</th><th scope=col>gfr_1</th><th scope=col>cgfr_1</th><th scope=col>cgfr_2</th><th scope=col>cgfr_3</th><th scope=col>cgfr_4</th><th scope=col>gfr_2</th></tr>\n",
       "\t<tr><th></th><th scope=col>&lt;dbl&gt;</th><th scope=col>&lt;dbl&gt;</th><th scope=col>&lt;int&gt;</th><th scope=col>&lt;int&gt;</th><th scope=col>&lt;int&gt;</th><th scope=col>&lt;dbl&gt;</th><th scope=col>&lt;dbl&gt;</th><th scope=col>&lt;dbl&gt;</th><th scope=col>&lt;dbl&gt;</th><th scope=col>&lt;int&gt;</th><th scope=col>...</th><th scope=col>&lt;dbl&gt;</th><th scope=col>&lt;dbl&gt;</th><th scope=col>&lt;dbl&gt;</th><th scope=col>&lt;dbl&gt;</th><th scope=col>&lt;dbl&gt;</th><th scope=col>&lt;dbl&gt;</th><th scope=col>&lt;dbl&gt;</th><th scope=col>&lt;dbl&gt;</th><th scope=col>&lt;dbl&gt;</th><th scope=col>&lt;dbl&gt;</th></tr>\n",
       "</thead>\n",
       "<tbody>\n",
       "\t<tr><th scope=row>1</th><td>124.7</td><td> 0.00</td><td>1913</td><td>1</td><td> 1</td><td>   NA</td><td>NA</td><td>NA</td><td>NA</td><td>0</td><td>...</td><td>   NA</td><td>NA</td><td>NA</td><td>NA</td><td>   NA</td><td>       NA</td><td>       NA</td><td>       NA</td><td>      NA</td><td>   NA</td></tr>\n",
       "\t<tr><th scope=row>2</th><td>126.6</td><td> 0.00</td><td>1914</td><td>2</td><td> 4</td><td> 0.00</td><td>NA</td><td>NA</td><td>NA</td><td>0</td><td>...</td><td>   NA</td><td>NA</td><td>NA</td><td>NA</td><td>124.7</td><td>       NA</td><td>       NA</td><td>       NA</td><td>      NA</td><td>   NA</td></tr>\n",
       "\t<tr><th scope=row>3</th><td>125.0</td><td> 0.00</td><td>1915</td><td>3</td><td> 9</td><td> 0.00</td><td> 0</td><td>NA</td><td>NA</td><td>0</td><td>...</td><td> 0.00</td><td>NA</td><td>NA</td><td>NA</td><td>126.6</td><td> 1.900002</td><td>       NA</td><td>       NA</td><td>      NA</td><td>124.7</td></tr>\n",
       "\t<tr><th scope=row>4</th><td>123.4</td><td> 0.00</td><td>1916</td><td>4</td><td>16</td><td> 0.00</td><td> 0</td><td> 0</td><td>NA</td><td>0</td><td>...</td><td> 0.00</td><td> 0</td><td>NA</td><td>NA</td><td>125.0</td><td>-1.599998</td><td> 1.900002</td><td>       NA</td><td>      NA</td><td>126.6</td></tr>\n",
       "\t<tr><th scope=row>5</th><td>121.0</td><td>19.27</td><td>1917</td><td>5</td><td>25</td><td> 0.00</td><td> 0</td><td> 0</td><td> 0</td><td>0</td><td>...</td><td> 0.00</td><td> 0</td><td> 0</td><td>NA</td><td>123.4</td><td>-1.599998</td><td>-1.599998</td><td> 1.900002</td><td>      NA</td><td>125.0</td></tr>\n",
       "\t<tr><th scope=row>6</th><td>119.8</td><td>23.94</td><td>1918</td><td>6</td><td>36</td><td>19.27</td><td> 0</td><td> 0</td><td> 0</td><td>0</td><td>...</td><td>19.27</td><td> 0</td><td> 0</td><td> 0</td><td>121.0</td><td>-2.400002</td><td>-1.599998</td><td>-1.599998</td><td>1.900002</td><td>123.4</td></tr>\n",
       "</tbody>\n",
       "</table>\n"
      ],
      "text/latex": [
       "A data.frame: 6 × 24\n",
       "\\begin{tabular}{r|lllllllllllllllllllll}\n",
       "  & gfr & pe & year & t & tsq & pe\\_1 & pe\\_2 & pe\\_3 & pe\\_4 & pill & ... & cpe\\_1 & cpe\\_2 & cpe\\_3 & cpe\\_4 & gfr\\_1 & cgfr\\_1 & cgfr\\_2 & cgfr\\_3 & cgfr\\_4 & gfr\\_2\\\\\n",
       "  & <dbl> & <dbl> & <int> & <int> & <int> & <dbl> & <dbl> & <dbl> & <dbl> & <int> & ... & <dbl> & <dbl> & <dbl> & <dbl> & <dbl> & <dbl> & <dbl> & <dbl> & <dbl> & <dbl>\\\\\n",
       "\\hline\n",
       "\t1 & 124.7 &  0.00 & 1913 & 1 &  1 &    NA & NA & NA & NA & 0 & ... &    NA & NA & NA & NA &    NA &        NA &        NA &        NA &       NA &    NA\\\\\n",
       "\t2 & 126.6 &  0.00 & 1914 & 2 &  4 &  0.00 & NA & NA & NA & 0 & ... &    NA & NA & NA & NA & 124.7 &        NA &        NA &        NA &       NA &    NA\\\\\n",
       "\t3 & 125.0 &  0.00 & 1915 & 3 &  9 &  0.00 &  0 & NA & NA & 0 & ... &  0.00 & NA & NA & NA & 126.6 &  1.900002 &        NA &        NA &       NA & 124.7\\\\\n",
       "\t4 & 123.4 &  0.00 & 1916 & 4 & 16 &  0.00 &  0 &  0 & NA & 0 & ... &  0.00 &  0 & NA & NA & 125.0 & -1.599998 &  1.900002 &        NA &       NA & 126.6\\\\\n",
       "\t5 & 121.0 & 19.27 & 1917 & 5 & 25 &  0.00 &  0 &  0 &  0 & 0 & ... &  0.00 &  0 &  0 & NA & 123.4 & -1.599998 & -1.599998 &  1.900002 &       NA & 125.0\\\\\n",
       "\t6 & 119.8 & 23.94 & 1918 & 6 & 36 & 19.27 &  0 &  0 &  0 & 0 & ... & 19.27 &  0 &  0 &  0 & 121.0 & -2.400002 & -1.599998 & -1.599998 & 1.900002 & 123.4\\\\\n",
       "\\end{tabular}\n"
      ],
      "text/markdown": [
       "\n",
       "A data.frame: 6 × 24\n",
       "\n",
       "| <!--/--> | gfr &lt;dbl&gt; | pe &lt;dbl&gt; | year &lt;int&gt; | t &lt;int&gt; | tsq &lt;int&gt; | pe_1 &lt;dbl&gt; | pe_2 &lt;dbl&gt; | pe_3 &lt;dbl&gt; | pe_4 &lt;dbl&gt; | pill &lt;int&gt; | ... ... | cpe_1 &lt;dbl&gt; | cpe_2 &lt;dbl&gt; | cpe_3 &lt;dbl&gt; | cpe_4 &lt;dbl&gt; | gfr_1 &lt;dbl&gt; | cgfr_1 &lt;dbl&gt; | cgfr_2 &lt;dbl&gt; | cgfr_3 &lt;dbl&gt; | cgfr_4 &lt;dbl&gt; | gfr_2 &lt;dbl&gt; |\n",
       "|---|---|---|---|---|---|---|---|---|---|---|---|---|---|---|---|---|---|---|---|---|---|\n",
       "| 1 | 124.7 |  0.00 | 1913 | 1 |  1 |    NA | NA | NA | NA | 0 | ... |    NA | NA | NA | NA |    NA |        NA |        NA |        NA |       NA |    NA |\n",
       "| 2 | 126.6 |  0.00 | 1914 | 2 |  4 |  0.00 | NA | NA | NA | 0 | ... |    NA | NA | NA | NA | 124.7 |        NA |        NA |        NA |       NA |    NA |\n",
       "| 3 | 125.0 |  0.00 | 1915 | 3 |  9 |  0.00 |  0 | NA | NA | 0 | ... |  0.00 | NA | NA | NA | 126.6 |  1.900002 |        NA |        NA |       NA | 124.7 |\n",
       "| 4 | 123.4 |  0.00 | 1916 | 4 | 16 |  0.00 |  0 |  0 | NA | 0 | ... |  0.00 |  0 | NA | NA | 125.0 | -1.599998 |  1.900002 |        NA |       NA | 126.6 |\n",
       "| 5 | 121.0 | 19.27 | 1917 | 5 | 25 |  0.00 |  0 |  0 |  0 | 0 | ... |  0.00 |  0 |  0 | NA | 123.4 | -1.599998 | -1.599998 |  1.900002 |       NA | 125.0 |\n",
       "| 6 | 119.8 | 23.94 | 1918 | 6 | 36 | 19.27 |  0 |  0 |  0 | 0 | ... | 19.27 |  0 |  0 |  0 | 121.0 | -2.400002 | -1.599998 | -1.599998 | 1.900002 | 123.4 |\n",
       "\n"
      ],
      "text/plain": [
       "  gfr   pe    year t tsq pe_1  pe_2 pe_3 pe_4 pill ... cpe_1 cpe_2 cpe_3 cpe_4\n",
       "1 124.7  0.00 1913 1  1     NA NA   NA   NA   0    ...    NA NA    NA    NA   \n",
       "2 126.6  0.00 1914 2  4   0.00 NA   NA   NA   0    ...    NA NA    NA    NA   \n",
       "3 125.0  0.00 1915 3  9   0.00  0   NA   NA   0    ...  0.00 NA    NA    NA   \n",
       "4 123.4  0.00 1916 4 16   0.00  0    0   NA   0    ...  0.00  0    NA    NA   \n",
       "5 121.0 19.27 1917 5 25   0.00  0    0    0   0    ...  0.00  0     0    NA   \n",
       "6 119.8 23.94 1918 6 36  19.27  0    0    0   0    ... 19.27  0     0     0   \n",
       "  gfr_1 cgfr_1    cgfr_2    cgfr_3    cgfr_4   gfr_2\n",
       "1    NA        NA        NA        NA       NA    NA\n",
       "2 124.7        NA        NA        NA       NA    NA\n",
       "3 126.6  1.900002        NA        NA       NA 124.7\n",
       "4 125.0 -1.599998  1.900002        NA       NA 126.6\n",
       "5 123.4 -1.599998 -1.599998  1.900002       NA 125.0\n",
       "6 121.0 -2.400002 -1.599998 -1.599998 1.900002 123.4"
      ]
     },
     "metadata": {},
     "output_type": "display_data"
    }
   ],
   "source": [
    "#exemplo 10.4: FDL(finite distributed lag models) testando os fatores que\n",
    "#mudam a fertilidade(ww2, pilula anticoncepcional e personal tax\n",
    "\n",
    "fertilidade = read.dta(\"C:\\\\Users\\\\vinic\\\\Desktop\\\\R\\\\heiss\\\\data_wooldridge\\\\FERTIL3.dta\")\n",
    "\n",
    "head(fertilidade)"
   ]
  },
  {
   "cell_type": "code",
   "execution_count": 13,
   "metadata": {},
   "outputs": [],
   "source": [
    "tsdata = ts(fertilidade, start=1913) #le por ano\n",
    "#L(x) é x lagado uma vez; L(x, p) é x lagado p tempos"
   ]
  },
  {
   "cell_type": "code",
   "execution_count": 14,
   "metadata": {},
   "outputs": [
    {
     "data": {
      "text/plain": [
       "\n",
       "t test of coefficients:\n",
       "\n",
       "               Estimate  Std. Error t value  Pr(>|t|)    \n",
       "(Intercept)  95.8704975   3.2819571 29.2114 < 2.2e-16 ***\n",
       "pe            0.0726718   0.1255331  0.5789    0.5647    \n",
       "L(pe)        -0.0057796   0.1556629 -0.0371    0.9705    \n",
       "L(pe, 2)      0.0338268   0.1262574  0.2679    0.7896    \n",
       "ww2         -22.1264975  10.7319716 -2.0617    0.0433 *  \n",
       "pill        -31.3049888   3.9815591 -7.8625 5.634e-11 ***\n",
       "---\n",
       "Signif. codes:  0 '***' 0.001 '**' 0.01 '*' 0.05 '.' 0.1 ' ' 1\n"
      ]
     },
     "metadata": {},
     "output_type": "display_data"
    }
   ],
   "source": [
    "res = dynlm(gfr ~ pe + L(pe) + L(pe, 2) + ww2 + pill, data=tsdata)\n",
    "coeftest(res)"
   ]
  },
  {
   "cell_type": "code",
   "execution_count": 15,
   "metadata": {},
   "outputs": [
    {
     "data": {
      "image/png": "[encoded data removed]",
      "text/plain": [
       "plot without title"
      ]
     },
     "metadata": {
      "image/png": {
       "height": 420,
       "width": 420
      }
     },
     "output_type": "display_data"
    }
   ],
   "source": [
    "pilula = ts(fertilidade$pill, start=1913) #dummy zzz\n",
    "plot(pilula)\n"
   ]
  },
  {
   "cell_type": "code",
   "execution_count": 16,
   "metadata": {},
   "outputs": [
    {
     "data": {
      "image/png": "[encoded data removed]",
      "text/plain": [
       "plot without title"
      ]
     },
     "metadata": {
      "image/png": {
       "height": 420,
       "width": 420
      }
     },
     "output_type": "display_data"
    }
   ],
   "source": [
    "fertil = ts(fertilidade$gfr, start=1913) #dummy zzz\n",
    "plot(fertil)"
   ]
  },
  {
   "cell_type": "code",
   "execution_count": 17,
   "metadata": {},
   "outputs": [
    {
     "data": {
      "text/html": [
       "<table>\n",
       "<caption>A anova: 2 × 6</caption>\n",
       "<thead>\n",
       "\t<tr><th></th><th scope=col>Res.Df</th><th scope=col>RSS</th><th scope=col>Df</th><th scope=col>Sum of Sq</th><th scope=col>F</th><th scope=col>Pr(&gt;F)</th></tr>\n",
       "\t<tr><th></th><th scope=col>&lt;dbl&gt;</th><th scope=col>&lt;dbl&gt;</th><th scope=col>&lt;dbl&gt;</th><th scope=col>&lt;dbl&gt;</th><th scope=col>&lt;dbl&gt;</th><th scope=col>&lt;dbl&gt;</th></tr>\n",
       "</thead>\n",
       "<tbody>\n",
       "\t<tr><th scope=row>1</th><td>67</td><td>15459.75</td><td>NA</td><td>      NA</td><td>      NA</td><td>        NA</td></tr>\n",
       "\t<tr><th scope=row>2</th><td>64</td><td>13032.64</td><td> 3</td><td>2427.104</td><td>3.972964</td><td>0.01165201</td></tr>\n",
       "</tbody>\n",
       "</table>\n"
      ],
      "text/latex": [
       "A anova: 2 × 6\n",
       "\\begin{tabular}{r|llllll}\n",
       "  & Res.Df & RSS & Df & Sum of Sq & F & Pr(>F)\\\\\n",
       "  & <dbl> & <dbl> & <dbl> & <dbl> & <dbl> & <dbl>\\\\\n",
       "\\hline\n",
       "\t1 & 67 & 15459.75 & NA &       NA &       NA &         NA\\\\\n",
       "\t2 & 64 & 13032.64 &  3 & 2427.104 & 3.972964 & 0.01165201\\\\\n",
       "\\end{tabular}\n"
      ],
      "text/markdown": [
       "\n",
       "A anova: 2 × 6\n",
       "\n",
       "| <!--/--> | Res.Df &lt;dbl&gt; | RSS &lt;dbl&gt; | Df &lt;dbl&gt; | Sum of Sq &lt;dbl&gt; | F &lt;dbl&gt; | Pr(&gt;F) &lt;dbl&gt; |\n",
       "|---|---|---|---|---|---|---|\n",
       "| 1 | 67 | 15459.75 | NA |       NA |       NA |         NA |\n",
       "| 2 | 64 | 13032.64 |  3 | 2427.104 | 3.972964 | 0.01165201 |\n",
       "\n"
      ],
      "text/plain": [
       "  Res.Df RSS      Df Sum of Sq F        Pr(>F)    \n",
       "1 67     15459.75 NA       NA        NA         NA\n",
       "2 64     13032.64  3 2427.104  3.972964 0.01165201"
      ]
     },
     "metadata": {},
     "output_type": "display_data"
    }
   ],
   "source": [
    "#F teste para H0: todos os coeficientes sao zero\n",
    "\n",
    "linearHypothesis(res, matchCoefs(res,\"pe\")) # o 0.01165 aponta para um problema \n",
    "\t\t\t\t\t\t\t\t # de multicolinearidade\n"
   ]
  },
  {
   "cell_type": "code",
   "execution_count": 18,
   "metadata": {},
   "outputs": [
    {
     "data": {
      "text/html": [
       "<style>\n",
       ".dl-inline {width: auto; margin:0; padding: 0}\n",
       ".dl-inline>dt, .dl-inline>dd {float: none; width: auto; display: inline-block}\n",
       ".dl-inline>dt::after {content: \":\\0020\"; padding-right: .5ex}\n",
       ".dl-inline>dt:not(:first-of-type) {padding-left: .5ex}\n",
       "</style><dl class=dl-inline><dt>(Intercept)</dt><dd>95.8704974670044</dd><dt>pe</dt><dd>0.0726718275776628</dd><dt>L(pe)</dt><dd>-0.0057795816938902</dd><dt>L(pe, 2)</dt><dd>0.0338268443959838</dd><dt>ww2</dt><dd>-22.1264975121121</dd><dt>pill</dt><dd>-31.304988799692</dd></dl>\n"
      ],
      "text/latex": [
       "\\begin{description*}\n",
       "\\item[(Intercept)] 95.8704974670044\n",
       "\\item[pe] 0.0726718275776628\n",
       "\\item[L(pe)] -0.0057795816938902\n",
       "\\item[L(pe, 2)] 0.0338268443959838\n",
       "\\item[ww2] -22.1264975121121\n",
       "\\item[pill] -31.304988799692\n",
       "\\end{description*}\n"
      ],
      "text/markdown": [
       "(Intercept)\n",
       ":   95.8704974670044pe\n",
       ":   0.0726718275776628L(pe)\n",
       ":   -0.0057795816938902L(pe, 2)\n",
       ":   0.0338268443959838ww2\n",
       ":   -22.1264975121121pill\n",
       ":   -31.304988799692\n",
       "\n"
      ],
      "text/plain": [
       "  (Intercept)            pe         L(pe)      L(pe, 2)           ww2 \n",
       " 95.870497467   0.072671828  -0.005779582   0.033826844 -22.126497512 \n",
       "         pill \n",
       "-31.304988800 "
      ]
     },
     "metadata": {},
     "output_type": "display_data"
    },
    {
     "data": {
      "text/html": [
       "<strong>pe:</strong> 0.100719090279756"
      ],
      "text/latex": [
       "\\textbf{pe:} 0.100719090279756"
      ],
      "text/markdown": [
       "**pe:** 0.100719090279756"
      ],
      "text/plain": [
       "       pe \n",
       "0.1007191 "
      ]
     },
     "metadata": {},
     "output_type": "display_data"
    }
   ],
   "source": [
    "#calculando a propensao de LP, onde somasse os deltas\n",
    "\n",
    "b=coef(res)\n",
    "b\n",
    "b['pe']+b['L(pe)']+b['L(pe, 2)']\n"
   ]
  },
  {
   "cell_type": "code",
   "execution_count": 19,
   "metadata": {},
   "outputs": [
    {
     "data": {
      "text/html": [
       "<table>\n",
       "<caption>A anova: 2 × 6</caption>\n",
       "<thead>\n",
       "\t<tr><th></th><th scope=col>Res.Df</th><th scope=col>RSS</th><th scope=col>Df</th><th scope=col>Sum of Sq</th><th scope=col>F</th><th scope=col>Pr(&gt;F)</th></tr>\n",
       "\t<tr><th></th><th scope=col>&lt;dbl&gt;</th><th scope=col>&lt;dbl&gt;</th><th scope=col>&lt;dbl&gt;</th><th scope=col>&lt;dbl&gt;</th><th scope=col>&lt;dbl&gt;</th><th scope=col>&lt;dbl&gt;</th></tr>\n",
       "</thead>\n",
       "<tbody>\n",
       "\t<tr><th scope=row>1</th><td>65</td><td>15358.41</td><td>NA</td><td>      NA</td><td>      NA</td><td>         NA</td></tr>\n",
       "\t<tr><th scope=row>2</th><td>64</td><td>13032.64</td><td> 1</td><td>2325.765</td><td>11.42124</td><td>0.001240844</td></tr>\n",
       "</tbody>\n",
       "</table>\n"
      ],
      "text/latex": [
       "A anova: 2 × 6\n",
       "\\begin{tabular}{r|llllll}\n",
       "  & Res.Df & RSS & Df & Sum of Sq & F & Pr(>F)\\\\\n",
       "  & <dbl> & <dbl> & <dbl> & <dbl> & <dbl> & <dbl>\\\\\n",
       "\\hline\n",
       "\t1 & 65 & 15358.41 & NA &       NA &       NA &          NA\\\\\n",
       "\t2 & 64 & 13032.64 &  1 & 2325.765 & 11.42124 & 0.001240844\\\\\n",
       "\\end{tabular}\n"
      ],
      "text/markdown": [
       "\n",
       "A anova: 2 × 6\n",
       "\n",
       "| <!--/--> | Res.Df &lt;dbl&gt; | RSS &lt;dbl&gt; | Df &lt;dbl&gt; | Sum of Sq &lt;dbl&gt; | F &lt;dbl&gt; | Pr(&gt;F) &lt;dbl&gt; |\n",
       "|---|---|---|---|---|---|---|\n",
       "| 1 | 65 | 15358.41 | NA |       NA |       NA |          NA |\n",
       "| 2 | 64 | 13032.64 |  1 | 2325.765 | 11.42124 | 0.001240844 |\n",
       "\n"
      ],
      "text/plain": [
       "  Res.Df RSS      Df Sum of Sq F        Pr(>F)     \n",
       "1 65     15358.41 NA       NA        NA          NA\n",
       "2 64     13032.64  1 2325.765  11.42124 0.001240844"
      ]
     },
     "metadata": {},
     "output_type": "display_data"
    }
   ],
   "source": [
    "\n",
    "#F teste para H0: LRP = 0\n",
    "\n",
    "linearHypothesis(res, \"pe + L(pe) + L(pe, 2) = 0\") #é significativo"
   ]
  },
  {
   "cell_type": "code",
   "execution_count": 20,
   "metadata": {},
   "outputs": [
    {
     "name": "stderr",
     "output_type": "stream",
     "text": [
      "Warning message in read.dta(\"C:\\\\Users\\\\vinic\\\\Desktop\\\\R\\\\heiss\\\\data_wooldridge\\\\hseinv.dta\"):\n",
      "\"cannot read factor labels from Stata 5 files\"\n"
     ]
    }
   ],
   "source": [
    "#exemplo 10.7: trends nos precos das casas (sem o trend sao significativos)\n",
    "\n",
    "hseinv = read.dta(\"C:\\\\Users\\\\vinic\\\\Desktop\\\\R\\\\heiss\\\\data_wooldridge\\\\hseinv.dta\")\n",
    "\n",
    "tsdata=ts(hseinv, start=1947)"
   ]
  },
  {
   "cell_type": "code",
   "execution_count": 21,
   "metadata": {},
   "outputs": [
    {
     "name": "stdout",
     "output_type": "stream",
     "text": [
      "\n",
      "=================================================================\n",
      "                                 Dependent variable:             \n",
      "                    ---------------------------------------------\n",
      "                                     log(invpc)                  \n",
      "                             (1)                    (2)          \n",
      "-----------------------------------------------------------------\n",
      "log(price)                 1.241***                -0.381        \n",
      "                           (0.382)                (0.679)        \n",
      "                                                                 \n",
      "trend(tsdata)                                     0.010***       \n",
      "                                                  (0.004)        \n",
      "                                                                 \n",
      "Constant                  -0.550***              -0.913***       \n",
      "                           (0.043)                (0.136)        \n",
      "                                                                 \n",
      "-----------------------------------------------------------------\n",
      "Observations                  42                     42          \n",
      "R2                          0.208                  0.341         \n",
      "Adjusted R2                 0.189                  0.307         \n",
      "Residual Std. Error    0.155 (df = 40)        0.144 (df = 39)    \n",
      "F Statistic         10.530*** (df = 1; 40) 10.080*** (df = 2; 39)\n",
      "=================================================================\n",
      "Note:                                 *p<0.1; **p<0.05; ***p<0.01\n"
     ]
    }
   ],
   "source": [
    "#LM com lags mas sem trend\n",
    "res1 = dynlm(log(invpc) ~ log(price), data=tsdata)   #preco signicativo\n",
    "\n",
    "#LM com trend e lags\n",
    "res2 = dynlm(log(invpc) ~ log(price) + trend(tsdata), data=tsdata) #preco nao é\n",
    "\n",
    "stargazer(res1, res2, type='text')"
   ]
  },
  {
   "cell_type": "code",
   "execution_count": 23,
   "metadata": {},
   "outputs": [
    {
     "name": "stderr",
     "output_type": "stream",
     "text": [
      "Warning message in read.dta(\"C:\\\\Users\\\\vinic\\\\Desktop\\\\R\\\\heiss\\\\data_wooldridge\\\\BARIUM.dta\"):\n",
      "\"cannot read factor labels from Stata 5 files\"\n"
     ]
    },
    {
     "data": {
      "text/plain": [
       "\n",
       "t test of coefficients:\n",
       "\n",
       "                    Estimate Std. Error t value  Pr(>|t|)    \n",
       "(Intercept)       16.7792155 32.4286452  0.5174   0.60587    \n",
       "log(chempi)        3.2650621  0.4929302  6.6238 1.236e-09 ***\n",
       "log(gas)          -1.2781403  1.3890083 -0.9202   0.35944    \n",
       "log(rtwex)         0.6630453  0.4713037  1.4068   0.16222    \n",
       "befile6            0.1397028  0.2668075  0.5236   0.60158    \n",
       "affile6            0.0126324  0.2786866  0.0453   0.96393    \n",
       "afdec6            -0.5213004  0.3019499 -1.7264   0.08700 .  \n",
       "season(tsdata)Feb -0.4177110  0.3044444 -1.3720   0.17277    \n",
       "season(tsdata)Mar  0.0590520  0.2647307  0.2231   0.82389    \n",
       "season(tsdata)Apr -0.4514830  0.2683864 -1.6822   0.09529 .  \n",
       "season(tsdata)May  0.0333090  0.2692425  0.1237   0.90176    \n",
       "season(tsdata)Jun -0.2063315  0.2692515 -0.7663   0.44509    \n",
       "season(tsdata)Jul  0.0038366  0.2787666  0.0138   0.98904    \n",
       "season(tsdata)Aug -0.1570645  0.2779927 -0.5650   0.57320    \n",
       "season(tsdata)Sep -0.1341605  0.2676556 -0.5012   0.61718    \n",
       "season(tsdata)Oct  0.0516925  0.2668512  0.1937   0.84675    \n",
       "season(tsdata)Nov -0.2462599  0.2628271 -0.9370   0.35077    \n",
       "season(tsdata)Dec  0.1328376  0.2714234  0.4894   0.62550    \n",
       "---\n",
       "Signif. codes:  0 '***' 0.001 '**' 0.01 '*' 0.05 '.' 0.1 ' ' 1\n"
      ]
     },
     "metadata": {},
     "output_type": "display_data"
    }
   ],
   "source": [
    "#exemplo 10.11: sazonalidade no dataset do bario\n",
    "\n",
    "barium = read.dta(\"C:\\\\Users\\\\vinic\\\\Desktop\\\\R\\\\heiss\\\\data_wooldridge\\\\BARIUM.dta\")\n",
    "tsdata = ts(barium, start=c(1978,2), frequency=12)\n",
    "\n",
    "res = dynlm(log(chnimp) ~ log(chempi)+log(gas)+log(rtwex)+befile6+ affile6+afdec6+season(tsdata), data=tsdata)\n",
    "coeftest(res)\t#nao sao significativas\t\t"
   ]
  },
  {
   "cell_type": "code",
   "execution_count": null,
   "metadata": {},
   "outputs": [],
   "source": []
  }
 ],
 "metadata": {
  "kernelspec": {
   "display_name": "R",
   "language": "R",
   "name": "ir"
  },
  "language_info": {
   "codemirror_mode": "r",
   "file_extension": ".r",
   "mimetype": "text/x-r-source",
   "name": "R",
   "pygments_lexer": "r",
   "version": "3.6.2"
  }
 },
 "nbformat": 4,
 "nbformat_minor": 4
}
