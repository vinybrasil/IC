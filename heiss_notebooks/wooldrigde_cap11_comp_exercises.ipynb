{
 "cells": [
  {
   "cell_type": "markdown",
   "metadata": {},
   "source": [
    "<h1>Resolução dos computer exercises do capítulo 11 do Wooldrigde </h1>"
   ]
  },
  {
   "cell_type": "code",
   "execution_count": 35,
   "metadata": {},
   "outputs": [
    {
     "name": "stderr",
     "output_type": "stream",
     "text": [
      "Warning message:\n",
      "\"package 'car' was built under R version 3.6.3\"\n",
      "Loading required package: carData\n",
      "\n",
      "Warning message:\n",
      "\"package 'carData' was built under R version 3.6.3\"\n"
     ]
    }
   ],
   "source": [
    "library(foreign);library(dynlm);library(stargazer);library(Hmisc);library(stargazer);library(car)"
   ]
  },
  {
   "cell_type": "code",
   "execution_count": 2,
   "metadata": {},
   "outputs": [
    {
     "name": "stderr",
     "output_type": "stream",
     "text": [
      "Warning message in read.dta(\"C:\\\\Users\\\\vinic\\\\Desktop\\\\R\\\\heiss\\\\data_wooldridge\\\\WAGEPRC.dta\"):\n",
      "\"cannot read factor labels from Stata 5 files\"\n"
     ]
    },
    {
     "data": {
      "text/html": [
       "<table>\n",
       "<caption>A data.frame: 6 × 20</caption>\n",
       "<thead>\n",
       "\t<tr><th></th><th scope=col>price</th><th scope=col>wage</th><th scope=col>t</th><th scope=col>lprice</th><th scope=col>lwage</th><th scope=col>gprice</th><th scope=col>gwage</th><th scope=col>gwage_1</th><th scope=col>gwage_2</th><th scope=col>gwage_3</th><th scope=col>gwage_4</th><th scope=col>gwage_5</th><th scope=col>gwage_6</th><th scope=col>gwage_7</th><th scope=col>gwage_8</th><th scope=col>gwage_9</th><th scope=col>gwage_10</th><th scope=col>gwage_11</th><th scope=col>gwage_12</th><th scope=col>gprice_1</th></tr>\n",
       "\t<tr><th></th><th scope=col>&lt;dbl&gt;</th><th scope=col>&lt;dbl&gt;</th><th scope=col>&lt;int&gt;</th><th scope=col>&lt;dbl&gt;</th><th scope=col>&lt;dbl&gt;</th><th scope=col>&lt;dbl&gt;</th><th scope=col>&lt;dbl&gt;</th><th scope=col>&lt;dbl&gt;</th><th scope=col>&lt;dbl&gt;</th><th scope=col>&lt;dbl&gt;</th><th scope=col>&lt;dbl&gt;</th><th scope=col>&lt;dbl&gt;</th><th scope=col>&lt;dbl&gt;</th><th scope=col>&lt;dbl&gt;</th><th scope=col>&lt;dbl&gt;</th><th scope=col>&lt;dbl&gt;</th><th scope=col>&lt;dbl&gt;</th><th scope=col>&lt;dbl&gt;</th><th scope=col>&lt;dbl&gt;</th><th scope=col>&lt;dbl&gt;</th></tr>\n",
       "</thead>\n",
       "<tbody>\n",
       "\t<tr><th scope=row>1</th><td>92.6</td><td>2.32</td><td>1</td><td>4.528289</td><td>0.8415672</td><td>          NA</td><td>         NA</td><td>         NA</td><td>         NA</td><td>NA</td><td>NA</td><td>NA</td><td>NA</td><td>NA</td><td>NA</td><td>NA</td><td>NA</td><td>NA</td><td>NA</td><td>          NA</td></tr>\n",
       "\t<tr><th scope=row>2</th><td>92.5</td><td>2.32</td><td>2</td><td>4.527209</td><td>0.8415672</td><td>-0.001080513</td><td>0.000000000</td><td>         NA</td><td>         NA</td><td>NA</td><td>NA</td><td>NA</td><td>NA</td><td>NA</td><td>NA</td><td>NA</td><td>NA</td><td>NA</td><td>NA</td><td>          NA</td></tr>\n",
       "\t<tr><th scope=row>3</th><td>92.6</td><td>2.32</td><td>3</td><td>4.528289</td><td>0.8415672</td><td> 0.001080513</td><td>0.000000000</td><td>0.000000000</td><td>         NA</td><td>NA</td><td>NA</td><td>NA</td><td>NA</td><td>NA</td><td>NA</td><td>NA</td><td>NA</td><td>NA</td><td>NA</td><td>-0.001080513</td></tr>\n",
       "\t<tr><th scope=row>4</th><td>92.7</td><td>2.34</td><td>4</td><td>4.529368</td><td>0.8501509</td><td> 0.001079082</td><td>0.008583724</td><td>0.000000000</td><td>0.000000000</td><td>NA</td><td>NA</td><td>NA</td><td>NA</td><td>NA</td><td>NA</td><td>NA</td><td>NA</td><td>NA</td><td>NA</td><td> 0.001080513</td></tr>\n",
       "\t<tr><th scope=row>5</th><td>92.7</td><td>2.35</td><td>5</td><td>4.529368</td><td>0.8544153</td><td> 0.000000000</td><td>0.004264414</td><td>0.008583724</td><td>0.000000000</td><td> 0</td><td>NA</td><td>NA</td><td>NA</td><td>NA</td><td>NA</td><td>NA</td><td>NA</td><td>NA</td><td>NA</td><td> 0.001079082</td></tr>\n",
       "\t<tr><th scope=row>6</th><td>92.9</td><td>2.36</td><td>6</td><td>4.531524</td><td>0.8586616</td><td> 0.002155304</td><td>0.004246294</td><td>0.004264414</td><td>0.008583724</td><td> 0</td><td> 0</td><td>NA</td><td>NA</td><td>NA</td><td>NA</td><td>NA</td><td>NA</td><td>NA</td><td>NA</td><td> 0.000000000</td></tr>\n",
       "</tbody>\n",
       "</table>\n"
      ],
      "text/latex": [
       "A data.frame: 6 × 20\n",
       "\\begin{tabular}{r|llllllllllllllllllll}\n",
       "  & price & wage & t & lprice & lwage & gprice & gwage & gwage\\_1 & gwage\\_2 & gwage\\_3 & gwage\\_4 & gwage\\_5 & gwage\\_6 & gwage\\_7 & gwage\\_8 & gwage\\_9 & gwage\\_10 & gwage\\_11 & gwage\\_12 & gprice\\_1\\\\\n",
       "  & <dbl> & <dbl> & <int> & <dbl> & <dbl> & <dbl> & <dbl> & <dbl> & <dbl> & <dbl> & <dbl> & <dbl> & <dbl> & <dbl> & <dbl> & <dbl> & <dbl> & <dbl> & <dbl> & <dbl>\\\\\n",
       "\\hline\n",
       "\t1 & 92.6 & 2.32 & 1 & 4.528289 & 0.8415672 &           NA &          NA &          NA &          NA & NA & NA & NA & NA & NA & NA & NA & NA & NA & NA &           NA\\\\\n",
       "\t2 & 92.5 & 2.32 & 2 & 4.527209 & 0.8415672 & -0.001080513 & 0.000000000 &          NA &          NA & NA & NA & NA & NA & NA & NA & NA & NA & NA & NA &           NA\\\\\n",
       "\t3 & 92.6 & 2.32 & 3 & 4.528289 & 0.8415672 &  0.001080513 & 0.000000000 & 0.000000000 &          NA & NA & NA & NA & NA & NA & NA & NA & NA & NA & NA & -0.001080513\\\\\n",
       "\t4 & 92.7 & 2.34 & 4 & 4.529368 & 0.8501509 &  0.001079082 & 0.008583724 & 0.000000000 & 0.000000000 & NA & NA & NA & NA & NA & NA & NA & NA & NA & NA &  0.001080513\\\\\n",
       "\t5 & 92.7 & 2.35 & 5 & 4.529368 & 0.8544153 &  0.000000000 & 0.004264414 & 0.008583724 & 0.000000000 &  0 & NA & NA & NA & NA & NA & NA & NA & NA & NA &  0.001079082\\\\\n",
       "\t6 & 92.9 & 2.36 & 6 & 4.531524 & 0.8586616 &  0.002155304 & 0.004246294 & 0.004264414 & 0.008583724 &  0 &  0 & NA & NA & NA & NA & NA & NA & NA & NA &  0.000000000\\\\\n",
       "\\end{tabular}\n"
      ],
      "text/markdown": [
       "\n",
       "A data.frame: 6 × 20\n",
       "\n",
       "| <!--/--> | price &lt;dbl&gt; | wage &lt;dbl&gt; | t &lt;int&gt; | lprice &lt;dbl&gt; | lwage &lt;dbl&gt; | gprice &lt;dbl&gt; | gwage &lt;dbl&gt; | gwage_1 &lt;dbl&gt; | gwage_2 &lt;dbl&gt; | gwage_3 &lt;dbl&gt; | gwage_4 &lt;dbl&gt; | gwage_5 &lt;dbl&gt; | gwage_6 &lt;dbl&gt; | gwage_7 &lt;dbl&gt; | gwage_8 &lt;dbl&gt; | gwage_9 &lt;dbl&gt; | gwage_10 &lt;dbl&gt; | gwage_11 &lt;dbl&gt; | gwage_12 &lt;dbl&gt; | gprice_1 &lt;dbl&gt; |\n",
       "|---|---|---|---|---|---|---|---|---|---|---|---|---|---|---|---|---|---|---|---|---|\n",
       "| 1 | 92.6 | 2.32 | 1 | 4.528289 | 0.8415672 |           NA |          NA |          NA |          NA | NA | NA | NA | NA | NA | NA | NA | NA | NA | NA |           NA |\n",
       "| 2 | 92.5 | 2.32 | 2 | 4.527209 | 0.8415672 | -0.001080513 | 0.000000000 |          NA |          NA | NA | NA | NA | NA | NA | NA | NA | NA | NA | NA |           NA |\n",
       "| 3 | 92.6 | 2.32 | 3 | 4.528289 | 0.8415672 |  0.001080513 | 0.000000000 | 0.000000000 |          NA | NA | NA | NA | NA | NA | NA | NA | NA | NA | NA | -0.001080513 |\n",
       "| 4 | 92.7 | 2.34 | 4 | 4.529368 | 0.8501509 |  0.001079082 | 0.008583724 | 0.000000000 | 0.000000000 | NA | NA | NA | NA | NA | NA | NA | NA | NA | NA |  0.001080513 |\n",
       "| 5 | 92.7 | 2.35 | 5 | 4.529368 | 0.8544153 |  0.000000000 | 0.004264414 | 0.008583724 | 0.000000000 |  0 | NA | NA | NA | NA | NA | NA | NA | NA | NA |  0.001079082 |\n",
       "| 6 | 92.9 | 2.36 | 6 | 4.531524 | 0.8586616 |  0.002155304 | 0.004246294 | 0.004264414 | 0.008583724 |  0 |  0 | NA | NA | NA | NA | NA | NA | NA | NA |  0.000000000 |\n",
       "\n"
      ],
      "text/plain": [
       "  price wage t lprice   lwage     gprice       gwage       gwage_1    \n",
       "1 92.6  2.32 1 4.528289 0.8415672           NA          NA          NA\n",
       "2 92.5  2.32 2 4.527209 0.8415672 -0.001080513 0.000000000          NA\n",
       "3 92.6  2.32 3 4.528289 0.8415672  0.001080513 0.000000000 0.000000000\n",
       "4 92.7  2.34 4 4.529368 0.8501509  0.001079082 0.008583724 0.000000000\n",
       "5 92.7  2.35 5 4.529368 0.8544153  0.000000000 0.004264414 0.008583724\n",
       "6 92.9  2.36 6 4.531524 0.8586616  0.002155304 0.004246294 0.004264414\n",
       "  gwage_2     gwage_3 gwage_4 gwage_5 gwage_6 gwage_7 gwage_8 gwage_9 gwage_10\n",
       "1          NA NA      NA      NA      NA      NA      NA      NA      NA      \n",
       "2          NA NA      NA      NA      NA      NA      NA      NA      NA      \n",
       "3          NA NA      NA      NA      NA      NA      NA      NA      NA      \n",
       "4 0.000000000 NA      NA      NA      NA      NA      NA      NA      NA      \n",
       "5 0.000000000  0      NA      NA      NA      NA      NA      NA      NA      \n",
       "6 0.008583724  0       0      NA      NA      NA      NA      NA      NA      \n",
       "  gwage_11 gwage_12 gprice_1    \n",
       "1 NA       NA                 NA\n",
       "2 NA       NA                 NA\n",
       "3 NA       NA       -0.001080513\n",
       "4 NA       NA        0.001080513\n",
       "5 NA       NA        0.001079082\n",
       "6 NA       NA        0.000000000"
      ]
     },
     "metadata": {},
     "output_type": "display_data"
    }
   ],
   "source": [
    "wages = read.dta(\"C:\\\\Users\\\\vinic\\\\Desktop\\\\R\\\\heiss\\\\data_wooldridge\\\\WAGEPRC.dta\")\n",
    "head(wages)"
   ]
  },
  {
   "cell_type": "code",
   "execution_count": 3,
   "metadata": {},
   "outputs": [
    {
     "data": {
      "text/plain": [
       "\n",
       "Call:\n",
       "lm(formula = gprice ~ gwage + gwage_1 + gwage_2 + gwage_3 + gwage_4 + \n",
       "    gwage_5 + gwage_6 + gwage_7 + gwage_8 + gwage_9 + gwage_10 + \n",
       "    gwage_11 + gwage_12, data = wages)\n",
       "\n",
       "Residuals:\n",
       "       Min         1Q     Median         3Q        Max \n",
       "-0.0073835 -0.0018947 -0.0001845  0.0017291  0.0132816 \n",
       "\n",
       "Coefficients:\n",
       "              Estimate Std. Error t value Pr(>|t|)    \n",
       "(Intercept) -0.0009296  0.0005662  -1.642  0.10183    \n",
       "gwage        0.1190416  0.0517725   2.299  0.02228 *  \n",
       "gwage_1      0.0972174  0.0390409   2.490  0.01340 *  \n",
       "gwage_2      0.0399518  0.0390717   1.023  0.30749    \n",
       "gwage_3      0.0382652  0.0391513   0.977  0.32930    \n",
       "gwage_4      0.0813362  0.0393483   2.067  0.03972 *  \n",
       "gwage_5      0.1068520  0.0391937   2.726  0.00684 ** \n",
       "gwage_6      0.0949731  0.0392186   2.422  0.01614 *  \n",
       "gwage_7      0.1037922  0.0393788   2.636  0.00890 ** \n",
       "gwage_8      0.1025629  0.0394884   2.597  0.00993 ** \n",
       "gwage_9      0.1585079  0.0393341   4.030 7.34e-05 ***\n",
       "gwage_10     0.1104412  0.0392229   2.816  0.00524 ** \n",
       "gwage_11     0.1033206  0.0394388   2.620  0.00932 ** \n",
       "gwage_12     0.0156575  0.0518343   0.302  0.76284    \n",
       "---\n",
       "Signif. codes:  0 '***' 0.001 '**' 0.01 '*' 0.05 '.' 0.1 ' ' 1\n",
       "\n",
       "Residual standard error: 0.002857 on 259 degrees of freedom\n",
       "  (13 observations deleted due to missingness)\n",
       "Multiple R-squared:  0.3171,\tAdjusted R-squared:  0.2828 \n",
       "F-statistic: 9.251 on 13 and 259 DF,  p-value: 1.158e-15\n"
      ]
     },
     "metadata": {},
     "output_type": "display_data"
    }
   ],
   "source": [
    "model = lm(gprice ~ gwage + gwage_1 + gwage_2 + gwage_3 + gwage_4 + gwage_5 + gwage_6 + gwage_7 + gwage_8 + gwage_9 + gwage_10 + gwage_11 + gwage_12, data=wages)\n",
    "\n",
    "summary(model) "
   ]
  },
  {
   "cell_type": "code",
   "execution_count": 4,
   "metadata": {},
   "outputs": [
    {
     "name": "stderr",
     "output_type": "stream",
     "text": [
      "Warning message in read.dta(\"C:\\\\Users\\\\vinic\\\\Desktop\\\\R\\\\heiss\\\\data_wooldridge\\\\HSEINV.dta\"):\n",
      "\"cannot read factor labels from Stata 5 files\"\n"
     ]
    },
    {
     "data": {
      "text/html": [
       "<table>\n",
       "<caption>A data.frame: 6 × 14</caption>\n",
       "<thead>\n",
       "\t<tr><th></th><th scope=col>year</th><th scope=col>inv</th><th scope=col>pop</th><th scope=col>price</th><th scope=col>linv</th><th scope=col>lpop</th><th scope=col>lprice</th><th scope=col>t</th><th scope=col>invpc</th><th scope=col>linvpc</th><th scope=col>lprice_1</th><th scope=col>linvpc_1</th><th scope=col>gprice</th><th scope=col>ginvpc</th></tr>\n",
       "\t<tr><th></th><th scope=col>&lt;int&gt;</th><th scope=col>&lt;dbl&gt;</th><th scope=col>&lt;dbl&gt;</th><th scope=col>&lt;dbl&gt;</th><th scope=col>&lt;dbl&gt;</th><th scope=col>&lt;dbl&gt;</th><th scope=col>&lt;dbl&gt;</th><th scope=col>&lt;int&gt;</th><th scope=col>&lt;dbl&gt;</th><th scope=col>&lt;dbl&gt;</th><th scope=col>&lt;dbl&gt;</th><th scope=col>&lt;dbl&gt;</th><th scope=col>&lt;dbl&gt;</th><th scope=col>&lt;dbl&gt;</th></tr>\n",
       "</thead>\n",
       "<tbody>\n",
       "\t<tr><th scope=row>1</th><td>1947</td><td>54864</td><td>144126</td><td>0.8190</td><td>10.91261</td><td>11.87844</td><td>-0.1996712</td><td>1</td><td>0.3806669</td><td>-0.9658305</td><td>        NA</td><td>        NA</td><td>          NA</td><td>         NA</td></tr>\n",
       "\t<tr><th scope=row>2</th><td>1948</td><td>64717</td><td>146631</td><td>0.8649</td><td>11.07778</td><td>11.89567</td><td>-0.1451414</td><td>2</td><td>0.4413596</td><td>-0.8178953</td><td>-0.1996712</td><td>-0.9658305</td><td> 0.054529801</td><td> 0.14793521</td></tr>\n",
       "\t<tr><th scope=row>3</th><td>1949</td><td>63150</td><td>149188</td><td>0.8456</td><td>11.05327</td><td>11.91296</td><td>-0.1677088</td><td>3</td><td>0.4232914</td><td>-0.8596944</td><td>-0.1451414</td><td>-0.8178953</td><td>-0.022567436</td><td>-0.04179913</td></tr>\n",
       "\t<tr><th scope=row>4</th><td>1950</td><td>86014</td><td>151684</td><td>0.8765</td><td>11.36227</td><td>11.92955</td><td>-0.1318186</td><td>4</td><td>0.5670605</td><td>-0.5672894</td><td>-0.1677088</td><td>-0.8596944</td><td> 0.035890266</td><td> 0.29240507</td></tr>\n",
       "\t<tr><th scope=row>5</th><td>1951</td><td>70610</td><td>154287</td><td>0.8819</td><td>11.16493</td><td>11.94657</td><td>-0.1256766</td><td>5</td><td>0.4576536</td><td>-0.7816427</td><td>-0.1318186</td><td>-0.5672894</td><td> 0.006141976</td><td>-0.21435338</td></tr>\n",
       "\t<tr><th scope=row>6</th><td>1952</td><td>68574</td><td>156954</td><td>0.8842</td><td>11.13567</td><td>11.96371</td><td>-0.1230720</td><td>6</td><td>0.4369051</td><td>-0.8280393</td><td>-0.1256766</td><td>-0.7816427</td><td> 0.002604567</td><td>-0.04639655</td></tr>\n",
       "</tbody>\n",
       "</table>\n"
      ],
      "text/latex": [
       "A data.frame: 6 × 14\n",
       "\\begin{tabular}{r|llllllllllllll}\n",
       "  & year & inv & pop & price & linv & lpop & lprice & t & invpc & linvpc & lprice\\_1 & linvpc\\_1 & gprice & ginvpc\\\\\n",
       "  & <int> & <dbl> & <dbl> & <dbl> & <dbl> & <dbl> & <dbl> & <int> & <dbl> & <dbl> & <dbl> & <dbl> & <dbl> & <dbl>\\\\\n",
       "\\hline\n",
       "\t1 & 1947 & 54864 & 144126 & 0.8190 & 10.91261 & 11.87844 & -0.1996712 & 1 & 0.3806669 & -0.9658305 &         NA &         NA &           NA &          NA\\\\\n",
       "\t2 & 1948 & 64717 & 146631 & 0.8649 & 11.07778 & 11.89567 & -0.1451414 & 2 & 0.4413596 & -0.8178953 & -0.1996712 & -0.9658305 &  0.054529801 &  0.14793521\\\\\n",
       "\t3 & 1949 & 63150 & 149188 & 0.8456 & 11.05327 & 11.91296 & -0.1677088 & 3 & 0.4232914 & -0.8596944 & -0.1451414 & -0.8178953 & -0.022567436 & -0.04179913\\\\\n",
       "\t4 & 1950 & 86014 & 151684 & 0.8765 & 11.36227 & 11.92955 & -0.1318186 & 4 & 0.5670605 & -0.5672894 & -0.1677088 & -0.8596944 &  0.035890266 &  0.29240507\\\\\n",
       "\t5 & 1951 & 70610 & 154287 & 0.8819 & 11.16493 & 11.94657 & -0.1256766 & 5 & 0.4576536 & -0.7816427 & -0.1318186 & -0.5672894 &  0.006141976 & -0.21435338\\\\\n",
       "\t6 & 1952 & 68574 & 156954 & 0.8842 & 11.13567 & 11.96371 & -0.1230720 & 6 & 0.4369051 & -0.8280393 & -0.1256766 & -0.7816427 &  0.002604567 & -0.04639655\\\\\n",
       "\\end{tabular}\n"
      ],
      "text/markdown": [
       "\n",
       "A data.frame: 6 × 14\n",
       "\n",
       "| <!--/--> | year &lt;int&gt; | inv &lt;dbl&gt; | pop &lt;dbl&gt; | price &lt;dbl&gt; | linv &lt;dbl&gt; | lpop &lt;dbl&gt; | lprice &lt;dbl&gt; | t &lt;int&gt; | invpc &lt;dbl&gt; | linvpc &lt;dbl&gt; | lprice_1 &lt;dbl&gt; | linvpc_1 &lt;dbl&gt; | gprice &lt;dbl&gt; | ginvpc &lt;dbl&gt; |\n",
       "|---|---|---|---|---|---|---|---|---|---|---|---|---|---|---|\n",
       "| 1 | 1947 | 54864 | 144126 | 0.8190 | 10.91261 | 11.87844 | -0.1996712 | 1 | 0.3806669 | -0.9658305 |         NA |         NA |           NA |          NA |\n",
       "| 2 | 1948 | 64717 | 146631 | 0.8649 | 11.07778 | 11.89567 | -0.1451414 | 2 | 0.4413596 | -0.8178953 | -0.1996712 | -0.9658305 |  0.054529801 |  0.14793521 |\n",
       "| 3 | 1949 | 63150 | 149188 | 0.8456 | 11.05327 | 11.91296 | -0.1677088 | 3 | 0.4232914 | -0.8596944 | -0.1451414 | -0.8178953 | -0.022567436 | -0.04179913 |\n",
       "| 4 | 1950 | 86014 | 151684 | 0.8765 | 11.36227 | 11.92955 | -0.1318186 | 4 | 0.5670605 | -0.5672894 | -0.1677088 | -0.8596944 |  0.035890266 |  0.29240507 |\n",
       "| 5 | 1951 | 70610 | 154287 | 0.8819 | 11.16493 | 11.94657 | -0.1256766 | 5 | 0.4576536 | -0.7816427 | -0.1318186 | -0.5672894 |  0.006141976 | -0.21435338 |\n",
       "| 6 | 1952 | 68574 | 156954 | 0.8842 | 11.13567 | 11.96371 | -0.1230720 | 6 | 0.4369051 | -0.8280393 | -0.1256766 | -0.7816427 |  0.002604567 | -0.04639655 |\n",
       "\n"
      ],
      "text/plain": [
       "  year inv   pop    price  linv     lpop     lprice     t invpc     linvpc    \n",
       "1 1947 54864 144126 0.8190 10.91261 11.87844 -0.1996712 1 0.3806669 -0.9658305\n",
       "2 1948 64717 146631 0.8649 11.07778 11.89567 -0.1451414 2 0.4413596 -0.8178953\n",
       "3 1949 63150 149188 0.8456 11.05327 11.91296 -0.1677088 3 0.4232914 -0.8596944\n",
       "4 1950 86014 151684 0.8765 11.36227 11.92955 -0.1318186 4 0.5670605 -0.5672894\n",
       "5 1951 70610 154287 0.8819 11.16493 11.94657 -0.1256766 5 0.4576536 -0.7816427\n",
       "6 1952 68574 156954 0.8842 11.13567 11.96371 -0.1230720 6 0.4369051 -0.8280393\n",
       "  lprice_1   linvpc_1   gprice       ginvpc     \n",
       "1         NA         NA           NA          NA\n",
       "2 -0.1996712 -0.9658305  0.054529801  0.14793521\n",
       "3 -0.1451414 -0.8178953 -0.022567436 -0.04179913\n",
       "4 -0.1677088 -0.8596944  0.035890266  0.29240507\n",
       "5 -0.1318186 -0.5672894  0.006141976 -0.21435338\n",
       "6 -0.1256766 -0.7816427  0.002604567 -0.04639655"
      ]
     },
     "metadata": {},
     "output_type": "display_data"
    }
   ],
   "source": [
    "#exercicio c1\n",
    "\n",
    "data_house = read.dta(\"C:\\\\Users\\\\vinic\\\\Desktop\\\\R\\\\heiss\\\\data_wooldridge\\\\HSEINV.dta\")\n",
    "head(data_house)"
   ]
  },
  {
   "cell_type": "code",
   "execution_count": 5,
   "metadata": {},
   "outputs": [
    {
     "data": {
      "text/html": [
       "0.639124587909112"
      ],
      "text/latex": [
       "0.639124587909112"
      ],
      "text/markdown": [
       "0.639124587909112"
      ],
      "text/plain": [
       "[1] 0.6391246"
      ]
     },
     "metadata": {},
     "output_type": "display_data"
    }
   ],
   "source": [
    "#log(inv)\n",
    "n = length(data_house$linvpc)\n",
    "x_t0 <- data_house$linvpc[-1] \n",
    "x_t1 <- data_house$linvpc[-n]\n",
    "cor(x_t0, x_t1) #0.6391246"
   ]
  },
  {
   "cell_type": "code",
   "execution_count": 7,
   "metadata": {},
   "outputs": [
    {
     "data": {
      "image/png": "[encoded data removed]",
      "text/plain": [
       "Plot with title \"Series  data_house$linvpc\""
      ]
     },
     "metadata": {
      "image/png": {
       "height": 420,
       "width": 420
      }
     },
     "output_type": "display_data"
    }
   ],
   "source": [
    "acf(data_house$linvpc, lag.max = 1, plot = TRUE) #diferente mas é pra ser assim\n",
    "#cor(x_t1, x_t0) * (n-1)/n #difference dos metodos \n",
    "\t\t\t\t     #(https://www.datacamp.com/community/tutorials/autocorrelation-r)\n"
   ]
  },
  {
   "cell_type": "code",
   "execution_count": 8,
   "metadata": {},
   "outputs": [
    {
     "data": {
      "text/plain": [
       "\n",
       "Call:\n",
       "lm(formula = linvpc ~ t, data = data_house)\n",
       "\n",
       "Residuals:\n",
       "     Min       1Q   Median       3Q      Max \n",
       "-0.46210 -0.07763 -0.01810  0.08809  0.27774 \n",
       "\n",
       "Coefficients:\n",
       "             Estimate Std. Error t value Pr(>|t|)    \n",
       "(Intercept) -0.841292   0.044744 -18.802  < 2e-16 ***\n",
       "t            0.008146   0.001813   4.493 5.85e-05 ***\n",
       "---\n",
       "Signif. codes:  0 '***' 0.001 '**' 0.01 '*' 0.05 '.' 0.1 ' ' 1\n",
       "\n",
       "Residual standard error: 0.1424 on 40 degrees of freedom\n",
       "Multiple R-squared:  0.3354,\tAdjusted R-squared:  0.3188 \n",
       "F-statistic: 20.19 on 1 and 40 DF,  p-value: 5.854e-05\n"
      ]
     },
     "metadata": {},
     "output_type": "display_data"
    }
   ],
   "source": [
    "#modelo detrended inv\n",
    "\n",
    "modelo_detrend = lm(linvpc ~ t, data=data_house)\n",
    "summary(modelo_detrend)"
   ]
  },
  {
   "cell_type": "code",
   "execution_count": 9,
   "metadata": {},
   "outputs": [
    {
     "data": {
      "text/html": [
       "0.484740143375727"
      ],
      "text/latex": [
       "0.484740143375727"
      ],
      "text/markdown": [
       "0.484740143375727"
      ],
      "text/plain": [
       "[1] 0.4847401"
      ]
     },
     "metadata": {},
     "output_type": "display_data"
    }
   ],
   "source": [
    "dot_linvpc = residuals(modelo_detrend)\n",
    "data_house$dot_linvpc = dot_linvpc\n",
    "\n",
    "n = length(data_house$dot_linvpc)\n",
    "x_t0 <- data_house$dot_linvpc[-1] \n",
    "x_t1 <- data_house$dot_linvpc[-n]\n",
    "cor(x_t0, x_t1) #0.4847401"
   ]
  },
  {
   "cell_type": "code",
   "execution_count": 10,
   "metadata": {},
   "outputs": [
    {
     "data": {
      "text/html": [
       "0.949158550500076"
      ],
      "text/latex": [
       "0.949158550500076"
      ],
      "text/markdown": [
       "0.949158550500076"
      ],
      "text/plain": [
       "[1] 0.9491586"
      ]
     },
     "metadata": {},
     "output_type": "display_data"
    }
   ],
   "source": [
    "#log(price)\n",
    "n = length(data_house$lprice)\n",
    "x_t0 <- data_house$lprice[-1] \n",
    "x_t1 <- data_house$lprice[-n]\n",
    "cor(x_t0, x_t1) #0.9491586"
   ]
  },
  {
   "cell_type": "code",
   "execution_count": 11,
   "metadata": {},
   "outputs": [
    {
     "data": {
      "text/html": [
       "0.821525562022533"
      ],
      "text/latex": [
       "0.821525562022533"
      ],
      "text/markdown": [
       "0.821525562022533"
      ],
      "text/plain": [
       "[1] 0.8215256"
      ]
     },
     "metadata": {},
     "output_type": "display_data"
    }
   ],
   "source": [
    "#detrended log(price)\n",
    "\n",
    "modelo_detrend_price = lm(lprice ~ t, data = data_house)\n",
    "dot_price = residuals(modelo_detrend_price)\n",
    "n = length(dot_price)\n",
    "x_t0 <- dot_price[-1] \n",
    "x_t1 <- dot_price[-n]\n",
    "cor(x_t0, x_t1) #0.8215256\n"
   ]
  },
  {
   "cell_type": "code",
   "execution_count": 13,
   "metadata": {},
   "outputs": [],
   "source": [
    "#b) estimar linvpc ~ b0 + b1*diff(log(price)) + b2t\n",
    "\n",
    "#data_house$gprice_manual = diff(data_house$lprice)\n",
    "\n",
    "#model = lm(linvpc ~ gprice + t, data=data_house)\n",
    "#summary(model)"
   ]
  },
  {
   "cell_type": "code",
   "execution_count": 14,
   "metadata": {},
   "outputs": [
    {
     "data": {
      "text/plain": [
       "\n",
       "Call:\n",
       "lm(formula = linvpc_detrended ~ gprice + t, data = data_house)\n",
       "\n",
       "Residuals:\n",
       "     Min       1Q   Median       3Q      Max \n",
       "-0.33836 -0.06357 -0.00107  0.05766  0.25917 \n",
       "\n",
       "Coefficients:\n",
       "              Estimate Std. Error t value Pr(>|t|)    \n",
       "(Intercept) -0.0119627  0.0402910  -0.297 0.768153    \n",
       "gprice       3.8786458  0.9579971   4.049 0.000244 ***\n",
       "t           -0.0001089  0.0015952  -0.068 0.945954    \n",
       "---\n",
       "Signif. codes:  0 '***' 0.001 '**' 0.01 '*' 0.05 '.' 0.1 ' ' 1\n",
       "\n",
       "Residual standard error: 0.1207 on 38 degrees of freedom\n",
       "  (1 observation deleted due to missingness)\n",
       "Multiple R-squared:  0.3026,\tAdjusted R-squared:  0.2659 \n",
       "F-statistic: 8.242 on 2 and 38 DF,  p-value: 0.001063\n"
      ]
     },
     "metadata": {},
     "output_type": "display_data"
    }
   ],
   "source": [
    "#c) detrend linvpc e usar como variavel dependente em b)\n",
    "\n",
    "model = lm(linvpc ~ t, data=data_house)\n",
    "data_house$linvpc_detrended = residuals(model)\n",
    "model = lm(linvpc_detrended ~ gprice + t, data=data_house)\n",
    "summary(model)"
   ]
  },
  {
   "cell_type": "code",
   "execution_count": 15,
   "metadata": {},
   "outputs": [
    {
     "data": {
      "text/plain": [
       "\n",
       "Call:\n",
       "lm(formula = ginvpc ~ gprice + t, data = data_house)\n",
       "\n",
       "Residuals:\n",
       "     Min       1Q   Median       3Q      Max \n",
       "-0.30442 -0.08426 -0.01110  0.10516  0.38073 \n",
       "\n",
       "Coefficients:\n",
       "             Estimate Std. Error t value Pr(>|t|)\n",
       "(Intercept) 5.932e-03  4.791e-02   0.124    0.902\n",
       "gprice      1.567e+00  1.139e+00   1.375    0.177\n",
       "t           3.698e-05  1.897e-03   0.019    0.985\n",
       "\n",
       "Residual standard error: 0.1435 on 38 degrees of freedom\n",
       "  (1 observation deleted due to missingness)\n",
       "Multiple R-squared:  0.04749,\tAdjusted R-squared:  -0.002643 \n",
       "F-statistic: 0.9473 on 2 and 38 DF,  p-value: 0.3968\n"
      ]
     },
     "metadata": {},
     "output_type": "display_data"
    }
   ],
   "source": [
    "#d) diff(linvpc) ~ gprice_manual + t\n",
    "\n",
    "model = lm(ginvpc ~ gprice + t, data=data_house)\n",
    "summary(model)"
   ]
  },
  {
   "cell_type": "code",
   "execution_count": 16,
   "metadata": {},
   "outputs": [
    {
     "name": "stderr",
     "output_type": "stream",
     "text": [
      "Warning message in read.dta(\"C:\\\\Users\\\\vinic\\\\Desktop\\\\R\\\\heiss\\\\data_wooldridge\\\\EARNS.dta\"):\n",
      "\"cannot read factor labels from Stata 5 files\"\n"
     ]
    },
    {
     "data": {
      "text/html": [
       "<table>\n",
       "<caption>A data.frame: 6 × 14</caption>\n",
       "<thead>\n",
       "\t<tr><th></th><th scope=col>year</th><th scope=col>wkearns</th><th scope=col>wkhours</th><th scope=col>outphr</th><th scope=col>hrwage</th><th scope=col>lhrwage</th><th scope=col>loutphr</th><th scope=col>t</th><th scope=col>ghrwage</th><th scope=col>goutphr</th><th scope=col>ghrwge_1</th><th scope=col>goutph_1</th><th scope=col>goutph_2</th><th scope=col>lwkhours</th></tr>\n",
       "\t<tr><th></th><th scope=col>&lt;int&gt;</th><th scope=col>&lt;dbl&gt;</th><th scope=col>&lt;dbl&gt;</th><th scope=col>&lt;dbl&gt;</th><th scope=col>&lt;dbl&gt;</th><th scope=col>&lt;dbl&gt;</th><th scope=col>&lt;dbl&gt;</th><th scope=col>&lt;int&gt;</th><th scope=col>&lt;dbl&gt;</th><th scope=col>&lt;dbl&gt;</th><th scope=col>&lt;dbl&gt;</th><th scope=col>&lt;dbl&gt;</th><th scope=col>&lt;dbl&gt;</th><th scope=col>&lt;dbl&gt;</th></tr>\n",
       "</thead>\n",
       "<tbody>\n",
       "\t<tr><th scope=row>1</th><td>1947</td><td>123.52</td><td>40.3</td><td>51.4</td><td>3.065012</td><td>1.120052</td><td>3.939638</td><td>1</td><td>         NA</td><td>        NA</td><td>         NA</td><td>        NA</td><td>        NA</td><td>3.696352</td></tr>\n",
       "\t<tr><th scope=row>2</th><td>1948</td><td>123.43</td><td>40.0</td><td>53.3</td><td>3.085750</td><td>1.126795</td><td>3.975936</td><td>2</td><td>0.006743193</td><td>0.03629827</td><td>         NA</td><td>        NA</td><td>        NA</td><td>3.688879</td></tr>\n",
       "\t<tr><th scope=row>3</th><td>1949</td><td>127.84</td><td>39.4</td><td>54.2</td><td>3.244670</td><td>1.177014</td><td>3.992681</td><td>3</td><td>0.050218821</td><td>0.01674461</td><td>0.006743193</td><td>0.03629827</td><td>        NA</td><td>3.673766</td></tr>\n",
       "\t<tr><th scope=row>4</th><td>1950</td><td>133.83</td><td>39.8</td><td>57.7</td><td>3.362563</td><td>1.212703</td><td>4.055257</td><td>4</td><td>0.035689831</td><td>0.06257629</td><td>0.050218821</td><td>0.01674461</td><td>0.03629827</td><td>3.683867</td></tr>\n",
       "\t<tr><th scope=row>5</th><td>1951</td><td>134.87</td><td>39.9</td><td>59.4</td><td>3.380200</td><td>1.217935</td><td>4.084294</td><td>5</td><td>0.005231500</td><td>0.02903700</td><td>0.035689831</td><td>0.06257629</td><td>0.01674461</td><td>3.686376</td></tr>\n",
       "\t<tr><th scope=row>6</th><td>1952</td><td>138.47</td><td>39.9</td><td>60.7</td><td>3.470426</td><td>1.244277</td><td>4.105944</td><td>6</td><td>0.026342392</td><td>0.02164936</td><td>0.005231500</td><td>0.02903700</td><td>0.06257629</td><td>3.686376</td></tr>\n",
       "</tbody>\n",
       "</table>\n"
      ],
      "text/latex": [
       "A data.frame: 6 × 14\n",
       "\\begin{tabular}{r|llllllllllllll}\n",
       "  & year & wkearns & wkhours & outphr & hrwage & lhrwage & loutphr & t & ghrwage & goutphr & ghrwge\\_1 & goutph\\_1 & goutph\\_2 & lwkhours\\\\\n",
       "  & <int> & <dbl> & <dbl> & <dbl> & <dbl> & <dbl> & <dbl> & <int> & <dbl> & <dbl> & <dbl> & <dbl> & <dbl> & <dbl>\\\\\n",
       "\\hline\n",
       "\t1 & 1947 & 123.52 & 40.3 & 51.4 & 3.065012 & 1.120052 & 3.939638 & 1 &          NA &         NA &          NA &         NA &         NA & 3.696352\\\\\n",
       "\t2 & 1948 & 123.43 & 40.0 & 53.3 & 3.085750 & 1.126795 & 3.975936 & 2 & 0.006743193 & 0.03629827 &          NA &         NA &         NA & 3.688879\\\\\n",
       "\t3 & 1949 & 127.84 & 39.4 & 54.2 & 3.244670 & 1.177014 & 3.992681 & 3 & 0.050218821 & 0.01674461 & 0.006743193 & 0.03629827 &         NA & 3.673766\\\\\n",
       "\t4 & 1950 & 133.83 & 39.8 & 57.7 & 3.362563 & 1.212703 & 4.055257 & 4 & 0.035689831 & 0.06257629 & 0.050218821 & 0.01674461 & 0.03629827 & 3.683867\\\\\n",
       "\t5 & 1951 & 134.87 & 39.9 & 59.4 & 3.380200 & 1.217935 & 4.084294 & 5 & 0.005231500 & 0.02903700 & 0.035689831 & 0.06257629 & 0.01674461 & 3.686376\\\\\n",
       "\t6 & 1952 & 138.47 & 39.9 & 60.7 & 3.470426 & 1.244277 & 4.105944 & 6 & 0.026342392 & 0.02164936 & 0.005231500 & 0.02903700 & 0.06257629 & 3.686376\\\\\n",
       "\\end{tabular}\n"
      ],
      "text/markdown": [
       "\n",
       "A data.frame: 6 × 14\n",
       "\n",
       "| <!--/--> | year &lt;int&gt; | wkearns &lt;dbl&gt; | wkhours &lt;dbl&gt; | outphr &lt;dbl&gt; | hrwage &lt;dbl&gt; | lhrwage &lt;dbl&gt; | loutphr &lt;dbl&gt; | t &lt;int&gt; | ghrwage &lt;dbl&gt; | goutphr &lt;dbl&gt; | ghrwge_1 &lt;dbl&gt; | goutph_1 &lt;dbl&gt; | goutph_2 &lt;dbl&gt; | lwkhours &lt;dbl&gt; |\n",
       "|---|---|---|---|---|---|---|---|---|---|---|---|---|---|---|\n",
       "| 1 | 1947 | 123.52 | 40.3 | 51.4 | 3.065012 | 1.120052 | 3.939638 | 1 |          NA |         NA |          NA |         NA |         NA | 3.696352 |\n",
       "| 2 | 1948 | 123.43 | 40.0 | 53.3 | 3.085750 | 1.126795 | 3.975936 | 2 | 0.006743193 | 0.03629827 |          NA |         NA |         NA | 3.688879 |\n",
       "| 3 | 1949 | 127.84 | 39.4 | 54.2 | 3.244670 | 1.177014 | 3.992681 | 3 | 0.050218821 | 0.01674461 | 0.006743193 | 0.03629827 |         NA | 3.673766 |\n",
       "| 4 | 1950 | 133.83 | 39.8 | 57.7 | 3.362563 | 1.212703 | 4.055257 | 4 | 0.035689831 | 0.06257629 | 0.050218821 | 0.01674461 | 0.03629827 | 3.683867 |\n",
       "| 5 | 1951 | 134.87 | 39.9 | 59.4 | 3.380200 | 1.217935 | 4.084294 | 5 | 0.005231500 | 0.02903700 | 0.035689831 | 0.06257629 | 0.01674461 | 3.686376 |\n",
       "| 6 | 1952 | 138.47 | 39.9 | 60.7 | 3.470426 | 1.244277 | 4.105944 | 6 | 0.026342392 | 0.02164936 | 0.005231500 | 0.02903700 | 0.06257629 | 3.686376 |\n",
       "\n"
      ],
      "text/plain": [
       "  year wkearns wkhours outphr hrwage   lhrwage  loutphr  t ghrwage    \n",
       "1 1947 123.52  40.3    51.4   3.065012 1.120052 3.939638 1          NA\n",
       "2 1948 123.43  40.0    53.3   3.085750 1.126795 3.975936 2 0.006743193\n",
       "3 1949 127.84  39.4    54.2   3.244670 1.177014 3.992681 3 0.050218821\n",
       "4 1950 133.83  39.8    57.7   3.362563 1.212703 4.055257 4 0.035689831\n",
       "5 1951 134.87  39.9    59.4   3.380200 1.217935 4.084294 5 0.005231500\n",
       "6 1952 138.47  39.9    60.7   3.470426 1.244277 4.105944 6 0.026342392\n",
       "  goutphr    ghrwge_1    goutph_1   goutph_2   lwkhours\n",
       "1         NA          NA         NA         NA 3.696352\n",
       "2 0.03629827          NA         NA         NA 3.688879\n",
       "3 0.01674461 0.006743193 0.03629827         NA 3.673766\n",
       "4 0.06257629 0.050218821 0.01674461 0.03629827 3.683867\n",
       "5 0.02903700 0.035689831 0.06257629 0.01674461 3.686376\n",
       "6 0.02164936 0.005231500 0.02903700 0.06257629 3.686376"
      ]
     },
     "metadata": {},
     "output_type": "display_data"
    }
   ],
   "source": [
    "#c2: salário e produtividade por hora\n",
    "\n",
    "#a) estimar ghrwage ~ goutphr + goutph_1 (lembra que g é a diff do log)\n",
    "\n",
    "data_earns = read.dta(\"C:\\\\Users\\\\vinic\\\\Desktop\\\\R\\\\heiss\\\\data_wooldridge\\\\EARNS.dta\")\n",
    "head(data_earns)"
   ]
  },
  {
   "cell_type": "code",
   "execution_count": 17,
   "metadata": {},
   "outputs": [
    {
     "data": {
      "text/plain": [
       "\n",
       "Call:\n",
       "lm(formula = ghrwage ~ goutphr + goutph_1, data = data_earns)\n",
       "\n",
       "Residuals:\n",
       "      Min        1Q    Median        3Q       Max \n",
       "-0.034130 -0.012160 -0.000451  0.007516  0.034636 \n",
       "\n",
       "Coefficients:\n",
       "             Estimate Std. Error t value Pr(>|t|)    \n",
       "(Intercept) -0.010425   0.004544  -2.294 0.027713 *  \n",
       "goutphr      0.728364   0.167222   4.356 0.000105 ***\n",
       "goutph_1     0.457635   0.165613   2.763 0.008959 ** \n",
       "---\n",
       "Signif. codes:  0 '***' 0.001 '**' 0.01 '*' 0.05 '.' 0.1 ' ' 1\n",
       "\n",
       "Residual standard error: 0.01554 on 36 degrees of freedom\n",
       "  (2 observations deleted due to missingness)\n",
       "Multiple R-squared:  0.4931,\tAdjusted R-squared:  0.465 \n",
       "F-statistic: 17.51 on 2 and 36 DF,  p-value: 4.878e-06\n"
      ]
     },
     "metadata": {},
     "output_type": "display_data"
    }
   ],
   "source": [
    "summary(lm(ghrwage ~ goutphr + goutph_1, data=data_earns))"
   ]
  },
  {
   "cell_type": "code",
   "execution_count": 18,
   "metadata": {},
   "outputs": [
    {
     "data": {
      "text/plain": [
       "\n",
       "Call:\n",
       "lm(formula = ghrwage ~ goutphr + append(diff(goutphr), NA, 0), \n",
       "    data = data_earns)\n",
       "\n",
       "Residuals:\n",
       "      Min        1Q    Median        3Q       Max \n",
       "-0.034130 -0.012160 -0.000451  0.007516  0.034636 \n",
       "\n",
       "Coefficients:\n",
       "                              Estimate Std. Error t value Pr(>|t|)    \n",
       "(Intercept)                  -0.010425   0.004544  -2.294  0.02771 *  \n",
       "goutphr                       1.185999   0.203142   5.838 1.14e-06 ***\n",
       "append(diff(goutphr), NA, 0) -0.457635   0.165613  -2.763  0.00896 ** \n",
       "---\n",
       "Signif. codes:  0 '***' 0.001 '**' 0.01 '*' 0.05 '.' 0.1 ' ' 1\n",
       "\n",
       "Residual standard error: 0.01554 on 36 degrees of freedom\n",
       "  (2 observations deleted due to missingness)\n",
       "Multiple R-squared:  0.4931,\tAdjusted R-squared:  0.465 \n",
       "F-statistic: 17.51 on 2 and 36 DF,  p-value: 4.878e-06\n"
      ]
     },
     "metadata": {},
     "output_type": "display_data"
    }
   ],
   "source": [
    "#b) isola b1 em theta = b1 + b2 e agora regressa\n",
    "\t# y ~ b0 + theta*x + b2(x2 - x1)\n",
    "\n",
    "#falhamos em rejeitar h0: theta = 1 (aumento na produtividade é repassado integralmente ao salário)\n",
    "summary(lm(ghrwage ~ goutphr + append(diff(goutphr), NA, 0), data=data_earns))"
   ]
  },
  {
   "cell_type": "code",
   "execution_count": 19,
   "metadata": {},
   "outputs": [
    {
     "data": {
      "text/plain": [
       "\n",
       "Call:\n",
       "lm(formula = ghrwage ~ goutphr + goutph_1 + goutph_2, data = data_earns)\n",
       "\n",
       "Residuals:\n",
       "      Min        1Q    Median        3Q       Max \n",
       "-0.029659 -0.011734  0.001379  0.006884  0.034995 \n",
       "\n",
       "Coefficients:\n",
       "             Estimate Std. Error t value Pr(>|t|)    \n",
       "(Intercept) -0.011284   0.004841  -2.331   0.0258 *  \n",
       "goutphr      0.746427   0.161504   4.622 5.28e-05 ***\n",
       "goutph_1     0.374046   0.166531   2.246   0.0313 *  \n",
       "goutph_2     0.065349   0.159707   0.409   0.6850    \n",
       "---\n",
       "Signif. codes:  0 '***' 0.001 '**' 0.01 '*' 0.05 '.' 0.1 ' ' 1\n",
       "\n",
       "Residual standard error: 0.01493 on 34 degrees of freedom\n",
       "  (3 observations deleted due to missingness)\n",
       "Multiple R-squared:  0.5151,\tAdjusted R-squared:  0.4724 \n",
       "F-statistic: 12.04 on 3 and 34 DF,  p-value: 1.583e-05\n"
      ]
     },
     "metadata": {},
     "output_type": "display_data"
    }
   ],
   "source": [
    "#c) tentando colocar goutph_2\n",
    "\n",
    "summary(lm(ghrwage ~ goutphr + goutph_1 + goutph_2, data=data_earns)) "
   ]
  },
  {
   "cell_type": "code",
   "execution_count": 20,
   "metadata": {},
   "outputs": [
    {
     "name": "stderr",
     "output_type": "stream",
     "text": [
      "Warning message in read.dta(\"C:\\\\Users\\\\vinic\\\\Desktop\\\\R\\\\heiss\\\\data_wooldridge\\\\NYSE.dta\"):\n",
      "\"cannot read factor labels from Stata 5 files\"\n"
     ]
    },
    {
     "data": {
      "text/html": [
       "<table>\n",
       "<caption>A data.frame: 6 × 8</caption>\n",
       "<thead>\n",
       "\t<tr><th></th><th scope=col>price</th><th scope=col>return</th><th scope=col>return_1</th><th scope=col>t</th><th scope=col>price_1</th><th scope=col>price_2</th><th scope=col>cprice</th><th scope=col>cprice_1</th></tr>\n",
       "\t<tr><th></th><th scope=col>&lt;dbl&gt;</th><th scope=col>&lt;dbl&gt;</th><th scope=col>&lt;dbl&gt;</th><th scope=col>&lt;int&gt;</th><th scope=col>&lt;dbl&gt;</th><th scope=col>&lt;dbl&gt;</th><th scope=col>&lt;dbl&gt;</th><th scope=col>&lt;dbl&gt;</th></tr>\n",
       "</thead>\n",
       "<tbody>\n",
       "\t<tr><th scope=row>1</th><td>49.75</td><td>        NA</td><td>       NA</td><td>1</td><td>   NA</td><td>   NA</td><td>        NA</td><td>       NA</td></tr>\n",
       "\t<tr><th scope=row>2</th><td>51.44</td><td> 3.3969822</td><td>       NA</td><td>2</td><td>49.75</td><td>   NA</td><td> 1.6899986</td><td>       NA</td></tr>\n",
       "\t<tr><th scope=row>3</th><td>52.05</td><td> 1.1858488</td><td>3.3969822</td><td>3</td><td>51.44</td><td>49.75</td><td> 0.6100006</td><td>1.6899986</td></tr>\n",
       "\t<tr><th scope=row>4</th><td>52.28</td><td> 0.4418819</td><td>1.1858488</td><td>4</td><td>52.05</td><td>51.44</td><td> 0.2299995</td><td>0.6100006</td></tr>\n",
       "\t<tr><th scope=row>5</th><td>54.24</td><td> 3.7490492</td><td>0.4418819</td><td>5</td><td>52.28</td><td>52.05</td><td> 1.9600029</td><td>0.2299995</td></tr>\n",
       "\t<tr><th scope=row>6</th><td>53.76</td><td>-0.8849619</td><td>3.7490492</td><td>6</td><td>54.24</td><td>52.28</td><td>-0.4800034</td><td>1.9600029</td></tr>\n",
       "</tbody>\n",
       "</table>\n"
      ],
      "text/latex": [
       "A data.frame: 6 × 8\n",
       "\\begin{tabular}{r|llllllll}\n",
       "  & price & return & return\\_1 & t & price\\_1 & price\\_2 & cprice & cprice\\_1\\\\\n",
       "  & <dbl> & <dbl> & <dbl> & <int> & <dbl> & <dbl> & <dbl> & <dbl>\\\\\n",
       "\\hline\n",
       "\t1 & 49.75 &         NA &        NA & 1 &    NA &    NA &         NA &        NA\\\\\n",
       "\t2 & 51.44 &  3.3969822 &        NA & 2 & 49.75 &    NA &  1.6899986 &        NA\\\\\n",
       "\t3 & 52.05 &  1.1858488 & 3.3969822 & 3 & 51.44 & 49.75 &  0.6100006 & 1.6899986\\\\\n",
       "\t4 & 52.28 &  0.4418819 & 1.1858488 & 4 & 52.05 & 51.44 &  0.2299995 & 0.6100006\\\\\n",
       "\t5 & 54.24 &  3.7490492 & 0.4418819 & 5 & 52.28 & 52.05 &  1.9600029 & 0.2299995\\\\\n",
       "\t6 & 53.76 & -0.8849619 & 3.7490492 & 6 & 54.24 & 52.28 & -0.4800034 & 1.9600029\\\\\n",
       "\\end{tabular}\n"
      ],
      "text/markdown": [
       "\n",
       "A data.frame: 6 × 8\n",
       "\n",
       "| <!--/--> | price &lt;dbl&gt; | return &lt;dbl&gt; | return_1 &lt;dbl&gt; | t &lt;int&gt; | price_1 &lt;dbl&gt; | price_2 &lt;dbl&gt; | cprice &lt;dbl&gt; | cprice_1 &lt;dbl&gt; |\n",
       "|---|---|---|---|---|---|---|---|---|\n",
       "| 1 | 49.75 |         NA |        NA | 1 |    NA |    NA |         NA |        NA |\n",
       "| 2 | 51.44 |  3.3969822 |        NA | 2 | 49.75 |    NA |  1.6899986 |        NA |\n",
       "| 3 | 52.05 |  1.1858488 | 3.3969822 | 3 | 51.44 | 49.75 |  0.6100006 | 1.6899986 |\n",
       "| 4 | 52.28 |  0.4418819 | 1.1858488 | 4 | 52.05 | 51.44 |  0.2299995 | 0.6100006 |\n",
       "| 5 | 54.24 |  3.7490492 | 0.4418819 | 5 | 52.28 | 52.05 |  1.9600029 | 0.2299995 |\n",
       "| 6 | 53.76 | -0.8849619 | 3.7490492 | 6 | 54.24 | 52.28 | -0.4800034 | 1.9600029 |\n",
       "\n"
      ],
      "text/plain": [
       "  price return     return_1  t price_1 price_2 cprice     cprice_1 \n",
       "1 49.75         NA        NA 1    NA      NA           NA        NA\n",
       "2 51.44  3.3969822        NA 2 49.75      NA    1.6899986        NA\n",
       "3 52.05  1.1858488 3.3969822 3 51.44   49.75    0.6100006 1.6899986\n",
       "4 52.28  0.4418819 1.1858488 4 52.05   51.44    0.2299995 0.6100006\n",
       "5 54.24  3.7490492 0.4418819 5 52.28   52.05    1.9600029 0.2299995\n",
       "6 53.76 -0.8849619 3.7490492 6 54.24   52.28   -0.4800034 1.9600029"
      ]
     },
     "metadata": {},
     "output_type": "display_data"
    }
   ],
   "source": [
    "#c3:\n",
    "\n",
    "data_nyse = read.dta(\"C:\\\\Users\\\\vinic\\\\Desktop\\\\R\\\\heiss\\\\data_wooldridge\\\\NYSE.dta\")\n",
    "head(data_nyse)"
   ]
  },
  {
   "cell_type": "code",
   "execution_count": 21,
   "metadata": {},
   "outputs": [
    {
     "data": {
      "text/plain": [
       "\n",
       "Call:\n",
       "lm(formula = return ~ return_1 + I(return_1^2), data = data_nyse)\n",
       "\n",
       "Residuals:\n",
       "     Min       1Q   Median       3Q      Max \n",
       "-15.1867  -1.3051   0.1005   1.3229   8.1718 \n",
       "\n",
       "Coefficients:\n",
       "               Estimate Std. Error t value Pr(>|t|)   \n",
       "(Intercept)    0.225549   0.087234   2.586  0.00993 **\n",
       "return_1       0.048572   0.038722   1.254  0.21013   \n",
       "I(return_1^2) -0.009735   0.007030  -1.385  0.16654   \n",
       "---\n",
       "Signif. codes:  0 '***' 0.001 '**' 0.01 '*' 0.05 '.' 0.1 ' ' 1\n",
       "\n",
       "Residual standard error: 2.109 on 686 degrees of freedom\n",
       "  (2 observations deleted due to missingness)\n",
       "Multiple R-squared:  0.006259,\tAdjusted R-squared:  0.003362 \n",
       "F-statistic:  2.16 on 2 and 686 DF,  p-value: 0.1161\n"
      ]
     },
     "metadata": {},
     "output_type": "display_data"
    }
   ],
   "source": [
    "#a) regredir r = b0 + b1(r-1) + r2(r - 1)^2\n",
    "\n",
    "#usar a função I()\n",
    "summary(lm(return ~ return_1 + I(return_1^2), data=data_nyse))\n"
   ]
  },
  {
   "cell_type": "code",
   "execution_count": 22,
   "metadata": {},
   "outputs": [
    {
     "data": {
      "text/plain": [
       "\n",
       "Call:\n",
       "lm(formula = return ~ poly(return_1, 2, raw = TRUE), data = data_nyse)\n",
       "\n",
       "Residuals:\n",
       "     Min       1Q   Median       3Q      Max \n",
       "-15.1867  -1.3051   0.1005   1.3229   8.1718 \n",
       "\n",
       "Coefficients:\n",
       "                                Estimate Std. Error t value Pr(>|t|)   \n",
       "(Intercept)                     0.225549   0.087234   2.586  0.00993 **\n",
       "poly(return_1, 2, raw = TRUE)1  0.048572   0.038722   1.254  0.21013   \n",
       "poly(return_1, 2, raw = TRUE)2 -0.009735   0.007030  -1.385  0.16654   \n",
       "---\n",
       "Signif. codes:  0 '***' 0.001 '**' 0.01 '*' 0.05 '.' 0.1 ' ' 1\n",
       "\n",
       "Residual standard error: 2.109 on 686 degrees of freedom\n",
       "  (2 observations deleted due to missingness)\n",
       "Multiple R-squared:  0.006259,\tAdjusted R-squared:  0.003362 \n",
       "F-statistic:  2.16 on 2 and 686 DF,  p-value: 0.1161\n"
      ]
     },
     "metadata": {},
     "output_type": "display_data"
    }
   ],
   "source": [
    "#alternativa:\n",
    "\n",
    "summary(lm(return ~ poly(return_1, 2, raw = TRUE), data=data_nyse))"
   ]
  },
  {
   "cell_type": "code",
   "execution_count": 23,
   "metadata": {},
   "outputs": [],
   "source": [
    "#b) testar a hipotese nula \n",
    "\n",
    "#teste f, onde h0: b1 = b2 = 0, que dá F=2.16 e p=.116 (já tá ali em cima)\n",
    "\n",
    "#c) testar r = (r-1) * (r-1)*(r-2)\n",
    "\n",
    "\n",
    "#NAO TA DANDO CERTO, OLHAR DE NOVO"
   ]
  },
  {
   "cell_type": "code",
   "execution_count": 25,
   "metadata": {},
   "outputs": [
    {
     "data": {
      "text/plain": [
       "\n",
       "Formula: return ~ a * return_1 + b * return_1 * return_2 + c\n",
       "\n",
       "Parameters:\n",
       "  Estimate Std. Error t value Pr(>|t|)  \n",
       "a  0.06871    0.03925   1.751   0.0804 .\n",
       "b  0.01134    0.01001   1.132   0.2579  \n",
       "c  0.17316    0.08096   2.139   0.0328 *\n",
       "---\n",
       "Signif. codes:  0 '***' 0.001 '**' 0.01 '*' 0.05 '.' 0.1 ' ' 1\n",
       "\n",
       "Residual standard error: 2.111 on 685 degrees of freedom\n",
       "\n",
       "Number of iterations to convergence: 1 \n",
       "Achieved convergence tolerance: 7.16e-09\n",
       "  (3 observations deleted due to missingness)\n"
      ]
     },
     "metadata": {},
     "output_type": "display_data"
    }
   ],
   "source": [
    "tsdata = ts(data_nyse)\n",
    "\n",
    "a_start<-8 \n",
    "b_start<-2*log(2)/a_start\n",
    "c <- 2\n",
    "data_nyse$return_2 = Lag(data_nyse$return_1, +1)\n",
    "summary(nls(return ~ a*return_1 + b*return_1*return_2 + c, data=data_nyse, start=list(a=a_start,b=b_start, c = c)))"
   ]
  },
  {
   "cell_type": "code",
   "execution_count": 26,
   "metadata": {},
   "outputs": [],
   "source": [
    "#d) não dá pra prever returnos futuros com base nos retornos passados"
   ]
  },
  {
   "cell_type": "code",
   "execution_count": 27,
   "metadata": {},
   "outputs": [
    {
     "name": "stderr",
     "output_type": "stream",
     "text": [
      "Warning message in read.dta(\"C:\\\\Users\\\\vinic\\\\Desktop\\\\R\\\\heiss\\\\data_wooldridge\\\\PHILLIPS.dta\"):\n",
      "\"cannot read factor labels from Stata 5 files\"\n"
     ]
    },
    {
     "data": {
      "text/html": [
       "<table>\n",
       "<caption>A data.frame: 6 × 11</caption>\n",
       "<thead>\n",
       "\t<tr><th></th><th scope=col>year</th><th scope=col>unem</th><th scope=col>inf</th><th scope=col>unem_1</th><th scope=col>inf_1</th><th scope=col>unem_2</th><th scope=col>inf_2</th><th scope=col>cunem</th><th scope=col>cinf</th><th scope=col>cunem_1</th><th scope=col>cinf_1</th></tr>\n",
       "\t<tr><th></th><th scope=col>&lt;int&gt;</th><th scope=col>&lt;dbl&gt;</th><th scope=col>&lt;dbl&gt;</th><th scope=col>&lt;dbl&gt;</th><th scope=col>&lt;dbl&gt;</th><th scope=col>&lt;dbl&gt;</th><th scope=col>&lt;dbl&gt;</th><th scope=col>&lt;dbl&gt;</th><th scope=col>&lt;dbl&gt;</th><th scope=col>&lt;dbl&gt;</th><th scope=col>&lt;dbl&gt;</th></tr>\n",
       "</thead>\n",
       "<tbody>\n",
       "\t<tr><th scope=row>1</th><td>1948</td><td>3.8</td><td> 8.1</td><td> NA</td><td>  NA</td><td> NA</td><td>  NA</td><td>        NA</td><td>  NA</td><td>        NA</td><td>  NA</td></tr>\n",
       "\t<tr><th scope=row>2</th><td>1949</td><td>5.9</td><td>-1.2</td><td>3.8</td><td> 8.1</td><td> NA</td><td>  NA</td><td> 2.1000001</td><td>-9.3</td><td>        NA</td><td>  NA</td></tr>\n",
       "\t<tr><th scope=row>3</th><td>1950</td><td>5.3</td><td> 1.3</td><td>5.9</td><td>-1.2</td><td>3.8</td><td> 8.1</td><td>-0.5999999</td><td> 2.5</td><td> 2.1000001</td><td>-9.3</td></tr>\n",
       "\t<tr><th scope=row>4</th><td>1951</td><td>3.3</td><td> 7.9</td><td>5.3</td><td> 1.3</td><td>5.9</td><td>-1.2</td><td>-2.0000002</td><td> 6.6</td><td>-0.5999999</td><td> 2.5</td></tr>\n",
       "\t<tr><th scope=row>5</th><td>1952</td><td>3.0</td><td> 1.9</td><td>3.3</td><td> 7.9</td><td>5.3</td><td> 1.3</td><td>-0.3000000</td><td>-6.0</td><td>-2.0000002</td><td> 6.6</td></tr>\n",
       "\t<tr><th scope=row>6</th><td>1953</td><td>2.9</td><td> 0.8</td><td>3.0</td><td> 1.9</td><td>3.3</td><td> 7.9</td><td>-0.0999999</td><td>-1.1</td><td>-0.3000000</td><td>-6.0</td></tr>\n",
       "</tbody>\n",
       "</table>\n"
      ],
      "text/latex": [
       "A data.frame: 6 × 11\n",
       "\\begin{tabular}{r|lllllllllll}\n",
       "  & year & unem & inf & unem\\_1 & inf\\_1 & unem\\_2 & inf\\_2 & cunem & cinf & cunem\\_1 & cinf\\_1\\\\\n",
       "  & <int> & <dbl> & <dbl> & <dbl> & <dbl> & <dbl> & <dbl> & <dbl> & <dbl> & <dbl> & <dbl>\\\\\n",
       "\\hline\n",
       "\t1 & 1948 & 3.8 &  8.1 &  NA &   NA &  NA &   NA &         NA &   NA &         NA &   NA\\\\\n",
       "\t2 & 1949 & 5.9 & -1.2 & 3.8 &  8.1 &  NA &   NA &  2.1000001 & -9.3 &         NA &   NA\\\\\n",
       "\t3 & 1950 & 5.3 &  1.3 & 5.9 & -1.2 & 3.8 &  8.1 & -0.5999999 &  2.5 &  2.1000001 & -9.3\\\\\n",
       "\t4 & 1951 & 3.3 &  7.9 & 5.3 &  1.3 & 5.9 & -1.2 & -2.0000002 &  6.6 & -0.5999999 &  2.5\\\\\n",
       "\t5 & 1952 & 3.0 &  1.9 & 3.3 &  7.9 & 5.3 &  1.3 & -0.3000000 & -6.0 & -2.0000002 &  6.6\\\\\n",
       "\t6 & 1953 & 2.9 &  0.8 & 3.0 &  1.9 & 3.3 &  7.9 & -0.0999999 & -1.1 & -0.3000000 & -6.0\\\\\n",
       "\\end{tabular}\n"
      ],
      "text/markdown": [
       "\n",
       "A data.frame: 6 × 11\n",
       "\n",
       "| <!--/--> | year &lt;int&gt; | unem &lt;dbl&gt; | inf &lt;dbl&gt; | unem_1 &lt;dbl&gt; | inf_1 &lt;dbl&gt; | unem_2 &lt;dbl&gt; | inf_2 &lt;dbl&gt; | cunem &lt;dbl&gt; | cinf &lt;dbl&gt; | cunem_1 &lt;dbl&gt; | cinf_1 &lt;dbl&gt; |\n",
       "|---|---|---|---|---|---|---|---|---|---|---|---|\n",
       "| 1 | 1948 | 3.8 |  8.1 |  NA |   NA |  NA |   NA |         NA |   NA |         NA |   NA |\n",
       "| 2 | 1949 | 5.9 | -1.2 | 3.8 |  8.1 |  NA |   NA |  2.1000001 | -9.3 |         NA |   NA |\n",
       "| 3 | 1950 | 5.3 |  1.3 | 5.9 | -1.2 | 3.8 |  8.1 | -0.5999999 |  2.5 |  2.1000001 | -9.3 |\n",
       "| 4 | 1951 | 3.3 |  7.9 | 5.3 |  1.3 | 5.9 | -1.2 | -2.0000002 |  6.6 | -0.5999999 |  2.5 |\n",
       "| 5 | 1952 | 3.0 |  1.9 | 3.3 |  7.9 | 5.3 |  1.3 | -0.3000000 | -6.0 | -2.0000002 |  6.6 |\n",
       "| 6 | 1953 | 2.9 |  0.8 | 3.0 |  1.9 | 3.3 |  7.9 | -0.0999999 | -1.1 | -0.3000000 | -6.0 |\n",
       "\n"
      ],
      "text/plain": [
       "  year unem inf  unem_1 inf_1 unem_2 inf_2 cunem      cinf cunem_1    cinf_1\n",
       "1 1948 3.8   8.1  NA      NA   NA      NA          NA   NA         NA   NA  \n",
       "2 1949 5.9  -1.2 3.8     8.1   NA      NA   2.1000001 -9.3         NA   NA  \n",
       "3 1950 5.3   1.3 5.9    -1.2  3.8     8.1  -0.5999999  2.5  2.1000001 -9.3  \n",
       "4 1951 3.3   7.9 5.3     1.3  5.9    -1.2  -2.0000002  6.6 -0.5999999  2.5  \n",
       "5 1952 3.0   1.9 3.3     7.9  5.3     1.3  -0.3000000 -6.0 -2.0000002  6.6  \n",
       "6 1953 2.9   0.8 3.0     1.9  3.3     7.9  -0.0999999 -1.1 -0.3000000 -6.0  "
      ]
     },
     "metadata": {},
     "output_type": "display_data"
    }
   ],
   "source": [
    "#c4:\n",
    "\n",
    "data_phillips = read.dta(\"C:\\\\Users\\\\vinic\\\\Desktop\\\\R\\\\heiss\\\\data_wooldridge\\\\PHILLIPS.dta\")\n",
    "head(data_phillips)\n"
   ]
  },
  {
   "cell_type": "code",
   "execution_count": 28,
   "metadata": {},
   "outputs": [
    {
     "data": {
      "text/plain": [
       "\n",
       "Call:\n",
       "lm(formula = cinf ~ cunem, data = data_phillips)\n",
       "\n",
       "Residuals:\n",
       "    Min      1Q  Median      3Q     Max \n",
       "-7.4533 -0.9482  0.1913  1.1518  5.4677 \n",
       "\n",
       "Coefficients:\n",
       "            Estimate Std. Error t value Pr(>|t|)  \n",
       "(Intercept) -0.07818    0.34846  -0.224   0.8235  \n",
       "cunem       -0.84217    0.31425  -2.680   0.0102 *\n",
       "---\n",
       "Signif. codes:  0 '***' 0.001 '**' 0.01 '*' 0.05 '.' 0.1 ' ' 1\n",
       "\n",
       "Residual standard error: 2.413 on 46 degrees of freedom\n",
       "  (1 observation deleted due to missingness)\n",
       "Multiple R-squared:  0.135,\tAdjusted R-squared:  0.1162 \n",
       "F-statistic: 7.182 on 1 and 46 DF,  p-value: 0.01018\n"
      ]
     },
     "metadata": {},
     "output_type": "display_data"
    }
   ],
   "source": [
    "summary(lm(cinf ~ cunem, data=data_phillips))"
   ]
  },
  {
   "cell_type": "code",
   "execution_count": 29,
   "metadata": {},
   "outputs": [
    {
     "name": "stderr",
     "output_type": "stream",
     "text": [
      "Warning message in read.dta(\"C:\\\\Users\\\\vinic\\\\Desktop\\\\R\\\\heiss\\\\data_wooldridge\\\\FERTIL3.DTA\"):\n",
      "\"cannot read factor labels from Stata 5 files\"\n"
     ]
    },
    {
     "data": {
      "text/html": [
       "<table>\n",
       "<caption>A data.frame: 6 × 24</caption>\n",
       "<thead>\n",
       "\t<tr><th></th><th scope=col>gfr</th><th scope=col>pe</th><th scope=col>year</th><th scope=col>t</th><th scope=col>tsq</th><th scope=col>pe_1</th><th scope=col>pe_2</th><th scope=col>pe_3</th><th scope=col>pe_4</th><th scope=col>pill</th><th scope=col>...</th><th scope=col>cpe_1</th><th scope=col>cpe_2</th><th scope=col>cpe_3</th><th scope=col>cpe_4</th><th scope=col>gfr_1</th><th scope=col>cgfr_1</th><th scope=col>cgfr_2</th><th scope=col>cgfr_3</th><th scope=col>cgfr_4</th><th scope=col>gfr_2</th></tr>\n",
       "\t<tr><th></th><th scope=col>&lt;dbl&gt;</th><th scope=col>&lt;dbl&gt;</th><th scope=col>&lt;int&gt;</th><th scope=col>&lt;int&gt;</th><th scope=col>&lt;int&gt;</th><th scope=col>&lt;dbl&gt;</th><th scope=col>&lt;dbl&gt;</th><th scope=col>&lt;dbl&gt;</th><th scope=col>&lt;dbl&gt;</th><th scope=col>&lt;int&gt;</th><th scope=col>...</th><th scope=col>&lt;dbl&gt;</th><th scope=col>&lt;dbl&gt;</th><th scope=col>&lt;dbl&gt;</th><th scope=col>&lt;dbl&gt;</th><th scope=col>&lt;dbl&gt;</th><th scope=col>&lt;dbl&gt;</th><th scope=col>&lt;dbl&gt;</th><th scope=col>&lt;dbl&gt;</th><th scope=col>&lt;dbl&gt;</th><th scope=col>&lt;dbl&gt;</th></tr>\n",
       "</thead>\n",
       "<tbody>\n",
       "\t<tr><th scope=row>1</th><td>124.7</td><td> 0.00</td><td>1913</td><td>1</td><td> 1</td><td>   NA</td><td>NA</td><td>NA</td><td>NA</td><td>0</td><td>...</td><td>   NA</td><td>NA</td><td>NA</td><td>NA</td><td>   NA</td><td>       NA</td><td>       NA</td><td>       NA</td><td>      NA</td><td>   NA</td></tr>\n",
       "\t<tr><th scope=row>2</th><td>126.6</td><td> 0.00</td><td>1914</td><td>2</td><td> 4</td><td> 0.00</td><td>NA</td><td>NA</td><td>NA</td><td>0</td><td>...</td><td>   NA</td><td>NA</td><td>NA</td><td>NA</td><td>124.7</td><td>       NA</td><td>       NA</td><td>       NA</td><td>      NA</td><td>   NA</td></tr>\n",
       "\t<tr><th scope=row>3</th><td>125.0</td><td> 0.00</td><td>1915</td><td>3</td><td> 9</td><td> 0.00</td><td> 0</td><td>NA</td><td>NA</td><td>0</td><td>...</td><td> 0.00</td><td>NA</td><td>NA</td><td>NA</td><td>126.6</td><td> 1.900002</td><td>       NA</td><td>       NA</td><td>      NA</td><td>124.7</td></tr>\n",
       "\t<tr><th scope=row>4</th><td>123.4</td><td> 0.00</td><td>1916</td><td>4</td><td>16</td><td> 0.00</td><td> 0</td><td> 0</td><td>NA</td><td>0</td><td>...</td><td> 0.00</td><td> 0</td><td>NA</td><td>NA</td><td>125.0</td><td>-1.599998</td><td> 1.900002</td><td>       NA</td><td>      NA</td><td>126.6</td></tr>\n",
       "\t<tr><th scope=row>5</th><td>121.0</td><td>19.27</td><td>1917</td><td>5</td><td>25</td><td> 0.00</td><td> 0</td><td> 0</td><td> 0</td><td>0</td><td>...</td><td> 0.00</td><td> 0</td><td> 0</td><td>NA</td><td>123.4</td><td>-1.599998</td><td>-1.599998</td><td> 1.900002</td><td>      NA</td><td>125.0</td></tr>\n",
       "\t<tr><th scope=row>6</th><td>119.8</td><td>23.94</td><td>1918</td><td>6</td><td>36</td><td>19.27</td><td> 0</td><td> 0</td><td> 0</td><td>0</td><td>...</td><td>19.27</td><td> 0</td><td> 0</td><td> 0</td><td>121.0</td><td>-2.400002</td><td>-1.599998</td><td>-1.599998</td><td>1.900002</td><td>123.4</td></tr>\n",
       "</tbody>\n",
       "</table>\n"
      ],
      "text/latex": [
       "A data.frame: 6 × 24\n",
       "\\begin{tabular}{r|lllllllllllllllllllll}\n",
       "  & gfr & pe & year & t & tsq & pe\\_1 & pe\\_2 & pe\\_3 & pe\\_4 & pill & ... & cpe\\_1 & cpe\\_2 & cpe\\_3 & cpe\\_4 & gfr\\_1 & cgfr\\_1 & cgfr\\_2 & cgfr\\_3 & cgfr\\_4 & gfr\\_2\\\\\n",
       "  & <dbl> & <dbl> & <int> & <int> & <int> & <dbl> & <dbl> & <dbl> & <dbl> & <int> & ... & <dbl> & <dbl> & <dbl> & <dbl> & <dbl> & <dbl> & <dbl> & <dbl> & <dbl> & <dbl>\\\\\n",
       "\\hline\n",
       "\t1 & 124.7 &  0.00 & 1913 & 1 &  1 &    NA & NA & NA & NA & 0 & ... &    NA & NA & NA & NA &    NA &        NA &        NA &        NA &       NA &    NA\\\\\n",
       "\t2 & 126.6 &  0.00 & 1914 & 2 &  4 &  0.00 & NA & NA & NA & 0 & ... &    NA & NA & NA & NA & 124.7 &        NA &        NA &        NA &       NA &    NA\\\\\n",
       "\t3 & 125.0 &  0.00 & 1915 & 3 &  9 &  0.00 &  0 & NA & NA & 0 & ... &  0.00 & NA & NA & NA & 126.6 &  1.900002 &        NA &        NA &       NA & 124.7\\\\\n",
       "\t4 & 123.4 &  0.00 & 1916 & 4 & 16 &  0.00 &  0 &  0 & NA & 0 & ... &  0.00 &  0 & NA & NA & 125.0 & -1.599998 &  1.900002 &        NA &       NA & 126.6\\\\\n",
       "\t5 & 121.0 & 19.27 & 1917 & 5 & 25 &  0.00 &  0 &  0 &  0 & 0 & ... &  0.00 &  0 &  0 & NA & 123.4 & -1.599998 & -1.599998 &  1.900002 &       NA & 125.0\\\\\n",
       "\t6 & 119.8 & 23.94 & 1918 & 6 & 36 & 19.27 &  0 &  0 &  0 & 0 & ... & 19.27 &  0 &  0 &  0 & 121.0 & -2.400002 & -1.599998 & -1.599998 & 1.900002 & 123.4\\\\\n",
       "\\end{tabular}\n"
      ],
      "text/markdown": [
       "\n",
       "A data.frame: 6 × 24\n",
       "\n",
       "| <!--/--> | gfr &lt;dbl&gt; | pe &lt;dbl&gt; | year &lt;int&gt; | t &lt;int&gt; | tsq &lt;int&gt; | pe_1 &lt;dbl&gt; | pe_2 &lt;dbl&gt; | pe_3 &lt;dbl&gt; | pe_4 &lt;dbl&gt; | pill &lt;int&gt; | ... ... | cpe_1 &lt;dbl&gt; | cpe_2 &lt;dbl&gt; | cpe_3 &lt;dbl&gt; | cpe_4 &lt;dbl&gt; | gfr_1 &lt;dbl&gt; | cgfr_1 &lt;dbl&gt; | cgfr_2 &lt;dbl&gt; | cgfr_3 &lt;dbl&gt; | cgfr_4 &lt;dbl&gt; | gfr_2 &lt;dbl&gt; |\n",
       "|---|---|---|---|---|---|---|---|---|---|---|---|---|---|---|---|---|---|---|---|---|---|\n",
       "| 1 | 124.7 |  0.00 | 1913 | 1 |  1 |    NA | NA | NA | NA | 0 | ... |    NA | NA | NA | NA |    NA |        NA |        NA |        NA |       NA |    NA |\n",
       "| 2 | 126.6 |  0.00 | 1914 | 2 |  4 |  0.00 | NA | NA | NA | 0 | ... |    NA | NA | NA | NA | 124.7 |        NA |        NA |        NA |       NA |    NA |\n",
       "| 3 | 125.0 |  0.00 | 1915 | 3 |  9 |  0.00 |  0 | NA | NA | 0 | ... |  0.00 | NA | NA | NA | 126.6 |  1.900002 |        NA |        NA |       NA | 124.7 |\n",
       "| 4 | 123.4 |  0.00 | 1916 | 4 | 16 |  0.00 |  0 |  0 | NA | 0 | ... |  0.00 |  0 | NA | NA | 125.0 | -1.599998 |  1.900002 |        NA |       NA | 126.6 |\n",
       "| 5 | 121.0 | 19.27 | 1917 | 5 | 25 |  0.00 |  0 |  0 |  0 | 0 | ... |  0.00 |  0 |  0 | NA | 123.4 | -1.599998 | -1.599998 |  1.900002 |       NA | 125.0 |\n",
       "| 6 | 119.8 | 23.94 | 1918 | 6 | 36 | 19.27 |  0 |  0 |  0 | 0 | ... | 19.27 |  0 |  0 |  0 | 121.0 | -2.400002 | -1.599998 | -1.599998 | 1.900002 | 123.4 |\n",
       "\n"
      ],
      "text/plain": [
       "  gfr   pe    year t tsq pe_1  pe_2 pe_3 pe_4 pill ... cpe_1 cpe_2 cpe_3 cpe_4\n",
       "1 124.7  0.00 1913 1  1     NA NA   NA   NA   0    ...    NA NA    NA    NA   \n",
       "2 126.6  0.00 1914 2  4   0.00 NA   NA   NA   0    ...    NA NA    NA    NA   \n",
       "3 125.0  0.00 1915 3  9   0.00  0   NA   NA   0    ...  0.00 NA    NA    NA   \n",
       "4 123.4  0.00 1916 4 16   0.00  0    0   NA   0    ...  0.00  0    NA    NA   \n",
       "5 121.0 19.27 1917 5 25   0.00  0    0    0   0    ...  0.00  0     0    NA   \n",
       "6 119.8 23.94 1918 6 36  19.27  0    0    0   0    ... 19.27  0     0     0   \n",
       "  gfr_1 cgfr_1    cgfr_2    cgfr_3    cgfr_4   gfr_2\n",
       "1    NA        NA        NA        NA       NA    NA\n",
       "2 124.7        NA        NA        NA       NA    NA\n",
       "3 126.6  1.900002        NA        NA       NA 124.7\n",
       "4 125.0 -1.599998  1.900002        NA       NA 126.6\n",
       "5 123.4 -1.599998 -1.599998  1.900002       NA 125.0\n",
       "6 121.0 -2.400002 -1.599998 -1.599998 1.900002 123.4"
      ]
     },
     "metadata": {},
     "output_type": "display_data"
    }
   ],
   "source": [
    "#c5:\n",
    "\n",
    "fertility = read.dta(\"C:\\\\Users\\\\vinic\\\\Desktop\\\\R\\\\heiss\\\\data_wooldridge\\\\FERTIL3.DTA\")\n",
    "head(fertility)\n"
   ]
  },
  {
   "cell_type": "code",
   "execution_count": 30,
   "metadata": {},
   "outputs": [
    {
     "data": {
      "text/plain": [
       "\n",
       "Call:\n",
       "lm(formula = cgfr ~ cpe + cpe_1 + cpe_2 + t, data = fertility)\n",
       "\n",
       "Residuals:\n",
       "    Min      1Q  Median      3Q     Max \n",
       "-9.6018 -2.0886 -0.2514  1.8107 11.5552 \n",
       "\n",
       "Coefficients:\n",
       "             Estimate Std. Error t value Pr(>|t|)    \n",
       "(Intercept) -1.267445   1.046219  -1.211  0.23018    \n",
       "cpe         -0.034835   0.027286  -1.277  0.20633    \n",
       "cpe_1       -0.013144   0.027862  -0.472  0.63870    \n",
       "cpe_2        0.111090   0.027277   4.073  0.00013 ***\n",
       "t            0.007878   0.024228   0.325  0.74612    \n",
       "---\n",
       "Signif. codes:  0 '***' 0.001 '**' 0.01 '*' 0.05 '.' 0.1 ' ' 1\n",
       "\n",
       "Residual standard error: 3.886 on 64 degrees of freedom\n",
       "  (3 observations deleted due to missingness)\n",
       "Multiple R-squared:  0.2337,\tAdjusted R-squared:  0.1859 \n",
       "F-statistic: 4.881 on 4 and 64 DF,  p-value: 0.001692\n"
      ]
     },
     "metadata": {},
     "output_type": "display_data"
    }
   ],
   "source": [
    "#a) colocar t na equacao\n",
    "\n",
    "summary(lm(cgfr ~ cpe + cpe_1 + cpe_2 +t, data=fertility)) #nao precisa de t"
   ]
  },
  {
   "cell_type": "code",
   "execution_count": 31,
   "metadata": {},
   "outputs": [
    {
     "data": {
      "text/plain": [
       "\n",
       "Call:\n",
       "lm(formula = cgfr ~ cpe + cpe_1 + cpe_2 + ww2 + pill, data = fertility)\n",
       "\n",
       "Residuals:\n",
       "    Min      1Q  Median      3Q     Max \n",
       "-9.7013 -2.4193 -0.3013  1.9950  8.3813 \n",
       "\n",
       "Coefficients:\n",
       "            Estimate Std. Error t value Pr(>|t|)   \n",
       "(Intercept) -0.65025    0.58177  -1.118  0.26793   \n",
       "cpe         -0.07516    0.03236  -2.323  0.02342 * \n",
       "cpe_1       -0.05139    0.03316  -1.550  0.12627   \n",
       "cpe_2        0.08826    0.02798   3.155  0.00246 **\n",
       "ww2          4.83923    2.83197   1.709  0.09241 . \n",
       "pill        -1.67615    1.00477  -1.668  0.10024   \n",
       "---\n",
       "Signif. codes:  0 '***' 0.001 '**' 0.01 '*' 0.05 '.' 0.1 ' ' 1\n",
       "\n",
       "Residual standard error: 3.756 on 63 degrees of freedom\n",
       "  (3 observations deleted due to missingness)\n",
       "Multiple R-squared:  0.2956,\tAdjusted R-squared:  0.2397 \n",
       "F-statistic: 5.288 on 5 and 63 DF,  p-value: 0.0004057\n"
      ]
     },
     "metadata": {},
     "output_type": "display_data"
    }
   ],
   "source": [
    "#b) dropar t e colocar ww2 e pill. depois, testar a 5% a joint significance\n",
    "\n",
    "model = lm(cgfr ~ cpe + cpe_1 + cpe_2 + ww2 + pill, data=fertility)\n",
    "summary(model)"
   ]
  },
  {
   "cell_type": "code",
   "execution_count": 36,
   "metadata": {},
   "outputs": [
    {
     "data": {
      "text/html": [
       "<table>\n",
       "<caption>A anova: 2 × 6</caption>\n",
       "<thead>\n",
       "\t<tr><th></th><th scope=col>Res.Df</th><th scope=col>RSS</th><th scope=col>Df</th><th scope=col>Sum of Sq</th><th scope=col>F</th><th scope=col>Pr(&gt;F)</th></tr>\n",
       "\t<tr><th></th><th scope=col>&lt;dbl&gt;</th><th scope=col>&lt;dbl&gt;</th><th scope=col>&lt;dbl&gt;</th><th scope=col>&lt;dbl&gt;</th><th scope=col>&lt;dbl&gt;</th><th scope=col>&lt;dbl&gt;</th></tr>\n",
       "</thead>\n",
       "<tbody>\n",
       "\t<tr><th scope=row>1</th><td>65</td><td>968.2000</td><td>NA</td><td>      NA</td><td>      NA</td><td>       NA</td></tr>\n",
       "\t<tr><th scope=row>2</th><td>63</td><td>888.5655</td><td> 2</td><td>79.63443</td><td>2.823072</td><td>0.0669605</td></tr>\n",
       "</tbody>\n",
       "</table>\n"
      ],
      "text/latex": [
       "A anova: 2 × 6\n",
       "\\begin{tabular}{r|llllll}\n",
       "  & Res.Df & RSS & Df & Sum of Sq & F & Pr(>F)\\\\\n",
       "  & <dbl> & <dbl> & <dbl> & <dbl> & <dbl> & <dbl>\\\\\n",
       "\\hline\n",
       "\t1 & 65 & 968.2000 & NA &       NA &       NA &        NA\\\\\n",
       "\t2 & 63 & 888.5655 &  2 & 79.63443 & 2.823072 & 0.0669605\\\\\n",
       "\\end{tabular}\n"
      ],
      "text/markdown": [
       "\n",
       "A anova: 2 × 6\n",
       "\n",
       "| <!--/--> | Res.Df &lt;dbl&gt; | RSS &lt;dbl&gt; | Df &lt;dbl&gt; | Sum of Sq &lt;dbl&gt; | F &lt;dbl&gt; | Pr(&gt;F) &lt;dbl&gt; |\n",
       "|---|---|---|---|---|---|---|\n",
       "| 1 | 65 | 968.2000 | NA |       NA |       NA |        NA |\n",
       "| 2 | 63 | 888.5655 |  2 | 79.63443 | 2.823072 | 0.0669605 |\n",
       "\n"
      ],
      "text/plain": [
       "  Res.Df RSS      Df Sum of Sq F        Pr(>F)   \n",
       "1 65     968.2000 NA       NA        NA        NA\n",
       "2 63     888.5655  2 79.63443  2.823072 0.0669605"
      ]
     },
     "metadata": {},
     "output_type": "display_data"
    }
   ],
   "source": [
    "linearHypothesis(model, c(\"ww2=0\", \"pill=0\"))"
   ]
  },
  {
   "cell_type": "code",
   "execution_count": 37,
   "metadata": {},
   "outputs": [
    {
     "data": {
      "text/plain": [
       "\n",
       "Call:\n",
       "lm(formula = cgfr ~ cpe + cpe_1 + cpe_2 + ww2 + pill + t, data = fertility)\n",
       "\n",
       "Residuals:\n",
       "    Min      1Q  Median      3Q     Max \n",
       "-8.0100 -2.1706 -0.3572  1.8566  8.4842 \n",
       "\n",
       "Coefficients:\n",
       "            Estimate Std. Error t value Pr(>|t|)    \n",
       "(Intercept) -3.14116    1.14962  -2.732 0.008182 ** \n",
       "cpe         -0.06182    0.03157  -1.958 0.054723 .  \n",
       "cpe_1       -0.03912    0.03227  -1.213 0.229910    \n",
       "cpe_2        0.09517    0.02704   3.519 0.000817 ***\n",
       "ww2          3.25081    2.79716   1.162 0.249616    \n",
       "pill        -4.88807    1.61571  -3.025 0.003612 ** \n",
       "t            0.09440    0.03806   2.480 0.015865 *  \n",
       "---\n",
       "Signif. codes:  0 '***' 0.001 '**' 0.01 '*' 0.05 '.' 0.1 ' ' 1\n",
       "\n",
       "Residual standard error: 3.611 on 62 degrees of freedom\n",
       "  (3 observations deleted due to missingness)\n",
       "Multiple R-squared:  0.3592,\tAdjusted R-squared:  0.2972 \n",
       "F-statistic: 5.792 on 6 and 62 DF,  p-value: 7.769e-05\n"
      ]
     },
     "metadata": {},
     "output_type": "display_data"
    }
   ],
   "source": [
    "#c)\n",
    "\n",
    "model = lm(cgfr ~ cpe + cpe_1 + cpe_2 + ww2 + pill + t, data=fertility)\n",
    "summary(model)"
   ]
  },
  {
   "cell_type": "code",
   "execution_count": 38,
   "metadata": {},
   "outputs": [
    {
     "data": {
      "text/plain": [
       "\n",
       "Call:\n",
       "lm(formula = cgfr ~ cpe + diff_cpe_1 + diff_cpe_2 + ww2 + pill, \n",
       "    data = fertility)\n",
       "\n",
       "Residuals:\n",
       "    Min      1Q  Median      3Q     Max \n",
       "-9.7013 -2.4193 -0.3013  1.9950  8.3813 \n",
       "\n",
       "Coefficients:\n",
       "            Estimate Std. Error t value Pr(>|t|)   \n",
       "(Intercept) -0.65025    0.58177  -1.118  0.26793   \n",
       "cpe         -0.03829    0.06216  -0.616  0.54006   \n",
       "diff_cpe_1  -0.05139    0.03316  -1.550  0.12627   \n",
       "diff_cpe_2   0.08826    0.02798   3.155  0.00246 **\n",
       "ww2          4.83923    2.83197   1.709  0.09241 . \n",
       "pill        -1.67615    1.00477  -1.668  0.10024   \n",
       "---\n",
       "Signif. codes:  0 '***' 0.001 '**' 0.01 '*' 0.05 '.' 0.1 ' ' 1\n",
       "\n",
       "Residual standard error: 3.756 on 63 degrees of freedom\n",
       "  (3 observations deleted due to missingness)\n",
       "Multiple R-squared:  0.2956,\tAdjusted R-squared:  0.2397 \n",
       "F-statistic: 5.288 on 5 and 63 DF,  p-value: 0.0004057\n"
      ]
     },
     "metadata": {},
     "output_type": "display_data"
    }
   ],
   "source": [
    "fertility$diff_cpe_1 = fertility$cpe_1 - fertility$cpe\n",
    "fertility$diff_cpe_2 = fertility$cpe_2 - fertility$cpe\n",
    "\n",
    "model = lm(cgfr ~ cpe + diff_cpe_1 + diff_cpe_2 + ww2 + pill , data=fertility)\n",
    "summary(model)\n",
    "\n",
    "#deveria dar -.075 o theta"
   ]
  },
  {
   "cell_type": "code",
   "execution_count": 39,
   "metadata": {},
   "outputs": [
    {
     "name": "stderr",
     "output_type": "stream",
     "text": [
      "Warning message in read.dta(\"C:\\\\Users\\\\vinic\\\\Desktop\\\\R\\\\heiss\\\\data_wooldridge\\\\INVEN.dta\"):\n",
      "\"cannot read factor labels from Stata 5 files\"\n"
     ]
    },
    {
     "data": {
      "text/html": [
       "<table>\n",
       "<caption>A data.frame: 6 × 13</caption>\n",
       "<thead>\n",
       "\t<tr><th></th><th scope=col>year</th><th scope=col>i3</th><th scope=col>inf</th><th scope=col>inven</th><th scope=col>gdp</th><th scope=col>r3</th><th scope=col>cinven</th><th scope=col>cgdp</th><th scope=col>cr3</th><th scope=col>ci3</th><th scope=col>cinf</th><th scope=col>ginven</th><th scope=col>ggdp</th></tr>\n",
       "\t<tr><th></th><th scope=col>&lt;int&gt;</th><th scope=col>&lt;dbl&gt;</th><th scope=col>&lt;dbl&gt;</th><th scope=col>&lt;dbl&gt;</th><th scope=col>&lt;dbl&gt;</th><th scope=col>&lt;dbl&gt;</th><th scope=col>&lt;dbl&gt;</th><th scope=col>&lt;dbl&gt;</th><th scope=col>&lt;dbl&gt;</th><th scope=col>&lt;dbl&gt;</th><th scope=col>&lt;dbl&gt;</th><th scope=col>&lt;dbl&gt;</th><th scope=col>&lt;dbl&gt;</th></tr>\n",
       "</thead>\n",
       "<tbody>\n",
       "\t<tr><th scope=row>1</th><td>1959</td><td>3.41</td><td>0.7</td><td>401.4</td><td>2212.3</td><td>2.71</td><td>       NA</td><td>      NA</td><td>         NA</td><td>        NA</td><td>  NA</td><td>        NA</td><td>        NA</td></tr>\n",
       "\t<tr><th scope=row>2</th><td>1960</td><td>2.93</td><td>1.7</td><td>412.0</td><td>2261.7</td><td>1.23</td><td>10.600006</td><td> 49.3999</td><td>-1.48000002</td><td>-0.4800000</td><td> 1.0</td><td>0.02606493</td><td>0.02208400</td></tr>\n",
       "\t<tr><th scope=row>3</th><td>1961</td><td>2.38</td><td>1.0</td><td>420.9</td><td>2309.8</td><td>1.38</td><td> 8.899994</td><td> 48.1001</td><td> 0.15000010</td><td>-0.5500000</td><td>-0.7</td><td>0.02137191</td><td>0.02104424</td></tr>\n",
       "\t<tr><th scope=row>4</th><td>1962</td><td>2.78</td><td>1.0</td><td>440.9</td><td>2449.1</td><td>1.78</td><td>20.000000</td><td>139.3000</td><td> 0.39999986</td><td> 0.3999999</td><td> 0.0</td><td>0.04642282</td><td>0.05855969</td></tr>\n",
       "\t<tr><th scope=row>5</th><td>1963</td><td>3.16</td><td>1.3</td><td>459.0</td><td>2554.0</td><td>1.86</td><td>18.100006</td><td>104.8999</td><td> 0.08000016</td><td> 0.3800001</td><td> 0.3</td><td>0.04023213</td><td>0.04194011</td></tr>\n",
       "\t<tr><th scope=row>6</th><td>1964</td><td>3.55</td><td>1.3</td><td>474.7</td><td>2702.9</td><td>2.25</td><td>15.700012</td><td>148.8999</td><td> 0.38999987</td><td> 0.3899999</td><td> 0.0</td><td>0.03363284</td><td>0.05666448</td></tr>\n",
       "</tbody>\n",
       "</table>\n"
      ],
      "text/latex": [
       "A data.frame: 6 × 13\n",
       "\\begin{tabular}{r|lllllllllllll}\n",
       "  & year & i3 & inf & inven & gdp & r3 & cinven & cgdp & cr3 & ci3 & cinf & ginven & ggdp\\\\\n",
       "  & <int> & <dbl> & <dbl> & <dbl> & <dbl> & <dbl> & <dbl> & <dbl> & <dbl> & <dbl> & <dbl> & <dbl> & <dbl>\\\\\n",
       "\\hline\n",
       "\t1 & 1959 & 3.41 & 0.7 & 401.4 & 2212.3 & 2.71 &        NA &       NA &          NA &         NA &   NA &         NA &         NA\\\\\n",
       "\t2 & 1960 & 2.93 & 1.7 & 412.0 & 2261.7 & 1.23 & 10.600006 &  49.3999 & -1.48000002 & -0.4800000 &  1.0 & 0.02606493 & 0.02208400\\\\\n",
       "\t3 & 1961 & 2.38 & 1.0 & 420.9 & 2309.8 & 1.38 &  8.899994 &  48.1001 &  0.15000010 & -0.5500000 & -0.7 & 0.02137191 & 0.02104424\\\\\n",
       "\t4 & 1962 & 2.78 & 1.0 & 440.9 & 2449.1 & 1.78 & 20.000000 & 139.3000 &  0.39999986 &  0.3999999 &  0.0 & 0.04642282 & 0.05855969\\\\\n",
       "\t5 & 1963 & 3.16 & 1.3 & 459.0 & 2554.0 & 1.86 & 18.100006 & 104.8999 &  0.08000016 &  0.3800001 &  0.3 & 0.04023213 & 0.04194011\\\\\n",
       "\t6 & 1964 & 3.55 & 1.3 & 474.7 & 2702.9 & 2.25 & 15.700012 & 148.8999 &  0.38999987 &  0.3899999 &  0.0 & 0.03363284 & 0.05666448\\\\\n",
       "\\end{tabular}\n"
      ],
      "text/markdown": [
       "\n",
       "A data.frame: 6 × 13\n",
       "\n",
       "| <!--/--> | year &lt;int&gt; | i3 &lt;dbl&gt; | inf &lt;dbl&gt; | inven &lt;dbl&gt; | gdp &lt;dbl&gt; | r3 &lt;dbl&gt; | cinven &lt;dbl&gt; | cgdp &lt;dbl&gt; | cr3 &lt;dbl&gt; | ci3 &lt;dbl&gt; | cinf &lt;dbl&gt; | ginven &lt;dbl&gt; | ggdp &lt;dbl&gt; |\n",
       "|---|---|---|---|---|---|---|---|---|---|---|---|---|---|\n",
       "| 1 | 1959 | 3.41 | 0.7 | 401.4 | 2212.3 | 2.71 |        NA |       NA |          NA |         NA |   NA |         NA |         NA |\n",
       "| 2 | 1960 | 2.93 | 1.7 | 412.0 | 2261.7 | 1.23 | 10.600006 |  49.3999 | -1.48000002 | -0.4800000 |  1.0 | 0.02606493 | 0.02208400 |\n",
       "| 3 | 1961 | 2.38 | 1.0 | 420.9 | 2309.8 | 1.38 |  8.899994 |  48.1001 |  0.15000010 | -0.5500000 | -0.7 | 0.02137191 | 0.02104424 |\n",
       "| 4 | 1962 | 2.78 | 1.0 | 440.9 | 2449.1 | 1.78 | 20.000000 | 139.3000 |  0.39999986 |  0.3999999 |  0.0 | 0.04642282 | 0.05855969 |\n",
       "| 5 | 1963 | 3.16 | 1.3 | 459.0 | 2554.0 | 1.86 | 18.100006 | 104.8999 |  0.08000016 |  0.3800001 |  0.3 | 0.04023213 | 0.04194011 |\n",
       "| 6 | 1964 | 3.55 | 1.3 | 474.7 | 2702.9 | 2.25 | 15.700012 | 148.8999 |  0.38999987 |  0.3899999 |  0.0 | 0.03363284 | 0.05666448 |\n",
       "\n"
      ],
      "text/plain": [
       "  year i3   inf inven gdp    r3   cinven    cgdp     cr3         ci3       \n",
       "1 1959 3.41 0.7 401.4 2212.3 2.71        NA       NA          NA         NA\n",
       "2 1960 2.93 1.7 412.0 2261.7 1.23 10.600006  49.3999 -1.48000002 -0.4800000\n",
       "3 1961 2.38 1.0 420.9 2309.8 1.38  8.899994  48.1001  0.15000010 -0.5500000\n",
       "4 1962 2.78 1.0 440.9 2449.1 1.78 20.000000 139.3000  0.39999986  0.3999999\n",
       "5 1963 3.16 1.3 459.0 2554.0 1.86 18.100006 104.8999  0.08000016  0.3800001\n",
       "6 1964 3.55 1.3 474.7 2702.9 2.25 15.700012 148.8999  0.38999987  0.3899999\n",
       "  cinf ginven     ggdp      \n",
       "1   NA         NA         NA\n",
       "2  1.0 0.02606493 0.02208400\n",
       "3 -0.7 0.02137191 0.02104424\n",
       "4  0.0 0.04642282 0.05855969\n",
       "5  0.3 0.04023213 0.04194011\n",
       "6  0.0 0.03363284 0.05666448"
      ]
     },
     "metadata": {},
     "output_type": "display_data"
    }
   ],
   "source": [
    "#c6:\n",
    "\n",
    "data_inven = read.dta(\"C:\\\\Users\\\\vinic\\\\Desktop\\\\R\\\\heiss\\\\data_wooldridge\\\\INVEN.dta\")\n",
    "head(data_inven)\n",
    "#inventory = estoques?"
   ]
  },
  {
   "cell_type": "code",
   "execution_count": 40,
   "metadata": {},
   "outputs": [
    {
     "data": {
      "text/plain": [
       "\n",
       "Call:\n",
       "lm(formula = cinven ~ cgdp, data = data_inven)\n",
       "\n",
       "Residuals:\n",
       "    Min      1Q  Median      3Q     Max \n",
       "-36.906  -5.524   0.541   5.653  23.461 \n",
       "\n",
       "Coefficients:\n",
       "            Estimate Std. Error t value Pr(>|t|)    \n",
       "(Intercept)  2.58880    3.64080   0.711    0.482    \n",
       "cgdp         0.15245    0.02348   6.493 1.99e-07 ***\n",
       "---\n",
       "Signif. codes:  0 '***' 0.001 '**' 0.01 '*' 0.05 '.' 0.1 ' ' 1\n",
       "\n",
       "Residual standard error: 12.76 on 34 degrees of freedom\n",
       "  (1 observation deleted due to missingness)\n",
       "Multiple R-squared:  0.5536,\tAdjusted R-squared:  0.5404 \n",
       "F-statistic: 42.16 on 1 and 34 DF,  p-value: 1.987e-07\n"
      ]
     },
     "metadata": {},
     "output_type": "display_data"
    }
   ],
   "source": [
    "#a)\n",
    "\n",
    "summary(lm(cinven ~ cgdp, data=data_inven)) #gdp é significativo"
   ]
  },
  {
   "cell_type": "code",
   "execution_count": 41,
   "metadata": {},
   "outputs": [
    {
     "data": {
      "text/plain": [
       "\n",
       "Call:\n",
       "lm(formula = cinven ~ cgdp + r3, data = data_inven)\n",
       "\n",
       "Residuals:\n",
       "    Min      1Q  Median      3Q     Max \n",
       "-33.685  -6.744   1.079   4.652  24.330 \n",
       "\n",
       "Coefficients:\n",
       "            Estimate Std. Error t value Pr(>|t|)    \n",
       "(Intercept)  3.00415    3.69449   0.813    0.422    \n",
       "cgdp         0.15903    0.02494   6.376 3.21e-07 ***\n",
       "r3          -0.89534    1.10062  -0.813    0.422    \n",
       "---\n",
       "Signif. codes:  0 '***' 0.001 '**' 0.01 '*' 0.05 '.' 0.1 ' ' 1\n",
       "\n",
       "Residual standard error: 12.83 on 33 degrees of freedom\n",
       "  (1 observation deleted due to missingness)\n",
       "Multiple R-squared:  0.5623,\tAdjusted R-squared:  0.5358 \n",
       "F-statistic:  21.2 on 2 and 33 DF,  p-value: 1.199e-06\n"
      ]
     },
     "metadata": {},
     "output_type": "display_data"
    }
   ],
   "source": [
    "#b)\n",
    "\n",
    "summary(lm(cinven ~ cgdp + r3 , data=data_inven)) #r3 nao é"
   ]
  },
  {
   "cell_type": "code",
   "execution_count": 42,
   "metadata": {},
   "outputs": [
    {
     "data": {
      "text/plain": [
       "\n",
       "Call:\n",
       "lm(formula = cinven ~ cgdp + cr3, data = data_inven)\n",
       "\n",
       "Residuals:\n",
       "    Min      1Q  Median      3Q     Max \n",
       "-36.586  -5.491   0.081   5.451  23.012 \n",
       "\n",
       "Coefficients:\n",
       "            Estimate Std. Error t value Pr(>|t|)    \n",
       "(Intercept)  2.33622    3.78207   0.618    0.541    \n",
       "cgdp         0.15446    0.02469   6.255 4.56e-07 ***\n",
       "cr3         -0.46975    1.53965  -0.305    0.762    \n",
       "---\n",
       "Signif. codes:  0 '***' 0.001 '**' 0.01 '*' 0.05 '.' 0.1 ' ' 1\n",
       "\n",
       "Residual standard error: 12.93 on 33 degrees of freedom\n",
       "  (1 observation deleted due to missingness)\n",
       "Multiple R-squared:  0.5548,\tAdjusted R-squared:  0.5278 \n",
       "F-statistic: 20.56 on 2 and 33 DF,  p-value: 1.588e-06\n"
      ]
     },
     "metadata": {},
     "output_type": "display_data"
    }
   ],
   "source": [
    "#c)\n",
    "\n",
    "summary(lm(cinven ~ cgdp + cr3 , data=data_inven)) #nao melhora com a primeira diferenca"
   ]
  },
  {
   "cell_type": "code",
   "execution_count": 43,
   "metadata": {},
   "outputs": [
    {
     "data": {
      "text/html": [
       "<table>\n",
       "<caption>A data.frame: 6 × 24</caption>\n",
       "<thead>\n",
       "\t<tr><th></th><th scope=col>year</th><th scope=col>i3</th><th scope=col>inf</th><th scope=col>rdisp</th><th scope=col>rnondc</th><th scope=col>rserv</th><th scope=col>pop</th><th scope=col>y</th><th scope=col>rcons</th><th scope=col>c</th><th scope=col>...</th><th scope=col>gy</th><th scope=col>gc_1</th><th scope=col>gy_1</th><th scope=col>r3_1</th><th scope=col>lc_ly</th><th scope=col>lc_ly_1</th><th scope=col>gc_2</th><th scope=col>gy_2</th><th scope=col>r3_2</th><th scope=col>lc_ly_2</th></tr>\n",
       "\t<tr><th></th><th scope=col>&lt;int&gt;</th><th scope=col>&lt;dbl&gt;</th><th scope=col>&lt;dbl&gt;</th><th scope=col>&lt;dbl&gt;</th><th scope=col>&lt;dbl&gt;</th><th scope=col>&lt;dbl&gt;</th><th scope=col>&lt;dbl&gt;</th><th scope=col>&lt;dbl&gt;</th><th scope=col>&lt;dbl&gt;</th><th scope=col>&lt;dbl&gt;</th><th scope=col>...</th><th scope=col>&lt;dbl&gt;</th><th scope=col>&lt;dbl&gt;</th><th scope=col>&lt;dbl&gt;</th><th scope=col>&lt;dbl&gt;</th><th scope=col>&lt;dbl&gt;</th><th scope=col>&lt;dbl&gt;</th><th scope=col>&lt;dbl&gt;</th><th scope=col>&lt;dbl&gt;</th><th scope=col>&lt;dbl&gt;</th><th scope=col>&lt;dbl&gt;</th></tr>\n",
       "</thead>\n",
       "<tbody>\n",
       "\t<tr><th scope=row>1</th><td>1959</td><td>3.41</td><td>0.7</td><td>1530.1</td><td>606.3</td><td>687.4</td><td>177830</td><td>8604.285</td><td>1293.7</td><td>7274.925</td><td>...</td><td>         NA</td><td>        NA</td><td>         NA</td><td>  NA</td><td>-0.1678267</td><td>        NA</td><td>        NA</td><td>         NA</td><td>  NA</td><td>        NA</td></tr>\n",
       "\t<tr><th scope=row>2</th><td>1960</td><td>2.93</td><td>1.7</td><td>1565.4</td><td>615.4</td><td>717.4</td><td>180671</td><td>8664.368</td><td>1332.8</td><td>7376.945</td><td>...</td><td>0.006958961</td><td>        NA</td><td>         NA</td><td>2.71</td><td>-0.1608601</td><td>-0.1678267</td><td>        NA</td><td>         NA</td><td>  NA</td><td>        NA</td></tr>\n",
       "\t<tr><th scope=row>3</th><td>1961</td><td>2.38</td><td>1.0</td><td>1615.8</td><td>626.7</td><td>746.5</td><td>183691</td><td>8796.294</td><td>1373.2</td><td>7475.597</td><td>...</td><td>0.015110970</td><td>0.01392555</td><td>0.006958961</td><td>1.23</td><td>-0.1626863</td><td>-0.1608601</td><td>        NA</td><td>         NA</td><td>2.71</td><td>-0.1678267</td></tr>\n",
       "\t<tr><th scope=row>4</th><td>1962</td><td>2.78</td><td>1.0</td><td>1693.7</td><td>646.5</td><td>783.4</td><td>186538</td><td>9079.651</td><td>1429.9</td><td>7665.462</td><td>...</td><td>0.031705856</td><td>0.01328468</td><td>0.015110970</td><td>1.38</td><td>-0.1693115</td><td>-0.1626863</td><td>0.01392555</td><td>0.006958961</td><td>1.23</td><td>-0.1608601</td></tr>\n",
       "\t<tr><th scope=row>5</th><td>1963</td><td>3.16</td><td>1.3</td><td>1755.5</td><td>660.0</td><td>818.7</td><td>189242</td><td>9276.482</td><td>1478.7</td><td>7813.804</td><td>...</td><td>0.021446228</td><td>0.02508068</td><td>0.031705856</td><td>1.78</td><td>-0.1715908</td><td>-0.1693115</td><td>0.01328468</td><td>0.015110970</td><td>1.38</td><td>-0.1626863</td></tr>\n",
       "\t<tr><th scope=row>6</th><td>1964</td><td>3.55</td><td>1.3</td><td>1881.9</td><td>692.5</td><td>868.4</td><td>191889</td><td>9807.232</td><td>1560.9</td><td>8134.390</td><td>...</td><td>0.055637360</td><td>0.01916695</td><td>0.021446228</td><td>1.86</td><td>-0.1870193</td><td>-0.1715908</td><td>0.02508068</td><td>0.031705856</td><td>1.78</td><td>-0.1693115</td></tr>\n",
       "</tbody>\n",
       "</table>\n"
      ],
      "text/latex": [
       "A data.frame: 6 × 24\n",
       "\\begin{tabular}{r|lllllllllllllllllllll}\n",
       "  & year & i3 & inf & rdisp & rnondc & rserv & pop & y & rcons & c & ... & gy & gc\\_1 & gy\\_1 & r3\\_1 & lc\\_ly & lc\\_ly\\_1 & gc\\_2 & gy\\_2 & r3\\_2 & lc\\_ly\\_2\\\\\n",
       "  & <int> & <dbl> & <dbl> & <dbl> & <dbl> & <dbl> & <dbl> & <dbl> & <dbl> & <dbl> & ... & <dbl> & <dbl> & <dbl> & <dbl> & <dbl> & <dbl> & <dbl> & <dbl> & <dbl> & <dbl>\\\\\n",
       "\\hline\n",
       "\t1 & 1959 & 3.41 & 0.7 & 1530.1 & 606.3 & 687.4 & 177830 & 8604.285 & 1293.7 & 7274.925 & ... &          NA &         NA &          NA &   NA & -0.1678267 &         NA &         NA &          NA &   NA &         NA\\\\\n",
       "\t2 & 1960 & 2.93 & 1.7 & 1565.4 & 615.4 & 717.4 & 180671 & 8664.368 & 1332.8 & 7376.945 & ... & 0.006958961 &         NA &          NA & 2.71 & -0.1608601 & -0.1678267 &         NA &          NA &   NA &         NA\\\\\n",
       "\t3 & 1961 & 2.38 & 1.0 & 1615.8 & 626.7 & 746.5 & 183691 & 8796.294 & 1373.2 & 7475.597 & ... & 0.015110970 & 0.01392555 & 0.006958961 & 1.23 & -0.1626863 & -0.1608601 &         NA &          NA & 2.71 & -0.1678267\\\\\n",
       "\t4 & 1962 & 2.78 & 1.0 & 1693.7 & 646.5 & 783.4 & 186538 & 9079.651 & 1429.9 & 7665.462 & ... & 0.031705856 & 0.01328468 & 0.015110970 & 1.38 & -0.1693115 & -0.1626863 & 0.01392555 & 0.006958961 & 1.23 & -0.1608601\\\\\n",
       "\t5 & 1963 & 3.16 & 1.3 & 1755.5 & 660.0 & 818.7 & 189242 & 9276.482 & 1478.7 & 7813.804 & ... & 0.021446228 & 0.02508068 & 0.031705856 & 1.78 & -0.1715908 & -0.1693115 & 0.01328468 & 0.015110970 & 1.38 & -0.1626863\\\\\n",
       "\t6 & 1964 & 3.55 & 1.3 & 1881.9 & 692.5 & 868.4 & 191889 & 9807.232 & 1560.9 & 8134.390 & ... & 0.055637360 & 0.01916695 & 0.021446228 & 1.86 & -0.1870193 & -0.1715908 & 0.02508068 & 0.031705856 & 1.78 & -0.1693115\\\\\n",
       "\\end{tabular}\n"
      ],
      "text/markdown": [
       "\n",
       "A data.frame: 6 × 24\n",
       "\n",
       "| <!--/--> | year &lt;int&gt; | i3 &lt;dbl&gt; | inf &lt;dbl&gt; | rdisp &lt;dbl&gt; | rnondc &lt;dbl&gt; | rserv &lt;dbl&gt; | pop &lt;dbl&gt; | y &lt;dbl&gt; | rcons &lt;dbl&gt; | c &lt;dbl&gt; | ... ... | gy &lt;dbl&gt; | gc_1 &lt;dbl&gt; | gy_1 &lt;dbl&gt; | r3_1 &lt;dbl&gt; | lc_ly &lt;dbl&gt; | lc_ly_1 &lt;dbl&gt; | gc_2 &lt;dbl&gt; | gy_2 &lt;dbl&gt; | r3_2 &lt;dbl&gt; | lc_ly_2 &lt;dbl&gt; |\n",
       "|---|---|---|---|---|---|---|---|---|---|---|---|---|---|---|---|---|---|---|---|---|---|\n",
       "| 1 | 1959 | 3.41 | 0.7 | 1530.1 | 606.3 | 687.4 | 177830 | 8604.285 | 1293.7 | 7274.925 | ... |          NA |         NA |          NA |   NA | -0.1678267 |         NA |         NA |          NA |   NA |         NA |\n",
       "| 2 | 1960 | 2.93 | 1.7 | 1565.4 | 615.4 | 717.4 | 180671 | 8664.368 | 1332.8 | 7376.945 | ... | 0.006958961 |         NA |          NA | 2.71 | -0.1608601 | -0.1678267 |         NA |          NA |   NA |         NA |\n",
       "| 3 | 1961 | 2.38 | 1.0 | 1615.8 | 626.7 | 746.5 | 183691 | 8796.294 | 1373.2 | 7475.597 | ... | 0.015110970 | 0.01392555 | 0.006958961 | 1.23 | -0.1626863 | -0.1608601 |         NA |          NA | 2.71 | -0.1678267 |\n",
       "| 4 | 1962 | 2.78 | 1.0 | 1693.7 | 646.5 | 783.4 | 186538 | 9079.651 | 1429.9 | 7665.462 | ... | 0.031705856 | 0.01328468 | 0.015110970 | 1.38 | -0.1693115 | -0.1626863 | 0.01392555 | 0.006958961 | 1.23 | -0.1608601 |\n",
       "| 5 | 1963 | 3.16 | 1.3 | 1755.5 | 660.0 | 818.7 | 189242 | 9276.482 | 1478.7 | 7813.804 | ... | 0.021446228 | 0.02508068 | 0.031705856 | 1.78 | -0.1715908 | -0.1693115 | 0.01328468 | 0.015110970 | 1.38 | -0.1626863 |\n",
       "| 6 | 1964 | 3.55 | 1.3 | 1881.9 | 692.5 | 868.4 | 191889 | 9807.232 | 1560.9 | 8134.390 | ... | 0.055637360 | 0.01916695 | 0.021446228 | 1.86 | -0.1870193 | -0.1715908 | 0.02508068 | 0.031705856 | 1.78 | -0.1693115 |\n",
       "\n"
      ],
      "text/plain": [
       "  year i3   inf rdisp  rnondc rserv pop    y        rcons  c        ...\n",
       "1 1959 3.41 0.7 1530.1 606.3  687.4 177830 8604.285 1293.7 7274.925 ...\n",
       "2 1960 2.93 1.7 1565.4 615.4  717.4 180671 8664.368 1332.8 7376.945 ...\n",
       "3 1961 2.38 1.0 1615.8 626.7  746.5 183691 8796.294 1373.2 7475.597 ...\n",
       "4 1962 2.78 1.0 1693.7 646.5  783.4 186538 9079.651 1429.9 7665.462 ...\n",
       "5 1963 3.16 1.3 1755.5 660.0  818.7 189242 9276.482 1478.7 7813.804 ...\n",
       "6 1964 3.55 1.3 1881.9 692.5  868.4 191889 9807.232 1560.9 8134.390 ...\n",
       "  gy          gc_1       gy_1        r3_1 lc_ly      lc_ly_1    gc_2      \n",
       "1          NA         NA          NA   NA -0.1678267         NA         NA\n",
       "2 0.006958961         NA          NA 2.71 -0.1608601 -0.1678267         NA\n",
       "3 0.015110970 0.01392555 0.006958961 1.23 -0.1626863 -0.1608601         NA\n",
       "4 0.031705856 0.01328468 0.015110970 1.38 -0.1693115 -0.1626863 0.01392555\n",
       "5 0.021446228 0.02508068 0.031705856 1.78 -0.1715908 -0.1693115 0.01328468\n",
       "6 0.055637360 0.01916695 0.021446228 1.86 -0.1870193 -0.1715908 0.02508068\n",
       "  gy_2        r3_2 lc_ly_2   \n",
       "1          NA   NA         NA\n",
       "2          NA   NA         NA\n",
       "3          NA 2.71 -0.1678267\n",
       "4 0.006958961 1.23 -0.1608601\n",
       "5 0.015110970 1.38 -0.1626863\n",
       "6 0.031705856 1.78 -0.1693115"
      ]
     },
     "metadata": {},
     "output_type": "display_data"
    }
   ],
   "source": [
    "#c7:\n",
    "\n",
    "data_consump = read.dta(\"C:\\\\Users\\\\vinic\\\\Desktop\\\\R\\\\heiss\\\\data_wooldridge\\\\CONSUMP.dta\")\n",
    "head(data_consump)"
   ]
  },
  {
   "cell_type": "code",
   "execution_count": 44,
   "metadata": {},
   "outputs": [
    {
     "data": {
      "text/plain": [
       "\n",
       "Call:\n",
       "lm(formula = gc ~ gc_1, data = data_consump)\n",
       "\n",
       "Residuals:\n",
       "      Min        1Q    Median        3Q       Max \n",
       "-0.027878 -0.005974 -0.001450  0.007142  0.020227 \n",
       "\n",
       "Coefficients:\n",
       "            Estimate Std. Error t value Pr(>|t|)   \n",
       "(Intercept) 0.011431   0.003778   3.026  0.00478 **\n",
       "gc_1        0.446133   0.156047   2.859  0.00731 **\n",
       "---\n",
       "Signif. codes:  0 '***' 0.001 '**' 0.01 '*' 0.05 '.' 0.1 ' ' 1\n",
       "\n",
       "Residual standard error: 0.01161 on 33 degrees of freedom\n",
       "  (2 observations deleted due to missingness)\n",
       "Multiple R-squared:  0.1985,\tAdjusted R-squared:  0.1742 \n",
       "F-statistic: 8.174 on 1 and 33 DF,  p-value: 0.007311\n"
      ]
     },
     "metadata": {},
     "output_type": "display_data"
    }
   ],
   "source": [
    "#a)\n",
    "\n",
    "summary(lm(gc ~ gc_1, data=data_consump)) #dá pra prever com o anterior"
   ]
  },
  {
   "cell_type": "code",
   "execution_count": 45,
   "metadata": {},
   "outputs": [
    {
     "data": {
      "text/plain": [
       "\n",
       "Call:\n",
       "lm(formula = gc ~ gc_1 + gy_1 + r3_1 + lag(inf), data = data_consump)\n",
       "\n",
       "Residuals:\n",
       "       Min         1Q     Median         3Q        Max \n",
       "-0.0248670 -0.0076517 -0.0000705  0.0082194  0.0182452 \n",
       "\n",
       "Coefficients:\n",
       "              Estimate Std. Error t value Pr(>|t|)    \n",
       "(Intercept)  0.0237773  0.0052610   4.520 9.01e-05 ***\n",
       "gc_1         0.5034549  0.2530174   1.990  0.05580 .  \n",
       "gy_1        -0.0318340  0.1798740  -0.177  0.86071    \n",
       "r3_1        -0.0015051  0.0010441  -1.442  0.15980    \n",
       "lag(inf)    -0.0022366  0.0006787  -3.295  0.00253 ** \n",
       "---\n",
       "Signif. codes:  0 '***' 0.001 '**' 0.01 '*' 0.05 '.' 0.1 ' ' 1\n",
       "\n",
       "Residual standard error: 0.01034 on 30 degrees of freedom\n",
       "  (2 observations deleted due to missingness)\n",
       "Multiple R-squared:  0.422,\tAdjusted R-squared:  0.3449 \n",
       "F-statistic: 5.475 on 4 and 30 DF,  p-value: 0.00197\n"
      ]
     },
     "metadata": {},
     "output_type": "display_data"
    }
   ],
   "source": [
    "#b) \n",
    "\n",
    "model = lm(gc ~ gc_1 + gy_1 + r3_1 +lag(inf), data=data_consump) #só a inf é significativa\n",
    "summary(model)"
   ]
  },
  {
   "cell_type": "code",
   "execution_count": 46,
   "metadata": {},
   "outputs": [
    {
     "data": {
      "text/html": [
       "<table>\n",
       "<caption>A anova: 2 × 6</caption>\n",
       "<thead>\n",
       "\t<tr><th></th><th scope=col>Res.Df</th><th scope=col>RSS</th><th scope=col>Df</th><th scope=col>Sum of Sq</th><th scope=col>F</th><th scope=col>Pr(&gt;F)</th></tr>\n",
       "\t<tr><th></th><th scope=col>&lt;dbl&gt;</th><th scope=col>&lt;dbl&gt;</th><th scope=col>&lt;dbl&gt;</th><th scope=col>&lt;dbl&gt;</th><th scope=col>&lt;dbl&gt;</th><th scope=col>&lt;dbl&gt;</th></tr>\n",
       "</thead>\n",
       "<tbody>\n",
       "\t<tr><th scope=row>1</th><td>34</td><td>0.005545602</td><td>NA</td><td>         NA</td><td>      NA</td><td>         NA</td></tr>\n",
       "\t<tr><th scope=row>2</th><td>30</td><td>0.003205611</td><td> 4</td><td>0.002339991</td><td>5.474754</td><td>0.001970133</td></tr>\n",
       "</tbody>\n",
       "</table>\n"
      ],
      "text/latex": [
       "A anova: 2 × 6\n",
       "\\begin{tabular}{r|llllll}\n",
       "  & Res.Df & RSS & Df & Sum of Sq & F & Pr(>F)\\\\\n",
       "  & <dbl> & <dbl> & <dbl> & <dbl> & <dbl> & <dbl>\\\\\n",
       "\\hline\n",
       "\t1 & 34 & 0.005545602 & NA &          NA &       NA &          NA\\\\\n",
       "\t2 & 30 & 0.003205611 &  4 & 0.002339991 & 5.474754 & 0.001970133\\\\\n",
       "\\end{tabular}\n"
      ],
      "text/markdown": [
       "\n",
       "A anova: 2 × 6\n",
       "\n",
       "| <!--/--> | Res.Df &lt;dbl&gt; | RSS &lt;dbl&gt; | Df &lt;dbl&gt; | Sum of Sq &lt;dbl&gt; | F &lt;dbl&gt; | Pr(&gt;F) &lt;dbl&gt; |\n",
       "|---|---|---|---|---|---|---|\n",
       "| 1 | 34 | 0.005545602 | NA |          NA |       NA |          NA |\n",
       "| 2 | 30 | 0.003205611 |  4 | 0.002339991 | 5.474754 | 0.001970133 |\n",
       "\n"
      ],
      "text/plain": [
       "  Res.Df RSS         Df Sum of Sq   F        Pr(>F)     \n",
       "1 34     0.005545602 NA          NA       NA          NA\n",
       "2 30     0.003205611  4 0.002339991 5.474754 0.001970133"
      ]
     },
     "metadata": {},
     "output_type": "display_data"
    }
   ],
   "source": [
    "linearHypothesis(model, c(\"gc_1=0\", \"gy_1=0\", \"r3_1=0\", \"lag(inf)=0\"))\n",
    "#significativo a 0.001\n",
    "\n",
    "#c) caiu, o que faz com que b nao dê suporte à hipotese mais\n",
    "\n",
    "\n",
    "#d) #F-statistic: 5.475 on 4 and 30 DF,  p-value: 0.00197, sim\n",
    "\n"
   ]
  },
  {
   "cell_type": "code",
   "execution_count": 47,
   "metadata": {},
   "outputs": [
    {
     "name": "stderr",
     "output_type": "stream",
     "text": [
      "Warning message in read.dta(\"C:\\\\Users\\\\vinic\\\\Desktop\\\\R\\\\heiss\\\\data_wooldridge\\\\PHILLIPS.dta\"):\n",
      "\"cannot read factor labels from Stata 5 files\"\n"
     ]
    },
    {
     "data": {
      "text/html": [
       "<table>\n",
       "<caption>A data.frame: 6 × 11</caption>\n",
       "<thead>\n",
       "\t<tr><th></th><th scope=col>year</th><th scope=col>unem</th><th scope=col>inf</th><th scope=col>unem_1</th><th scope=col>inf_1</th><th scope=col>unem_2</th><th scope=col>inf_2</th><th scope=col>cunem</th><th scope=col>cinf</th><th scope=col>cunem_1</th><th scope=col>cinf_1</th></tr>\n",
       "\t<tr><th></th><th scope=col>&lt;int&gt;</th><th scope=col>&lt;dbl&gt;</th><th scope=col>&lt;dbl&gt;</th><th scope=col>&lt;dbl&gt;</th><th scope=col>&lt;dbl&gt;</th><th scope=col>&lt;dbl&gt;</th><th scope=col>&lt;dbl&gt;</th><th scope=col>&lt;dbl&gt;</th><th scope=col>&lt;dbl&gt;</th><th scope=col>&lt;dbl&gt;</th><th scope=col>&lt;dbl&gt;</th></tr>\n",
       "</thead>\n",
       "<tbody>\n",
       "\t<tr><th scope=row>1</th><td>1948</td><td>3.8</td><td> 8.1</td><td> NA</td><td>  NA</td><td> NA</td><td>  NA</td><td>        NA</td><td>  NA</td><td>        NA</td><td>  NA</td></tr>\n",
       "\t<tr><th scope=row>2</th><td>1949</td><td>5.9</td><td>-1.2</td><td>3.8</td><td> 8.1</td><td> NA</td><td>  NA</td><td> 2.1000001</td><td>-9.3</td><td>        NA</td><td>  NA</td></tr>\n",
       "\t<tr><th scope=row>3</th><td>1950</td><td>5.3</td><td> 1.3</td><td>5.9</td><td>-1.2</td><td>3.8</td><td> 8.1</td><td>-0.5999999</td><td> 2.5</td><td> 2.1000001</td><td>-9.3</td></tr>\n",
       "\t<tr><th scope=row>4</th><td>1951</td><td>3.3</td><td> 7.9</td><td>5.3</td><td> 1.3</td><td>5.9</td><td>-1.2</td><td>-2.0000002</td><td> 6.6</td><td>-0.5999999</td><td> 2.5</td></tr>\n",
       "\t<tr><th scope=row>5</th><td>1952</td><td>3.0</td><td> 1.9</td><td>3.3</td><td> 7.9</td><td>5.3</td><td> 1.3</td><td>-0.3000000</td><td>-6.0</td><td>-2.0000002</td><td> 6.6</td></tr>\n",
       "\t<tr><th scope=row>6</th><td>1953</td><td>2.9</td><td> 0.8</td><td>3.0</td><td> 1.9</td><td>3.3</td><td> 7.9</td><td>-0.0999999</td><td>-1.1</td><td>-0.3000000</td><td>-6.0</td></tr>\n",
       "</tbody>\n",
       "</table>\n"
      ],
      "text/latex": [
       "A data.frame: 6 × 11\n",
       "\\begin{tabular}{r|lllllllllll}\n",
       "  & year & unem & inf & unem\\_1 & inf\\_1 & unem\\_2 & inf\\_2 & cunem & cinf & cunem\\_1 & cinf\\_1\\\\\n",
       "  & <int> & <dbl> & <dbl> & <dbl> & <dbl> & <dbl> & <dbl> & <dbl> & <dbl> & <dbl> & <dbl>\\\\\n",
       "\\hline\n",
       "\t1 & 1948 & 3.8 &  8.1 &  NA &   NA &  NA &   NA &         NA &   NA &         NA &   NA\\\\\n",
       "\t2 & 1949 & 5.9 & -1.2 & 3.8 &  8.1 &  NA &   NA &  2.1000001 & -9.3 &         NA &   NA\\\\\n",
       "\t3 & 1950 & 5.3 &  1.3 & 5.9 & -1.2 & 3.8 &  8.1 & -0.5999999 &  2.5 &  2.1000001 & -9.3\\\\\n",
       "\t4 & 1951 & 3.3 &  7.9 & 5.3 &  1.3 & 5.9 & -1.2 & -2.0000002 &  6.6 & -0.5999999 &  2.5\\\\\n",
       "\t5 & 1952 & 3.0 &  1.9 & 3.3 &  7.9 & 5.3 &  1.3 & -0.3000000 & -6.0 & -2.0000002 &  6.6\\\\\n",
       "\t6 & 1953 & 2.9 &  0.8 & 3.0 &  1.9 & 3.3 &  7.9 & -0.0999999 & -1.1 & -0.3000000 & -6.0\\\\\n",
       "\\end{tabular}\n"
      ],
      "text/markdown": [
       "\n",
       "A data.frame: 6 × 11\n",
       "\n",
       "| <!--/--> | year &lt;int&gt; | unem &lt;dbl&gt; | inf &lt;dbl&gt; | unem_1 &lt;dbl&gt; | inf_1 &lt;dbl&gt; | unem_2 &lt;dbl&gt; | inf_2 &lt;dbl&gt; | cunem &lt;dbl&gt; | cinf &lt;dbl&gt; | cunem_1 &lt;dbl&gt; | cinf_1 &lt;dbl&gt; |\n",
       "|---|---|---|---|---|---|---|---|---|---|---|---|\n",
       "| 1 | 1948 | 3.8 |  8.1 |  NA |   NA |  NA |   NA |         NA |   NA |         NA |   NA |\n",
       "| 2 | 1949 | 5.9 | -1.2 | 3.8 |  8.1 |  NA |   NA |  2.1000001 | -9.3 |         NA |   NA |\n",
       "| 3 | 1950 | 5.3 |  1.3 | 5.9 | -1.2 | 3.8 |  8.1 | -0.5999999 |  2.5 |  2.1000001 | -9.3 |\n",
       "| 4 | 1951 | 3.3 |  7.9 | 5.3 |  1.3 | 5.9 | -1.2 | -2.0000002 |  6.6 | -0.5999999 |  2.5 |\n",
       "| 5 | 1952 | 3.0 |  1.9 | 3.3 |  7.9 | 5.3 |  1.3 | -0.3000000 | -6.0 | -2.0000002 |  6.6 |\n",
       "| 6 | 1953 | 2.9 |  0.8 | 3.0 |  1.9 | 3.3 |  7.9 | -0.0999999 | -1.1 | -0.3000000 | -6.0 |\n",
       "\n"
      ],
      "text/plain": [
       "  year unem inf  unem_1 inf_1 unem_2 inf_2 cunem      cinf cunem_1    cinf_1\n",
       "1 1948 3.8   8.1  NA      NA   NA      NA          NA   NA         NA   NA  \n",
       "2 1949 5.9  -1.2 3.8     8.1   NA      NA   2.1000001 -9.3         NA   NA  \n",
       "3 1950 5.3   1.3 5.9    -1.2  3.8     8.1  -0.5999999  2.5  2.1000001 -9.3  \n",
       "4 1951 3.3   7.9 5.3     1.3  5.9    -1.2  -2.0000002  6.6 -0.5999999  2.5  \n",
       "5 1952 3.0   1.9 3.3     7.9  5.3     1.3  -0.3000000 -6.0 -2.0000002  6.6  \n",
       "6 1953 2.9   0.8 3.0     1.9  3.3     7.9  -0.0999999 -1.1 -0.3000000 -6.0  "
      ]
     },
     "metadata": {},
     "output_type": "display_data"
    }
   ],
   "source": [
    "#c8:\n",
    "\n",
    "#a)\n",
    "\n",
    "data_phillips = read.dta(\"C:\\\\Users\\\\vinic\\\\Desktop\\\\R\\\\heiss\\\\data_wooldridge\\\\PHILLIPS.dta\")\n",
    "head(data_phillips)"
   ]
  },
  {
   "cell_type": "code",
   "execution_count": 48,
   "metadata": {},
   "outputs": [
    {
     "data": {
      "text/plain": [
       "\n",
       "Time series regression with \"ts\" data:\n",
       "Start = 1949, End = 1996\n",
       "\n",
       "Call:\n",
       "dynlm(formula = unem ~ L(unem), data = tsdata)\n",
       "\n",
       "Residuals:\n",
       "    Min      1Q  Median      3Q     Max \n",
       "-2.1532 -0.6976 -0.2737  0.7460  2.8271 \n",
       "\n",
       "Coefficients:\n",
       "            Estimate Std. Error t value Pr(>|t|)    \n",
       "(Intercept)  1.57174    0.57712   2.723   0.0091 ** \n",
       "L(unem)      0.73235    0.09689   7.559 1.33e-09 ***\n",
       "---\n",
       "Signif. codes:  0 '***' 0.001 '**' 0.01 '*' 0.05 '.' 0.1 ' ' 1\n",
       "\n",
       "Residual standard error: 1.049 on 46 degrees of freedom\n",
       "Multiple R-squared:  0.554,\tAdjusted R-squared:  0.5443 \n",
       "F-statistic: 57.13 on 1 and 46 DF,  p-value: 1.333e-09\n"
      ]
     },
     "metadata": {},
     "output_type": "display_data"
    }
   ],
   "source": [
    "tsdata = ts(data_phillips, start=1948)\n",
    "model = dynlm(unem ~ L(unem), data=tsdata)\n",
    "summary(model) #altamente significativo"
   ]
  },
  {
   "cell_type": "code",
   "execution_count": null,
   "metadata": {},
   "outputs": [],
   "source": [
    "#nao fiz o resto pq tava dando mto errado"
   ]
  }
 ],
 "metadata": {
  "kernelspec": {
   "display_name": "R",
   "language": "R",
   "name": "ir"
  },
  "language_info": {
   "codemirror_mode": "r",
   "file_extension": ".r",
   "mimetype": "text/x-r-source",
   "name": "R",
   "pygments_lexer": "r",
   "version": "3.6.2"
  }
 },
 "nbformat": 4,
 "nbformat_minor": 4
}
