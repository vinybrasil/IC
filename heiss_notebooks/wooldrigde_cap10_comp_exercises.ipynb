{
 "cells": [
  {
   "cell_type": "markdown",
   "metadata": {},
   "source": [
    "<h1>Computer exercises do capítulo 10 do Wooldridge</h1>"
   ]
  },
  {
   "cell_type": "code",
   "execution_count": 33,
   "metadata": {},
   "outputs": [
    {
     "name": "stderr",
     "output_type": "stream",
     "text": [
      "Warning message:\n",
      "\"package 'Hmisc' was built under R version 3.6.3\"\n",
      "Loading required package: lattice\n",
      "\n",
      "Loading required package: survival\n",
      "\n",
      "Loading required package: Formula\n",
      "\n",
      "\n",
      "Attaching package: 'Hmisc'\n",
      "\n",
      "\n",
      "The following objects are masked from 'package:dplyr':\n",
      "\n",
      "    src, summarize\n",
      "\n",
      "\n",
      "The following objects are masked from 'package:base':\n",
      "\n",
      "    format.pval, units\n",
      "\n",
      "\n"
     ]
    }
   ],
   "source": [
    "library(foreign);library(tidyverse);library(car);library(dynlm);library(Hmisc)"
   ]
  },
  {
   "cell_type": "code",
   "execution_count": null,
   "metadata": {},
   "outputs": [],
   "source": [
    "#joint hypotesis: https://www.econometrics-with-r.org/7-3-joint-hypothesis-testing-using-the-f-statistic.html\n",
    "\n",
    "#exercicio c1\n",
    "\n",
    "library(foreign);library(tidyverse)\n",
    "\n",
    "juros = read.dta(\"C:\\\\Users\\\\vinic\\\\Desktop\\\\R\\\\heiss\\\\data_wooldridge\\\\INTDEF.DTA\")\n",
    "\n",
    "head(juros)"
   ]
  },
  {
   "cell_type": "code",
   "execution_count": null,
   "metadata": {},
   "outputs": [],
   "source": [
    "juros$dummy = ifelse(juros$year > 1979, 1, 0)\n",
    "\n",
    "juros_tibble = as_tibble(juros)\n",
    "juros_tibble"
   ]
  },
  {
   "cell_type": "code",
   "execution_count": null,
   "metadata": {},
   "outputs": [],
   "source": [
    "juros_tibble %>% select(year, dummy)\n",
    "\n",
    "summary(lm(juros$i3 ~ juros$inf+juros$def+juros$dummy)) #a dummy é siginificativa"
   ]
  },
  {
   "cell_type": "code",
   "execution_count": 6,
   "metadata": {},
   "outputs": [
    {
     "name": "stderr",
     "output_type": "stream",
     "text": [
      "Warning message in read.dta(\"C:\\\\Users\\\\vinic\\\\Desktop\\\\R\\\\heiss\\\\data_wooldridge\\\\BARIUM.dta\"):\n",
      "\"cannot read factor labels from Stata 5 files\"\n"
     ]
    },
    {
     "data": {
      "text/plain": [
       "\n",
       "Call:\n",
       "lm(formula = log(barium$chnimp) ~ barium$t + log(barium$chempi) + \n",
       "    log(barium$gas) + log(barium$rtwex) + barium$befile6 + barium$affile6 + \n",
       "    barium$afdec6)\n",
       "\n",
       "Residuals:\n",
       "     Min       1Q   Median       3Q      Max \n",
       "-1.94317 -0.31168  0.03172  0.36366  1.21218 \n",
       "\n",
       "Coefficients:\n",
       "                    Estimate Std. Error t value Pr(>|t|)   \n",
       "(Intercept)        -2.367308  20.782159  -0.114  0.90949   \n",
       "barium$t            0.012706   0.003844   3.305  0.00124 **\n",
       "log(barium$chempi) -0.686233   1.239711  -0.554  0.58090   \n",
       "log(barium$gas)     0.465669   0.876178   0.531  0.59605   \n",
       "log(barium$rtwex)   0.078222   0.472440   0.166  0.86877   \n",
       "barium$befile6      0.090470   0.251289   0.360  0.71945   \n",
       "barium$affile6      0.097006   0.257313   0.377  0.70683   \n",
       "barium$afdec6      -0.351502   0.282542  -1.244  0.21584   \n",
       "---\n",
       "Signif. codes:  0 '***' 0.001 '**' 0.01 '*' 0.05 '.' 0.1 ' ' 1\n",
       "\n",
       "Residual standard error: 0.5748 on 123 degrees of freedom\n",
       "Multiple R-squared:  0.3616,\tAdjusted R-squared:  0.3252 \n",
       "F-statistic: 9.951 on 7 and 123 DF,  p-value: 8.358e-10\n"
      ]
     },
     "metadata": {},
     "output_type": "display_data"
    }
   ],
   "source": [
    "#exercicio c2\n",
    "\n",
    "barium = read.dta(\"C:\\\\Users\\\\vinic\\\\Desktop\\\\R\\\\heiss\\\\data_wooldridge\\\\BARIUM.dta\")\n",
    "\n",
    "#as_tibble(barium$t)\n",
    "\n",
    "#names(barium)\n",
    "\n",
    "summary(lm(log(barium$chnimp) ~ barium$t +  log(barium$chempi) + log(barium$gas) + log(barium$rtwex) + barium$befile6 + barium$affile6 + barium$afdec6))"
   ]
  },
  {
   "cell_type": "code",
   "execution_count": 7,
   "metadata": {},
   "outputs": [
    {
     "data": {
      "image/png": "[encoded data removed]",
      "text/plain": [
       "plot without title"
      ]
     },
     "metadata": {
      "image/png": {
       "height": 420,
       "width": 420
      }
     },
     "output_type": "display_data"
    }
   ],
   "source": [
    "impts = ts(barium$chnimp, start=c(1978,2), frequency=12)\n",
    "plot(impts)"
   ]
  },
  {
   "cell_type": "code",
   "execution_count": 8,
   "metadata": {},
   "outputs": [
    {
     "data": {
      "text/plain": [
       "\n",
       "Call:\n",
       "lm(formula = chnimp ~ t + chempi + gas + rtwex + befile6 + affile6 + \n",
       "    afdec6, data = barium)\n",
       "\n",
       "Residuals:\n",
       "    Min      1Q  Median      3Q     Max \n",
       "-451.46 -201.80  -44.66  152.85  927.92 \n",
       "\n",
       "Coefficients:\n",
       "              Estimate Std. Error t value Pr(>|t|)    \n",
       "(Intercept)  4.562e+02  7.705e+02   0.592 0.554881    \n",
       "t            7.044e+00  2.030e+00   3.470 0.000718 ***\n",
       "chempi      -5.033e+00  5.247e+00  -0.959 0.339342    \n",
       "gas          4.792e-08  5.319e-08   0.901 0.369397    \n",
       "rtwex       -1.167e+00  2.363e+00  -0.494 0.622316    \n",
       "befile6      4.169e+01  1.279e+02   0.326 0.744938    \n",
       "affile6      4.344e+01  1.311e+02   0.331 0.741007    \n",
       "afdec6      -1.341e+02  1.487e+02  -0.902 0.368758    \n",
       "---\n",
       "Signif. codes:  0 '***' 0.001 '**' 0.01 '*' 0.05 '.' 0.1 ' ' 1\n",
       "\n",
       "Residual standard error: 293.1 on 123 degrees of freedom\n",
       "Multiple R-squared:  0.3346,\tAdjusted R-squared:  0.2968 \n",
       "F-statistic: 8.838 on 7 and 123 DF,  p-value: 8.811e-09\n"
      ]
     },
     "metadata": {},
     "output_type": "display_data"
    }
   ],
   "source": [
    "\n",
    "model = lm(chnimp ~ t + chempi +gas + rtwex + befile6 + affile6 + afdec6, data=barium)\n",
    "summary(model)"
   ]
  },
  {
   "cell_type": "code",
   "execution_count": 12,
   "metadata": {},
   "outputs": [
    {
     "ename": "ERROR",
     "evalue": "Error in solve.default(vcov.hyp): system is computationally singular: reciprocal condition number = 6.8752e-20\n",
     "output_type": "error",
     "traceback": [
      "Error in solve.default(vcov.hyp): system is computationally singular: reciprocal condition number = 6.8752e-20\nTraceback:\n",
      "1. linearHypothesis(model, c(\"gas=0\", \"chempi=0\", \"rtwex=0\", \"befile6=0\", \n .     \"affile6=0\", \"afdec6=0\"))",
      "2. linearHypothesis.lm(model, c(\"gas=0\", \"chempi=0\", \"rtwex=0\", \n .     \"befile6=0\", \"affile6=0\", \"afdec6=0\"))",
      "3. linearHypothesis.default(model, hypothesis.matrix, rhs = rhs, \n .     test = test, vcov. = vcov., singular.ok = singular.ok, ...)",
      "4. as.vector(t(value.hyp) %*% solve(vcov.hyp) %*% value.hyp)",
      "5. solve(vcov.hyp)",
      "6. solve.default(vcov.hyp)"
     ]
    }
   ],
   "source": [
    "linearHypothesis(model, c(\"gas=0\", \"chempi=0\", \"rtwex=0\", \"befile6=0\", \"affile6=0\", \"afdec6=0\"))"
   ]
  },
  {
   "cell_type": "code",
   "execution_count": 15,
   "metadata": {},
   "outputs": [],
   "source": [
    "model = lm(chnimp ~ t + chempi +gas + rtwex + befile6 + affile6 + afdec6 + feb + mar+ apr+ may + jun + jul + aug+ sep + oct+ nov + dec, data=barium)"
   ]
  },
  {
   "cell_type": "code",
   "execution_count": 17,
   "metadata": {},
   "outputs": [
    {
     "name": "stderr",
     "output_type": "stream",
     "text": [
      "Warning message in read.dta(\"C:\\\\Users\\\\vinic\\\\Desktop\\\\R\\\\heiss\\\\data_wooldridge\\\\PRMINWGE.dta\"):\n",
      "\"cannot read factor labels from Stata 5 files\"\n"
     ]
    },
    {
     "data": {
      "text/plain": [
       "\n",
       "Call:\n",
       "lm(formula = log(prepop) ~ log(mincov) + log(usgnp) + t, data = puerto_rico)\n",
       "\n",
       "Residuals:\n",
       "      Min        1Q    Median        3Q       Max \n",
       "-0.049493 -0.024424 -0.009596  0.017055  0.086354 \n",
       "\n",
       "Coefficients:\n",
       "             Estimate Std. Error t value Pr(>|t|)    \n",
       "(Intercept) -8.696300   1.295762  -6.711 1.04e-07 ***\n",
       "log(mincov) -0.168695   0.044246  -3.813 0.000552 ***\n",
       "log(usgnp)   1.057351   0.176637   5.986 8.98e-07 ***\n",
       "t           -0.032354   0.005023  -6.442 2.31e-07 ***\n",
       "---\n",
       "Signif. codes:  0 '***' 0.001 '**' 0.01 '*' 0.05 '.' 0.1 ' ' 1\n",
       "\n",
       "Residual standard error: 0.03793 on 34 degrees of freedom\n",
       "Multiple R-squared:  0.8471,\tAdjusted R-squared:  0.8336 \n",
       "F-statistic: 62.78 on 3 and 34 DF,  p-value: 6.007e-14\n"
      ]
     },
     "metadata": {},
     "output_type": "display_data"
    }
   ],
   "source": [
    "#exercicio c3\n",
    "\n",
    "puerto_rico = read.dta(\"C:\\\\Users\\\\vinic\\\\Desktop\\\\R\\\\heiss\\\\data_wooldridge\\\\PRMINWGE.dta\")\n",
    "\n",
    "summary(lm(log(prepop) ~   log(mincov) + log(usgnp) + t, data=puerto_rico)) #tudo é significativo com a trend"
   ]
  },
  {
   "cell_type": "code",
   "execution_count": 18,
   "metadata": {},
   "outputs": [
    {
     "data": {
      "image/png": "[encoded data removed]",
      "text/plain": [
       "plot without title"
      ]
     },
     "metadata": {
      "image/png": {
       "height": 420,
       "width": 420
      }
     },
     "output_type": "display_data"
    }
   ],
   "source": [
    "plot(ts(puerto_rico$prepop))"
   ]
  },
  {
   "cell_type": "code",
   "execution_count": 19,
   "metadata": {},
   "outputs": [
    {
     "data": {
      "text/plain": [
       "\n",
       "Call:\n",
       "lm(formula = log(prepop) ~ log(mincov) + log(usgnp) + t + log(prgnp), \n",
       "    data = puerto_rico)\n",
       "\n",
       "Residuals:\n",
       "      Min        1Q    Median        3Q       Max \n",
       "-0.054679 -0.023653 -0.004039  0.018638  0.076947 \n",
       "\n",
       "Coefficients:\n",
       "             Estimate Std. Error t value Pr(>|t|)    \n",
       "(Intercept) -6.663442   1.257829  -5.298 7.67e-06 ***\n",
       "log(mincov) -0.212261   0.040152  -5.286 7.92e-06 ***\n",
       "log(usgnp)   0.486048   0.221982   2.190   0.0357 *  \n",
       "t           -0.026663   0.004627  -5.763 1.94e-06 ***\n",
       "log(prgnp)   0.285238   0.080492   3.544   0.0012 ** \n",
       "---\n",
       "Signif. codes:  0 '***' 0.001 '**' 0.01 '*' 0.05 '.' 0.1 ' ' 1\n",
       "\n",
       "Residual standard error: 0.03277 on 33 degrees of freedom\n",
       "Multiple R-squared:  0.8892,\tAdjusted R-squared:  0.8758 \n",
       "F-statistic: 66.23 on 4 and 33 DF,  p-value: 2.677e-15\n"
      ]
     },
     "metadata": {},
     "output_type": "display_data"
    }
   ],
   "source": [
    "summary(lm(log(prepop) ~   log(mincov) + log(usgnp) + t + log(prgnp), data=puerto_rico))"
   ]
  },
  {
   "cell_type": "code",
   "execution_count": 21,
   "metadata": {},
   "outputs": [
    {
     "name": "stderr",
     "output_type": "stream",
     "text": [
      "Warning message in read.dta(\"C:\\\\Users\\\\vinic\\\\Desktop\\\\R\\\\heiss\\\\data_wooldridge\\\\FERTIL3.dta\"):\n",
      "\"cannot read factor labels from Stata 5 files\"\n"
     ]
    },
    {
     "data": {
      "text/plain": [
       "\n",
       "Time series regression with \"ts\" data:\n",
       "Start = 1915, End = 1984\n",
       "\n",
       "Call:\n",
       "dynlm(formula = gfr ~ pe + L(pe) + L(pe, 2) + ww2 + pill, data = tsdata)\n",
       "\n",
       "Residuals:\n",
       "     Min       1Q   Median       3Q      Max \n",
       "-24.6461  -9.5409  -0.0312   8.3378  29.1295 \n",
       "\n",
       "Coefficients:\n",
       "             Estimate Std. Error t value Pr(>|t|)    \n",
       "(Intercept)  95.87050    3.28196  29.211  < 2e-16 ***\n",
       "pe            0.07267    0.12553   0.579   0.5647    \n",
       "L(pe)        -0.00578    0.15566  -0.037   0.9705    \n",
       "L(pe, 2)      0.03383    0.12626   0.268   0.7896    \n",
       "ww2         -22.12650   10.73197  -2.062   0.0433 *  \n",
       "pill        -31.30499    3.98156  -7.862 5.63e-11 ***\n",
       "---\n",
       "Signif. codes:  0 '***' 0.001 '**' 0.01 '*' 0.05 '.' 0.1 ' ' 1\n",
       "\n",
       "Residual standard error: 14.27 on 64 degrees of freedom\n",
       "Multiple R-squared:  0.4986,\tAdjusted R-squared:  0.4594 \n",
       "F-statistic: 12.73 on 5 and 64 DF,  p-value: 1.353e-08\n"
      ]
     },
     "metadata": {},
     "output_type": "display_data"
    }
   ],
   "source": [
    "#exercicio c4\n",
    "\n",
    "library(dynlm)\n",
    "\n",
    "fertilidade = read.dta(\"C:\\\\Users\\\\vinic\\\\Desktop\\\\R\\\\heiss\\\\data_wooldridge\\\\FERTIL3.dta\")\n",
    "tsdata = ts(fertilidade, start=1913)\n",
    "\n",
    "res = dynlm(gfr ~ pe + L(pe)  + L(pe, 2) + ww2 + pill, data=tsdata)\n",
    "summary(res)"
   ]
  },
  {
   "cell_type": "code",
   "execution_count": 22,
   "metadata": {},
   "outputs": [
    {
     "name": "stderr",
     "output_type": "stream",
     "text": [
      "Warning message in read.dta(\"C:\\\\Users\\\\vinic\\\\Desktop\\\\R\\\\heiss\\\\data_wooldridge\\\\EZANDERS.DTA\"):\n",
      "\"cannot read factor labels from Stata 5 files\"\n"
     ]
    },
    {
     "data": {
      "text/plain": [
       "\n",
       "Call:\n",
       "lm(formula = log(uclms) ~ feb + mar + apr + may + jun + jul + \n",
       "    aug + sep + oct + nov + dec, data = ez)\n",
       "\n",
       "Residuals:\n",
       "    Min      1Q  Median      3Q     Max \n",
       "-0.7698 -0.3984 -0.2336  0.4543  1.4271 \n",
       "\n",
       "Coefficients:\n",
       "            Estimate Std. Error t value Pr(>|t|)    \n",
       "(Intercept)  9.00365    0.20006  45.005  < 2e-16 ***\n",
       "feb         -0.01323    0.28293  -0.047  0.96281    \n",
       "mar         -0.06616    0.28293  -0.234  0.81560    \n",
       "apr         -0.36493    0.28293  -1.290  0.20024    \n",
       "may         -0.51478    0.28293  -1.819  0.07199 .  \n",
       "jun         -0.55412    0.28293  -1.959  0.05310 .  \n",
       "jul         -0.51916    0.28293  -1.835  0.06964 .  \n",
       "aug         -0.33785    0.28293  -1.194  0.23541    \n",
       "sep         -0.75286    0.28293  -2.661  0.00915 ** \n",
       "oct         -0.78679    0.28293  -2.781  0.00654 ** \n",
       "nov         -0.68167    0.28293  -2.409  0.01791 *  \n",
       "dec         -0.29078    0.29163  -0.997  0.32127    \n",
       "---\n",
       "Signif. codes:  0 '***' 0.001 '**' 0.01 '*' 0.05 '.' 0.1 ' ' 1\n",
       "\n",
       "Residual standard error: 0.6002 on 95 degrees of freedom\n",
       "  (1 observation deleted due to missingness)\n",
       "Multiple R-squared:  0.181,\tAdjusted R-squared:  0.08622 \n",
       "F-statistic: 1.909 on 11 and 95 DF,  p-value: 0.04747\n"
      ]
     },
     "metadata": {},
     "output_type": "display_data"
    }
   ],
   "source": [
    "#exercicio c5\n",
    "\n",
    "ez = read.dta(\"C:\\\\Users\\\\vinic\\\\Desktop\\\\R\\\\heiss\\\\data_wooldridge\\\\EZANDERS.DTA\")\n",
    "\n",
    "modelo = (lm(log(uclms) ~ feb + mar + apr + may+ jun + jul + aug + sep + oct + nov + dec, data=ez))\n",
    "summary(modelo)"
   ]
  },
  {
   "cell_type": "code",
   "execution_count": 23,
   "metadata": {},
   "outputs": [
    {
     "name": "stderr",
     "output_type": "stream",
     "text": [
      "Warning message in read.dta(\"C:\\\\Users\\\\vinic\\\\Desktop\\\\R\\\\heiss\\\\data_wooldridge\\\\FERTIL3.DTA\"):\n",
      "\"cannot read factor labels from Stata 5 files\"\n"
     ]
    },
    {
     "data": {
      "text/plain": [
       "\n",
       "Call:\n",
       "lm(formula = gfr ~ t + tsq, data = fertility)\n",
       "\n",
       "Residuals:\n",
       "     Min       1Q   Median       3Q      Max \n",
       "-28.7519 -12.5333   0.3168  13.7611  28.7346 \n",
       "\n",
       "Coefficients:\n",
       "              Estimate Std. Error t value Pr(>|t|)    \n",
       "(Intercept) 107.056263   6.049651  17.696   <2e-16 ***\n",
       "t             0.071697   0.382446   0.187    0.852    \n",
       "tsq          -0.007959   0.005077  -1.568    0.122    \n",
       "---\n",
       "Signif. codes:  0 '***' 0.001 '**' 0.01 '*' 0.05 '.' 0.1 ' ' 1\n",
       "\n",
       "Residual standard error: 16.64 on 69 degrees of freedom\n",
       "Multiple R-squared:  0.3141,\tAdjusted R-squared:  0.2942 \n",
       "F-statistic:  15.8 on 2 and 69 DF,  p-value: 2.243e-06\n"
      ]
     },
     "metadata": {},
     "output_type": "display_data"
    }
   ],
   "source": [
    "#exercicio c6: detrending\n",
    "\n",
    "fertility = read.dta(\"C:\\\\Users\\\\vinic\\\\Desktop\\\\R\\\\heiss\\\\data_wooldridge\\\\FERTIL3.DTA\")\n",
    "\n",
    "model = lm(gfr ~ t + tsq, data=fertility)\n",
    "summary(model)"
   ]
  },
  {
   "cell_type": "code",
   "execution_count": 24,
   "metadata": {},
   "outputs": [
    {
     "data": {
      "text/plain": [
       "\n",
       "Call:\n",
       "lm(formula = gfr ~ t + tsq + ww2 + pe + pill, data = fertility)\n",
       "\n",
       "Residuals:\n",
       "     Min       1Q   Median       3Q      Max \n",
       "-25.9791  -6.9775  -0.2713   7.7975  19.9861 \n",
       "\n",
       "Coefficients:\n",
       "              Estimate Std. Error t value Pr(>|t|)    \n",
       "(Intercept) 124.091935   4.360738  28.457  < 2e-16 ***\n",
       "t            -2.531426   0.389386  -6.501 1.24e-08 ***\n",
       "tsq           0.019613   0.004971   3.945 0.000196 ***\n",
       "ww2         -35.880277   5.707921  -6.286 2.95e-08 ***\n",
       "pe            0.347813   0.040260   8.639 1.91e-12 ***\n",
       "pill        -10.119723   6.336094  -1.597 0.115008    \n",
       "---\n",
       "Signif. codes:  0 '***' 0.001 '**' 0.01 '*' 0.05 '.' 0.1 ' ' 1\n",
       "\n",
       "Residual standard error: 10.74 on 66 degrees of freedom\n",
       "Multiple R-squared:  0.7267,\tAdjusted R-squared:  0.706 \n",
       "F-statistic: 35.09 on 5 and 66 DF,  p-value: < 2.2e-16\n"
      ]
     },
     "metadata": {},
     "output_type": "display_data"
    }
   ],
   "source": [
    "dot_gfr = residuals(model)\n",
    "fertility$dot_gfr = dot_gfr\n",
    "summary(lm(gfr ~ t + tsq + ww2 + pe + pill , data=fertility))"
   ]
  },
  {
   "cell_type": "code",
   "execution_count": 25,
   "metadata": {},
   "outputs": [
    {
     "data": {
      "text/plain": [
       "\n",
       "Call:\n",
       "lm(formula = dot_gfr ~ t + tsq + ww2 + pe + pill, data = fertility)\n",
       "\n",
       "Residuals:\n",
       "     Min       1Q   Median       3Q      Max \n",
       "-25.9791  -6.9775  -0.2713   7.7975  19.9861 \n",
       "\n",
       "Coefficients:\n",
       "              Estimate Std. Error t value Pr(>|t|)    \n",
       "(Intercept)  17.035673   4.360738   3.907 0.000223 ***\n",
       "t            -2.603123   0.389386  -6.685 5.86e-09 ***\n",
       "tsq           0.027572   0.004971   5.546 5.53e-07 ***\n",
       "ww2         -35.880277   5.707921  -6.286 2.95e-08 ***\n",
       "pe            0.347813   0.040260   8.639 1.91e-12 ***\n",
       "pill        -10.119723   6.336094  -1.597 0.115008    \n",
       "---\n",
       "Signif. codes:  0 '***' 0.001 '**' 0.01 '*' 0.05 '.' 0.1 ' ' 1\n",
       "\n",
       "Residual standard error: 10.74 on 66 degrees of freedom\n",
       "Multiple R-squared:  0.6015,\tAdjusted R-squared:  0.5713 \n",
       "F-statistic: 19.92 on 5 and 66 DF,  p-value: 4.719e-12\n"
      ]
     },
     "metadata": {},
     "output_type": "display_data"
    }
   ],
   "source": [
    "model = lm(dot_gfr ~ t + tsq + ww2 + pe + pill , data=fertility)\n",
    "summary(model) #as variaveis ainda sao significativas mesmo com a variavei detrended "
   ]
  },
  {
   "cell_type": "code",
   "execution_count": 26,
   "metadata": {},
   "outputs": [
    {
     "data": {
      "text/plain": [
       "\n",
       "Call:\n",
       "lm(formula = gfr ~ t + tsq + t_3 + ww2 + pe + pill, data = fertility)\n",
       "\n",
       "Residuals:\n",
       "     Min       1Q   Median       3Q      Max \n",
       "-14.4463  -6.0271   0.3312   6.5957  17.7281 \n",
       "\n",
       "Coefficients:\n",
       "              Estimate Std. Error t value Pr(>|t|)    \n",
       "(Intercept)  1.428e+02  4.338e+00  32.919  < 2e-16 ***\n",
       "t           -5.612e+00  5.428e-01 -10.340 2.32e-15 ***\n",
       "tsq          1.554e-01  2.030e-02   7.653 1.21e-10 ***\n",
       "t_3         -1.290e-03  1.894e-04  -6.809 3.77e-09 ***\n",
       "ww2         -1.905e+01  5.042e+00  -3.778 0.000346 ***\n",
       "pe           1.619e-01  4.131e-02   3.920 0.000216 ***\n",
       "pill        -2.501e+01  5.346e+00  -4.679 1.51e-05 ***\n",
       "---\n",
       "Signif. codes:  0 '***' 0.001 '**' 0.01 '*' 0.05 '.' 0.1 ' ' 1\n",
       "\n",
       "Residual standard error: 8.267 on 65 degrees of freedom\n",
       "Multiple R-squared:  0.8405,\tAdjusted R-squared:  0.8257 \n",
       "F-statistic: 57.07 on 6 and 65 DF,  p-value: < 2.2e-16\n"
      ]
     },
     "metadata": {},
     "output_type": "display_data"
    }
   ],
   "source": [
    "fertility$t_3 = fertility$t^3\n",
    "\n",
    "summary(lm(gfr ~ t + tsq + t_3 + ww2 + pe + pill , data=fertility)) #é significativo mas nao faz sentido logico"
   ]
  },
  {
   "cell_type": "code",
   "execution_count": 27,
   "metadata": {},
   "outputs": [
    {
     "data": {
      "text/plain": [
       "\n",
       "Call:\n",
       "lm(formula = gc ~ gy, data = consumption)\n",
       "\n",
       "Residuals:\n",
       "       Min         1Q     Median         3Q        Max \n",
       "-0.0140496 -0.0035407 -0.0005813  0.0044080  0.0116890 \n",
       "\n",
       "Coefficients:\n",
       "            Estimate Std. Error t value Pr(>|t|)    \n",
       "(Intercept) 0.008079   0.001899   4.254 0.000155 ***\n",
       "gy          0.570781   0.067354   8.474 6.75e-10 ***\n",
       "---\n",
       "Signif. codes:  0 '***' 0.001 '**' 0.01 '*' 0.05 '.' 0.1 ' ' 1\n",
       "\n",
       "Residual standard error: 0.007268 on 34 degrees of freedom\n",
       "  (1 observation deleted due to missingness)\n",
       "Multiple R-squared:  0.6787,\tAdjusted R-squared:  0.6692 \n",
       "F-statistic: 71.81 on 1 and 34 DF,  p-value: 6.754e-10\n"
      ]
     },
     "metadata": {},
     "output_type": "display_data"
    }
   ],
   "source": [
    "#exercicio c7\n",
    "\n",
    "consumption = read.dta(\"C:\\\\Users\\\\vinic\\\\Desktop\\\\R\\\\heiss\\\\data_wooldridge\\\\CONSUMP.dta\")\n",
    "summary(lm(gc ~ gy, data=consumption)) #nao sei qual variavel usar"
   ]
  },
  {
   "cell_type": "code",
   "execution_count": 28,
   "metadata": {},
   "outputs": [
    {
     "name": "stderr",
     "output_type": "stream",
     "text": [
      "Warning message in read.dta(\"C:\\\\Users\\\\vinic\\\\Desktop\\\\R\\\\heiss\\\\data_wooldridge\\\\FERTIL3.DTA\"):\n",
      "\"cannot read factor labels from Stata 5 files\"\n"
     ]
    },
    {
     "data": {
      "text/plain": [
       "\n",
       "Call:\n",
       "lm(formula = gfr ~ pe_3 + pe_2 + pe_1 + pe_4 + ww2 + pe + pill, \n",
       "    data = fertility)\n",
       "\n",
       "Residuals:\n",
       "    Min      1Q  Median      3Q     Max \n",
       "-22.226  -9.528  -1.111   8.016  27.068 \n",
       "\n",
       "Coefficients:\n",
       "              Estimate Std. Error t value Pr(>|t|)    \n",
       "(Intercept)  92.501551   3.325483  27.816  < 2e-16 ***\n",
       "pe_3          0.018083   0.153589   0.118   0.9067    \n",
       "pe_2          0.007395   0.165102   0.045   0.9644    \n",
       "pe_1         -0.003977   0.153111  -0.026   0.9794    \n",
       "pe_4          0.013940   0.105024   0.133   0.8948    \n",
       "ww2         -21.343483  11.540771  -1.849   0.0693 .  \n",
       "pe            0.088749   0.126185   0.703   0.4846    \n",
       "pill        -31.081643   3.896868  -7.976 5.38e-11 ***\n",
       "---\n",
       "Signif. codes:  0 '***' 0.001 '**' 0.01 '*' 0.05 '.' 0.1 ' ' 1\n",
       "\n",
       "Residual standard error: 13.67 on 60 degrees of freedom\n",
       "  (4 observations deleted due to missingness)\n",
       "Multiple R-squared:  0.5368,\tAdjusted R-squared:  0.4828 \n",
       "F-statistic: 9.934 on 7 and 60 DF,  p-value: 3.633e-08\n"
      ]
     },
     "metadata": {},
     "output_type": "display_data"
    }
   ],
   "source": [
    "#exercicio c8 \n",
    "\n",
    "fertility = read.dta(\"C:\\\\Users\\\\vinic\\\\Desktop\\\\R\\\\heiss\\\\data_wooldridge\\\\FERTIL3.DTA\")\n",
    "\n",
    "model = (lm(gfr ~ pe_3 + pe_2 + pe_1 + pe_4 + ww2 + pe + pill , data=fertility))\n",
    "summary(model)"
   ]
  },
  {
   "cell_type": "code",
   "execution_count": 29,
   "metadata": {},
   "outputs": [
    {
     "data": {
      "text/html": [
       "<table>\n",
       "<caption>A anova: 2 × 6</caption>\n",
       "<thead>\n",
       "\t<tr><th></th><th scope=col>Res.Df</th><th scope=col>RSS</th><th scope=col>Df</th><th scope=col>Sum of Sq</th><th scope=col>F</th><th scope=col>Pr(&gt;F)</th></tr>\n",
       "\t<tr><th></th><th scope=col>&lt;dbl&gt;</th><th scope=col>&lt;dbl&gt;</th><th scope=col>&lt;dbl&gt;</th><th scope=col>&lt;dbl&gt;</th><th scope=col>&lt;dbl&gt;</th><th scope=col>&lt;dbl&gt;</th></tr>\n",
       "</thead>\n",
       "<tbody>\n",
       "\t<tr><th scope=row>1</th><td>62</td><td>11236.35</td><td>NA</td><td>      NA</td><td>        NA</td><td>       NA</td></tr>\n",
       "\t<tr><th scope=row>2</th><td>60</td><td>11213.10</td><td> 2</td><td>23.25285</td><td>0.06221168</td><td>0.9397445</td></tr>\n",
       "</tbody>\n",
       "</table>\n"
      ],
      "text/latex": [
       "A anova: 2 × 6\n",
       "\\begin{tabular}{r|llllll}\n",
       "  & Res.Df & RSS & Df & Sum of Sq & F & Pr(>F)\\\\\n",
       "  & <dbl> & <dbl> & <dbl> & <dbl> & <dbl> & <dbl>\\\\\n",
       "\\hline\n",
       "\t1 & 62 & 11236.35 & NA &       NA &         NA &        NA\\\\\n",
       "\t2 & 60 & 11213.10 &  2 & 23.25285 & 0.06221168 & 0.9397445\\\\\n",
       "\\end{tabular}\n"
      ],
      "text/markdown": [
       "\n",
       "A anova: 2 × 6\n",
       "\n",
       "| <!--/--> | Res.Df &lt;dbl&gt; | RSS &lt;dbl&gt; | Df &lt;dbl&gt; | Sum of Sq &lt;dbl&gt; | F &lt;dbl&gt; | Pr(&gt;F) &lt;dbl&gt; |\n",
       "|---|---|---|---|---|---|---|\n",
       "| 1 | 62 | 11236.35 | NA |       NA |         NA |        NA |\n",
       "| 2 | 60 | 11213.10 |  2 | 23.25285 | 0.06221168 | 0.9397445 |\n",
       "\n"
      ],
      "text/plain": [
       "  Res.Df RSS      Df Sum of Sq F          Pr(>F)   \n",
       "1 62     11236.35 NA       NA          NA        NA\n",
       "2 60     11213.10  2 23.25285  0.06221168 0.9397445"
      ]
     },
     "metadata": {},
     "output_type": "display_data"
    }
   ],
   "source": [
    "linearHypothesis(model, c(\"pe_3=0\", \"pe_4=0\")) #há pouca força contra h0"
   ]
  },
  {
   "cell_type": "code",
   "execution_count": 30,
   "metadata": {},
   "outputs": [],
   "source": [
    "fertility$pet_1_menos_pet = fertility$pe_1 - fertility$pe\n",
    "fertility$pet_2_menos_pet = fertility$pe_2 - fertility$pe\n",
    "fertility$pet_3_menos_pet = fertility$pe_3 - fertility$pe\n",
    "fertility$pet_4_menos_pet = fertility$pe_4 - fertility$pe"
   ]
  },
  {
   "cell_type": "code",
   "execution_count": 31,
   "metadata": {},
   "outputs": [
    {
     "data": {
      "text/plain": [
       "\n",
       "Call:\n",
       "lm(formula = gfr ~ pet_1_menos_pet + pet_2_menos_pet + pet_3_menos_pet + \n",
       "    pet_4_menos_pet + ww2 + pe + pill, data = fertility)\n",
       "\n",
       "Residuals:\n",
       "    Min      1Q  Median      3Q     Max \n",
       "-22.226  -9.528  -1.111   8.016  27.068 \n",
       "\n",
       "Coefficients:\n",
       "                  Estimate Std. Error t value Pr(>|t|)    \n",
       "(Intercept)      92.501551   3.325483  27.816  < 2e-16 ***\n",
       "pet_1_menos_pet  -0.003977   0.153111  -0.026   0.9794    \n",
       "pet_2_menos_pet   0.007395   0.165102   0.045   0.9644    \n",
       "pet_3_menos_pet   0.018083   0.153589   0.118   0.9067    \n",
       "pet_4_menos_pet   0.013940   0.105024   0.133   0.8948    \n",
       "ww2             -21.343483  11.540771  -1.849   0.0693 .  \n",
       "pe                0.124190   0.029572   4.200 9.00e-05 ***\n",
       "pill            -31.081643   3.896868  -7.976 5.38e-11 ***\n",
       "---\n",
       "Signif. codes:  0 '***' 0.001 '**' 0.01 '*' 0.05 '.' 0.1 ' ' 1\n",
       "\n",
       "Residual standard error: 13.67 on 60 degrees of freedom\n",
       "  (4 observations deleted due to missingness)\n",
       "Multiple R-squared:  0.5368,\tAdjusted R-squared:  0.4828 \n",
       "F-statistic: 9.934 on 7 and 60 DF,  p-value: 3.633e-08\n"
      ]
     },
     "metadata": {},
     "output_type": "display_data"
    }
   ],
   "source": [
    "\n",
    "model = (lm(gfr ~ pet_1_menos_pet + pet_2_menos_pet + pet_3_menos_pet + pet_4_menos_pet + ww2 + pe + pill , data=fertility))\n",
    "summary(model)"
   ]
  },
  {
   "cell_type": "code",
   "execution_count": 32,
   "metadata": {},
   "outputs": [
    {
     "data": {
      "text/html": [
       "40.2360556110012"
      ],
      "text/latex": [
       "40.2360556110012"
      ],
      "text/markdown": [
       "40.2360556110012"
      ],
      "text/plain": [
       "[1] 40.23606"
      ]
     },
     "metadata": {},
     "output_type": "display_data"
    }
   ],
   "source": [
    "sum(coefficients(model))"
   ]
  },
  {
   "cell_type": "code",
   "execution_count": 34,
   "metadata": {},
   "outputs": [
    {
     "name": "stderr",
     "output_type": "stream",
     "text": [
      "Warning message in read.dta(\"C:\\\\Users\\\\vinic\\\\Desktop\\\\R\\\\heiss\\\\data_wooldridge\\\\VOLAT.dta\"):\n",
      "\"cannot read factor labels from Stata 5 files\"\n"
     ]
    },
    {
     "data": {
      "text/plain": [
       "volat \n",
       "\n",
       " 17  Variables      558  Observations\n",
       "--------------------------------------------------------------------------------\n",
       "date \n",
       "       n  missing distinct     Info     Mean      Gmd      .05      .10 \n",
       "     558        0      558        1     1970    15.53     1949     1951 \n",
       "     .25      .50      .75      .90      .95 \n",
       "    1958     1970     1981     1988     1991 \n",
       "\n",
       "lowest : 1947.01 1947.02 1947.03 1947.04 1947.05\n",
       "highest: 1993.02 1993.03 1993.04 1993.05 1993.06\n",
       "--------------------------------------------------------------------------------\n",
       "sp500 \n",
       "       n  missing distinct     Info     Mean      Gmd      .05      .10 \n",
       "     558        0      549        1    118.3    103.3    15.88    22.84 \n",
       "     .25      .50      .75      .90      .95 \n",
       "   48.82    92.28   127.93   293.10   363.76 \n",
       "\n",
       "lowest :  13.97  14.10  14.30  14.34  14.60, highest: 441.70 443.08 445.25 448.06 450.16\n",
       "--------------------------------------------------------------------------------\n",
       "divyld \n",
       "       n  missing distinct     Info     Mean      Gmd      .05      .10 \n",
       "     558        0      276        1    4.154    1.231    2.910    2.990 \n",
       "     .25      .50      .75      .90      .95 \n",
       "   3.190    3.815    4.970    5.893    6.262 \n",
       "\n",
       "lowest : 2.69 2.70 2.73 2.76 2.78, highest: 6.73 6.75 6.97 7.09 7.24\n",
       "--------------------------------------------------------------------------------\n",
       "i3 \n",
       "       n  missing distinct     Info     Mean      Gmd      .05      .10 \n",
       "     558        0      411        1    5.005    3.493    1.000    1.170 \n",
       "     .25      .50      .75      .90      .95 \n",
       "   2.610    4.610    7.040    8.939   10.981 \n",
       "\n",
       "lowest :  0.38  0.64  0.65  0.71  0.74, highest: 14.95 15.53 15.61 15.66 16.30\n",
       "--------------------------------------------------------------------------------\n",
       "ip \n",
       "       n  missing distinct     Info     Mean      Gmd      .05      .10 \n",
       "     558        0      376        1    62.61    31.53    23.38    28.10 \n",
       "     .25      .50      .75      .90      .95 \n",
       "   36.00    62.00    85.48   104.33   106.11 \n",
       "\n",
       "lowest :  21.6  22.0  22.1  22.2  22.4, highest: 109.3 109.9 110.1 110.3 110.4\n",
       "--------------------------------------------------------------------------------\n",
       "pcsp \n",
       "       n  missing distinct     Info     Mean      Gmd      .05      .10 \n",
       "     557        1      557        1    7.991    44.13   -61.64   -40.64 \n",
       "     .25      .50      .75      .90      .95 \n",
       "  -15.13    10.09    34.40    51.23    69.84 \n",
       "\n",
       "lowest : -150.5569 -144.9821 -140.2127 -138.0803 -124.8454\n",
       "highest:  105.9571  110.3946  124.6968  135.5618  139.8632\n",
       "--------------------------------------------------------------------------------\n",
       "rsp500 \n",
       "       n  missing distinct     Info     Mean      Gmd      .05      .10 \n",
       "     557        1      557        1    12.14    44.11   -57.22   -36.41 \n",
       "     .25      .50      .75      .90      .95 \n",
       "  -11.06    14.60    38.70    55.13    74.43 \n",
       "\n",
       "lowest : -146.8969 -141.7321 -136.4327 -133.8803 -119.3954\n",
       "highest:  110.5771  114.1946  129.3068  138.9118  145.4932\n",
       "--------------------------------------------------------------------------------\n",
       "pcip \n",
       "       n  missing distinct     Info     Mean      Gmd      .05      .10 \n",
       "     557        1      514        1    3.508    13.89  -17.070  -10.355 \n",
       "     .25      .50      .75      .90      .95 \n",
       "  -3.719    4.040    9.871   17.034   23.412 \n",
       "\n",
       "lowest : -50.63291 -42.85710 -41.37928 -38.26082 -34.42620\n",
       "highest:  41.09589  41.73909  50.29932  76.03304  78.83217\n",
       "--------------------------------------------------------------------------------\n",
       "ci3 \n",
       "       n  missing distinct     Info     Mean      Gmd      .05      .10 \n",
       "     557        1      258        1 0.004883   0.4211   -0.574   -0.384 \n",
       "     .25      .50      .75      .90      .95 \n",
       "  -0.120    0.010    0.160    0.350    0.640 \n",
       "\n",
       "lowest : -4.850000 -2.900000 -2.599999 -2.150000 -1.739999\n",
       "highest:  1.480000  1.770000  2.310000  2.669999  2.719999\n",
       "--------------------------------------------------------------------------------\n",
       "ci3_1 \n",
       "       n  missing distinct     Info     Mean      Gmd      .05      .10 \n",
       "     556        2      258        1  0.00464   0.4215  -0.5750  -0.3850 \n",
       "     .25      .50      .75      .90      .95 \n",
       " -0.1200   0.0100   0.1625   0.3500   0.6400 \n",
       "\n",
       "lowest : -4.850000 -2.900000 -2.599999 -2.150000 -1.739999\n",
       "highest:  1.480000  1.770000  2.310000  2.669999  2.719999\n",
       "--------------------------------------------------------------------------------\n",
       "ci3_2 \n",
       "       n  missing distinct     Info     Mean      Gmd      .05      .10 \n",
       "     555        3      258        1 0.004523   0.4221   -0.576   -0.386 \n",
       "     .25      .50      .75      .90      .95 \n",
       "  -0.120    0.010    0.165    0.350    0.640 \n",
       "\n",
       "lowest : -4.850000 -2.900000 -2.599999 -2.150000 -1.739999\n",
       "highest:  1.480000  1.770000  2.310000  2.669999  2.719999\n",
       "--------------------------------------------------------------------------------\n",
       "pcip_1 \n",
       "       n  missing distinct     Info     Mean      Gmd      .05      .10 \n",
       "     556        2      513        1    3.518     13.9  -17.083  -10.358 \n",
       "     .25      .50      .75      .90      .95 \n",
       "  -3.734    4.047    9.888   17.067   23.424 \n",
       "\n",
       "lowest : -50.63291 -42.85710 -41.37928 -38.26082 -34.42620\n",
       "highest:  41.09589  41.73909  50.29932  76.03304  78.83217\n",
       "--------------------------------------------------------------------------------\n",
       "pcip_2 \n",
       "       n  missing distinct     Info     Mean      Gmd      .05      .10 \n",
       "     555        3      512        1    3.526    13.91  -17.095  -10.360 \n",
       "     .25      .50      .75      .90      .95 \n",
       "  -3.749    4.054    9.906   17.100   23.436 \n",
       "\n",
       "lowest : -50.63291 -42.85710 -41.37928 -38.26082 -34.42620\n",
       "highest:  41.09589  41.73909  50.29932  76.03304  78.83217\n",
       "--------------------------------------------------------------------------------\n",
       "pcip_3 \n",
       "       n  missing distinct     Info     Mean      Gmd      .05      .10 \n",
       "     554        4      511        1    3.527    13.93  -17.107  -10.363 \n",
       "     .25      .50      .75      .90      .95 \n",
       "  -3.764    4.061    9.923   17.133   23.448 \n",
       "\n",
       "lowest : -50.63291 -42.85710 -41.37928 -38.26082 -34.42620\n",
       "highest:  41.09589  41.73909  50.29932  76.03304  78.83217\n",
       "--------------------------------------------------------------------------------\n",
       "pcsp_1 \n",
       "       n  missing distinct     Info     Mean      Gmd      .05      .10 \n",
       "     556        2      556        1    7.992    44.18   -61.71   -40.67 \n",
       "     .25      .50      .75      .90      .95 \n",
       "  -15.19    10.32    34.41    51.23    69.90 \n",
       "\n",
       "lowest : -150.5569 -144.9821 -140.2127 -138.0803 -124.8454\n",
       "highest:  105.9571  110.3946  124.6968  135.5618  139.8632\n",
       "--------------------------------------------------------------------------------\n",
       "pcsp_2 \n",
       "       n  missing distinct     Info     Mean      Gmd      .05      .10 \n",
       "     555        3      555        1    7.995    44.23   -61.79   -40.70 \n",
       "     .25      .50      .75      .90      .95 \n",
       "  -15.25    10.56    34.41    51.23    69.97 \n",
       "\n",
       "lowest : -150.5569 -144.9821 -140.2127 -138.0803 -124.8454\n",
       "highest:  105.9571  110.3946  124.6968  135.5618  139.8632\n",
       "--------------------------------------------------------------------------------\n",
       "pcsp_3 \n",
       "       n  missing distinct     Info     Mean      Gmd      .05      .10 \n",
       "     554        4      554        1    8.044    44.25   -61.86   -40.74 \n",
       "     .25      .50      .75      .90      .95 \n",
       "  -15.10    10.66    34.42    51.23    70.04 \n",
       "\n",
       "lowest : -150.5569 -144.9821 -140.2127 -138.0803 -124.8454\n",
       "highest:  105.9571  110.3946  124.6968  135.5618  139.8632\n",
       "--------------------------------------------------------------------------------"
      ]
     },
     "metadata": {},
     "output_type": "display_data"
    }
   ],
   "source": [
    "#exercicio c9\n",
    "\n",
    "\n",
    "volat = read.dta(\"C:\\\\Users\\\\vinic\\\\Desktop\\\\R\\\\heiss\\\\data_wooldridge\\\\VOLAT.dta\")\n",
    "\n",
    "describe(volat)"
   ]
  },
  {
   "cell_type": "code",
   "execution_count": 35,
   "metadata": {},
   "outputs": [
    {
     "data": {
      "text/plain": [
       "\n",
       "Call:\n",
       "lm(formula = rsp500 ~ pcip + i3, data = volat)\n",
       "\n",
       "Residuals:\n",
       "     Min       1Q   Median       3Q      Max \n",
       "-157.871  -22.580    2.103   25.524  138.137 \n",
       "\n",
       "Coefficients:\n",
       "            Estimate Std. Error t value Pr(>|t|)    \n",
       "(Intercept) 18.84306    3.27488   5.754 1.44e-08 ***\n",
       "pcip         0.03642    0.12940   0.281   0.7785    \n",
       "i3          -1.36169    0.54072  -2.518   0.0121 *  \n",
       "---\n",
       "Signif. codes:  0 '***' 0.001 '**' 0.01 '*' 0.05 '.' 0.1 ' ' 1\n",
       "\n",
       "Residual standard error: 40.13 on 554 degrees of freedom\n",
       "  (1 observation deleted due to missingness)\n",
       "Multiple R-squared:  0.01189,\tAdjusted R-squared:  0.008325 \n",
       "F-statistic: 3.334 on 2 and 554 DF,  p-value: 0.03637\n"
      ]
     },
     "metadata": {},
     "output_type": "display_data"
    }
   ],
   "source": [
    "model = lm(rsp500 ~ pcip + i3, data=volat)\n",
    "summary(model) #nada é significativo fora o juros pq é do msm período"
   ]
  },
  {
   "cell_type": "code",
   "execution_count": 36,
   "metadata": {},
   "outputs": [
    {
     "name": "stderr",
     "output_type": "stream",
     "text": [
      "Warning message in read.dta(\"C:\\\\Users\\\\vinic\\\\Desktop\\\\R\\\\heiss\\\\data_wooldridge\\\\INTDEF.dta\"):\n",
      "\"cannot read factor labels from Stata 5 files\"\n"
     ]
    },
    {
     "data": {
      "text/html": [
       "<table>\n",
       "<caption>A data.frame: 6 × 13</caption>\n",
       "<thead>\n",
       "\t<tr><th></th><th scope=col>year</th><th scope=col>i3</th><th scope=col>inf</th><th scope=col>rec</th><th scope=col>out</th><th scope=col>def</th><th scope=col>i3_1</th><th scope=col>inf_1</th><th scope=col>def_1</th><th scope=col>ci3</th><th scope=col>cinf</th><th scope=col>cdef</th><th scope=col>y77</th></tr>\n",
       "\t<tr><th></th><th scope=col>&lt;int&gt;</th><th scope=col>&lt;dbl&gt;</th><th scope=col>&lt;dbl&gt;</th><th scope=col>&lt;dbl&gt;</th><th scope=col>&lt;dbl&gt;</th><th scope=col>&lt;dbl&gt;</th><th scope=col>&lt;dbl&gt;</th><th scope=col>&lt;dbl&gt;</th><th scope=col>&lt;dbl&gt;</th><th scope=col>&lt;dbl&gt;</th><th scope=col>&lt;dbl&gt;</th><th scope=col>&lt;dbl&gt;</th><th scope=col>&lt;int&gt;</th></tr>\n",
       "</thead>\n",
       "<tbody>\n",
       "\t<tr><th scope=row>1</th><td>1948</td><td>1.04</td><td> 8.1</td><td>16.4</td><td>11.7</td><td>-4.6999998</td><td>  NA</td><td>  NA</td><td>        NA</td><td>        NA</td><td>  NA</td><td>       NA</td><td>0</td></tr>\n",
       "\t<tr><th scope=row>2</th><td>1949</td><td>1.10</td><td>-1.2</td><td>14.6</td><td>14.4</td><td>-0.2000008</td><td>1.04</td><td> 8.1</td><td>-4.6999998</td><td>0.06000006</td><td>-9.3</td><td> 4.499999</td><td>0</td></tr>\n",
       "\t<tr><th scope=row>3</th><td>1950</td><td>1.22</td><td> 1.3</td><td>14.5</td><td>15.6</td><td> 1.1000004</td><td>1.10</td><td>-1.2</td><td>-0.2000008</td><td>0.12000000</td><td> 2.5</td><td> 1.300001</td><td>0</td></tr>\n",
       "\t<tr><th scope=row>4</th><td>1951</td><td>1.55</td><td> 7.9</td><td>16.1</td><td>14.2</td><td>-1.9000006</td><td>1.22</td><td> 1.3</td><td> 1.1000004</td><td>0.32999992</td><td> 6.6</td><td>-3.000001</td><td>0</td></tr>\n",
       "\t<tr><th scope=row>5</th><td>1952</td><td>1.77</td><td> 1.9</td><td>18.9</td><td>19.4</td><td> 0.5000000</td><td>1.55</td><td> 7.9</td><td>-1.9000006</td><td>0.22000003</td><td>-6.0</td><td> 2.400001</td><td>0</td></tr>\n",
       "\t<tr><th scope=row>6</th><td>1953</td><td>1.93</td><td> 0.8</td><td>18.7</td><td>20.4</td><td> 1.6999989</td><td>1.77</td><td> 1.9</td><td> 0.5000000</td><td>0.15999997</td><td>-1.1</td><td> 1.199999</td><td>0</td></tr>\n",
       "</tbody>\n",
       "</table>\n"
      ],
      "text/latex": [
       "A data.frame: 6 × 13\n",
       "\\begin{tabular}{r|lllllllllllll}\n",
       "  & year & i3 & inf & rec & out & def & i3\\_1 & inf\\_1 & def\\_1 & ci3 & cinf & cdef & y77\\\\\n",
       "  & <int> & <dbl> & <dbl> & <dbl> & <dbl> & <dbl> & <dbl> & <dbl> & <dbl> & <dbl> & <dbl> & <dbl> & <int>\\\\\n",
       "\\hline\n",
       "\t1 & 1948 & 1.04 &  8.1 & 16.4 & 11.7 & -4.6999998 &   NA &   NA &         NA &         NA &   NA &        NA & 0\\\\\n",
       "\t2 & 1949 & 1.10 & -1.2 & 14.6 & 14.4 & -0.2000008 & 1.04 &  8.1 & -4.6999998 & 0.06000006 & -9.3 &  4.499999 & 0\\\\\n",
       "\t3 & 1950 & 1.22 &  1.3 & 14.5 & 15.6 &  1.1000004 & 1.10 & -1.2 & -0.2000008 & 0.12000000 &  2.5 &  1.300001 & 0\\\\\n",
       "\t4 & 1951 & 1.55 &  7.9 & 16.1 & 14.2 & -1.9000006 & 1.22 &  1.3 &  1.1000004 & 0.32999992 &  6.6 & -3.000001 & 0\\\\\n",
       "\t5 & 1952 & 1.77 &  1.9 & 18.9 & 19.4 &  0.5000000 & 1.55 &  7.9 & -1.9000006 & 0.22000003 & -6.0 &  2.400001 & 0\\\\\n",
       "\t6 & 1953 & 1.93 &  0.8 & 18.7 & 20.4 &  1.6999989 & 1.77 &  1.9 &  0.5000000 & 0.15999997 & -1.1 &  1.199999 & 0\\\\\n",
       "\\end{tabular}\n"
      ],
      "text/markdown": [
       "\n",
       "A data.frame: 6 × 13\n",
       "\n",
       "| <!--/--> | year &lt;int&gt; | i3 &lt;dbl&gt; | inf &lt;dbl&gt; | rec &lt;dbl&gt; | out &lt;dbl&gt; | def &lt;dbl&gt; | i3_1 &lt;dbl&gt; | inf_1 &lt;dbl&gt; | def_1 &lt;dbl&gt; | ci3 &lt;dbl&gt; | cinf &lt;dbl&gt; | cdef &lt;dbl&gt; | y77 &lt;int&gt; |\n",
       "|---|---|---|---|---|---|---|---|---|---|---|---|---|---|\n",
       "| 1 | 1948 | 1.04 |  8.1 | 16.4 | 11.7 | -4.6999998 |   NA |   NA |         NA |         NA |   NA |        NA | 0 |\n",
       "| 2 | 1949 | 1.10 | -1.2 | 14.6 | 14.4 | -0.2000008 | 1.04 |  8.1 | -4.6999998 | 0.06000006 | -9.3 |  4.499999 | 0 |\n",
       "| 3 | 1950 | 1.22 |  1.3 | 14.5 | 15.6 |  1.1000004 | 1.10 | -1.2 | -0.2000008 | 0.12000000 |  2.5 |  1.300001 | 0 |\n",
       "| 4 | 1951 | 1.55 |  7.9 | 16.1 | 14.2 | -1.9000006 | 1.22 |  1.3 |  1.1000004 | 0.32999992 |  6.6 | -3.000001 | 0 |\n",
       "| 5 | 1952 | 1.77 |  1.9 | 18.9 | 19.4 |  0.5000000 | 1.55 |  7.9 | -1.9000006 | 0.22000003 | -6.0 |  2.400001 | 0 |\n",
       "| 6 | 1953 | 1.93 |  0.8 | 18.7 | 20.4 |  1.6999989 | 1.77 |  1.9 |  0.5000000 | 0.15999997 | -1.1 |  1.199999 | 0 |\n",
       "\n"
      ],
      "text/plain": [
       "  year i3   inf  rec  out  def        i3_1 inf_1 def_1      ci3        cinf\n",
       "1 1948 1.04  8.1 16.4 11.7 -4.6999998   NA   NA          NA         NA   NA\n",
       "2 1949 1.10 -1.2 14.6 14.4 -0.2000008 1.04  8.1  -4.6999998 0.06000006 -9.3\n",
       "3 1950 1.22  1.3 14.5 15.6  1.1000004 1.10 -1.2  -0.2000008 0.12000000  2.5\n",
       "4 1951 1.55  7.9 16.1 14.2 -1.9000006 1.22  1.3   1.1000004 0.32999992  6.6\n",
       "5 1952 1.77  1.9 18.9 19.4  0.5000000 1.55  7.9  -1.9000006 0.22000003 -6.0\n",
       "6 1953 1.93  0.8 18.7 20.4  1.6999989 1.77  1.9   0.5000000 0.15999997 -1.1\n",
       "  cdef      y77\n",
       "1        NA 0  \n",
       "2  4.499999 0  \n",
       "3  1.300001 0  \n",
       "4 -3.000001 0  \n",
       "5  2.400001 0  \n",
       "6  1.199999 0  "
      ]
     },
     "metadata": {},
     "output_type": "display_data"
    }
   ],
   "source": [
    "#exercicio c10\n",
    "\n",
    "int = read.dta(\"C:\\\\Users\\\\vinic\\\\Desktop\\\\R\\\\heiss\\\\data_wooldridge\\\\INTDEF.dta\")\n",
    "head(int)\n",
    "\n"
   ]
  },
  {
   "cell_type": "code",
   "execution_count": 37,
   "metadata": {},
   "outputs": [
    {
     "data": {
      "text/html": [
       "0.048318426372532"
      ],
      "text/latex": [
       "0.048318426372532"
      ],
      "text/markdown": [
       "0.048318426372532"
      ],
      "text/plain": [
       "[1] 0.04831843"
      ]
     },
     "metadata": {},
     "output_type": "display_data"
    }
   ],
   "source": [
    "cor(int$inf, int$def) #muito baixa"
   ]
  },
  {
   "cell_type": "code",
   "execution_count": 38,
   "metadata": {},
   "outputs": [
    {
     "data": {
      "text/plain": [
       "\n",
       "Time series regression with \"numeric\" data:\n",
       "Start = 1, End = 48\n",
       "\n",
       "Call:\n",
       "dynlm(formula = i3 ~ inf + inf_1 + def_1 + def, data = int)\n",
       "\n",
       "Residuals:\n",
       "    Min      1Q  Median      3Q     Max \n",
       "-3.5343 -0.8083  0.3843  0.8445  3.2270 \n",
       "\n",
       "Coefficients:\n",
       "            Estimate Std. Error t value Pr(>|t|)   \n",
       "(Intercept)   1.2346     0.4410   2.799  0.00764 **\n",
       "inf           0.4252     0.1289   3.299  0.00196 **\n",
       "inf_1         0.2732     0.1413   1.934  0.05969 . \n",
       "def_1         0.4047     0.2175   1.860  0.06968 . \n",
       "def           0.1630     0.2570   0.634  0.52914   \n",
       "---\n",
       "Signif. codes:  0 '***' 0.001 '**' 0.01 '*' 0.05 '.' 0.1 ' ' 1\n",
       "\n",
       "Residual standard error: 1.613 on 43 degrees of freedom\n",
       "  (1 observation deleted due to missingness)\n",
       "Multiple R-squared:  0.7242,\tAdjusted R-squared:  0.6986 \n",
       "F-statistic: 28.23 on 4 and 43 DF,  p-value: 1.553e-11\n"
      ]
     },
     "metadata": {},
     "output_type": "display_data"
    }
   ],
   "source": [
    "#modelo lagado\n",
    "res = dynlm(i3 ~ inf + inf_1 + def_1 + def, data=int)\n",
    "summary(res)"
   ]
  },
  {
   "cell_type": "code",
   "execution_count": 39,
   "metadata": {},
   "outputs": [
    {
     "name": "stderr",
     "output_type": "stream",
     "text": [
      "Warning message in read.dta(\"C:\\\\Users\\\\vinic\\\\Desktop\\\\R\\\\heiss\\\\data_wooldridge\\\\TRAFFIC2.dta\"):\n",
      "\"cannot read factor labels from Stata 5 files\"\n"
     ]
    },
    {
     "data": {
      "text/html": [
       "<table>\n",
       "<caption>A data.frame: 6 × 48</caption>\n",
       "<thead>\n",
       "\t<tr><th></th><th scope=col>year</th><th scope=col>totacc</th><th scope=col>fatacc</th><th scope=col>injacc</th><th scope=col>pdoacc</th><th scope=col>ntotacc</th><th scope=col>nfatacc</th><th scope=col>ninjacc</th><th scope=col>npdoacc</th><th scope=col>rtotacc</th><th scope=col>...</th><th scope=col>lrfatacc</th><th scope=col>lntotacc</th><th scope=col>lnfatacc</th><th scope=col>prcnfat</th><th scope=col>lushigh</th><th scope=col>lcntyrds</th><th scope=col>lstrtes</th><th scope=col>spdt</th><th scope=col>beltt</th><th scope=col>prcfat_1</th></tr>\n",
       "\t<tr><th></th><th scope=col>&lt;int&gt;</th><th scope=col>&lt;dbl&gt;</th><th scope=col>&lt;int&gt;</th><th scope=col>&lt;int&gt;</th><th scope=col>&lt;int&gt;</th><th scope=col>&lt;dbl&gt;</th><th scope=col>&lt;int&gt;</th><th scope=col>&lt;int&gt;</th><th scope=col>&lt;int&gt;</th><th scope=col>&lt;int&gt;</th><th scope=col>...</th><th scope=col>&lt;dbl&gt;</th><th scope=col>&lt;dbl&gt;</th><th scope=col>&lt;dbl&gt;</th><th scope=col>&lt;dbl&gt;</th><th scope=col>&lt;dbl&gt;</th><th scope=col>&lt;dbl&gt;</th><th scope=col>&lt;dbl&gt;</th><th scope=col>&lt;int&gt;</th><th scope=col>&lt;int&gt;</th><th scope=col>&lt;dbl&gt;</th></tr>\n",
       "</thead>\n",
       "<tbody>\n",
       "\t<tr><th scope=row>1</th><td>1981</td><td>40511</td><td>365</td><td>15626</td><td>24520</td><td>38235</td><td>323</td><td>14743</td><td>23169</td><td>236</td><td>...</td><td>2.484907</td><td>10.55151</td><td>5.777652</td><td>0.8447757</td><td>6.963190</td><td>8.830251</td><td>8.153062</td><td>0</td><td>0</td><td>       NA</td></tr>\n",
       "\t<tr><th scope=row>2</th><td>1981</td><td>36034</td><td>329</td><td>14469</td><td>21236</td><td>33989</td><td>294</td><td>13620</td><td>20075</td><td>200</td><td>...</td><td>2.079442</td><td>10.43379</td><td>5.683580</td><td>0.8649857</td><td>6.839477</td><td>8.708970</td><td>8.046550</td><td>0</td><td>0</td><td>0.9009899</td></tr>\n",
       "\t<tr><th scope=row>3</th><td>1981</td><td>40328</td><td>369</td><td>16026</td><td>23933</td><td>37990</td><td>335</td><td>15105</td><td>22550</td><td>253</td><td>...</td><td>2.484907</td><td>10.54508</td><td>5.814130</td><td>0.8818110</td><td>7.041412</td><td>8.825119</td><td>8.148446</td><td>0</td><td>0</td><td>0.9130266</td></tr>\n",
       "\t<tr><th scope=row>4</th><td>1981</td><td>37699</td><td>369</td><td>15560</td><td>21770</td><td>35457</td><td>326</td><td>14654</td><td>20477</td><td>270</td><td>...</td><td>2.639057</td><td>10.47608</td><td>5.786897</td><td>0.9194235</td><td>6.916715</td><td>8.750525</td><td>8.071531</td><td>0</td><td>0</td><td>0.9149970</td></tr>\n",
       "\t<tr><th scope=row>5</th><td>1981</td><td>38816</td><td>355</td><td>16546</td><td>21915</td><td>36611</td><td>321</td><td>15569</td><td>20721</td><td>263</td><td>...</td><td>1.791759</td><td>10.50810</td><td>5.771441</td><td>0.8767856</td><td>6.986567</td><td>8.816705</td><td>8.111928</td><td>0</td><td>0</td><td>0.9788058</td></tr>\n",
       "\t<tr><th scope=row>6</th><td>1981</td><td>38900</td><td>422</td><td>16778</td><td>21700</td><td>36555</td><td>376</td><td>15747</td><td>20432</td><td>290</td><td>...</td><td>2.772589</td><td>10.50657</td><td>5.929589</td><td>1.0285871</td><td>6.931472</td><td>8.805076</td><td>8.171317</td><td>0</td><td>0</td><td>0.9145713</td></tr>\n",
       "</tbody>\n",
       "</table>\n"
      ],
      "text/latex": [
       "A data.frame: 6 × 48\n",
       "\\begin{tabular}{r|lllllllllllllllllllll}\n",
       "  & year & totacc & fatacc & injacc & pdoacc & ntotacc & nfatacc & ninjacc & npdoacc & rtotacc & ... & lrfatacc & lntotacc & lnfatacc & prcnfat & lushigh & lcntyrds & lstrtes & spdt & beltt & prcfat\\_1\\\\\n",
       "  & <int> & <dbl> & <int> & <int> & <int> & <dbl> & <int> & <int> & <int> & <int> & ... & <dbl> & <dbl> & <dbl> & <dbl> & <dbl> & <dbl> & <dbl> & <int> & <int> & <dbl>\\\\\n",
       "\\hline\n",
       "\t1 & 1981 & 40511 & 365 & 15626 & 24520 & 38235 & 323 & 14743 & 23169 & 236 & ... & 2.484907 & 10.55151 & 5.777652 & 0.8447757 & 6.963190 & 8.830251 & 8.153062 & 0 & 0 &        NA\\\\\n",
       "\t2 & 1981 & 36034 & 329 & 14469 & 21236 & 33989 & 294 & 13620 & 20075 & 200 & ... & 2.079442 & 10.43379 & 5.683580 & 0.8649857 & 6.839477 & 8.708970 & 8.046550 & 0 & 0 & 0.9009899\\\\\n",
       "\t3 & 1981 & 40328 & 369 & 16026 & 23933 & 37990 & 335 & 15105 & 22550 & 253 & ... & 2.484907 & 10.54508 & 5.814130 & 0.8818110 & 7.041412 & 8.825119 & 8.148446 & 0 & 0 & 0.9130266\\\\\n",
       "\t4 & 1981 & 37699 & 369 & 15560 & 21770 & 35457 & 326 & 14654 & 20477 & 270 & ... & 2.639057 & 10.47608 & 5.786897 & 0.9194235 & 6.916715 & 8.750525 & 8.071531 & 0 & 0 & 0.9149970\\\\\n",
       "\t5 & 1981 & 38816 & 355 & 16546 & 21915 & 36611 & 321 & 15569 & 20721 & 263 & ... & 1.791759 & 10.50810 & 5.771441 & 0.8767856 & 6.986567 & 8.816705 & 8.111928 & 0 & 0 & 0.9788058\\\\\n",
       "\t6 & 1981 & 38900 & 422 & 16778 & 21700 & 36555 & 376 & 15747 & 20432 & 290 & ... & 2.772589 & 10.50657 & 5.929589 & 1.0285871 & 6.931472 & 8.805076 & 8.171317 & 0 & 0 & 0.9145713\\\\\n",
       "\\end{tabular}\n"
      ],
      "text/markdown": [
       "\n",
       "A data.frame: 6 × 48\n",
       "\n",
       "| <!--/--> | year &lt;int&gt; | totacc &lt;dbl&gt; | fatacc &lt;int&gt; | injacc &lt;int&gt; | pdoacc &lt;int&gt; | ntotacc &lt;dbl&gt; | nfatacc &lt;int&gt; | ninjacc &lt;int&gt; | npdoacc &lt;int&gt; | rtotacc &lt;int&gt; | ... ... | lrfatacc &lt;dbl&gt; | lntotacc &lt;dbl&gt; | lnfatacc &lt;dbl&gt; | prcnfat &lt;dbl&gt; | lushigh &lt;dbl&gt; | lcntyrds &lt;dbl&gt; | lstrtes &lt;dbl&gt; | spdt &lt;int&gt; | beltt &lt;int&gt; | prcfat_1 &lt;dbl&gt; |\n",
       "|---|---|---|---|---|---|---|---|---|---|---|---|---|---|---|---|---|---|---|---|---|---|\n",
       "| 1 | 1981 | 40511 | 365 | 15626 | 24520 | 38235 | 323 | 14743 | 23169 | 236 | ... | 2.484907 | 10.55151 | 5.777652 | 0.8447757 | 6.963190 | 8.830251 | 8.153062 | 0 | 0 |        NA |\n",
       "| 2 | 1981 | 36034 | 329 | 14469 | 21236 | 33989 | 294 | 13620 | 20075 | 200 | ... | 2.079442 | 10.43379 | 5.683580 | 0.8649857 | 6.839477 | 8.708970 | 8.046550 | 0 | 0 | 0.9009899 |\n",
       "| 3 | 1981 | 40328 | 369 | 16026 | 23933 | 37990 | 335 | 15105 | 22550 | 253 | ... | 2.484907 | 10.54508 | 5.814130 | 0.8818110 | 7.041412 | 8.825119 | 8.148446 | 0 | 0 | 0.9130266 |\n",
       "| 4 | 1981 | 37699 | 369 | 15560 | 21770 | 35457 | 326 | 14654 | 20477 | 270 | ... | 2.639057 | 10.47608 | 5.786897 | 0.9194235 | 6.916715 | 8.750525 | 8.071531 | 0 | 0 | 0.9149970 |\n",
       "| 5 | 1981 | 38816 | 355 | 16546 | 21915 | 36611 | 321 | 15569 | 20721 | 263 | ... | 1.791759 | 10.50810 | 5.771441 | 0.8767856 | 6.986567 | 8.816705 | 8.111928 | 0 | 0 | 0.9788058 |\n",
       "| 6 | 1981 | 38900 | 422 | 16778 | 21700 | 36555 | 376 | 15747 | 20432 | 290 | ... | 2.772589 | 10.50657 | 5.929589 | 1.0285871 | 6.931472 | 8.805076 | 8.171317 | 0 | 0 | 0.9145713 |\n",
       "\n"
      ],
      "text/plain": [
       "  year totacc fatacc injacc pdoacc ntotacc nfatacc ninjacc npdoacc rtotacc ...\n",
       "1 1981 40511  365    15626  24520  38235   323     14743   23169   236     ...\n",
       "2 1981 36034  329    14469  21236  33989   294     13620   20075   200     ...\n",
       "3 1981 40328  369    16026  23933  37990   335     15105   22550   253     ...\n",
       "4 1981 37699  369    15560  21770  35457   326     14654   20477   270     ...\n",
       "5 1981 38816  355    16546  21915  36611   321     15569   20721   263     ...\n",
       "6 1981 38900  422    16778  21700  36555   376     15747   20432   290     ...\n",
       "  lrfatacc lntotacc lnfatacc prcnfat   lushigh  lcntyrds lstrtes  spdt beltt\n",
       "1 2.484907 10.55151 5.777652 0.8447757 6.963190 8.830251 8.153062 0    0    \n",
       "2 2.079442 10.43379 5.683580 0.8649857 6.839477 8.708970 8.046550 0    0    \n",
       "3 2.484907 10.54508 5.814130 0.8818110 7.041412 8.825119 8.148446 0    0    \n",
       "4 2.639057 10.47608 5.786897 0.9194235 6.916715 8.750525 8.071531 0    0    \n",
       "5 1.791759 10.50810 5.771441 0.8767856 6.986567 8.816705 8.111928 0    0    \n",
       "6 2.772589 10.50657 5.929589 1.0285871 6.931472 8.805076 8.171317 0    0    \n",
       "  prcfat_1 \n",
       "1        NA\n",
       "2 0.9009899\n",
       "3 0.9130266\n",
       "4 0.9149970\n",
       "5 0.9788058\n",
       "6 0.9145713"
      ]
     },
     "metadata": {},
     "output_type": "display_data"
    }
   ],
   "source": [
    "#exercicio c11\n",
    "\n",
    "trafego = read.dta(\"C:\\\\Users\\\\vinic\\\\Desktop\\\\R\\\\heiss\\\\data_wooldridge\\\\TRAFFIC2.dta\")\n",
    "head(trafego)"
   ]
  },
  {
   "cell_type": "code",
   "execution_count": 40,
   "metadata": {},
   "outputs": [
    {
     "data": {
      "text/html": [
       "<table>\n",
       "<caption>A data.frame: 32 × 48</caption>\n",
       "<thead>\n",
       "\t<tr><th></th><th scope=col>year</th><th scope=col>totacc</th><th scope=col>fatacc</th><th scope=col>injacc</th><th scope=col>pdoacc</th><th scope=col>ntotacc</th><th scope=col>nfatacc</th><th scope=col>ninjacc</th><th scope=col>npdoacc</th><th scope=col>rtotacc</th><th scope=col>...</th><th scope=col>lrfatacc</th><th scope=col>lntotacc</th><th scope=col>lnfatacc</th><th scope=col>prcnfat</th><th scope=col>lushigh</th><th scope=col>lcntyrds</th><th scope=col>lstrtes</th><th scope=col>spdt</th><th scope=col>beltt</th><th scope=col>prcfat_1</th></tr>\n",
       "\t<tr><th></th><th scope=col>&lt;int&gt;</th><th scope=col>&lt;dbl&gt;</th><th scope=col>&lt;int&gt;</th><th scope=col>&lt;int&gt;</th><th scope=col>&lt;int&gt;</th><th scope=col>&lt;dbl&gt;</th><th scope=col>&lt;int&gt;</th><th scope=col>&lt;int&gt;</th><th scope=col>&lt;int&gt;</th><th scope=col>&lt;int&gt;</th><th scope=col>...</th><th scope=col>&lt;dbl&gt;</th><th scope=col>&lt;dbl&gt;</th><th scope=col>&lt;dbl&gt;</th><th scope=col>&lt;dbl&gt;</th><th scope=col>&lt;dbl&gt;</th><th scope=col>&lt;dbl&gt;</th><th scope=col>&lt;dbl&gt;</th><th scope=col>&lt;int&gt;</th><th scope=col>&lt;int&gt;</th><th scope=col>&lt;dbl&gt;</th></tr>\n",
       "</thead>\n",
       "<tbody>\n",
       "\t<tr><th scope=row>77</th><td>1987</td><td>47072</td><td>421</td><td>20406</td><td>26245</td><td>43381</td><td>368</td><td>18967</td><td>24046</td><td>375</td><td>...</td><td>2.890372</td><td>10.67778</td><td>5.908083</td><td>0.8482977</td><td>7.129298</td><td>8.896451</td><td>8.217169</td><td> 77</td><td> 77</td><td>0.8773477</td></tr>\n",
       "\t<tr><th scope=row>78</th><td>1987</td><td>47090</td><td>404</td><td>20239</td><td>26447</td><td>42979</td><td>352</td><td>18659</td><td>23968</td><td>418</td><td>...</td><td>2.890372</td><td>10.66847</td><td>5.863631</td><td>0.8190047</td><td>7.169350</td><td>8.902864</td><td>8.237479</td><td> 78</td><td> 78</td><td>0.8943746</td></tr>\n",
       "\t<tr><th scope=row>79</th><td>1987</td><td>48880</td><td>430</td><td>20840</td><td>27610</td><td>44645</td><td>369</td><td>19283</td><td>24993</td><td>431</td><td>...</td><td>2.564949</td><td>10.70650</td><td>5.910797</td><td>0.8265203</td><td>7.262629</td><td>8.907071</td><td>8.312135</td><td> 79</td><td> 79</td><td>0.8579317</td></tr>\n",
       "\t<tr><th scope=row>80</th><td>1987</td><td>48357</td><td>500</td><td>20443</td><td>27414</td><td>44119</td><td>434</td><td>18845</td><td>24840</td><td>428</td><td>...</td><td>3.135494</td><td>10.69465</td><td>6.073044</td><td>0.9837032</td><td>7.226936</td><td>8.901094</td><td>8.349011</td><td> 80</td><td> 80</td><td>0.8797054</td></tr>\n",
       "\t<tr><th scope=row>81</th><td>1987</td><td>46768</td><td>467</td><td>19611</td><td>26690</td><td>42662</td><td>410</td><td>18068</td><td>24184</td><td>412</td><td>...</td><td>2.944439</td><td>10.66106</td><td>6.016157</td><td>0.9610426</td><td>7.162397</td><td>8.883779</td><td>8.197538</td><td> 81</td><td> 81</td><td>1.0339764</td></tr>\n",
       "\t<tr><th scope=row>82</th><td>1987</td><td>52326</td><td>432</td><td>21741</td><td>30153</td><td>47557</td><td>369</td><td>19963</td><td>27225</td><td>408</td><td>...</td><td>2.944439</td><td>10.76968</td><td>5.910797</td><td>0.7759110</td><td>7.226209</td><td>8.954415</td><td>8.371011</td><td> 82</td><td> 82</td><td>0.9985460</td></tr>\n",
       "\t<tr><th scope=row>83</th><td>1987</td><td>48475</td><td>403</td><td>19700</td><td>28372</td><td>44027</td><td>362</td><td>18085</td><td>25580</td><td>381</td><td>...</td><td>2.564949</td><td>10.69256</td><td>5.891644</td><td>0.8222227</td><td>7.229839</td><td>8.879055</td><td>8.313117</td><td> 83</td><td> 83</td><td>0.8255934</td></tr>\n",
       "\t<tr><th scope=row>84</th><td>1987</td><td>51924</td><td>409</td><td>20254</td><td>31261</td><td>47241</td><td>364</td><td>18539</td><td>28338</td><td>393</td><td>...</td><td>2.564949</td><td>10.76302</td><td>5.897154</td><td>0.7705171</td><td>7.287560</td><td>8.962520</td><td>8.349957</td><td> 84</td><td> 84</td><td>0.8313563</td></tr>\n",
       "\t<tr><th scope=row>85</th><td>1988</td><td>43569</td><td>333</td><td>17452</td><td>25784</td><td>39595</td><td>287</td><td>15998</td><td>23310</td><td>293</td><td>...</td><td>2.079442</td><td>10.58646</td><td>5.659482</td><td>0.7248390</td><td>7.060476</td><td>8.776167</td><td>8.133294</td><td> 85</td><td> 85</td><td>0.7876897</td></tr>\n",
       "\t<tr><th scope=row>86</th><td>1988</td><td>42585</td><td>338</td><td>17643</td><td>24604</td><td>38713</td><td>303</td><td>16241</td><td>22169</td><td>294</td><td>...</td><td>1.098612</td><td>10.56393</td><td>5.713733</td><td>0.7826828</td><td>7.042286</td><td>8.709960</td><td>8.101375</td><td> 86</td><td> 86</td><td>0.7643049</td></tr>\n",
       "\t<tr><th scope=row>87</th><td>1988</td><td>45944</td><td>381</td><td>19202</td><td>26361</td><td>41866</td><td>319</td><td>17775</td><td>23772</td><td>346</td><td>...</td><td>2.944439</td><td>10.64223</td><td>5.765191</td><td>0.7619548</td><td>7.027315</td><td>8.825413</td><td>8.164795</td><td> 87</td><td> 87</td><td>0.7937067</td></tr>\n",
       "\t<tr><th scope=row>88</th><td>1988</td><td>47003</td><td>394</td><td>19633</td><td>26976</td><td>42704</td><td>333</td><td>17996</td><td>24375</td><td>392</td><td>...</td><td>2.833213</td><td>10.66205</td><td>5.808143</td><td>0.7797864</td><td>7.116394</td><td>8.862201</td><td>8.242756</td><td> 88</td><td> 88</td><td>0.8292704</td></tr>\n",
       "\t<tr><th scope=row>89</th><td>1988</td><td>46066</td><td>387</td><td>19539</td><td>26140</td><td>42051</td><td>346</td><td>18052</td><td>23653</td><td>411</td><td>...</td><td>2.833213</td><td>10.64664</td><td>5.846439</td><td>0.8228104</td><td>7.212295</td><td>8.862201</td><td>8.220942</td><td> 89</td><td> 89</td><td>0.8382443</td></tr>\n",
       "\t<tr><th scope=row>90</th><td>1988</td><td>45719</td><td>352</td><td>19363</td><td>26004</td><td>41569</td><td>305</td><td>17843</td><td>23421</td><td>408</td><td>...</td><td>2.995732</td><td>10.63511</td><td>5.720312</td><td>0.7337198</td><td>7.154615</td><td>8.845201</td><td>8.228177</td><td> 90</td><td> 90</td><td>0.8400990</td></tr>\n",
       "\t<tr><th scope=row>91</th><td>1988</td><td>47161</td><td>439</td><td>20123</td><td>26599</td><td>42709</td><td>376</td><td>18398</td><td>23935</td><td>504</td><td>...</td><td>3.295837</td><td>10.66216</td><td>5.929589</td><td>0.8803765</td><td>7.232010</td><td>8.842171</td><td>8.334231</td><td> 91</td><td> 91</td><td>0.7699206</td></tr>\n",
       "\t<tr><th scope=row>92</th><td>1988</td><td>47558</td><td>457</td><td>20200</td><td>26901</td><td>42768</td><td>385</td><td>18443</td><td>23940</td><td>510</td><td>...</td><td>3.433987</td><td>10.66355</td><td>5.953243</td><td>0.9002058</td><td>7.258412</td><td>8.852236</td><td>8.296547</td><td> 92</td><td> 92</td><td>0.9308538</td></tr>\n",
       "\t<tr><th scope=row>93</th><td>1988</td><td>47052</td><td>442</td><td>19928</td><td>26682</td><td>42634</td><td>384</td><td>18334</td><td>23916</td><td>406</td><td>...</td><td>2.772589</td><td>10.66041</td><td>5.950643</td><td>0.9006896</td><td>7.187657</td><td>8.868413</td><td>8.273082</td><td> 93</td><td> 93</td><td>0.9609319</td></tr>\n",
       "\t<tr><th scope=row>94</th><td>1988</td><td>48297</td><td>457</td><td>20195</td><td>27645</td><td>43879</td><td>402</td><td>18569</td><td>24908</td><td>413</td><td>...</td><td>2.890372</td><td>10.68919</td><td>5.996452</td><td>0.9161558</td><td>7.195187</td><td>8.867990</td><td>8.312381</td><td> 94</td><td> 94</td><td>0.9393862</td></tr>\n",
       "\t<tr><th scope=row>95</th><td>1988</td><td>49136</td><td>414</td><td>19875</td><td>28847</td><td>44420</td><td>356</td><td>18172</td><td>25892</td><td>426</td><td>...</td><td>2.484907</td><td>10.70144</td><td>5.874931</td><td>0.8014408</td><td>7.328437</td><td>8.861067</td><td>8.304495</td><td> 95</td><td> 95</td><td>0.9462286</td></tr>\n",
       "\t<tr><th scope=row>96</th><td>1988</td><td>52971</td><td>456</td><td>21090</td><td>31425</td><td>47874</td><td>404</td><td>19229</td><td>28241</td><td>464</td><td>...</td><td>3.135494</td><td>10.77633</td><td>6.001415</td><td>0.8438818</td><td>7.325149</td><td>8.961879</td><td>8.399985</td><td> 96</td><td> 96</td><td>0.8425595</td></tr>\n",
       "\t<tr><th scope=row>97</th><td>1989</td><td>43142</td><td>360</td><td>17501</td><td>25281</td><td>39170</td><td>306</td><td>16107</td><td>22757</td><td>342</td><td>...</td><td>2.397895</td><td>10.57567</td><td>5.723585</td><td>0.7812101</td><td>7.076654</td><td>8.779250</td><td>8.174139</td><td> 97</td><td> 97</td><td>0.8608484</td></tr>\n",
       "\t<tr><th scope=row>98</th><td>1989</td><td>42475</td><td>345</td><td>17168</td><td>24962</td><td>38572</td><td>301</td><td>15733</td><td>22538</td><td>343</td><td>...</td><td>2.639057</td><td>10.56028</td><td>5.707110</td><td>0.7803588</td><td>7.069024</td><td>8.683216</td><td>8.142354</td><td> 98</td><td> 98</td><td>0.8344536</td></tr>\n",
       "\t<tr><th scope=row>99</th><td>1989</td><td>49753</td><td>366</td><td>20734</td><td>28653</td><td>44875</td><td>302</td><td>18900</td><td>25673</td><td>464</td><td>...</td><td>3.178054</td><td>10.71164</td><td>5.710427</td><td>0.6729805</td><td>7.232010</td><td>8.864464</td><td>8.324579</td><td> 99</td><td> 99</td><td>0.8122424</td></tr>\n",
       "\t<tr><th scope=row>100</th><td>1989</td><td>45161</td><td>384</td><td>19377</td><td>25400</td><td>41149</td><td>341</td><td>17844</td><td>22964</td><td>412</td><td>...</td><td>2.484907</td><td>10.62496</td><td>5.831882</td><td>0.8286957</td><td>7.079185</td><td>8.801319</td><td>8.165648</td><td>100</td><td>100</td><td>0.7356340</td></tr>\n",
       "\t<tr><th scope=row>101</th><td>1989</td><td>46083</td><td>405</td><td>20042</td><td>25636</td><td>41765</td><td>345</td><td>18368</td><td>23052</td><td>457</td><td>...</td><td>3.218876</td><td>10.63981</td><td>5.843544</td><td>0.8260505</td><td>7.112328</td><td>8.825266</td><td>8.193400</td><td>101</td><td>101</td><td>0.8502912</td></tr>\n",
       "\t<tr><th scope=row>102</th><td>1989</td><td>45540</td><td>359</td><td>19283</td><td>25898</td><td>41193</td><td>308</td><td>17647</td><td>23238</td><td>412</td><td>...</td><td>2.397895</td><td>10.62602</td><td>5.730100</td><td>0.7476999</td><td>7.163947</td><td>8.830104</td><td>8.214736</td><td>102</td><td>102</td><td>0.8788491</td></tr>\n",
       "\t<tr><th scope=row>103</th><td>1989</td><td>46325</td><td>474</td><td>20282</td><td>25569</td><td>41837</td><td>406</td><td>18542</td><td>22889</td><td>511</td><td>...</td><td>3.135494</td><td>10.64154</td><td>6.006353</td><td>0.9704329</td><td>7.189168</td><td>8.804325</td><td>8.290293</td><td>103</td><td>103</td><td>0.7883180</td></tr>\n",
       "\t<tr><th scope=row>104</th><td>1989</td><td>46742</td><td>458</td><td>20206</td><td>26078</td><td>42048</td><td>387</td><td>18389</td><td>23272</td><td>555</td><td>...</td><td>3.295837</td><td>10.64657</td><td>5.958425</td><td>0.9203767</td><td>7.268920</td><td>8.801319</td><td>8.310906</td><td>104</td><td>104</td><td>1.0232056</td></tr>\n",
       "\t<tr><th scope=row>105</th><td>1989</td><td>47932</td><td>454</td><td>20496</td><td>26982</td><td>43180</td><td>379</td><td>18698</td><td>24103</td><td>468</td><td>...</td><td>3.135494</td><td>10.67313</td><td>5.937536</td><td>0.8777212</td><td>7.207119</td><td>8.844337</td><td>8.289539</td><td>105</td><td>105</td><td>0.9798468</td></tr>\n",
       "\t<tr><th scope=row>106</th><td>1989</td><td>48678</td><td>422</td><td>20967</td><td>27289</td><td>44078</td><td>366</td><td>19238</td><td>24474</td><td>387</td><td>...</td><td>2.708050</td><td>10.69372</td><td>5.902633</td><td>0.8303462</td><td>7.286876</td><td>8.832733</td><td>8.296047</td><td>106</td><td>106</td><td>0.9471751</td></tr>\n",
       "\t<tr><th scope=row>107</th><td>1989</td><td>47971</td><td>396</td><td>20045</td><td>27530</td><td>43234</td><td>341</td><td>18326</td><td>24567</td><td>441</td><td>...</td><td>2.772589</td><td>10.67438</td><td>5.831882</td><td>0.7887311</td><td>7.248504</td><td>8.818335</td><td>8.277666</td><td>107</td><td>107</td><td>0.8669214</td></tr>\n",
       "\t<tr><th scope=row>108</th><td>1989</td><td>47251</td><td>395</td><td>19601</td><td>27255</td><td>42596</td><td>333</td><td>17891</td><td>24372</td><td>496</td><td>...</td><td>2.944439</td><td>10.65952</td><td>5.808143</td><td>0.7817636</td><td>7.160069</td><td>8.832295</td><td>8.257645</td><td>108</td><td>108</td><td>0.8254987</td></tr>\n",
       "</tbody>\n",
       "</table>\n"
      ],
      "text/latex": [
       "A data.frame: 32 × 48\n",
       "\\begin{tabular}{r|lllllllllllllllllllll}\n",
       "  & year & totacc & fatacc & injacc & pdoacc & ntotacc & nfatacc & ninjacc & npdoacc & rtotacc & ... & lrfatacc & lntotacc & lnfatacc & prcnfat & lushigh & lcntyrds & lstrtes & spdt & beltt & prcfat\\_1\\\\\n",
       "  & <int> & <dbl> & <int> & <int> & <int> & <dbl> & <int> & <int> & <int> & <int> & ... & <dbl> & <dbl> & <dbl> & <dbl> & <dbl> & <dbl> & <dbl> & <int> & <int> & <dbl>\\\\\n",
       "\\hline\n",
       "\t77 & 1987 & 47072 & 421 & 20406 & 26245 & 43381 & 368 & 18967 & 24046 & 375 & ... & 2.890372 & 10.67778 & 5.908083 & 0.8482977 & 7.129298 & 8.896451 & 8.217169 &  77 &  77 & 0.8773477\\\\\n",
       "\t78 & 1987 & 47090 & 404 & 20239 & 26447 & 42979 & 352 & 18659 & 23968 & 418 & ... & 2.890372 & 10.66847 & 5.863631 & 0.8190047 & 7.169350 & 8.902864 & 8.237479 &  78 &  78 & 0.8943746\\\\\n",
       "\t79 & 1987 & 48880 & 430 & 20840 & 27610 & 44645 & 369 & 19283 & 24993 & 431 & ... & 2.564949 & 10.70650 & 5.910797 & 0.8265203 & 7.262629 & 8.907071 & 8.312135 &  79 &  79 & 0.8579317\\\\\n",
       "\t80 & 1987 & 48357 & 500 & 20443 & 27414 & 44119 & 434 & 18845 & 24840 & 428 & ... & 3.135494 & 10.69465 & 6.073044 & 0.9837032 & 7.226936 & 8.901094 & 8.349011 &  80 &  80 & 0.8797054\\\\\n",
       "\t81 & 1987 & 46768 & 467 & 19611 & 26690 & 42662 & 410 & 18068 & 24184 & 412 & ... & 2.944439 & 10.66106 & 6.016157 & 0.9610426 & 7.162397 & 8.883779 & 8.197538 &  81 &  81 & 1.0339764\\\\\n",
       "\t82 & 1987 & 52326 & 432 & 21741 & 30153 & 47557 & 369 & 19963 & 27225 & 408 & ... & 2.944439 & 10.76968 & 5.910797 & 0.7759110 & 7.226209 & 8.954415 & 8.371011 &  82 &  82 & 0.9985460\\\\\n",
       "\t83 & 1987 & 48475 & 403 & 19700 & 28372 & 44027 & 362 & 18085 & 25580 & 381 & ... & 2.564949 & 10.69256 & 5.891644 & 0.8222227 & 7.229839 & 8.879055 & 8.313117 &  83 &  83 & 0.8255934\\\\\n",
       "\t84 & 1987 & 51924 & 409 & 20254 & 31261 & 47241 & 364 & 18539 & 28338 & 393 & ... & 2.564949 & 10.76302 & 5.897154 & 0.7705171 & 7.287560 & 8.962520 & 8.349957 &  84 &  84 & 0.8313563\\\\\n",
       "\t85 & 1988 & 43569 & 333 & 17452 & 25784 & 39595 & 287 & 15998 & 23310 & 293 & ... & 2.079442 & 10.58646 & 5.659482 & 0.7248390 & 7.060476 & 8.776167 & 8.133294 &  85 &  85 & 0.7876897\\\\\n",
       "\t86 & 1988 & 42585 & 338 & 17643 & 24604 & 38713 & 303 & 16241 & 22169 & 294 & ... & 1.098612 & 10.56393 & 5.713733 & 0.7826828 & 7.042286 & 8.709960 & 8.101375 &  86 &  86 & 0.7643049\\\\\n",
       "\t87 & 1988 & 45944 & 381 & 19202 & 26361 & 41866 & 319 & 17775 & 23772 & 346 & ... & 2.944439 & 10.64223 & 5.765191 & 0.7619548 & 7.027315 & 8.825413 & 8.164795 &  87 &  87 & 0.7937067\\\\\n",
       "\t88 & 1988 & 47003 & 394 & 19633 & 26976 & 42704 & 333 & 17996 & 24375 & 392 & ... & 2.833213 & 10.66205 & 5.808143 & 0.7797864 & 7.116394 & 8.862201 & 8.242756 &  88 &  88 & 0.8292704\\\\\n",
       "\t89 & 1988 & 46066 & 387 & 19539 & 26140 & 42051 & 346 & 18052 & 23653 & 411 & ... & 2.833213 & 10.64664 & 5.846439 & 0.8228104 & 7.212295 & 8.862201 & 8.220942 &  89 &  89 & 0.8382443\\\\\n",
       "\t90 & 1988 & 45719 & 352 & 19363 & 26004 & 41569 & 305 & 17843 & 23421 & 408 & ... & 2.995732 & 10.63511 & 5.720312 & 0.7337198 & 7.154615 & 8.845201 & 8.228177 &  90 &  90 & 0.8400990\\\\\n",
       "\t91 & 1988 & 47161 & 439 & 20123 & 26599 & 42709 & 376 & 18398 & 23935 & 504 & ... & 3.295837 & 10.66216 & 5.929589 & 0.8803765 & 7.232010 & 8.842171 & 8.334231 &  91 &  91 & 0.7699206\\\\\n",
       "\t92 & 1988 & 47558 & 457 & 20200 & 26901 & 42768 & 385 & 18443 & 23940 & 510 & ... & 3.433987 & 10.66355 & 5.953243 & 0.9002058 & 7.258412 & 8.852236 & 8.296547 &  92 &  92 & 0.9308538\\\\\n",
       "\t93 & 1988 & 47052 & 442 & 19928 & 26682 & 42634 & 384 & 18334 & 23916 & 406 & ... & 2.772589 & 10.66041 & 5.950643 & 0.9006896 & 7.187657 & 8.868413 & 8.273082 &  93 &  93 & 0.9609319\\\\\n",
       "\t94 & 1988 & 48297 & 457 & 20195 & 27645 & 43879 & 402 & 18569 & 24908 & 413 & ... & 2.890372 & 10.68919 & 5.996452 & 0.9161558 & 7.195187 & 8.867990 & 8.312381 &  94 &  94 & 0.9393862\\\\\n",
       "\t95 & 1988 & 49136 & 414 & 19875 & 28847 & 44420 & 356 & 18172 & 25892 & 426 & ... & 2.484907 & 10.70144 & 5.874931 & 0.8014408 & 7.328437 & 8.861067 & 8.304495 &  95 &  95 & 0.9462286\\\\\n",
       "\t96 & 1988 & 52971 & 456 & 21090 & 31425 & 47874 & 404 & 19229 & 28241 & 464 & ... & 3.135494 & 10.77633 & 6.001415 & 0.8438818 & 7.325149 & 8.961879 & 8.399985 &  96 &  96 & 0.8425595\\\\\n",
       "\t97 & 1989 & 43142 & 360 & 17501 & 25281 & 39170 & 306 & 16107 & 22757 & 342 & ... & 2.397895 & 10.57567 & 5.723585 & 0.7812101 & 7.076654 & 8.779250 & 8.174139 &  97 &  97 & 0.8608484\\\\\n",
       "\t98 & 1989 & 42475 & 345 & 17168 & 24962 & 38572 & 301 & 15733 & 22538 & 343 & ... & 2.639057 & 10.56028 & 5.707110 & 0.7803588 & 7.069024 & 8.683216 & 8.142354 &  98 &  98 & 0.8344536\\\\\n",
       "\t99 & 1989 & 49753 & 366 & 20734 & 28653 & 44875 & 302 & 18900 & 25673 & 464 & ... & 3.178054 & 10.71164 & 5.710427 & 0.6729805 & 7.232010 & 8.864464 & 8.324579 &  99 &  99 & 0.8122424\\\\\n",
       "\t100 & 1989 & 45161 & 384 & 19377 & 25400 & 41149 & 341 & 17844 & 22964 & 412 & ... & 2.484907 & 10.62496 & 5.831882 & 0.8286957 & 7.079185 & 8.801319 & 8.165648 & 100 & 100 & 0.7356340\\\\\n",
       "\t101 & 1989 & 46083 & 405 & 20042 & 25636 & 41765 & 345 & 18368 & 23052 & 457 & ... & 3.218876 & 10.63981 & 5.843544 & 0.8260505 & 7.112328 & 8.825266 & 8.193400 & 101 & 101 & 0.8502912\\\\\n",
       "\t102 & 1989 & 45540 & 359 & 19283 & 25898 & 41193 & 308 & 17647 & 23238 & 412 & ... & 2.397895 & 10.62602 & 5.730100 & 0.7476999 & 7.163947 & 8.830104 & 8.214736 & 102 & 102 & 0.8788491\\\\\n",
       "\t103 & 1989 & 46325 & 474 & 20282 & 25569 & 41837 & 406 & 18542 & 22889 & 511 & ... & 3.135494 & 10.64154 & 6.006353 & 0.9704329 & 7.189168 & 8.804325 & 8.290293 & 103 & 103 & 0.7883180\\\\\n",
       "\t104 & 1989 & 46742 & 458 & 20206 & 26078 & 42048 & 387 & 18389 & 23272 & 555 & ... & 3.295837 & 10.64657 & 5.958425 & 0.9203767 & 7.268920 & 8.801319 & 8.310906 & 104 & 104 & 1.0232056\\\\\n",
       "\t105 & 1989 & 47932 & 454 & 20496 & 26982 & 43180 & 379 & 18698 & 24103 & 468 & ... & 3.135494 & 10.67313 & 5.937536 & 0.8777212 & 7.207119 & 8.844337 & 8.289539 & 105 & 105 & 0.9798468\\\\\n",
       "\t106 & 1989 & 48678 & 422 & 20967 & 27289 & 44078 & 366 & 19238 & 24474 & 387 & ... & 2.708050 & 10.69372 & 5.902633 & 0.8303462 & 7.286876 & 8.832733 & 8.296047 & 106 & 106 & 0.9471751\\\\\n",
       "\t107 & 1989 & 47971 & 396 & 20045 & 27530 & 43234 & 341 & 18326 & 24567 & 441 & ... & 2.772589 & 10.67438 & 5.831882 & 0.7887311 & 7.248504 & 8.818335 & 8.277666 & 107 & 107 & 0.8669214\\\\\n",
       "\t108 & 1989 & 47251 & 395 & 19601 & 27255 & 42596 & 333 & 17891 & 24372 & 496 & ... & 2.944439 & 10.65952 & 5.808143 & 0.7817636 & 7.160069 & 8.832295 & 8.257645 & 108 & 108 & 0.8254987\\\\\n",
       "\\end{tabular}\n"
      ],
      "text/markdown": [
       "\n",
       "A data.frame: 32 × 48\n",
       "\n",
       "| <!--/--> | year &lt;int&gt; | totacc &lt;dbl&gt; | fatacc &lt;int&gt; | injacc &lt;int&gt; | pdoacc &lt;int&gt; | ntotacc &lt;dbl&gt; | nfatacc &lt;int&gt; | ninjacc &lt;int&gt; | npdoacc &lt;int&gt; | rtotacc &lt;int&gt; | ... ... | lrfatacc &lt;dbl&gt; | lntotacc &lt;dbl&gt; | lnfatacc &lt;dbl&gt; | prcnfat &lt;dbl&gt; | lushigh &lt;dbl&gt; | lcntyrds &lt;dbl&gt; | lstrtes &lt;dbl&gt; | spdt &lt;int&gt; | beltt &lt;int&gt; | prcfat_1 &lt;dbl&gt; |\n",
       "|---|---|---|---|---|---|---|---|---|---|---|---|---|---|---|---|---|---|---|---|---|---|\n",
       "| 77 | 1987 | 47072 | 421 | 20406 | 26245 | 43381 | 368 | 18967 | 24046 | 375 | ... | 2.890372 | 10.67778 | 5.908083 | 0.8482977 | 7.129298 | 8.896451 | 8.217169 |  77 |  77 | 0.8773477 |\n",
       "| 78 | 1987 | 47090 | 404 | 20239 | 26447 | 42979 | 352 | 18659 | 23968 | 418 | ... | 2.890372 | 10.66847 | 5.863631 | 0.8190047 | 7.169350 | 8.902864 | 8.237479 |  78 |  78 | 0.8943746 |\n",
       "| 79 | 1987 | 48880 | 430 | 20840 | 27610 | 44645 | 369 | 19283 | 24993 | 431 | ... | 2.564949 | 10.70650 | 5.910797 | 0.8265203 | 7.262629 | 8.907071 | 8.312135 |  79 |  79 | 0.8579317 |\n",
       "| 80 | 1987 | 48357 | 500 | 20443 | 27414 | 44119 | 434 | 18845 | 24840 | 428 | ... | 3.135494 | 10.69465 | 6.073044 | 0.9837032 | 7.226936 | 8.901094 | 8.349011 |  80 |  80 | 0.8797054 |\n",
       "| 81 | 1987 | 46768 | 467 | 19611 | 26690 | 42662 | 410 | 18068 | 24184 | 412 | ... | 2.944439 | 10.66106 | 6.016157 | 0.9610426 | 7.162397 | 8.883779 | 8.197538 |  81 |  81 | 1.0339764 |\n",
       "| 82 | 1987 | 52326 | 432 | 21741 | 30153 | 47557 | 369 | 19963 | 27225 | 408 | ... | 2.944439 | 10.76968 | 5.910797 | 0.7759110 | 7.226209 | 8.954415 | 8.371011 |  82 |  82 | 0.9985460 |\n",
       "| 83 | 1987 | 48475 | 403 | 19700 | 28372 | 44027 | 362 | 18085 | 25580 | 381 | ... | 2.564949 | 10.69256 | 5.891644 | 0.8222227 | 7.229839 | 8.879055 | 8.313117 |  83 |  83 | 0.8255934 |\n",
       "| 84 | 1987 | 51924 | 409 | 20254 | 31261 | 47241 | 364 | 18539 | 28338 | 393 | ... | 2.564949 | 10.76302 | 5.897154 | 0.7705171 | 7.287560 | 8.962520 | 8.349957 |  84 |  84 | 0.8313563 |\n",
       "| 85 | 1988 | 43569 | 333 | 17452 | 25784 | 39595 | 287 | 15998 | 23310 | 293 | ... | 2.079442 | 10.58646 | 5.659482 | 0.7248390 | 7.060476 | 8.776167 | 8.133294 |  85 |  85 | 0.7876897 |\n",
       "| 86 | 1988 | 42585 | 338 | 17643 | 24604 | 38713 | 303 | 16241 | 22169 | 294 | ... | 1.098612 | 10.56393 | 5.713733 | 0.7826828 | 7.042286 | 8.709960 | 8.101375 |  86 |  86 | 0.7643049 |\n",
       "| 87 | 1988 | 45944 | 381 | 19202 | 26361 | 41866 | 319 | 17775 | 23772 | 346 | ... | 2.944439 | 10.64223 | 5.765191 | 0.7619548 | 7.027315 | 8.825413 | 8.164795 |  87 |  87 | 0.7937067 |\n",
       "| 88 | 1988 | 47003 | 394 | 19633 | 26976 | 42704 | 333 | 17996 | 24375 | 392 | ... | 2.833213 | 10.66205 | 5.808143 | 0.7797864 | 7.116394 | 8.862201 | 8.242756 |  88 |  88 | 0.8292704 |\n",
       "| 89 | 1988 | 46066 | 387 | 19539 | 26140 | 42051 | 346 | 18052 | 23653 | 411 | ... | 2.833213 | 10.64664 | 5.846439 | 0.8228104 | 7.212295 | 8.862201 | 8.220942 |  89 |  89 | 0.8382443 |\n",
       "| 90 | 1988 | 45719 | 352 | 19363 | 26004 | 41569 | 305 | 17843 | 23421 | 408 | ... | 2.995732 | 10.63511 | 5.720312 | 0.7337198 | 7.154615 | 8.845201 | 8.228177 |  90 |  90 | 0.8400990 |\n",
       "| 91 | 1988 | 47161 | 439 | 20123 | 26599 | 42709 | 376 | 18398 | 23935 | 504 | ... | 3.295837 | 10.66216 | 5.929589 | 0.8803765 | 7.232010 | 8.842171 | 8.334231 |  91 |  91 | 0.7699206 |\n",
       "| 92 | 1988 | 47558 | 457 | 20200 | 26901 | 42768 | 385 | 18443 | 23940 | 510 | ... | 3.433987 | 10.66355 | 5.953243 | 0.9002058 | 7.258412 | 8.852236 | 8.296547 |  92 |  92 | 0.9308538 |\n",
       "| 93 | 1988 | 47052 | 442 | 19928 | 26682 | 42634 | 384 | 18334 | 23916 | 406 | ... | 2.772589 | 10.66041 | 5.950643 | 0.9006896 | 7.187657 | 8.868413 | 8.273082 |  93 |  93 | 0.9609319 |\n",
       "| 94 | 1988 | 48297 | 457 | 20195 | 27645 | 43879 | 402 | 18569 | 24908 | 413 | ... | 2.890372 | 10.68919 | 5.996452 | 0.9161558 | 7.195187 | 8.867990 | 8.312381 |  94 |  94 | 0.9393862 |\n",
       "| 95 | 1988 | 49136 | 414 | 19875 | 28847 | 44420 | 356 | 18172 | 25892 | 426 | ... | 2.484907 | 10.70144 | 5.874931 | 0.8014408 | 7.328437 | 8.861067 | 8.304495 |  95 |  95 | 0.9462286 |\n",
       "| 96 | 1988 | 52971 | 456 | 21090 | 31425 | 47874 | 404 | 19229 | 28241 | 464 | ... | 3.135494 | 10.77633 | 6.001415 | 0.8438818 | 7.325149 | 8.961879 | 8.399985 |  96 |  96 | 0.8425595 |\n",
       "| 97 | 1989 | 43142 | 360 | 17501 | 25281 | 39170 | 306 | 16107 | 22757 | 342 | ... | 2.397895 | 10.57567 | 5.723585 | 0.7812101 | 7.076654 | 8.779250 | 8.174139 |  97 |  97 | 0.8608484 |\n",
       "| 98 | 1989 | 42475 | 345 | 17168 | 24962 | 38572 | 301 | 15733 | 22538 | 343 | ... | 2.639057 | 10.56028 | 5.707110 | 0.7803588 | 7.069024 | 8.683216 | 8.142354 |  98 |  98 | 0.8344536 |\n",
       "| 99 | 1989 | 49753 | 366 | 20734 | 28653 | 44875 | 302 | 18900 | 25673 | 464 | ... | 3.178054 | 10.71164 | 5.710427 | 0.6729805 | 7.232010 | 8.864464 | 8.324579 |  99 |  99 | 0.8122424 |\n",
       "| 100 | 1989 | 45161 | 384 | 19377 | 25400 | 41149 | 341 | 17844 | 22964 | 412 | ... | 2.484907 | 10.62496 | 5.831882 | 0.8286957 | 7.079185 | 8.801319 | 8.165648 | 100 | 100 | 0.7356340 |\n",
       "| 101 | 1989 | 46083 | 405 | 20042 | 25636 | 41765 | 345 | 18368 | 23052 | 457 | ... | 3.218876 | 10.63981 | 5.843544 | 0.8260505 | 7.112328 | 8.825266 | 8.193400 | 101 | 101 | 0.8502912 |\n",
       "| 102 | 1989 | 45540 | 359 | 19283 | 25898 | 41193 | 308 | 17647 | 23238 | 412 | ... | 2.397895 | 10.62602 | 5.730100 | 0.7476999 | 7.163947 | 8.830104 | 8.214736 | 102 | 102 | 0.8788491 |\n",
       "| 103 | 1989 | 46325 | 474 | 20282 | 25569 | 41837 | 406 | 18542 | 22889 | 511 | ... | 3.135494 | 10.64154 | 6.006353 | 0.9704329 | 7.189168 | 8.804325 | 8.290293 | 103 | 103 | 0.7883180 |\n",
       "| 104 | 1989 | 46742 | 458 | 20206 | 26078 | 42048 | 387 | 18389 | 23272 | 555 | ... | 3.295837 | 10.64657 | 5.958425 | 0.9203767 | 7.268920 | 8.801319 | 8.310906 | 104 | 104 | 1.0232056 |\n",
       "| 105 | 1989 | 47932 | 454 | 20496 | 26982 | 43180 | 379 | 18698 | 24103 | 468 | ... | 3.135494 | 10.67313 | 5.937536 | 0.8777212 | 7.207119 | 8.844337 | 8.289539 | 105 | 105 | 0.9798468 |\n",
       "| 106 | 1989 | 48678 | 422 | 20967 | 27289 | 44078 | 366 | 19238 | 24474 | 387 | ... | 2.708050 | 10.69372 | 5.902633 | 0.8303462 | 7.286876 | 8.832733 | 8.296047 | 106 | 106 | 0.9471751 |\n",
       "| 107 | 1989 | 47971 | 396 | 20045 | 27530 | 43234 | 341 | 18326 | 24567 | 441 | ... | 2.772589 | 10.67438 | 5.831882 | 0.7887311 | 7.248504 | 8.818335 | 8.277666 | 107 | 107 | 0.8669214 |\n",
       "| 108 | 1989 | 47251 | 395 | 19601 | 27255 | 42596 | 333 | 17891 | 24372 | 496 | ... | 2.944439 | 10.65952 | 5.808143 | 0.7817636 | 7.160069 | 8.832295 | 8.257645 | 108 | 108 | 0.8254987 |\n",
       "\n"
      ],
      "text/plain": [
       "    year totacc fatacc injacc pdoacc ntotacc nfatacc ninjacc npdoacc rtotacc\n",
       "77  1987 47072  421    20406  26245  43381   368     18967   24046   375    \n",
       "78  1987 47090  404    20239  26447  42979   352     18659   23968   418    \n",
       "79  1987 48880  430    20840  27610  44645   369     19283   24993   431    \n",
       "80  1987 48357  500    20443  27414  44119   434     18845   24840   428    \n",
       "81  1987 46768  467    19611  26690  42662   410     18068   24184   412    \n",
       "82  1987 52326  432    21741  30153  47557   369     19963   27225   408    \n",
       "83  1987 48475  403    19700  28372  44027   362     18085   25580   381    \n",
       "84  1987 51924  409    20254  31261  47241   364     18539   28338   393    \n",
       "85  1988 43569  333    17452  25784  39595   287     15998   23310   293    \n",
       "86  1988 42585  338    17643  24604  38713   303     16241   22169   294    \n",
       "87  1988 45944  381    19202  26361  41866   319     17775   23772   346    \n",
       "88  1988 47003  394    19633  26976  42704   333     17996   24375   392    \n",
       "89  1988 46066  387    19539  26140  42051   346     18052   23653   411    \n",
       "90  1988 45719  352    19363  26004  41569   305     17843   23421   408    \n",
       "91  1988 47161  439    20123  26599  42709   376     18398   23935   504    \n",
       "92  1988 47558  457    20200  26901  42768   385     18443   23940   510    \n",
       "93  1988 47052  442    19928  26682  42634   384     18334   23916   406    \n",
       "94  1988 48297  457    20195  27645  43879   402     18569   24908   413    \n",
       "95  1988 49136  414    19875  28847  44420   356     18172   25892   426    \n",
       "96  1988 52971  456    21090  31425  47874   404     19229   28241   464    \n",
       "97  1989 43142  360    17501  25281  39170   306     16107   22757   342    \n",
       "98  1989 42475  345    17168  24962  38572   301     15733   22538   343    \n",
       "99  1989 49753  366    20734  28653  44875   302     18900   25673   464    \n",
       "100 1989 45161  384    19377  25400  41149   341     17844   22964   412    \n",
       "101 1989 46083  405    20042  25636  41765   345     18368   23052   457    \n",
       "102 1989 45540  359    19283  25898  41193   308     17647   23238   412    \n",
       "103 1989 46325  474    20282  25569  41837   406     18542   22889   511    \n",
       "104 1989 46742  458    20206  26078  42048   387     18389   23272   555    \n",
       "105 1989 47932  454    20496  26982  43180   379     18698   24103   468    \n",
       "106 1989 48678  422    20967  27289  44078   366     19238   24474   387    \n",
       "107 1989 47971  396    20045  27530  43234   341     18326   24567   441    \n",
       "108 1989 47251  395    19601  27255  42596   333     17891   24372   496    \n",
       "    ... lrfatacc lntotacc lnfatacc prcnfat   lushigh  lcntyrds lstrtes  spdt\n",
       "77  ... 2.890372 10.67778 5.908083 0.8482977 7.129298 8.896451 8.217169  77 \n",
       "78  ... 2.890372 10.66847 5.863631 0.8190047 7.169350 8.902864 8.237479  78 \n",
       "79  ... 2.564949 10.70650 5.910797 0.8265203 7.262629 8.907071 8.312135  79 \n",
       "80  ... 3.135494 10.69465 6.073044 0.9837032 7.226936 8.901094 8.349011  80 \n",
       "81  ... 2.944439 10.66106 6.016157 0.9610426 7.162397 8.883779 8.197538  81 \n",
       "82  ... 2.944439 10.76968 5.910797 0.7759110 7.226209 8.954415 8.371011  82 \n",
       "83  ... 2.564949 10.69256 5.891644 0.8222227 7.229839 8.879055 8.313117  83 \n",
       "84  ... 2.564949 10.76302 5.897154 0.7705171 7.287560 8.962520 8.349957  84 \n",
       "85  ... 2.079442 10.58646 5.659482 0.7248390 7.060476 8.776167 8.133294  85 \n",
       "86  ... 1.098612 10.56393 5.713733 0.7826828 7.042286 8.709960 8.101375  86 \n",
       "87  ... 2.944439 10.64223 5.765191 0.7619548 7.027315 8.825413 8.164795  87 \n",
       "88  ... 2.833213 10.66205 5.808143 0.7797864 7.116394 8.862201 8.242756  88 \n",
       "89  ... 2.833213 10.64664 5.846439 0.8228104 7.212295 8.862201 8.220942  89 \n",
       "90  ... 2.995732 10.63511 5.720312 0.7337198 7.154615 8.845201 8.228177  90 \n",
       "91  ... 3.295837 10.66216 5.929589 0.8803765 7.232010 8.842171 8.334231  91 \n",
       "92  ... 3.433987 10.66355 5.953243 0.9002058 7.258412 8.852236 8.296547  92 \n",
       "93  ... 2.772589 10.66041 5.950643 0.9006896 7.187657 8.868413 8.273082  93 \n",
       "94  ... 2.890372 10.68919 5.996452 0.9161558 7.195187 8.867990 8.312381  94 \n",
       "95  ... 2.484907 10.70144 5.874931 0.8014408 7.328437 8.861067 8.304495  95 \n",
       "96  ... 3.135494 10.77633 6.001415 0.8438818 7.325149 8.961879 8.399985  96 \n",
       "97  ... 2.397895 10.57567 5.723585 0.7812101 7.076654 8.779250 8.174139  97 \n",
       "98  ... 2.639057 10.56028 5.707110 0.7803588 7.069024 8.683216 8.142354  98 \n",
       "99  ... 3.178054 10.71164 5.710427 0.6729805 7.232010 8.864464 8.324579  99 \n",
       "100 ... 2.484907 10.62496 5.831882 0.8286957 7.079185 8.801319 8.165648 100 \n",
       "101 ... 3.218876 10.63981 5.843544 0.8260505 7.112328 8.825266 8.193400 101 \n",
       "102 ... 2.397895 10.62602 5.730100 0.7476999 7.163947 8.830104 8.214736 102 \n",
       "103 ... 3.135494 10.64154 6.006353 0.9704329 7.189168 8.804325 8.290293 103 \n",
       "104 ... 3.295837 10.64657 5.958425 0.9203767 7.268920 8.801319 8.310906 104 \n",
       "105 ... 3.135494 10.67313 5.937536 0.8777212 7.207119 8.844337 8.289539 105 \n",
       "106 ... 2.708050 10.69372 5.902633 0.8303462 7.286876 8.832733 8.296047 106 \n",
       "107 ... 2.772589 10.67438 5.831882 0.7887311 7.248504 8.818335 8.277666 107 \n",
       "108 ... 2.944439 10.65952 5.808143 0.7817636 7.160069 8.832295 8.257645 108 \n",
       "    beltt prcfat_1 \n",
       "77   77   0.8773477\n",
       "78   78   0.8943746\n",
       "79   79   0.8579317\n",
       "80   80   0.8797054\n",
       "81   81   1.0339764\n",
       "82   82   0.9985460\n",
       "83   83   0.8255934\n",
       "84   84   0.8313563\n",
       "85   85   0.7876897\n",
       "86   86   0.7643049\n",
       "87   87   0.7937067\n",
       "88   88   0.8292704\n",
       "89   89   0.8382443\n",
       "90   90   0.8400990\n",
       "91   91   0.7699206\n",
       "92   92   0.9308538\n",
       "93   93   0.9609319\n",
       "94   94   0.9393862\n",
       "95   95   0.9462286\n",
       "96   96   0.8425595\n",
       "97   97   0.8608484\n",
       "98   98   0.8344536\n",
       "99   99   0.8122424\n",
       "100 100   0.7356340\n",
       "101 101   0.8502912\n",
       "102 102   0.8788491\n",
       "103 103   0.7883180\n",
       "104 104   1.0232056\n",
       "105 105   0.9798468\n",
       "106 106   0.9471751\n",
       "107 107   0.8669214\n",
       "108 108   0.8254987"
      ]
     },
     "metadata": {},
     "output_type": "display_data"
    },
    {
     "data": {
      "text/plain": [
       "\n",
       "Call:\n",
       "lm(formula = log(totacc) ~ t + feb + mar + apr + may + jun + \n",
       "    jul + aug + sep + oct + nov + dec + wkends + unem + spdlaw + \n",
       "    beltlaw, data = trafego)\n",
       "\n",
       "Residuals:\n",
       "      Min        1Q    Median        3Q       Max \n",
       "-0.084489 -0.023998 -0.002176  0.024586  0.089315 \n",
       "\n",
       "Coefficients:\n",
       "              Estimate Std. Error t value Pr(>|t|)    \n",
       "(Intercept) 10.6398628  0.0630859 168.657  < 2e-16 ***\n",
       "t            0.0011011  0.0002579   4.270 4.79e-05 ***\n",
       "feb         -0.0338346  0.0177683  -1.904  0.06004 .  \n",
       "mar          0.0769530  0.0167941   4.582 1.46e-05 ***\n",
       "apr          0.0104562  0.0170469   0.613  0.54115    \n",
       "may          0.0237075  0.0169389   1.400  0.16504    \n",
       "jun          0.0219334  0.0172149   1.274  0.20587    \n",
       "jul          0.0499292  0.0167036   2.989  0.00360 ** \n",
       "aug          0.0559523  0.0168173   3.327  0.00127 ** \n",
       "sep          0.0420694  0.0172819   2.434  0.01687 *  \n",
       "oct          0.0817170  0.0169554   4.820 5.73e-06 ***\n",
       "nov          0.0768721  0.0172455   4.458 2.36e-05 ***\n",
       "dec          0.0990862  0.0170705   5.805 9.32e-08 ***\n",
       "wkends       0.0033333  0.0037761   0.883  0.37970    \n",
       "unem        -0.0212173  0.0033974  -6.245 1.33e-08 ***\n",
       "spdlaw      -0.0537593  0.0126036  -4.265 4.87e-05 ***\n",
       "beltlaw      0.0954526  0.0142350   6.705 1.65e-09 ***\n",
       "---\n",
       "Signif. codes:  0 '***' 0.001 '**' 0.01 '*' 0.05 '.' 0.1 ' ' 1\n",
       "\n",
       "Residual standard error: 0.03524 on 91 degrees of freedom\n",
       "Multiple R-squared:  0.9101,\tAdjusted R-squared:  0.8943 \n",
       "F-statistic: 57.61 on 16 and 91 DF,  p-value: < 2.2e-16\n"
      ]
     },
     "metadata": {},
     "output_type": "display_data"
    }
   ],
   "source": [
    "subset(trafego, spdlaw == 1) \n",
    "model = lm(log(totacc) ~ t + feb + mar + apr + may + jun + jul + aug + sep + oct + nov + dec + wkends + unem + spdlaw + beltlaw, data=trafego)\n",
    "summary(model)"
   ]
  },
  {
   "cell_type": "code",
   "execution_count": 42,
   "metadata": {},
   "outputs": [
    {
     "data": {
      "text/html": [
       "0.885636344000145"
      ],
      "text/latex": [
       "0.885636344000145"
      ],
      "text/markdown": [
       "0.885636344000145"
      ],
      "text/plain": [
       "[1] 0.8856363"
      ]
     },
     "metadata": {},
     "output_type": "display_data"
    },
    {
     "data": {
      "text/html": [
       "1.21682846546173"
      ],
      "text/latex": [
       "1.21682846546173"
      ],
      "text/markdown": [
       "1.21682846546173"
      ],
      "text/plain": [
       "[1] 1.216828"
      ]
     },
     "metadata": {},
     "output_type": "display_data"
    }
   ],
   "source": [
    "mean(trafego$prcfat) #porcentagem de acidentes com pelo menos uma morte.\n",
    "max(trafego$prcfat) #no ano maximo, em 1.2% dos acidentes houve morte"
   ]
  },
  {
   "cell_type": "code",
   "execution_count": 43,
   "metadata": {},
   "outputs": [
    {
     "data": {
      "text/plain": [
       "\n",
       "Call:\n",
       "lm(formula = log(prcfat) ~ t + feb + mar + apr + may + jun + \n",
       "    jul + aug + sep + oct + nov + dec + wkends + unem + spdlaw + \n",
       "    beltlaw, data = trafego)\n",
       "\n",
       "Residuals:\n",
       "      Min        1Q    Median        3Q       Max \n",
       "-0.152394 -0.039533  0.008095  0.040703  0.111459 \n",
       "\n",
       "Coefficients:\n",
       "              Estimate Std. Error t value Pr(>|t|)    \n",
       "(Intercept)  0.0226685  0.1156387   0.196 0.845025    \n",
       "t           -0.0023642  0.0004727  -5.002 2.75e-06 ***\n",
       "feb         -0.0003145  0.0325699  -0.010 0.992317    \n",
       "mar         -0.0004177  0.0307841  -0.014 0.989203    \n",
       "apr          0.0686155  0.0312475   2.196 0.030644 *  \n",
       "may          0.0861456  0.0310496   2.774 0.006710 ** \n",
       "jun          0.1139442  0.0315556   3.611 0.000499 ***\n",
       "jul          0.1939713  0.0306183   6.335 8.88e-09 ***\n",
       "aug          0.2126589  0.0308267   6.899 6.80e-10 ***\n",
       "sep          0.1790614  0.0316783   5.652 1.80e-07 ***\n",
       "oct          0.1175294  0.0310799   3.782 0.000278 ***\n",
       "nov          0.0168031  0.0316116   0.532 0.596333    \n",
       "dec          0.0111580  0.0312908   0.357 0.722225    \n",
       "wkends       0.0005753  0.0069218   0.083 0.933940    \n",
       "unem        -0.0163734  0.0062276  -2.629 0.010049 *  \n",
       "spdlaw       0.0778286  0.0231029   3.369 0.001109 ** \n",
       "beltlaw     -0.0390583  0.0260934  -1.497 0.137888    \n",
       "---\n",
       "Signif. codes:  0 '***' 0.001 '**' 0.01 '*' 0.05 '.' 0.1 ' ' 1\n",
       "\n",
       "Residual standard error: 0.0646 on 91 degrees of freedom\n",
       "Multiple R-squared:  0.7115,\tAdjusted R-squared:  0.6608 \n",
       "F-statistic: 14.03 on 16 and 91 DF,  p-value: < 2.2e-16\n"
      ]
     },
     "metadata": {},
     "output_type": "display_data"
    }
   ],
   "source": [
    "model = lm(log(prcfat) ~ t + feb + mar + apr + may + jun + jul + aug + sep + oct + nov + dec + wkends + unem + spdlaw + beltlaw, data=trafego)\n",
    "summary(model)"
   ]
  },
  {
   "cell_type": "code",
   "execution_count": 44,
   "metadata": {},
   "outputs": [
    {
     "name": "stderr",
     "output_type": "stream",
     "text": [
      "Warning message in read.dta(\"C:\\\\Users\\\\vinic\\\\Desktop\\\\R\\\\heiss\\\\data_wooldridge\\\\PHILLIPS.dta\"):\n",
      "\"cannot read factor labels from Stata 5 files\"\n"
     ]
    },
    {
     "data": {
      "text/plain": [
       "philips \n",
       "\n",
       " 11  Variables      49  Observations\n",
       "--------------------------------------------------------------------------------\n",
       "year \n",
       "       n  missing distinct     Info     Mean      Gmd      .05      .10 \n",
       "      49        0       49        1     1972    16.67     1950     1953 \n",
       "     .25      .50      .75      .90      .95 \n",
       "    1960     1972     1984     1991     1994 \n",
       "\n",
       "lowest : 1948 1949 1950 1951 1952, highest: 1992 1993 1994 1995 1996\n",
       "--------------------------------------------------------------------------------\n",
       "unem \n",
       "       n  missing distinct     Info     Mean      Gmd      .05      .10 \n",
       "      49        0       33    0.998    5.741    1.759     3.38     3.76 \n",
       "     .25      .50      .75      .90      .95 \n",
       "    4.90     5.60     6.80     7.52     8.18 \n",
       "\n",
       "lowest : 2.9 3.0 3.3 3.5 3.6, highest: 7.6 7.7 8.5 9.6 9.7\n",
       "--------------------------------------------------------------------------------\n",
       "inf \n",
       "       n  missing distinct     Info     Mean      Gmd      .05      .10 \n",
       "      49        0       37    0.999    4.108     3.48     0.70     0.96 \n",
       "     .25      .50      .75      .90      .95 \n",
       "    1.70     3.20     5.70     8.30    10.72 \n",
       "\n",
       "lowest : -1.2 -0.4  0.7  0.8  1.0, highest:  9.1 10.3 11.0 11.3 13.5\n",
       "--------------------------------------------------------------------------------\n",
       "unem_1 \n",
       "       n  missing distinct     Info     Mean      Gmd      .05      .10 \n",
       "      48        1       32    0.998    5.748    1.782    3.370    3.740 \n",
       "     .25      .50      .75      .90      .95 \n",
       "   4.800    5.600    6.825    7.530    8.220 \n",
       "\n",
       "lowest : 2.9 3.0 3.3 3.5 3.6, highest: 7.6 7.7 8.5 9.6 9.7\n",
       "--------------------------------------------------------------------------------\n",
       "inf_1 \n",
       "       n  missing distinct     Info     Mean      Gmd      .05      .10 \n",
       "      48        1       37    0.999    4.131    3.525    0.700    0.940 \n",
       "     .25      .50      .75      .90      .95 \n",
       "   1.675    3.250    5.725    8.400   10.755 \n",
       "\n",
       "lowest : -1.2 -0.4  0.7  0.8  1.0, highest:  9.1 10.3 11.0 11.3 13.5\n",
       "--------------------------------------------------------------------------------\n",
       "unem_2 \n",
       "       n  missing distinct     Info     Mean      Gmd      .05      .10 \n",
       "      47        2       32    0.998    5.751    1.806     3.36     3.72 \n",
       "     .25      .50      .75      .90      .95 \n",
       "    4.70     5.60     6.85     7.54     8.26 \n",
       "\n",
       "lowest : 2.9 3.0 3.3 3.5 3.6, highest: 7.6 7.7 8.5 9.6 9.7\n",
       "--------------------------------------------------------------------------------\n",
       "inf_2 \n",
       "       n  missing distinct     Info     Mean      Gmd      .05      .10 \n",
       "      47        2       37    0.999     4.16    3.569     0.70     0.92 \n",
       "     .25      .50      .75      .90      .95 \n",
       "    1.65     3.30     5.75     8.50    10.79 \n",
       "\n",
       "lowest : -1.2 -0.4  0.7  0.8  1.0, highest:  9.1 10.3 11.0 11.3 13.5\n",
       "--------------------------------------------------------------------------------\n",
       "cunem \n",
       "       n  missing distinct     Info     Mean      Gmd      .05      .10 \n",
       "      48        1       34    0.999  0.03333    1.218   -1.265   -1.030 \n",
       "     .25      .50      .75      .90      .95 \n",
       "  -0.700   -0.200    0.550    1.610    2.360 \n",
       "\n",
       "lowest : -2.1 -2.0 -1.3 -1.2 -1.1, highest:  2.1  2.1  2.5  2.6  2.9\n",
       "--------------------------------------------------------------------------------\n",
       "cinf \n",
       "       n  missing distinct     Info     Mean      Gmd      .05      .10 \n",
       "      48        1       43        1  -0.1062    2.682   -3.820   -3.060 \n",
       "     .25      .50      .75      .90      .95 \n",
       "  -1.200    0.200    1.100    2.290    3.455 \n",
       "\n",
       "lowest : -9.3 -6.0 -4.1 -3.3 -3.2, highest:  2.5  3.0  3.7  4.8  6.6\n",
       "--------------------------------------------------------------------------------\n",
       "cunem_1 \n",
       "       n  missing distinct     Info     Mean      Gmd      .05      .10 \n",
       "      47        2       34    0.999   0.0383    1.235    -1.27    -1.04 \n",
       "     .25      .50      .75      .90      .95 \n",
       "   -0.70    -0.20     0.60     1.68     2.38 \n",
       "\n",
       "lowest : -2.1 -2.0 -1.3 -1.2 -1.1, highest:  2.1  2.1  2.5  2.6  2.9\n",
       "--------------------------------------------------------------------------------\n",
       "cinf_1 \n",
       "       n  missing distinct     Info     Mean      Gmd      .05      .10 \n",
       "      47        2       43        1  -0.1128    2.722    -3.86    -3.08 \n",
       "     .25      .50      .75      .90      .95 \n",
       "   -1.20     0.20     1.10     2.32     3.49 \n",
       "\n",
       "lowest : -9.3 -6.0 -4.1 -3.3 -3.2, highest:  2.5  3.0  3.7  4.8  6.6\n",
       "--------------------------------------------------------------------------------"
      ]
     },
     "metadata": {},
     "output_type": "display_data"
    }
   ],
   "source": [
    "#exercicio c12\n",
    "\n",
    "philips = read.dta(\"C:\\\\Users\\\\vinic\\\\Desktop\\\\R\\\\heiss\\\\data_wooldridge\\\\PHILLIPS.dta\")\n",
    "describe(philips)"
   ]
  },
  {
   "cell_type": "code",
   "execution_count": 45,
   "metadata": {},
   "outputs": [
    {
     "data": {
      "text/plain": [
       "\n",
       "Call:\n",
       "lm(formula = inf ~ unem, data = philips)\n",
       "\n",
       "Residuals:\n",
       "    Min      1Q  Median      3Q     Max \n",
       "-5.3826 -1.9797 -0.7229  1.3577  8.7562 \n",
       "\n",
       "Coefficients:\n",
       "            Estimate Std. Error t value Pr(>|t|)\n",
       "(Intercept)   1.4236     1.7190   0.828    0.412\n",
       "unem          0.4676     0.2891   1.617    0.112\n",
       "\n",
       "Residual standard error: 3.131 on 47 degrees of freedom\n",
       "Multiple R-squared:  0.05272,\tAdjusted R-squared:  0.03257 \n",
       "F-statistic: 2.616 on 1 and 47 DF,  p-value: 0.1125\n"
      ]
     },
     "metadata": {},
     "output_type": "display_data"
    }
   ],
   "source": [
    "model = lm(inf ~ unem, data=philips)\n",
    "summary(model) #???"
   ]
  },
  {
   "cell_type": "code",
   "execution_count": null,
   "metadata": {},
   "outputs": [],
   "source": []
  }
 ],
 "metadata": {
  "kernelspec": {
   "display_name": "R",
   "language": "R",
   "name": "ir"
  },
  "language_info": {
   "codemirror_mode": "r",
   "file_extension": ".r",
   "mimetype": "text/x-r-source",
   "name": "R",
   "pygments_lexer": "r",
   "version": "3.6.2"
  }
 },
 "nbformat": 4,
 "nbformat_minor": 4
}
