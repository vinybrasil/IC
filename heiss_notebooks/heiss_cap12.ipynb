{
 "cells": [
  {
   "cell_type": "markdown",
   "metadata": {},
   "source": [
    "<h1>Capítulo 12</h1>"
   ]
  },
  {
   "cell_type": "code",
   "execution_count": 22,
   "metadata": {},
   "outputs": [
    {
     "name": "stderr",
     "output_type": "stream",
     "text": [
      "Warning message:\n",
      "\"package 'pdfetch' was built under R version 3.6.3\"\n"
     ]
    }
   ],
   "source": [
    "library(car);library(foreign);library(dynlm);library(lmtest);library(orcutt);library(sandwich);library(pdfetch)"
   ]
  },
  {
   "cell_type": "code",
   "execution_count": 2,
   "metadata": {},
   "outputs": [
    {
     "name": "stderr",
     "output_type": "stream",
     "text": [
      "Warning message in read.dta(\"C:\\\\Users\\\\vinic\\\\Desktop\\\\R\\\\heiss\\\\data_wooldridge\\\\PHILLIPS.dta\"):\n",
      "\"cannot read factor labels from Stata 5 files\"\n"
     ]
    },
    {
     "data": {
      "text/html": [
       "<table>\n",
       "<caption>A data.frame: 6 × 11</caption>\n",
       "<thead>\n",
       "\t<tr><th></th><th scope=col>year</th><th scope=col>unem</th><th scope=col>inf</th><th scope=col>unem_1</th><th scope=col>inf_1</th><th scope=col>unem_2</th><th scope=col>inf_2</th><th scope=col>cunem</th><th scope=col>cinf</th><th scope=col>cunem_1</th><th scope=col>cinf_1</th></tr>\n",
       "\t<tr><th></th><th scope=col>&lt;int&gt;</th><th scope=col>&lt;dbl&gt;</th><th scope=col>&lt;dbl&gt;</th><th scope=col>&lt;dbl&gt;</th><th scope=col>&lt;dbl&gt;</th><th scope=col>&lt;dbl&gt;</th><th scope=col>&lt;dbl&gt;</th><th scope=col>&lt;dbl&gt;</th><th scope=col>&lt;dbl&gt;</th><th scope=col>&lt;dbl&gt;</th><th scope=col>&lt;dbl&gt;</th></tr>\n",
       "</thead>\n",
       "<tbody>\n",
       "\t<tr><th scope=row>1</th><td>1948</td><td>3.8</td><td> 8.1</td><td> NA</td><td>  NA</td><td> NA</td><td>  NA</td><td>        NA</td><td>  NA</td><td>        NA</td><td>  NA</td></tr>\n",
       "\t<tr><th scope=row>2</th><td>1949</td><td>5.9</td><td>-1.2</td><td>3.8</td><td> 8.1</td><td> NA</td><td>  NA</td><td> 2.1000001</td><td>-9.3</td><td>        NA</td><td>  NA</td></tr>\n",
       "\t<tr><th scope=row>3</th><td>1950</td><td>5.3</td><td> 1.3</td><td>5.9</td><td>-1.2</td><td>3.8</td><td> 8.1</td><td>-0.5999999</td><td> 2.5</td><td> 2.1000001</td><td>-9.3</td></tr>\n",
       "\t<tr><th scope=row>4</th><td>1951</td><td>3.3</td><td> 7.9</td><td>5.3</td><td> 1.3</td><td>5.9</td><td>-1.2</td><td>-2.0000002</td><td> 6.6</td><td>-0.5999999</td><td> 2.5</td></tr>\n",
       "\t<tr><th scope=row>5</th><td>1952</td><td>3.0</td><td> 1.9</td><td>3.3</td><td> 7.9</td><td>5.3</td><td> 1.3</td><td>-0.3000000</td><td>-6.0</td><td>-2.0000002</td><td> 6.6</td></tr>\n",
       "\t<tr><th scope=row>6</th><td>1953</td><td>2.9</td><td> 0.8</td><td>3.0</td><td> 1.9</td><td>3.3</td><td> 7.9</td><td>-0.0999999</td><td>-1.1</td><td>-0.3000000</td><td>-6.0</td></tr>\n",
       "</tbody>\n",
       "</table>\n"
      ],
      "text/latex": [
       "A data.frame: 6 × 11\n",
       "\\begin{tabular}{r|lllllllllll}\n",
       "  & year & unem & inf & unem\\_1 & inf\\_1 & unem\\_2 & inf\\_2 & cunem & cinf & cunem\\_1 & cinf\\_1\\\\\n",
       "  & <int> & <dbl> & <dbl> & <dbl> & <dbl> & <dbl> & <dbl> & <dbl> & <dbl> & <dbl> & <dbl>\\\\\n",
       "\\hline\n",
       "\t1 & 1948 & 3.8 &  8.1 &  NA &   NA &  NA &   NA &         NA &   NA &         NA &   NA\\\\\n",
       "\t2 & 1949 & 5.9 & -1.2 & 3.8 &  8.1 &  NA &   NA &  2.1000001 & -9.3 &         NA &   NA\\\\\n",
       "\t3 & 1950 & 5.3 &  1.3 & 5.9 & -1.2 & 3.8 &  8.1 & -0.5999999 &  2.5 &  2.1000001 & -9.3\\\\\n",
       "\t4 & 1951 & 3.3 &  7.9 & 5.3 &  1.3 & 5.9 & -1.2 & -2.0000002 &  6.6 & -0.5999999 &  2.5\\\\\n",
       "\t5 & 1952 & 3.0 &  1.9 & 3.3 &  7.9 & 5.3 &  1.3 & -0.3000000 & -6.0 & -2.0000002 &  6.6\\\\\n",
       "\t6 & 1953 & 2.9 &  0.8 & 3.0 &  1.9 & 3.3 &  7.9 & -0.0999999 & -1.1 & -0.3000000 & -6.0\\\\\n",
       "\\end{tabular}\n"
      ],
      "text/markdown": [
       "\n",
       "A data.frame: 6 × 11\n",
       "\n",
       "| <!--/--> | year &lt;int&gt; | unem &lt;dbl&gt; | inf &lt;dbl&gt; | unem_1 &lt;dbl&gt; | inf_1 &lt;dbl&gt; | unem_2 &lt;dbl&gt; | inf_2 &lt;dbl&gt; | cunem &lt;dbl&gt; | cinf &lt;dbl&gt; | cunem_1 &lt;dbl&gt; | cinf_1 &lt;dbl&gt; |\n",
       "|---|---|---|---|---|---|---|---|---|---|---|---|\n",
       "| 1 | 1948 | 3.8 |  8.1 |  NA |   NA |  NA |   NA |         NA |   NA |         NA |   NA |\n",
       "| 2 | 1949 | 5.9 | -1.2 | 3.8 |  8.1 |  NA |   NA |  2.1000001 | -9.3 |         NA |   NA |\n",
       "| 3 | 1950 | 5.3 |  1.3 | 5.9 | -1.2 | 3.8 |  8.1 | -0.5999999 |  2.5 |  2.1000001 | -9.3 |\n",
       "| 4 | 1951 | 3.3 |  7.9 | 5.3 |  1.3 | 5.9 | -1.2 | -2.0000002 |  6.6 | -0.5999999 |  2.5 |\n",
       "| 5 | 1952 | 3.0 |  1.9 | 3.3 |  7.9 | 5.3 |  1.3 | -0.3000000 | -6.0 | -2.0000002 |  6.6 |\n",
       "| 6 | 1953 | 2.9 |  0.8 | 3.0 |  1.9 | 3.3 |  7.9 | -0.0999999 | -1.1 | -0.3000000 | -6.0 |\n",
       "\n"
      ],
      "text/plain": [
       "  year unem inf  unem_1 inf_1 unem_2 inf_2 cunem      cinf cunem_1    cinf_1\n",
       "1 1948 3.8   8.1  NA      NA   NA      NA          NA   NA         NA   NA  \n",
       "2 1949 5.9  -1.2 3.8     8.1   NA      NA   2.1000001 -9.3         NA   NA  \n",
       "3 1950 5.3   1.3 5.9    -1.2  3.8     8.1  -0.5999999  2.5  2.1000001 -9.3  \n",
       "4 1951 3.3   7.9 5.3     1.3  5.9    -1.2  -2.0000002  6.6 -0.5999999  2.5  \n",
       "5 1952 3.0   1.9 3.3     7.9  5.3     1.3  -0.3000000 -6.0 -2.0000002  6.6  \n",
       "6 1953 2.9   0.8 3.0     1.9  3.3     7.9  -0.0999999 -1.1 -0.3000000 -6.0  "
      ]
     },
     "metadata": {},
     "output_type": "display_data"
    }
   ],
   "source": [
    "#exemplo 12.1: calculando a curva de philips e a curva de philips aumentada\n",
    "data_phillips = read.dta(\"C:\\\\Users\\\\vinic\\\\Desktop\\\\R\\\\heiss\\\\data_wooldridge\\\\PHILLIPS.dta\")\n",
    "head(data_phillips)"
   ]
  },
  {
   "cell_type": "code",
   "execution_count": 3,
   "metadata": {},
   "outputs": [
    {
     "data": {
      "text/plain": [
       "\n",
       "t test of coefficients:\n",
       "\n",
       "              Estimate Std. Error t value  Pr(>|t|)    \n",
       "(Intercept)   -0.11340    0.35940 -0.3155    0.7538    \n",
       "L(residual.s)  0.57297    0.11613  4.9337 1.098e-05 ***\n",
       "---\n",
       "Signif. codes:  0 '***' 0.001 '**' 0.01 '*' 0.05 '.' 0.1 ' ' 1\n"
      ]
     },
     "metadata": {},
     "output_type": "display_data"
    }
   ],
   "source": [
    "tsdata = ts(data_phillips, start=1948)\n",
    "\n",
    "#curva de phillips normal\n",
    "reg.s = dynlm(inf ~ unem, data=tsdata,end=1996)\n",
    "residual.s = resid(reg.s)\n",
    "\n",
    "coeftest(dynlm(residual.s ~ L(residual.s))) #erros e t statistic dos \n",
    "\t\t\t\t\t\t\t\t #residuos com eles laggados,\n",
    "\t\t\t\t\t\t\t\t # que é forte evidencia de correlação"
   ]
  },
  {
   "cell_type": "code",
   "execution_count": 4,
   "metadata": {},
   "outputs": [
    {
     "data": {
      "text/plain": [
       "\n",
       "t test of coefficients:\n",
       "\n",
       "                Estimate Std. Error t value Pr(>|t|)\n",
       "(Intercept)     0.194166   0.300384  0.6464   0.5213\n",
       "L(residual.ea) -0.035593   0.123891 -0.2873   0.7752\n"
      ]
     },
     "metadata": {},
     "output_type": "display_data"
    }
   ],
   "source": [
    "#curva de phillips aumentada\n",
    "\n",
    "reg.ea = dynlm(d(inf) ~ unem, data=tsdata, end=1996)\n",
    "\n",
    "residual.ea = resid(reg.ea) #pegar os residuos\n",
    "\n",
    "coeftest(dynlm(residual.ea ~ L(residual.ea)))\n"
   ]
  },
  {
   "cell_type": "code",
   "execution_count": 5,
   "metadata": {},
   "outputs": [
    {
     "data": {
      "text/plain": [
       "\n",
       "\tBreusch-Godfrey test for serial correlation of order up to 1\n",
       "\n",
       "data:  reg.ea\n",
       "LM test = 0.057872, df1 = 1, df2 = 45, p-value = 0.811\n"
      ]
     },
     "metadata": {},
     "output_type": "display_data"
    }
   ],
   "source": [
    "##############\n",
    "bgtest(reg.ea, type=\"F\", order=1) # é pra automatizar, mas não sei como\n",
    "##############"
   ]
  },
  {
   "cell_type": "code",
   "execution_count": 8,
   "metadata": {},
   "outputs": [
    {
     "name": "stderr",
     "output_type": "stream",
     "text": [
      "Warning message in read.dta(\"C:\\\\Users\\\\vinic\\\\Desktop\\\\R\\\\heiss\\\\data_wooldridge\\\\BARIUM.dta\"):\n",
      "\"cannot read factor labels from Stata 5 files\"\n"
     ]
    }
   ],
   "source": [
    "#exemplo 12.3: autocorrelacao nos erros com AR(3)\n",
    "\n",
    "\n",
    "\n",
    "barium = read.dta(\"C:\\\\Users\\\\vinic\\\\Desktop\\\\R\\\\heiss\\\\data_wooldridge\\\\BARIUM.dta\")\n",
    "\n",
    "tsdata = ts(barium, start=c(1978, 2), frequency=12)\n",
    "reg = dynlm(log(chnimp) ~ log(chempi) + log(gas) + log(rtwex) +\n",
    "\t\t\t\t    befile6 + affile6 + afdec6, data=tsdata)\n"
   ]
  },
  {
   "cell_type": "code",
   "execution_count": 9,
   "metadata": {},
   "outputs": [
    {
     "data": {
      "text/html": [
       "<table>\n",
       "<caption>A anova: 2 × 6</caption>\n",
       "<thead>\n",
       "\t<tr><th></th><th scope=col>Res.Df</th><th scope=col>RSS</th><th scope=col>Df</th><th scope=col>Sum of Sq</th><th scope=col>F</th><th scope=col>Pr(&gt;F)</th></tr>\n",
       "\t<tr><th></th><th scope=col>&lt;dbl&gt;</th><th scope=col>&lt;dbl&gt;</th><th scope=col>&lt;dbl&gt;</th><th scope=col>&lt;dbl&gt;</th><th scope=col>&lt;dbl&gt;</th><th scope=col>&lt;dbl&gt;</th></tr>\n",
       "</thead>\n",
       "<tbody>\n",
       "\t<tr><th scope=row>1</th><td>121</td><td>43.39419</td><td>NA</td><td>      NA</td><td>      NA</td><td>         NA</td></tr>\n",
       "\t<tr><th scope=row>2</th><td>118</td><td>38.39367</td><td> 3</td><td>5.000522</td><td>5.122907</td><td>0.002289803</td></tr>\n",
       "</tbody>\n",
       "</table>\n"
      ],
      "text/latex": [
       "A anova: 2 × 6\n",
       "\\begin{tabular}{r|llllll}\n",
       "  & Res.Df & RSS & Df & Sum of Sq & F & Pr(>F)\\\\\n",
       "  & <dbl> & <dbl> & <dbl> & <dbl> & <dbl> & <dbl>\\\\\n",
       "\\hline\n",
       "\t1 & 121 & 43.39419 & NA &       NA &       NA &          NA\\\\\n",
       "\t2 & 118 & 38.39367 &  3 & 5.000522 & 5.122907 & 0.002289803\\\\\n",
       "\\end{tabular}\n"
      ],
      "text/markdown": [
       "\n",
       "A anova: 2 × 6\n",
       "\n",
       "| <!--/--> | Res.Df &lt;dbl&gt; | RSS &lt;dbl&gt; | Df &lt;dbl&gt; | Sum of Sq &lt;dbl&gt; | F &lt;dbl&gt; | Pr(&gt;F) &lt;dbl&gt; |\n",
       "|---|---|---|---|---|---|---|\n",
       "| 1 | 121 | 43.39419 | NA |       NA |       NA |          NA |\n",
       "| 2 | 118 | 38.39367 |  3 | 5.000522 | 5.122907 | 0.002289803 |\n",
       "\n"
      ],
      "text/plain": [
       "  Res.Df RSS      Df Sum of Sq F        Pr(>F)     \n",
       "1 121    43.39419 NA       NA        NA          NA\n",
       "2 118    38.39367  3 5.000522  5.122907 0.002289803"
      ]
     },
     "metadata": {},
     "output_type": "display_data"
    }
   ],
   "source": [
    "#teste manual\n",
    "\n",
    "residual = resid(reg)\n",
    "resreg = dynlm(residual ~ L(residual) + L(residual, 2) +\n",
    "\t\t\t\t\tL(residual, 3) + log(chempi) + \n",
    "\t\t\t\t\tlog(gas)+log(rtwex)+befile6+\n",
    "\t\t\t\t\taffile6+afdec6, data=tsdata)\n",
    "\n",
    "linearHypothesis(resreg, \n",
    "\t\t\tc(\"L(residual)\", \"L(residual, 2)\", \"L(residual, 3)\"))\n",
    "\n"
   ]
  },
  {
   "cell_type": "code",
   "execution_count": 10,
   "metadata": {},
   "outputs": [
    {
     "data": {
      "text/plain": [
       "\n",
       "\tBreusch-Godfrey test for serial correlation of order up to 3\n",
       "\n",
       "data:  reg\n",
       "LM test = 5.1247, df1 = 3, df2 = 121, p-value = 0.002264\n"
      ]
     },
     "metadata": {},
     "output_type": "display_data"
    }
   ],
   "source": [
    "#teste automatico usando o Lagrange multiplier (dá o resultado um pouco diferente do livro):\n",
    "\n",
    "bgtest(reg, order=3, type=\"F\")"
   ]
  },
  {
   "cell_type": "code",
   "execution_count": 11,
   "metadata": {},
   "outputs": [
    {
     "name": "stderr",
     "output_type": "stream",
     "text": [
      "Warning message in read.dta(\"C:\\\\Users\\\\vinic\\\\Desktop\\\\R\\\\heiss\\\\data_wooldridge\\\\PHILLIPS.dta\"):\n",
      "\"cannot read factor labels from Stata 5 files\"\n"
     ]
    }
   ],
   "source": [
    "#exmplo do teste Durbin-watson, usado na msm ideia que o LM\n",
    "\n",
    "library(foreign);library(dynlm);library(lmtest)\n",
    "\n",
    "data_phillips = read.dta(\"C:\\\\Users\\\\vinic\\\\Desktop\\\\R\\\\heiss\\\\data_wooldridge\\\\PHILLIPS.dta\")\n",
    "\n",
    "tsdata = ts(data_phillips, start=1948)\n",
    "\n",
    "reg.s = dynlm(inf ~ unem, data=tsdata, end=1996)\n",
    "\n",
    "reg.ea = dynlm(d(inf) ~ unem, data=tsdata, end=1996)"
   ]
  },
  {
   "cell_type": "code",
   "execution_count": 12,
   "metadata": {},
   "outputs": [
    {
     "data": {
      "text/plain": [
       "\n",
       "\tDurbin-Watson test\n",
       "\n",
       "data:  reg.s\n",
       "DW = 0.8027, p-value = 7.552e-07\n",
       "alternative hypothesis: true autocorrelation is greater than 0\n"
      ]
     },
     "metadata": {},
     "output_type": "display_data"
    }
   ],
   "source": [
    "dwtest(reg.s) #rejeitada"
   ]
  },
  {
   "cell_type": "code",
   "execution_count": 13,
   "metadata": {},
   "outputs": [
    {
     "data": {
      "text/plain": [
       "\n",
       "\tDurbin-Watson test\n",
       "\n",
       "data:  reg.ea\n",
       "DW = 1.7696, p-value = 0.1783\n",
       "alternative hypothesis: true autocorrelation is greater than 0\n"
      ]
     },
     "metadata": {},
     "output_type": "display_data"
    }
   ],
   "source": [
    "dwtest(reg.ea) #aumentada rejeitada"
   ]
  },
  {
   "cell_type": "code",
   "execution_count": 15,
   "metadata": {},
   "outputs": [
    {
     "name": "stderr",
     "output_type": "stream",
     "text": [
      "Warning message in read.dta(\"C:\\\\Users\\\\vinic\\\\Desktop\\\\R\\\\heiss\\\\data_wooldridge\\\\barium.dta\"):\n",
      "\"cannot read factor labels from Stata 5 files\"\n"
     ]
    },
    {
     "data": {
      "text/plain": [
       "Cochrane-orcutt estimation for first order autocorrelation \n",
       " \n",
       "Call:\n",
       "dynlm(formula = log(chnimp) ~ log(chempi) + log(gas) + log(rtwex) + \n",
       "    befile6 + affile6 + afdec6, data = tsdata)\n",
       "\n",
       " number of interaction: 8\n",
       " rho 0.293362\n",
       "\n",
       "Durbin-Watson statistic \n",
       "(original):    1.45841 , p-value: 1.688e-04\n",
       "(transformed): 2.06330 , p-value: 4.91e-01\n",
       " \n",
       " coefficients: \n",
       "(Intercept) log(chempi)    log(gas)  log(rtwex)     befile6     affile6 \n",
       " -37.322241    2.947434    1.054858    1.136918   -0.016372   -0.033082 \n",
       "     afdec6 \n",
       "  -0.577158 "
      ]
     },
     "metadata": {},
     "output_type": "display_data"
    }
   ],
   "source": [
    "#exemplo 12.4: Cochrane-Orcutt (FGLS estimation)\n",
    "\n",
    "\n",
    "\n",
    "data_barium = read.dta(\"C:\\\\Users\\\\vinic\\\\Desktop\\\\R\\\\heiss\\\\data_wooldridge\\\\barium.dta\")\n",
    "\n",
    "tsdata = ts(data_barium, start=c(1978,2), frequency=12)\n",
    "\n",
    "olsres = dynlm(log(chnimp) ~ log(chempi)+log(gas)+log(rtwex)+\n",
    "\t\t\tbefile6+affile6+afdec6, data=tsdata) \n",
    "cochrane.orcutt(olsres)"
   ]
  },
  {
   "cell_type": "code",
   "execution_count": 17,
   "metadata": {},
   "outputs": [
    {
     "name": "stderr",
     "output_type": "stream",
     "text": [
      "Warning message in read.dta(\"C:\\\\Users\\\\vinic\\\\Desktop\\\\R\\\\heiss\\\\data_wooldridge\\\\prminwge.dta\"):\n",
      "\"cannot read factor labels from Stata 5 files\"\n"
     ]
    },
    {
     "data": {
      "text/html": [
       "<table>\n",
       "<caption>A data.frame: 6 × 25</caption>\n",
       "<thead>\n",
       "\t<tr><th></th><th scope=col>year</th><th scope=col>avgmin</th><th scope=col>avgwage</th><th scope=col>kaitz</th><th scope=col>avgcov</th><th scope=col>covt</th><th scope=col>mfgwage</th><th scope=col>prdef</th><th scope=col>prepop</th><th scope=col>prepopf</th><th scope=col>...</th><th scope=col>lprunemp</th><th scope=col>lprgnp</th><th scope=col>lusgnp</th><th scope=col>lkaitz</th><th scope=col>lprun_1</th><th scope=col>lprepop</th><th scope=col>lprep_1</th><th scope=col>mincov</th><th scope=col>lmincov</th><th scope=col>lavgmin</th></tr>\n",
       "\t<tr><th></th><th scope=col>&lt;int&gt;</th><th scope=col>&lt;dbl&gt;</th><th scope=col>&lt;dbl&gt;</th><th scope=col>&lt;dbl&gt;</th><th scope=col>&lt;dbl&gt;</th><th scope=col>&lt;dbl&gt;</th><th scope=col>&lt;dbl&gt;</th><th scope=col>&lt;dbl&gt;</th><th scope=col>&lt;dbl&gt;</th><th scope=col>&lt;dbl&gt;</th><th scope=col>...</th><th scope=col>&lt;dbl&gt;</th><th scope=col>&lt;dbl&gt;</th><th scope=col>&lt;dbl&gt;</th><th scope=col>&lt;dbl&gt;</th><th scope=col>&lt;dbl&gt;</th><th scope=col>&lt;dbl&gt;</th><th scope=col>&lt;dbl&gt;</th><th scope=col>&lt;dbl&gt;</th><th scope=col>&lt;dbl&gt;</th><th scope=col>&lt;dbl&gt;</th></tr>\n",
       "</thead>\n",
       "<tbody>\n",
       "\t<tr><th scope=row>1</th><td>1950</td><td>0.198</td><td>0.398</td><td>0.155</td><td>0.201</td><td>0.29</td><td>0.43</td><td>0.859</td><td>0.470</td><td>0.470</td><td>...</td><td>2.734367</td><td>6.778443</td><td>7.093155</td><td>-1.864330</td><td>       NA</td><td>-0.7550226</td><td>        NA</td><td>0.09999498</td><td>-2.302635</td><td>-1.6194882</td></tr>\n",
       "\t<tr><th scope=row>2</th><td>1951</td><td>0.209</td><td>0.410</td><td>0.164</td><td>0.207</td><td>0.29</td><td>0.45</td><td>0.881</td><td>0.449</td><td>0.449</td><td>...</td><td>2.772589</td><td>6.829794</td><td>7.191580</td><td>-1.807889</td><td>-1.870803</td><td>-0.8007324</td><td>-0.7550226</td><td>0.10551952</td><td>-2.248859</td><td>-1.5654210</td></tr>\n",
       "\t<tr><th scope=row>3</th><td>1952</td><td>0.225</td><td>0.421</td><td>0.180</td><td>0.226</td><td>0.29</td><td>0.48</td><td>0.953</td><td>0.434</td><td>0.434</td><td>...</td><td>2.694627</td><td>6.923530</td><td>7.229839</td><td>-1.714798</td><td>-1.832582</td><td>-0.8347108</td><td>-0.8007324</td><td>0.12078384</td><td>-2.113753</td><td>-1.4916549</td></tr>\n",
       "\t<tr><th scope=row>4</th><td>1953</td><td>0.311</td><td>0.480</td><td>0.229</td><td>0.231</td><td>0.29</td><td>0.50</td><td>0.970</td><td>0.428</td><td>0.428</td><td>...</td><td>2.674149</td><td>6.985919</td><td>7.269129</td><td>-1.474033</td><td>-1.910543</td><td>-0.8486321</td><td>-0.8347108</td><td>0.14966875</td><td>-1.899331</td><td>-1.1679624</td></tr>\n",
       "\t<tr><th scope=row>5</th><td>1954</td><td>0.313</td><td>0.508</td><td>0.211</td><td>0.224</td><td>0.29</td><td>0.52</td><td>1.000</td><td>0.415</td><td>0.415</td><td>...</td><td>2.727853</td><td>7.007058</td><td>7.255733</td><td>-1.555897</td><td>-1.931022</td><td>-0.8794768</td><td>-0.8486321</td><td>0.13801575</td><td>-1.980387</td><td>-1.1615521</td></tr>\n",
       "\t<tr><th scope=row>6</th><td>1955</td><td>0.369</td><td>0.547</td><td>0.231</td><td>0.236</td><td>0.29</td><td>0.57</td><td>1.003</td><td>0.419</td><td>0.419</td><td>...</td><td>2.580217</td><td>7.037467</td><td>7.309814</td><td>-1.465338</td><td>-1.877317</td><td>-0.8698844</td><td>-0.8794768</td><td>0.15920292</td><td>-1.837576</td><td>-0.9969587</td></tr>\n",
       "</tbody>\n",
       "</table>\n"
      ],
      "text/latex": [
       "A data.frame: 6 × 25\n",
       "\\begin{tabular}{r|lllllllllllllllllllll}\n",
       "  & year & avgmin & avgwage & kaitz & avgcov & covt & mfgwage & prdef & prepop & prepopf & ... & lprunemp & lprgnp & lusgnp & lkaitz & lprun\\_1 & lprepop & lprep\\_1 & mincov & lmincov & lavgmin\\\\\n",
       "  & <int> & <dbl> & <dbl> & <dbl> & <dbl> & <dbl> & <dbl> & <dbl> & <dbl> & <dbl> & ... & <dbl> & <dbl> & <dbl> & <dbl> & <dbl> & <dbl> & <dbl> & <dbl> & <dbl> & <dbl>\\\\\n",
       "\\hline\n",
       "\t1 & 1950 & 0.198 & 0.398 & 0.155 & 0.201 & 0.29 & 0.43 & 0.859 & 0.470 & 0.470 & ... & 2.734367 & 6.778443 & 7.093155 & -1.864330 &        NA & -0.7550226 &         NA & 0.09999498 & -2.302635 & -1.6194882\\\\\n",
       "\t2 & 1951 & 0.209 & 0.410 & 0.164 & 0.207 & 0.29 & 0.45 & 0.881 & 0.449 & 0.449 & ... & 2.772589 & 6.829794 & 7.191580 & -1.807889 & -1.870803 & -0.8007324 & -0.7550226 & 0.10551952 & -2.248859 & -1.5654210\\\\\n",
       "\t3 & 1952 & 0.225 & 0.421 & 0.180 & 0.226 & 0.29 & 0.48 & 0.953 & 0.434 & 0.434 & ... & 2.694627 & 6.923530 & 7.229839 & -1.714798 & -1.832582 & -0.8347108 & -0.8007324 & 0.12078384 & -2.113753 & -1.4916549\\\\\n",
       "\t4 & 1953 & 0.311 & 0.480 & 0.229 & 0.231 & 0.29 & 0.50 & 0.970 & 0.428 & 0.428 & ... & 2.674149 & 6.985919 & 7.269129 & -1.474033 & -1.910543 & -0.8486321 & -0.8347108 & 0.14966875 & -1.899331 & -1.1679624\\\\\n",
       "\t5 & 1954 & 0.313 & 0.508 & 0.211 & 0.224 & 0.29 & 0.52 & 1.000 & 0.415 & 0.415 & ... & 2.727853 & 7.007058 & 7.255733 & -1.555897 & -1.931022 & -0.8794768 & -0.8486321 & 0.13801575 & -1.980387 & -1.1615521\\\\\n",
       "\t6 & 1955 & 0.369 & 0.547 & 0.231 & 0.236 & 0.29 & 0.57 & 1.003 & 0.419 & 0.419 & ... & 2.580217 & 7.037467 & 7.309814 & -1.465338 & -1.877317 & -0.8698844 & -0.8794768 & 0.15920292 & -1.837576 & -0.9969587\\\\\n",
       "\\end{tabular}\n"
      ],
      "text/markdown": [
       "\n",
       "A data.frame: 6 × 25\n",
       "\n",
       "| <!--/--> | year &lt;int&gt; | avgmin &lt;dbl&gt; | avgwage &lt;dbl&gt; | kaitz &lt;dbl&gt; | avgcov &lt;dbl&gt; | covt &lt;dbl&gt; | mfgwage &lt;dbl&gt; | prdef &lt;dbl&gt; | prepop &lt;dbl&gt; | prepopf &lt;dbl&gt; | ... ... | lprunemp &lt;dbl&gt; | lprgnp &lt;dbl&gt; | lusgnp &lt;dbl&gt; | lkaitz &lt;dbl&gt; | lprun_1 &lt;dbl&gt; | lprepop &lt;dbl&gt; | lprep_1 &lt;dbl&gt; | mincov &lt;dbl&gt; | lmincov &lt;dbl&gt; | lavgmin &lt;dbl&gt; |\n",
       "|---|---|---|---|---|---|---|---|---|---|---|---|---|---|---|---|---|---|---|---|---|---|\n",
       "| 1 | 1950 | 0.198 | 0.398 | 0.155 | 0.201 | 0.29 | 0.43 | 0.859 | 0.470 | 0.470 | ... | 2.734367 | 6.778443 | 7.093155 | -1.864330 |        NA | -0.7550226 |         NA | 0.09999498 | -2.302635 | -1.6194882 |\n",
       "| 2 | 1951 | 0.209 | 0.410 | 0.164 | 0.207 | 0.29 | 0.45 | 0.881 | 0.449 | 0.449 | ... | 2.772589 | 6.829794 | 7.191580 | -1.807889 | -1.870803 | -0.8007324 | -0.7550226 | 0.10551952 | -2.248859 | -1.5654210 |\n",
       "| 3 | 1952 | 0.225 | 0.421 | 0.180 | 0.226 | 0.29 | 0.48 | 0.953 | 0.434 | 0.434 | ... | 2.694627 | 6.923530 | 7.229839 | -1.714798 | -1.832582 | -0.8347108 | -0.8007324 | 0.12078384 | -2.113753 | -1.4916549 |\n",
       "| 4 | 1953 | 0.311 | 0.480 | 0.229 | 0.231 | 0.29 | 0.50 | 0.970 | 0.428 | 0.428 | ... | 2.674149 | 6.985919 | 7.269129 | -1.474033 | -1.910543 | -0.8486321 | -0.8347108 | 0.14966875 | -1.899331 | -1.1679624 |\n",
       "| 5 | 1954 | 0.313 | 0.508 | 0.211 | 0.224 | 0.29 | 0.52 | 1.000 | 0.415 | 0.415 | ... | 2.727853 | 7.007058 | 7.255733 | -1.555897 | -1.931022 | -0.8794768 | -0.8486321 | 0.13801575 | -1.980387 | -1.1615521 |\n",
       "| 6 | 1955 | 0.369 | 0.547 | 0.231 | 0.236 | 0.29 | 0.57 | 1.003 | 0.419 | 0.419 | ... | 2.580217 | 7.037467 | 7.309814 | -1.465338 | -1.877317 | -0.8698844 | -0.8794768 | 0.15920292 | -1.837576 | -0.9969587 |\n",
       "\n"
      ],
      "text/plain": [
       "  year avgmin avgwage kaitz avgcov covt mfgwage prdef prepop prepopf ...\n",
       "1 1950 0.198  0.398   0.155 0.201  0.29 0.43    0.859 0.470  0.470   ...\n",
       "2 1951 0.209  0.410   0.164 0.207  0.29 0.45    0.881 0.449  0.449   ...\n",
       "3 1952 0.225  0.421   0.180 0.226  0.29 0.48    0.953 0.434  0.434   ...\n",
       "4 1953 0.311  0.480   0.229 0.231  0.29 0.50    0.970 0.428  0.428   ...\n",
       "5 1954 0.313  0.508   0.211 0.224  0.29 0.52    1.000 0.415  0.415   ...\n",
       "6 1955 0.369  0.547   0.231 0.236  0.29 0.57    1.003 0.419  0.419   ...\n",
       "  lprunemp lprgnp   lusgnp   lkaitz    lprun_1   lprepop    lprep_1   \n",
       "1 2.734367 6.778443 7.093155 -1.864330        NA -0.7550226         NA\n",
       "2 2.772589 6.829794 7.191580 -1.807889 -1.870803 -0.8007324 -0.7550226\n",
       "3 2.694627 6.923530 7.229839 -1.714798 -1.832582 -0.8347108 -0.8007324\n",
       "4 2.674149 6.985919 7.269129 -1.474033 -1.910543 -0.8486321 -0.8347108\n",
       "5 2.727853 7.007058 7.255733 -1.555897 -1.931022 -0.8794768 -0.8486321\n",
       "6 2.580217 7.037467 7.309814 -1.465338 -1.877317 -0.8698844 -0.8794768\n",
       "  mincov     lmincov   lavgmin   \n",
       "1 0.09999498 -2.302635 -1.6194882\n",
       "2 0.10551952 -2.248859 -1.5654210\n",
       "3 0.12078384 -2.113753 -1.4916549\n",
       "4 0.14966875 -1.899331 -1.1679624\n",
       "5 0.13801575 -1.980387 -1.1615521\n",
       "6 0.15920292 -1.837576 -0.9969587"
      ]
     },
     "metadata": {},
     "output_type": "display_data"
    }
   ],
   "source": [
    "#exemplo 12.7: serial correlation-robust inference with ols\n",
    "\n",
    "#a heterocedasticidade e correlacao serial sao unbiased e consistent,\n",
    "# mas o erro padrao sao prejudicados; para arrumar, temos\n",
    "\n",
    "data_puertorico = read.dta(\"C:\\\\Users\\\\vinic\\\\Desktop\\\\R\\\\heiss\\\\data_wooldridge\\\\prminwge.dta\")\n",
    "head(data_puertorico)"
   ]
  },
  {
   "cell_type": "code",
   "execution_count": 18,
   "metadata": {},
   "outputs": [
    {
     "data": {
      "text/plain": [
       "\n",
       "t test of coefficients:\n",
       "\n",
       "                Estimate Std. Error t value  Pr(>|t|)    \n",
       "(Intercept)   -6.6634416  1.2578286 -5.2976 7.667e-06 ***\n",
       "log(mincov)   -0.2122612  0.0401523 -5.2864 7.924e-06 ***\n",
       "log(prgnp)     0.2852380  0.0804921  3.5437  0.001203 ** \n",
       "log(usgnp)     0.4860483  0.2219825  2.1896  0.035731 *  \n",
       "trend(tsdata) -0.0266633  0.0046267 -5.7629 1.940e-06 ***\n",
       "---\n",
       "Signif. codes:  0 '***' 0.001 '**' 0.01 '*' 0.05 '.' 0.1 ' ' 1\n"
      ]
     },
     "metadata": {},
     "output_type": "display_data"
    }
   ],
   "source": [
    "tsdata = ts(data_puertorico, start=1950)\n",
    "\n",
    "reg = dynlm(log(prepop) ~ log(mincov) + log(prgnp) + log(usgnp) + trend(tsdata), data=tsdata)\n",
    "\n",
    "#resultados normais\n",
    "coeftest(reg)"
   ]
  },
  {
   "cell_type": "code",
   "execution_count": 19,
   "metadata": {},
   "outputs": [
    {
     "data": {
      "text/plain": [
       "\n",
       "t test of coefficients:\n",
       "\n",
       "                Estimate Std. Error t value  Pr(>|t|)    \n",
       "(Intercept)   -6.6634416  1.6856885 -3.9529 0.0003845 ***\n",
       "log(mincov)   -0.2122612  0.0460684 -4.6075 5.835e-05 ***\n",
       "log(prgnp)     0.2852380  0.1034901  2.7562 0.0094497 ** \n",
       "log(usgnp)     0.4860483  0.3108940  1.5634 0.1275013    \n",
       "trend(tsdata) -0.0266633  0.0054301 -4.9103 2.402e-05 ***\n",
       "---\n",
       "Signif. codes:  0 '***' 0.001 '**' 0.01 '*' 0.05 '.' 0.1 ' ' 1\n"
      ]
     },
     "metadata": {},
     "output_type": "display_data"
    }
   ],
   "source": [
    "#resultados com a correção\n",
    "coeftest(reg, vcovHAC)"
   ]
  },
  {
   "cell_type": "code",
   "execution_count": 20,
   "metadata": {},
   "outputs": [
    {
     "name": "stderr",
     "output_type": "stream",
     "text": [
      "Warning message in read.dta(\"C:\\\\Users\\\\vinic\\\\Desktop\\\\R\\\\heiss\\\\data_wooldridge\\\\nyse.dta\"):\n",
      "\"cannot read factor labels from Stata 5 files\"\n"
     ]
    },
    {
     "data": {
      "text/plain": [
       "\n",
       "t test of coefficients:\n",
       "\n",
       "               Estimate Std. Error t value  Pr(>|t|)    \n",
       "(Intercept)    2.947433   0.440234  6.6951 4.485e-11 ***\n",
       "L(residual.sq) 0.337062   0.035947  9.3767 < 2.2e-16 ***\n",
       "---\n",
       "Signif. codes:  0 '***' 0.001 '**' 0.01 '*' 0.05 '.' 0.1 ' ' 1\n"
      ]
     },
     "metadata": {},
     "output_type": "display_data"
    }
   ],
   "source": [
    "#exemplo 12.9 arch em stocks returns\n",
    "\n",
    "nyse = read.dta(\"C:\\\\Users\\\\vinic\\\\Desktop\\\\R\\\\heiss\\\\data_wooldridge\\\\nyse.dta\")\n",
    "\n",
    "tsdata = ts(nyse)\n",
    "\n",
    "reg = dynlm(return ~ L(return), data=tsdata)\n",
    "\n",
    "residual.sq = resid(reg)^2\n",
    "\n",
    "ARCHreg =  dynlm(residual.sq ~L(residual.sq))\n",
    "\n",
    "coeftest(ARCHreg) #extremamente significativo"
   ]
  },
  {
   "cell_type": "code",
   "execution_count": 25,
   "metadata": {},
   "outputs": [],
   "source": [
    "#exemplo 12.7\n",
    "dataset = zoo(pdfetch_YAHOO(\"GE\", fields=\"adjclose\", from=\"2000-01-01\", to=\"2013-12-31\"))\n",
    "\n",
    "GE.ret = diff(log(dataset$GE))"
   ]
  },
  {
   "cell_type": "code",
   "execution_count": 28,
   "metadata": {},
   "outputs": [
    {
     "data": {
      "text/plain": [
       "\n",
       "Time series regression with \"zoo\" data:\n",
       "Start = 2000-01-06, End = 2013-12-30\n",
       "\n",
       "Call:\n",
       "dynlm(formula = residual.sq ~ L(residual.sq))\n",
       "\n",
       "Residuals:\n",
       "      Min        1Q    Median        3Q       Max \n",
       "-0.006851 -0.000326 -0.000283 -0.000086  0.031717 \n",
       "\n",
       "Coefficients:\n",
       "                Estimate Std. Error t value Pr(>|t|)    \n",
       "(Intercept)    3.193e-04  2.279e-05   14.02   <2e-16 ***\n",
       "L(residual.sq) 2.509e-01  1.633e-02   15.37   <2e-16 ***\n",
       "---\n",
       "Signif. codes:  0 '***' 0.001 '**' 0.01 '*' 0.05 '.' 0.1 ' ' 1\n",
       "\n",
       "Residual standard error: 0.001287 on 3515 degrees of freedom\n",
       "Multiple R-squared:  0.06294,\tAdjusted R-squared:  0.06267 \n",
       "F-statistic: 236.1 on 1 and 3515 DF,  p-value: < 2.2e-16\n"
      ]
     },
     "metadata": {},
     "output_type": "display_data"
    }
   ],
   "source": [
    "#AR(1)\n",
    "reg = dynlm(GE.ret ~L(GE.ret))\n",
    "\n",
    "residual.sq = resid(reg)^2\n",
    "\n",
    "ARCHreg = dynlm(residual.sq ~ L(residual.sq))\n",
    "\n",
    "summary(ARCHreg)"
   ]
  },
  {
   "cell_type": "code",
   "execution_count": null,
   "metadata": {},
   "outputs": [],
   "source": []
  }
 ],
 "metadata": {
  "kernelspec": {
   "display_name": "R",
   "language": "R",
   "name": "ir"
  },
  "language_info": {
   "codemirror_mode": "r",
   "file_extension": ".r",
   "mimetype": "text/x-r-source",
   "name": "R",
   "pygments_lexer": "r",
   "version": "3.6.2"
  }
 },
 "nbformat": 4,
 "nbformat_minor": 4
}
